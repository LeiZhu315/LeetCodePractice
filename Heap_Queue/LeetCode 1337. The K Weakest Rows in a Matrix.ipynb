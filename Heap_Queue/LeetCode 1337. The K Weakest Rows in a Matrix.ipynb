{
 "cells": [
  {
   "cell_type": "markdown",
   "metadata": {},
   "source": [
    "### 1337. The K Weakest Rows in a Matrix\n",
    "You are given an m x n binary matrix mat of 1's (representing soldiers) and 0's (representing civilians). The soldiers are positioned in front of the civilians. That is, all the 1's will appear to the left of all the 0's in each row.\n",
    "\n",
    "A row i is weaker than a row j if one of the following is true:\n",
    "\n",
    "The number of soldiers in row i is less than the number of soldiers in row j.\n",
    "Both rows have the same number of soldiers and i < j.\n",
    "Return the indices of the k weakest rows in the matrix ordered from weakest to strongest.\n",
    "\n",
    "#### Example 1:\n",
    "- Input: mat = \n",
    "[[1,1,0,0,0],\n",
    " [1,1,1,1,0],\n",
    " [1,0,0,0,0],\n",
    " [1,1,0,0,0],\n",
    " [1,1,1,1,1]], <br>\n",
    "  k = 3\n",
    "- Output: [2,0,3]\n",
    "- Explanation: \n",
    "The number of soldiers in each row is: \n",
    "    - Row 0: 2 \n",
    "    - Row 1: 4 \n",
    "    - Row 2: 1 \n",
    "    - Row 3: 2 \n",
    "    - Row 4: 5 \n",
    "    \n",
    "  The rows ordered from weakest to strongest are [2,0,3,1,4].\n",
    "\n",
    "#### Example 2:\n",
    "- Input: mat = \n",
    "[[1,0,0,0],\n",
    " [1,1,1,1],\n",
    " [1,0,0,0],\n",
    " [1,0,0,0]], <br>\n",
    "  k = 2\n",
    "- Output: [0,2]\n",
    "- Explanation: \n",
    "The number of soldiers in each row is: \n",
    "    - Row 0: 1 \n",
    "    - Row 1: 4 \n",
    "    - Row 2: 1 \n",
    "    - Row 3: 1 \n",
    "    \n",
    "  The rows ordered from weakest to strongest are [0,2,3,1].\n",
    " \n",
    "#### Constraints:\n",
    "- m == mat.length\n",
    "- n == mat[i].length\n",
    "- 2 <= n, m <= 100\n",
    "- 1 <= k <= m\n",
    "- matrix[i][j] is either 0 or 1.\n",
    "\n",
    "#### Difficulty:\n",
    "Easy\n",
    "\n",
    "https://leetcode.com/problems/the-k-weakest-rows-in-a-matrix/description/?envType=daily-question&envId=2023-09-18"
   ]
  },
  {
   "cell_type": "code",
   "execution_count": 1,
   "metadata": {},
   "outputs": [
    {
     "data": {
      "text/plain": [
       "[2, 0, 3]"
      ]
     },
     "execution_count": 1,
     "metadata": {},
     "output_type": "execute_result"
    }
   ],
   "source": [
    "# Heapq, time O(nlogn), space O(n)\n",
    "class Solution:\n",
    "    def kWeakestRows(self, mat, k):\n",
    "        import heapq\n",
    "        strength = []\n",
    "        for i in range(len(mat)):\n",
    "            heapq.heappush(strength, (sum(mat[i]), i))\n",
    "        res = heapq.nsmallest(k, strength)\n",
    "        res = [j for (i, j) in res]\n",
    "        return res\n",
    "        \n",
    "mat = [[1,1,0,0,0],\n",
    "       [1,1,1,1,0],\n",
    "       [1,0,0,0,0],\n",
    "       [1,1,0,0,0],\n",
    "       [1,1,0,0,0]]\n",
    "k = 3\n",
    "ans = Solution()\n",
    "ans.kWeakestRows(mat, k)"
   ]
  },
  {
   "cell_type": "code",
   "execution_count": 2,
   "metadata": {},
   "outputs": [
    {
     "data": {
      "text/plain": [
       "[2, 0, 3]"
      ]
     },
     "execution_count": 2,
     "metadata": {},
     "output_type": "execute_result"
    }
   ],
   "source": [
    "# Heapq, time O(nlogk), space O(k)\n",
    "class Solution:\n",
    "    def kWeakestRows(self, mat, k):\n",
    "        import heapq\n",
    "        heap = []\n",
    "        for i, row in enumerate(mat):\n",
    "            strength = sum(row)\n",
    "            heapq.heappush(heap, (-strength, -i))\n",
    "            if len(heap) > k:\n",
    "                heapq.heappop(heap)\n",
    "        return [-j for (i, j) in heap[::-1]]\n",
    "        \n",
    "mat = [[1,1,0,0,0],\n",
    "       [1,1,1,1,0],\n",
    "       [1,0,0,0,0],\n",
    "       [1,1,0,0,0],\n",
    "       [1,1,0,0,0]]\n",
    "k = 3\n",
    "ans = Solution()\n",
    "ans.kWeakestRows(mat, k)"
   ]
  },
  {
   "cell_type": "code",
   "execution_count": 3,
   "metadata": {},
   "outputs": [
    {
     "data": {
      "text/plain": [
       "[2, 0, 3]"
      ]
     },
     "execution_count": 3,
     "metadata": {},
     "output_type": "execute_result"
    }
   ],
   "source": [
    "# Sorting, time O(nlogn), space O(n)\n",
    "class Solution:\n",
    "    def kWeakestRows(self, mat, k):\n",
    "        strength = [(sum(mat[i]), i) for i in range(len(mat))]\n",
    "        strength.sort(key=lambda x: (x[0], x[1]))\n",
    "        return [j for (i, j) in strength[:k]]\n",
    "        \n",
    "mat = [[1,1,0,0,0],\n",
    "       [1,1,1,1,0],\n",
    "       [1,0,0,0,0],\n",
    "       [1,1,0,0,0],\n",
    "       [1,1,0,0,0]]\n",
    "k = 3\n",
    "ans = Solution()\n",
    "ans.kWeakestRows(mat, k)"
   ]
  },
  {
   "cell_type": "code",
   "execution_count": 4,
   "metadata": {},
   "outputs": [
    {
     "data": {
      "text/plain": [
       "[2, 0, 3]"
      ]
     },
     "execution_count": 4,
     "metadata": {},
     "output_type": "execute_result"
    }
   ],
   "source": [
    "# Binary search, time O(nlogn), space O(n)\n",
    "class Solution:\n",
    "    def kWeakestRows(self, mat, k):\n",
    "        import heapq\n",
    "        \n",
    "        def biSearch(arr):\n",
    "            left, right = 0, len(mat) - 1\n",
    "            while left <= right:\n",
    "                mid = (left + right) // 2\n",
    "                if arr[mid] == 1:\n",
    "                    left = mid + 1\n",
    "                else:\n",
    "                    right = mid - 1\n",
    "            return left\n",
    "        \n",
    "        q = [(biSearch(row), i) for i, row in enumerate(mat)]\n",
    "        heapq.heapify(q)\n",
    "        return [j for (i, j) in heapq.nsmallest(k, q)]\n",
    "    \n",
    "mat = [[1,1,0,0,0],\n",
    "       [1,1,1,1,0],\n",
    "       [1,0,0,0,0],\n",
    "       [1,1,0,0,0],\n",
    "       [1,1,0,0,0]]\n",
    "k = 3\n",
    "ans = Solution()\n",
    "ans.kWeakestRows(mat, k)"
   ]
  },
  {
   "cell_type": "code",
   "execution_count": null,
   "metadata": {},
   "outputs": [],
   "source": []
  }
 ],
 "metadata": {
  "kernelspec": {
   "display_name": "Python 3",
   "language": "python",
   "name": "python3"
  },
  "language_info": {
   "codemirror_mode": {
    "name": "ipython",
    "version": 3
   },
   "file_extension": ".py",
   "mimetype": "text/x-python",
   "name": "python",
   "nbconvert_exporter": "python",
   "pygments_lexer": "ipython3",
   "version": "3.8.3"
  }
 },
 "nbformat": 4,
 "nbformat_minor": 4
}
