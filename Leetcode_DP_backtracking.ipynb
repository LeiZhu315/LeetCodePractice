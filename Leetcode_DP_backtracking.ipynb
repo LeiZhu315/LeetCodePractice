{
 "cells": [
  {
   "cell_type": "markdown",
   "metadata": {},
   "source": [
    "### 22. Generate Parentheses\n",
    "Input: n = 3 <br>\n",
    "Output: [\"((()))\",\"(()())\",\"(())()\",\"()(())\",\"()()()\"] <br>\n",
    "method 1: dynamic programming"
   ]
  },
  {
   "cell_type": "code",
   "execution_count": 10,
   "metadata": {},
   "outputs": [
    {
     "name": "stdout",
     "output_type": "stream",
     "text": [
      "[[''], ['()'], []]\n",
      "[[''], ['()'], ['()()']]\n",
      "[[''], ['()'], ['()()', '(())']]\n",
      "['()()', '(())']\n"
     ]
    }
   ],
   "source": [
    "n=2\n",
    "dp = [[] for _ in range(n+1)]\n",
    "dp[0].append('')\n",
    "for i in range(n+1):\n",
    "    for j in range(i):\n",
    "        dp[i] += ['(' + x + ')' + y for x in dp[j] for y in dp[i-j-1]]\n",
    "        print(dp)\n",
    "print(dp[n])"
   ]
  },
  {
   "cell_type": "code",
   "execution_count": 12,
   "metadata": {},
   "outputs": [
    {
     "name": "stdout",
     "output_type": "stream",
     "text": [
      "['(())', '()()']\n"
     ]
    }
   ],
   "source": [
    "# method 2: backtracking\n",
    "def dfs(left, right, s):\n",
    "    if len(s) == n * 2:\n",
    "        res.append(s)\n",
    "        return\n",
    "    if left < n:\n",
    "        dfs(left + 1, right, s + '(')\n",
    "    if right < left:\n",
    "        dfs(left, right + 1, s + ')')\n",
    "res = []\n",
    "dfs(0, 0, '')\n",
    "print(res)"
   ]
  },
  {
   "cell_type": "markdown",
   "metadata": {},
   "source": [
    "### 17. Letter Combinations of a Phone Number\n",
    "Input: digits = \"23\"  <br>\n",
    "Output: [\"ad\",\"ae\",\"af\",\"bd\",\"be\",\"bf\",\"cd\",\"ce\",\"cf\"]  <br>"
   ]
  },
  {
   "cell_type": "code",
   "execution_count": null,
   "metadata": {},
   "outputs": [],
   "source": [
    "digits = '23'\n",
    "def backtrack(res, subset, index, digits):\n",
    "    if len(digits) == index:\n",
    "        res.append(''.join(subset))\n",
    "        return \n",
    "    for i in mapping[digits[index]]:\n",
    "        subset.append(i)\n",
    "        backtrack(res, subset, index+1, digits)\n",
    "        subset.pop()\n",
    "mapping = {'2':'abc', '3':'def', '4':'ghi', '5':'jkl', '6':'mno', '7':'pqrs', '8':'tuv', '9':'wxyz'}\n",
    "res = []\n",
    "backtrack(res, [], 0, digits)\n",
    "print(res)"
   ]
  },
  {
   "cell_type": "code",
   "execution_count": 46,
   "metadata": {},
   "outputs": [
    {
     "name": "stdout",
     "output_type": "stream",
     "text": [
      "['a', 'b', 'c']\n",
      "['ad', 'ae', 'af', 'bd', 'be', 'bf', 'cd', 'ce', 'cf']\n",
      "['adg', 'adh', 'adi', 'aeg', 'aeh', 'aei', 'afg', 'afh', 'afi', 'bdg', 'bdh', 'bdi', 'beg', 'beh', 'bei', 'bfg', 'bfh', 'bfi', 'cdg', 'cdh', 'cdi', 'ceg', 'ceh', 'cei', 'cfg', 'cfh', 'cfi']\n",
      "['adg', 'adh', 'adi', 'aeg', 'aeh', 'aei', 'afg', 'afh', 'afi', 'bdg', 'bdh', 'bdi', 'beg', 'beh', 'bei', 'bfg', 'bfh', 'bfi', 'cdg', 'cdh', 'cdi', 'ceg', 'ceh', 'cei', 'cfg', 'cfh', 'cfi']\n"
     ]
    }
   ],
   "source": [
    "digits = '234'\n",
    "ans = ['']\n",
    "for i in digits:\n",
    "    tmp = []\n",
    "    for e_pre in ans:\n",
    "        for e_pos in mapping[i]:\n",
    "            tmp.append(e_pre+e_pos)\n",
    "    ans = tmp\n",
    "    print(tmp)\n",
    "print(ans)"
   ]
  },
  {
   "cell_type": "markdown",
   "metadata": {},
   "source": [
    "### 79. Word Search\n",
    "Input: board = [[\"A\",\"B\",\"C\",\"E\"],[\"S\",\"F\",\"C\",\"S\"],[\"A\",\"D\",\"E\",\"E\"]], word = \"ABCCED\" <br>\n",
    "Output: true <br>\n",
    "backtracking <br>"
   ]
  },
  {
   "cell_type": "code",
   "execution_count": 35,
   "metadata": {},
   "outputs": [
    {
     "name": "stdout",
     "output_type": "stream",
     "text": [
      "True\n"
     ]
    }
   ],
   "source": [
    "from collections import defaultdict\n",
    "from collections import Counter\n",
    "board = [[\"A\",\"B\",\"C\",\"E\"],[\"S\",\"F\",\"C\",\"S\"],[\"A\",\"D\",\"E\",\"E\"]]\n",
    "word = \"ABCCED\"\n",
    "\n",
    "def dfs2(i, j, k, board, word):\n",
    "    # recursion returns False if (i,j) is out of bounds or board[i][j] != word[k] (current target letter)\n",
    "    if i<0 or j<0 or i>=len(board) or j>=len(board[0]) or k >= len(word) or word[k] != board[i][j]:\n",
    "        return False\n",
    "    # if this statement is true, meaning the last letter in the word is found\n",
    "    if k == len(word)-1:\n",
    "        return True\n",
    "    directions = [(1,0), (-1, 0), (0,1), (0,-1)]\n",
    "    for x, y in directions:\n",
    "        # change current board[i] since cannot use the same letter twice in board\n",
    "        tmp = board[i][j]\n",
    "        board[i][j] = -1\n",
    "        # if dfs returns True, then return True so there will be no futher dfs\n",
    "        if dfs2(i+x, j+y, k+1, board, word):\n",
    "            return True\n",
    "        board[i][j] = tmp\n",
    "        \n",
    "# count number of letters in board and store it in a dictionary\n",
    "boardDic = defaultdict(int)\n",
    "for i in range(len(board)):\n",
    "    for j in range(len(board[0])):\n",
    "        boardDic[board[i][j]] += 1\n",
    "# defaultdict={'A': 2, 'B': 1, 'C': 2, 'E': 3, 'S': 2, 'F': 1, 'D': 1}\n",
    "# count number of letters in word\n",
    "# check if board has all the letters in the word\n",
    "wordDic = Counter(word)\n",
    "# Counter({'C': 2, 'A': 1, 'B': 1, 'E': 1, 'D': 1})\n",
    "for c in wordDic:\n",
    "    if c not in boardDic or boardDic[c] < wordDic[c]:\n",
    "        print('Flase')\n",
    "# traverse through board and if word[0] == board[i][j], call the DFS function\n",
    "for i in range(len(board)):\n",
    "    for j in range(len(board[0])):\n",
    "        if board[i][j] == word[0]:\n",
    "            if dfs2(i, j, 0, board, word):\n",
    "                print('True')"
   ]
  },
  {
   "cell_type": "markdown",
   "metadata": {},
   "source": [
    "### 130. Surrounded Regions\n",
    "Input: board = [[\"X\",\"X\",\"X\",\"X\"],[\"X\",\"O\",\"O\",\"X\"],[\"X\",\"X\",\"O\",\"X\"],[\"X\",\"O\",\"X\",\"X\"]]  <br>\n",
    "Output: [[\"X\",\"X\",\"X\",\"X\"],[\"X\",\"X\",\"X\",\"X\"],[\"X\",\"X\",\"X\",\"X\"],[\"X\",\"O\",\"X\",\"X\"]] <br>\n",
    "Explanation: Notice that an 'O' should not be flipped if: <br>\n",
    "- It is on the border, or <br>\n",
    "- It is adjacent to an 'O' that should not be flipped. <br>\n",
    "The bottom 'O' is on the border, so it is not flipped. <br>\n",
    "The other three 'O' form a surrounded region, so they are flipped. \n"
   ]
  },
  {
   "cell_type": "code",
   "execution_count": null,
   "metadata": {},
   "outputs": [],
   "source": []
  },
  {
   "cell_type": "markdown",
   "metadata": {},
   "source": [
    "### 907. Sum of Subarray Minimums\n",
    "Input: arr = [3,1,2,4]  <br>\n",
    "Output: 17 <br>\n",
    "Explanation:  <br>\n",
    "Subarrays are [3], [1], [2], [4], [3,1], [1,2], [2,4], [3,1,2], [1,2,4], [3,1,2,4].  <br>\n",
    "Minimums are 3, 1, 2, 4, 1, 1, 2, 1, 1, 1. <br>\n",
    "Sum is 17."
   ]
  },
  {
   "cell_type": "code",
   "execution_count": 77,
   "metadata": {},
   "outputs": [
    {
     "name": "stdout",
     "output_type": "stream",
     "text": [
      "[[11], [81], [94], [43], [3], [11, 81], [81, 94], [94, 43], [43, 3], [11, 81, 94], [81, 94, 43], [94, 43, 3], [11, 81, 94, 43], [81, 94, 43, 3], [11, 81, 94, 43, 3]] 444\n",
      "[]\n",
      "[0, 0, 0, 0, 0]\n",
      "[0]\n",
      "[11, 0, 0, 0, 0]\n",
      "[0, 1]\n",
      "[11, 92, 0, 0, 0]\n",
      "[0, 1, 2]\n",
      "[11, 92, 186, 0, 0]\n",
      "[0, 3]\n",
      "[11, 92, 186, 140, 0]\n",
      "444\n",
      "[11, 92, 186, 140, 15] [4]\n"
     ]
    }
   ],
   "source": [
    "arr = [11,81,94,43,3]\n",
    "\n",
    "# dynamic programming (Note: this solution exceed memory limit ...)\n",
    "mod = (10 ** 9) + 7\n",
    "L = len(arr)\n",
    "dp = [[]]*(int((L+1)*L/2))\n",
    "for i in range(L):\n",
    "    dp[i] = [arr[i]]\n",
    "j = L\n",
    "while L > 0:\n",
    "    gap = j - L + 1\n",
    "    for i in range(L-1):\n",
    "        dp[j] = dp[i] + dp[i+gap]\n",
    "        j += 1\n",
    "    L -= 1\n",
    "# res = 0\n",
    "# for i in range(len(dp)):\n",
    "#     res += min(dp[i])\n",
    "resm = [min(el) for el in dp]\n",
    "res = sum(resm) % mod\n",
    "print(dp,res)\n",
    "\n",
    "\n",
    "# dp + stack\n",
    "mod = (10 ** 9) + 7\n",
    "stack = []\n",
    "dp = [0] * len(arr)\n",
    "for i, n in enumerate(arr):\n",
    "    print(stack)\n",
    "    print(dp)\n",
    "    while stack and arr[stack[-1]] >= n:\n",
    "        stack.pop()\n",
    "    if stack:\n",
    "        dp[i] = dp[stack[-1]] + (n * (i - stack[-1]))\n",
    "    else:\n",
    "        dp[i] = n * (i + 1)\n",
    "    stack.append(i)\n",
    "print(sum(dp)%mod)\n",
    "print(dp, stack)"
   ]
  },
  {
   "cell_type": "code",
   "execution_count": null,
   "metadata": {},
   "outputs": [],
   "source": []
  }
 ],
 "metadata": {
  "kernelspec": {
   "display_name": "Python 3",
   "language": "python",
   "name": "python3"
  },
  "language_info": {
   "codemirror_mode": {
    "name": "ipython",
    "version": 3
   },
   "file_extension": ".py",
   "mimetype": "text/x-python",
   "name": "python",
   "nbconvert_exporter": "python",
   "pygments_lexer": "ipython3",
   "version": "3.7.1"
  }
 },
 "nbformat": 4,
 "nbformat_minor": 2
}
