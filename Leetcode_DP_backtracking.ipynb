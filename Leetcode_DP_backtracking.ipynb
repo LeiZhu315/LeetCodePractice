{
 "cells": [
  {
   "cell_type": "markdown",
   "metadata": {},
   "source": [
    "### 22. Generate Parentheses\n",
    "Input: n = 3 <br>\n",
    "Output: [\"((()))\",\"(()())\",\"(())()\",\"()(())\",\"()()()\"] <br>\n",
    "method 1: dynamic programming"
   ]
  },
  {
   "cell_type": "code",
   "execution_count": 10,
   "metadata": {},
   "outputs": [
    {
     "name": "stdout",
     "output_type": "stream",
     "text": [
      "[[''], ['()'], []]\n",
      "[[''], ['()'], ['()()']]\n",
      "[[''], ['()'], ['()()', '(())']]\n",
      "['()()', '(())']\n"
     ]
    }
   ],
   "source": [
    "n=2\n",
    "dp = [[] for _ in range(n+1)]\n",
    "dp[0].append('')\n",
    "for i in range(n+1):\n",
    "    for j in range(i):\n",
    "        dp[i] += ['(' + x + ')' + y for x in dp[j] for y in dp[i-j-1]]\n",
    "        print(dp)\n",
    "print(dp[n])"
   ]
  },
  {
   "cell_type": "code",
   "execution_count": 12,
   "metadata": {},
   "outputs": [
    {
     "name": "stdout",
     "output_type": "stream",
     "text": [
      "['(())', '()()']\n"
     ]
    }
   ],
   "source": [
    "# method 2: backtracking\n",
    "def dfs(left, right, s):\n",
    "    if len(s) == n * 2:\n",
    "        res.append(s)\n",
    "        return\n",
    "    if left < n:\n",
    "        dfs(left + 1, right, s + '(')\n",
    "    if right < left:\n",
    "        dfs(left, right + 1, s + ')')\n",
    "res = []\n",
    "dfs(0, 0, '')\n",
    "print(res)"
   ]
  },
  {
   "cell_type": "markdown",
   "metadata": {},
   "source": [
    "### 17. Letter Combinations of a Phone Number\n",
    "Input: digits = \"23\"  <br>\n",
    "Output: [\"ad\",\"ae\",\"af\",\"bd\",\"be\",\"bf\",\"cd\",\"ce\",\"cf\"]  <br>"
   ]
  },
  {
   "cell_type": "code",
   "execution_count": null,
   "metadata": {},
   "outputs": [],
   "source": [
    "digits = '23'\n",
    "def backtrack(res, subset, index, digits):\n",
    "    if len(digits) == index:\n",
    "        res.append(''.join(subset))\n",
    "        return \n",
    "    for i in mapping[digits[index]]:\n",
    "        subset.append(i)\n",
    "        backtrack(res, subset, index+1, digits)\n",
    "        subset.pop()\n",
    "mapping = {'2':'abc', '3':'def', '4':'ghi', '5':'jkl', '6':'mno', '7':'pqrs', '8':'tuv', '9':'wxyz'}\n",
    "res = []\n",
    "backtrack(res, [], 0, digits)\n",
    "print(res)"
   ]
  },
  {
   "cell_type": "code",
   "execution_count": 46,
   "metadata": {},
   "outputs": [
    {
     "name": "stdout",
     "output_type": "stream",
     "text": [
      "['a', 'b', 'c']\n",
      "['ad', 'ae', 'af', 'bd', 'be', 'bf', 'cd', 'ce', 'cf']\n",
      "['adg', 'adh', 'adi', 'aeg', 'aeh', 'aei', 'afg', 'afh', 'afi', 'bdg', 'bdh', 'bdi', 'beg', 'beh', 'bei', 'bfg', 'bfh', 'bfi', 'cdg', 'cdh', 'cdi', 'ceg', 'ceh', 'cei', 'cfg', 'cfh', 'cfi']\n",
      "['adg', 'adh', 'adi', 'aeg', 'aeh', 'aei', 'afg', 'afh', 'afi', 'bdg', 'bdh', 'bdi', 'beg', 'beh', 'bei', 'bfg', 'bfh', 'bfi', 'cdg', 'cdh', 'cdi', 'ceg', 'ceh', 'cei', 'cfg', 'cfh', 'cfi']\n"
     ]
    }
   ],
   "source": [
    "digits = '234'\n",
    "ans = ['']\n",
    "for i in digits:\n",
    "    tmp = []\n",
    "    for e_pre in ans:\n",
    "        for e_pos in mapping[i]:\n",
    "            tmp.append(e_pre+e_pos)\n",
    "    ans = tmp\n",
    "    print(tmp)\n",
    "print(ans)"
   ]
  },
  {
   "cell_type": "markdown",
   "metadata": {},
   "source": [
    "### 79. Word Search\n",
    "Input: board = [[\"A\",\"B\",\"C\",\"E\"],[\"S\",\"F\",\"C\",\"S\"],[\"A\",\"D\",\"E\",\"E\"]], word = \"ABCCED\" <br>\n",
    "Output: true <br>\n",
    "backtracking <br>"
   ]
  },
  {
   "cell_type": "code",
   "execution_count": 35,
   "metadata": {},
   "outputs": [
    {
     "name": "stdout",
     "output_type": "stream",
     "text": [
      "True\n"
     ]
    }
   ],
   "source": [
    "from collections import defaultdict\n",
    "from collections import Counter\n",
    "board = [[\"A\",\"B\",\"C\",\"E\"],[\"S\",\"F\",\"C\",\"S\"],[\"A\",\"D\",\"E\",\"E\"]]\n",
    "word = \"ABCCED\"\n",
    "\n",
    "def dfs2(i, j, k, board, word):\n",
    "    # recursion returns False if (i,j) is out of bounds or board[i][j] != word[k] (current target letter)\n",
    "    if i<0 or j<0 or i>=len(board) or j>=len(board[0]) or k >= len(word) or word[k] != board[i][j]:\n",
    "        return False\n",
    "    # if this statement is true, meaning the last letter in the word is found\n",
    "    if k == len(word)-1:\n",
    "        return True\n",
    "    directions = [(1,0), (-1, 0), (0,1), (0,-1)]\n",
    "    for x, y in directions:\n",
    "        # change current board[i] since cannot use the same letter twice in board\n",
    "        tmp = board[i][j]\n",
    "        board[i][j] = -1\n",
    "        # if dfs returns True, then return True so there will be no futher dfs\n",
    "        if dfs2(i+x, j+y, k+1, board, word):\n",
    "            return True\n",
    "        board[i][j] = tmp\n",
    "        \n",
    "# count number of letters in board and store it in a dictionary\n",
    "boardDic = defaultdict(int)\n",
    "for i in range(len(board)):\n",
    "    for j in range(len(board[0])):\n",
    "        boardDic[board[i][j]] += 1\n",
    "# defaultdict={'A': 2, 'B': 1, 'C': 2, 'E': 3, 'S': 2, 'F': 1, 'D': 1}\n",
    "# count number of letters in word\n",
    "# check if board has all the letters in the word\n",
    "wordDic = Counter(word)\n",
    "# Counter({'C': 2, 'A': 1, 'B': 1, 'E': 1, 'D': 1})\n",
    "for c in wordDic:\n",
    "    if c not in boardDic or boardDic[c] < wordDic[c]:\n",
    "        print('Flase')\n",
    "# traverse through board and if word[0] == board[i][j], call the DFS function\n",
    "for i in range(len(board)):\n",
    "    for j in range(len(board[0])):\n",
    "        if board[i][j] == word[0]:\n",
    "            if dfs2(i, j, 0, board, word):\n",
    "                print('True')"
   ]
  },
  {
   "cell_type": "markdown",
   "metadata": {},
   "source": [
    "### 130. Surrounded Regions\n",
    "Input: board = [[\"X\",\"X\",\"X\",\"X\"],[\"X\",\"O\",\"O\",\"X\"],[\"X\",\"X\",\"O\",\"X\"],[\"X\",\"O\",\"X\",\"X\"]]  <br>\n",
    "Output: [[\"X\",\"X\",\"X\",\"X\"],[\"X\",\"X\",\"X\",\"X\"],[\"X\",\"X\",\"X\",\"X\"],[\"X\",\"O\",\"X\",\"X\"]] <br>\n",
    "Explanation: Notice that an 'O' should not be flipped if: <br>\n",
    "- It is on the border, or <br>\n",
    "- It is adjacent to an 'O' that should not be flipped. <br>\n",
    "The bottom 'O' is on the border, so it is not flipped. <br>\n",
    "The other three 'O' form a surrounded region, so they are flipped. \n"
   ]
  },
  {
   "cell_type": "code",
   "execution_count": null,
   "metadata": {},
   "outputs": [],
   "source": []
  },
  {
   "cell_type": "markdown",
   "metadata": {},
   "source": [
    "### 907. Sum of Subarray Minimums\n",
    "Input: arr = [3,1,2,4]  <br>\n",
    "Output: 17 <br>\n",
    "Explanation:  <br>\n",
    "Subarrays are [3], [1], [2], [4], [3,1], [1,2], [2,4], [3,1,2], [1,2,4], [3,1,2,4].  <br>\n",
    "Minimums are 3, 1, 2, 4, 1, 1, 2, 1, 1, 1. <br>\n",
    "Sum is 17."
   ]
  },
  {
   "cell_type": "code",
   "execution_count": 77,
   "metadata": {},
   "outputs": [
    {
     "name": "stdout",
     "output_type": "stream",
     "text": [
      "[[11], [81], [94], [43], [3], [11, 81], [81, 94], [94, 43], [43, 3], [11, 81, 94], [81, 94, 43], [94, 43, 3], [11, 81, 94, 43], [81, 94, 43, 3], [11, 81, 94, 43, 3]] 444\n",
      "[]\n",
      "[0, 0, 0, 0, 0]\n",
      "[0]\n",
      "[11, 0, 0, 0, 0]\n",
      "[0, 1]\n",
      "[11, 92, 0, 0, 0]\n",
      "[0, 1, 2]\n",
      "[11, 92, 186, 0, 0]\n",
      "[0, 3]\n",
      "[11, 92, 186, 140, 0]\n",
      "444\n",
      "[11, 92, 186, 140, 15] [4]\n"
     ]
    }
   ],
   "source": [
    "arr = [11,81,94,43,3]\n",
    "\n",
    "# dynamic programming (Note: this solution exceed memory limit ...)\n",
    "mod = (10 ** 9) + 7\n",
    "L = len(arr)\n",
    "dp = [[]]*(int((L+1)*L/2))\n",
    "for i in range(L):\n",
    "    dp[i] = [arr[i]]\n",
    "j = L\n",
    "while L > 0:\n",
    "    gap = j - L + 1\n",
    "    for i in range(L-1):\n",
    "        dp[j] = dp[i] + dp[i+gap]\n",
    "        j += 1\n",
    "    L -= 1\n",
    "# res = 0\n",
    "# for i in range(len(dp)):\n",
    "#     res += min(dp[i])\n",
    "resm = [min(el) for el in dp]\n",
    "res = sum(resm) % mod\n",
    "print(dp,res)\n",
    "\n",
    "\n",
    "# dp + stack\n",
    "mod = (10 ** 9) + 7\n",
    "stack = []\n",
    "dp = [0] * len(arr)\n",
    "for i, n in enumerate(arr):\n",
    "    print(stack)\n",
    "    print(dp)\n",
    "    while stack and arr[stack[-1]] >= n:\n",
    "        stack.pop()\n",
    "    if stack:\n",
    "        dp[i] = dp[stack[-1]] + (n * (i - stack[-1]))\n",
    "    else:\n",
    "        dp[i] = n * (i + 1)\n",
    "    stack.append(i)\n",
    "print(sum(dp)%mod)\n",
    "print(dp, stack)"
   ]
  },
  {
   "cell_type": "markdown",
   "metadata": {},
   "source": [
    "### 70. Climbing Stairs\n",
    "You are climbing a staircase. It takes n steps to reach the top. <br>\n",
    "Each time you can either climb 1 or 2 steps. In how many distinct ways can you climb to the top?"
   ]
  },
  {
   "cell_type": "code",
   "execution_count": 9,
   "metadata": {},
   "outputs": [
    {
     "name": "stdout",
     "output_type": "stream",
     "text": [
      "8\n",
      "8\n"
     ]
    }
   ],
   "source": [
    "import numpy as np\n",
    "n = 5\n",
    "dp = np.array([[1,1],[1,0]])\n",
    "res = np.array([[1,1],[1,0]])\n",
    "for i in range(n-1):\n",
    "    res = np.dot(res, dp)\n",
    "print(res[0][0])\n",
    "\n",
    "dp = [0] * (n + 1)\n",
    "dp[1], dp[2] = 1, 2\n",
    "for i in range(3, n+1):\n",
    "    dp[i] = dp[i-1] + dp[i-2]\n",
    "print(dp[-1])"
   ]
  },
  {
   "cell_type": "markdown",
   "metadata": {},
   "source": [
    "### 931. Minimum Falling Path Sum\n",
    "Given an n x n array of integers matrix, return the minimum sum of any falling path through matrix.<br>\n",
    "A falling path starts at any element in the first row and chooses the element in the next row that is either directly below or diagonally left/right. <br>\n",
    "Specifically, the next element from position (row, col) will be (row + 1, col - 1), (row + 1, col), or (row + 1, col + 1)."
   ]
  },
  {
   "cell_type": "code",
   "execution_count": 22,
   "metadata": {},
   "outputs": [
    {
     "name": "stdout",
     "output_type": "stream",
     "text": [
      "[[2, 1, 3], [7, 5, 4], [7, 8, 9]]\n",
      "[[2, 1, 3], [7, 6, 4], [7, 8, 9]]\n",
      "[[2, 1, 3], [7, 6, 5], [7, 8, 9]]\n",
      "[[2, 1, 3], [7, 6, 5], [13, 8, 9]]\n",
      "[[2, 1, 3], [7, 6, 5], [13, 13, 9]]\n",
      "[[2, 1, 3], [7, 6, 5], [13, 13, 14]]\n",
      "13\n"
     ]
    }
   ],
   "source": [
    "# complexity: time O(n^2)\n",
    "matrix = [[2,1,3],[6,5,4],[7,8,9]]\n",
    "n = len(matrix)\n",
    "for i in range(1, n):\n",
    "    for j in range(n):\n",
    "        # first column, add the minimum of the two elements above\n",
    "        if j == 0:\n",
    "            matrix[i][j] += min(matrix[i-1][j], matrix[i-1][j+1])\n",
    "        # last column, add the minimum of the two elements above\n",
    "        elif j == n-1:\n",
    "            matrix[i][j] += min(matrix[i-1][j-1], matrix[i-1][j])\n",
    "        # middle columns, add the minimum of the three elements above\n",
    "        else:\n",
    "            matrix[i][j] += min(matrix[i-1][j-1], matrix[i-1][j], matrix[i-1][j+1])\n",
    "        print(matrix)\n",
    "print(min(matrix[-1]))"
   ]
  },
  {
   "cell_type": "markdown",
   "metadata": {},
   "source": [
    "### 198. House Robber\n",
    "You are a professional robber planning to rob houses along a street. Each house has a certain amount of money stashed, the only constraint stopping you from robbing each of them is that adjacent houses have security systems connected and it will automatically contact the police if two adjacent houses were broken into on the same night. <br>\n",
    "Given an integer array nums representing the amount of money of each house, return the maximum amount of money you can rob tonight without alerting the police."
   ]
  },
  {
   "cell_type": "code",
   "execution_count": 47,
   "metadata": {},
   "outputs": [
    {
     "name": "stdout",
     "output_type": "stream",
     "text": [
      "[1, 7, 10, 0, 0, 0, 0]\n",
      "[1, 7, 10, 11, 0, 0, 0]\n",
      "[1, 7, 10, 11, 11, 0, 0]\n",
      "[1, 7, 10, 11, 11, 11, 0]\n",
      "[1, 7, 10, 11, 11, 11, 21]\n"
     ]
    },
    {
     "data": {
      "text/plain": [
       "21"
      ]
     },
     "execution_count": 47,
     "metadata": {},
     "output_type": "execute_result"
    }
   ],
   "source": [
    "nums = [1,7,9,4,1,0,10]\n",
    "\n",
    "# dynamic programming, complexity: time O(n), space O(n)\n",
    "# cannot rob adjacent ones, but makes no sense to skip more than two houses, \n",
    "# so the number of houses needs to be skipped is between 1 and 2. \n",
    "def rob(nums):\n",
    "    if len(nums) == 1:\n",
    "        return nums[0]\n",
    "    if len(nums) == 2:\n",
    "        return max(nums)\n",
    "    dp = [0] * len(nums)\n",
    "    dp[0:2] = nums[0:2]\n",
    "    for i in range(2, len(nums)):\n",
    "        if i == 2:\n",
    "            dp[i] = nums[i] + nums[i-2]\n",
    "        else:\n",
    "            dp[i] = nums[i] + max(dp[i-2], dp[i-3])\n",
    "        print(dp)\n",
    "    return max(dp)\n",
    "rob(nums)\n",
    "\n"
   ]
  },
  {
   "cell_type": "code",
   "execution_count": 50,
   "metadata": {},
   "outputs": [
    {
     "name": "stdout",
     "output_type": "stream",
     "text": [
      "21\n",
      "1 0\n",
      "7 1\n",
      "10 7\n",
      "11 10\n",
      "11 11\n",
      "11 11\n",
      "21 11\n"
     ]
    },
    {
     "data": {
      "text/plain": [
       "21"
      ]
     },
     "execution_count": 50,
     "metadata": {},
     "output_type": "execute_result"
    }
   ],
   "source": [
    "# rolling window: remember the max gain at the next 3 houses from current position\n",
    "# time O(n), space O(1)\n",
    "# bottom up\n",
    "def robRWB(nums):\n",
    "    house1, house2, house3 = 0, 0, 0\n",
    "    for i in reversed(nums):\n",
    "        tmp = house1\n",
    "        house1 = i + max(house2, house3)\n",
    "        house3, house2 = house2, tmp\n",
    "    return max(house1, house2)\n",
    "print(robRWB(nums))\n",
    "\n",
    "# top down \n",
    "def robRWT(nums):\n",
    "    pre1, pre2 = 0, 0\n",
    "    for i in nums:\n",
    "        pre1, pre2 = max(i+pre2, pre1), pre1\n",
    "        print(pre1, pre2)\n",
    "    return pre1\n",
    "robRWT(nums)"
   ]
  },
  {
   "cell_type": "markdown",
   "metadata": {},
   "source": [
    "### 1143. Longest Common Subsequence\n",
    "Given two strings text1 and text2, return the length of their longest common subsequence. If there is no common subsequence, return 0.<br>\n",
    "A subsequence of a string is a new string generated from the original string with some characters (can be none) deleted without changing the relative order of the remaining characters.<br>\n",
    "For example, \"ace\" is a subsequence of \"abcde\"."
   ]
  },
  {
   "cell_type": "code",
   "execution_count": 80,
   "metadata": {},
   "outputs": [
    {
     "name": "stdout",
     "output_type": "stream",
     "text": [
      "[[0, 0, 0, 0, 0, 0, 0, 0, 0, 0, 0, 0], [0, 0, 0, 0, 0, 0, 0, 0, 0, 0, 0, 0], [0, 0, 0, 0, 0, 0, 0, 0, 0, 0, 0, 0], [0, 0, 0, 0, 0, 0, 0, 0, 0, 1, 1, 0], [0, 0, 0, 0, 0, 0, 1, 1, 1, 1, 1, 0], [0, 0, 0, 0, 0, 0, 1, 2, 2, 2, 2, 0], [1, 1, 1, 1, 1, 1, 1, 2, 2, 2, 2, 0], [1, 1, 1, 1, 1, 1, 1, 2, 2, 2, 2, 0], [1, 1, 1, 1, 1, 1, 1, 2, 2, 2, 2, 0], [1, 1, 1, 1, 1, 1, 1, 2, 2, 2, 2, 0], [0, 0, 0, 0, 0, 0, 0, 0, 0, 0, 0, 0]]\n"
     ]
    },
    {
     "data": {
      "text/plain": [
       "2"
      ]
     },
     "execution_count": 80,
     "metadata": {},
     "output_type": "execute_result"
    }
   ],
   "source": [
    "text1 = \"oxcpqrsvwf\"\n",
    "text2 = \"shmtulqrypy\"\n",
    "\n",
    "# dynamic programming\n",
    "# store the max length of common subsquence of text1[0:i] and text2[0:j] to dp[i][j]\n",
    "# complexity: time O(n*m), space O(n*m)\n",
    "dp = [[0]*(len(text2)+1) for _ in range(len(text1)+1)]\n",
    "for i in range(len(text1)):\n",
    "    for j in range(len(text2)):\n",
    "        if text1[i] == text2[j]:\n",
    "            dp[i][j] = dp[i-1][j-1] + 1\n",
    "        else:\n",
    "            dp[i][j] = max(dp[i-1][j], dp[i][j-1])\n",
    "print(dp)\n",
    "dp[-2][-2]"
   ]
  },
  {
   "cell_type": "code",
   "execution_count": 81,
   "metadata": {},
   "outputs": [
    {
     "name": "stdout",
     "output_type": "stream",
     "text": [
      "    0   1   2   3   4   5   6   7   8   9   10  11\n",
      "0    0   0   0   0   0   0   0   0   0   0   0   0\n",
      "1    0   0   0   0   0   0   0   0   0   0   0   0\n",
      "2    0   0   0   0   0   0   0   0   0   0   0   0\n",
      "3    0   0   0   0   0   0   0   0   0   1   1   0\n",
      "4    0   0   0   0   0   0   1   1   1   1   1   0\n",
      "5    0   0   0   0   0   0   1   2   2   2   2   0\n",
      "6    1   1   1   1   1   1   1   2   2   2   2   0\n",
      "7    1   1   1   1   1   1   1   2   2   2   2   0\n",
      "8    1   1   1   1   1   1   1   2   2   2   2   0\n",
      "9    1   1   1   1   1   1   1   2   2   2   2   0\n",
      "10   0   0   0   0   0   0   0   0   0   0   0   0\n"
     ]
    }
   ],
   "source": [
    "from pandas import *\n",
    "print(DataFrame(dp))"
   ]
  },
  {
   "cell_type": "code",
   "execution_count": 113,
   "metadata": {},
   "outputs": [
    {
     "name": "stdout",
     "output_type": "stream",
     "text": [
      "4\n"
     ]
    }
   ],
   "source": [
    "# time O(n*m), space O(min(n, m)) method\n",
    "text1 = \"oxcpqrsvwf\"\n",
    "text2 = \"shmtulqrypysfdsfsdf\"\n",
    "m, n = map(len, (text1, text2))\n",
    "if m < n:\n",
    "    text1, text2 = text2, text1\n",
    "dp = [0] * (min(n,m) + 1)\n",
    "for c in text1:\n",
    "    preRow, preRowPreCol = 0, 0\n",
    "    for j, d in enumerate(text2):\n",
    "        preRow, preRowPreCol = dp[j+1], preRow\n",
    "        if c == d:\n",
    "            dp[j+1] = preRowPreCol + 1 \n",
    "        else:\n",
    "            dp[j+1] = max(dp[j], preRow)\n",
    "print(dp[-1])"
   ]
  },
  {
   "cell_type": "code",
   "execution_count": 114,
   "metadata": {},
   "outputs": [
    {
     "data": {
      "text/plain": [
       "[0, 0, 0, 0, 1, 1, 2, 3, 3, 3, 4]"
      ]
     },
     "execution_count": 114,
     "metadata": {},
     "output_type": "execute_result"
    }
   ],
   "source": [
    "dp"
   ]
  },
  {
   "cell_type": "markdown",
   "metadata": {},
   "source": [
    "### 121. Best Time to Buy and Sell Stock\n",
    "\n",
    "You are given an array prices where prices[i] is the price of a given stock on the ith day.\n",
    "\n",
    "You want to maximize your profit by choosing a single day to buy one stock and choosing a different day in the future to sell that stock.\n",
    "\n",
    "Return the maximum profit you can achieve from this transaction. If you cannot achieve any profit, return 0."
   ]
  },
  {
   "cell_type": "code",
   "execution_count": 32,
   "metadata": {},
   "outputs": [
    {
     "name": "stdout",
     "output_type": "stream",
     "text": [
      "[[7, 0], [1, 0], 0, 0, 0, 0]\n",
      "[[7, 0], [1, 0], [1, 4], 0, 0, 0]\n",
      "[[7, 0], [1, 0], [1, 4], [1, 4], 0, 0]\n",
      "[[7, 0], [1, 0], [1, 4], [1, 4], [1, 5], 0]\n",
      "[[7, 0], [1, 0], [1, 4], [1, 4], [1, 5], [1, 5]]\n",
      "5\n",
      "[[0, -inf], [0, 1], [0, 0], [0, 0], [0, 0], [0, 0]]\n",
      "[[0, -inf], [0, 1], [0, 5], [0, 0], [0, 0], [0, 0]]\n",
      "[[0, -inf], [0, 1], [0, 5], [2, 5], [0, 0], [0, 0]]\n",
      "[[0, -inf], [0, 1], [0, 5], [2, 5], [2, 8], [0, 0]]\n",
      "[[0, -inf], [0, 1], [0, 5], [2, 5], [2, 8], [4, 8]]\n"
     ]
    }
   ],
   "source": [
    "prices = [7,1,5,3,6,4]\n",
    "\n",
    "dp = [0] * len(prices)\n",
    "dp[0] = [prices[0], 0]\n",
    "for i in range(1, len(prices)):\n",
    "    min_price = min(prices[i], dp[i-1][0])\n",
    "    max_profit = max(dp[i-1][1], prices[i]-dp[i-1][0])\n",
    "    dp[i] = [min_price, max_profit]\n",
    "    print(dp)\n",
    "print(dp[-1][1])\n",
    "\n",
    "dp = [[0 for _ in range(2)] for _ in range(len(prices))]\n",
    "dp[0][0], dp[0][1] = 0, -float(\"inf\")\n",
    "for i in range(1, len(prices)):\n",
    "    dp[i][0] = max(dp[i-1][0], dp[i-1][1] - prices[i])\n",
    "    dp[i][1] = max(dp[i-1][1], dp[i-1][0] + prices[i])\n",
    "    print(dp)"
   ]
  },
  {
   "cell_type": "code",
   "execution_count": 1,
   "metadata": {},
   "outputs": [
    {
     "data": {
      "text/plain": [
       "5"
      ]
     },
     "execution_count": 1,
     "metadata": {},
     "output_type": "execute_result"
    }
   ],
   "source": [
    "prices = [7,1,5,3,6,4]\n",
    "def maxProfit(prices):\n",
    "    low = float('inf')\n",
    "    max_profit = 0\n",
    "    for p in prices:\n",
    "        low = min(low, p) \n",
    "        max_profit = max(max_profit, p-low)\n",
    "    return max_profit\n",
    "maxProfit(prices)"
   ]
  },
  {
   "cell_type": "markdown",
   "metadata": {},
   "source": [
    "### 122. Best Time to Buy and Sell Stock II\n",
    "You are given an integer array prices where prices[i] is the price of a given stock on the ith day.\n",
    "\n",
    "On each day, you may decide to buy and/or sell the stock. You can only hold at most one share of the stock at any time. However, you can buy it then immediately sell it on the same day.\n",
    "\n",
    "Find and return the maximum profit you can achieve."
   ]
  },
  {
   "cell_type": "code",
   "execution_count": 20,
   "metadata": {},
   "outputs": [
    {
     "name": "stdout",
     "output_type": "stream",
     "text": [
      "[[0, -inf], [0, -7], [0, 0], [0, 0], [0, 0], [0, 0], [0, 0]]\n",
      "[[0, -inf], [0, -7], [0, -1], [0, 0], [0, 0], [0, 0], [0, 0]]\n",
      "[[0, -inf], [0, -7], [0, -1], [4, -1], [0, 0], [0, 0], [0, 0]]\n",
      "[[0, -inf], [0, -7], [0, -1], [4, -1], [4, 1], [0, 0], [0, 0]]\n",
      "[[0, -inf], [0, -7], [0, -1], [4, -1], [4, 1], [7, 1], [0, 0]]\n",
      "[[0, -inf], [0, -7], [0, -1], [4, -1], [4, 1], [7, 1], [7, 3]]\n"
     ]
    },
    {
     "data": {
      "text/plain": [
       "7"
      ]
     },
     "execution_count": 20,
     "metadata": {},
     "output_type": "execute_result"
    }
   ],
   "source": [
    "prices = [7,1,5,3,6,4]\n",
    "\n",
    "# DP\n",
    "dp = [[0 for _ in range(2)] for _ in range(len(prices)+1)]\n",
    "dp[0][0], dp[0][1] = 0 , -float(\"inf\")\n",
    "for i in range(1, len(prices)+1):\n",
    "    # dp[i][0] is the cash flow if you decided whether to sell the i-1 stock\n",
    "    # if you hold, dp[i][0] = dp[i-1][0]; if you sell, dp[i][0] = dp[i-1][1]+prices[i-1] (add the price into your previous cash flow)\n",
    "    dp[i][0] = max(dp[i-1][0], dp[i-1][1]+prices[i-1])\n",
    "    # dp[i][1] is the cash flow if you decided whether to buy the i-1 stock\n",
    "    # if you hold, dp[i][1] = dp[i-1][1]; if you buy,  dp[i][1] = dp[i-1][0]-prices[i-1] (subtract the price from your previous cash flow)\n",
    "    dp[i][1] = max(dp[i-1][1], dp[i-1][0]-prices[i-1])\n",
    "    print(dp)\n",
    "dp[-1][0] # return the cash flow of your last sell"
   ]
  },
  {
   "cell_type": "markdown",
   "metadata": {},
   "source": [
    "### 309. Best Time to Buy and Sell Stock with Cooldown\n",
    "You are given an array prices where prices[i] is the price of a given stock on the ith day.\n",
    "\n",
    "Find the maximum profit you can achieve. You may complete as many transactions as you like (i.e., buy one and sell one share of the stock multiple times) with the following restrictions:\n",
    "\n",
    "After you sell your stock, you cannot buy stock on the next day (i.e., cooldown one day).\n",
    "Note: You may not engage in multiple transactions simultaneously (i.e., you must sell the stock before you buy again)."
   ]
  },
  {
   "cell_type": "code",
   "execution_count": 27,
   "metadata": {},
   "outputs": [
    {
     "name": "stdout",
     "output_type": "stream",
     "text": [
      "[[-1, 0, -inf], [0, 0, 0], [0, 0, 0], [0, 0, 0], [0, 0, 0]]\n",
      "[[-1, 0, -inf], [-2, 0, 1], [0, 0, 0], [0, 0, 0], [0, 0, 0]] -1\n",
      "[[-1, 0, -inf], [-2, 0, 1], [-3, 1, 2], [0, 0, 0], [0, 0, 0]] -1\n",
      "[[-1, 0, -inf], [-2, 0, 1], [-3, 1, 2], [1, 2, -1], [0, 0, 0]] 1\n",
      "[[-1, 0, -inf], [-2, 0, 1], [-3, 1, 2], [1, 2, -1], [0, 2, 3]] 1\n"
     ]
    },
    {
     "data": {
      "text/plain": [
       "3"
      ]
     },
     "execution_count": 27,
     "metadata": {},
     "output_type": "execute_result"
    }
   ],
   "source": [
    "prices = [1,2,3,0,2]\n",
    "\n",
    "dp = [[0 for _ in range(3)] for _ in range(len(prices))]\n",
    "dp[0][0], dp[0][1], dp[0][2] = -prices[0], 0, -float(\"inf\") # max profit with states: [buy, cooldown, sell]\n",
    "print(dp)\n",
    "max_prev_buy = dp[0][0]\n",
    "for i in range(1, len(prices)):\n",
    "    # the i-th day is a cooldown, meaning the max profit is the max profit of the i-1 -th day of any state\n",
    "    dp[i][1] = max(dp[i-1][1], dp[i-1][0], dp[i-1][2]) \n",
    "    # buy the i-th stock, provided the i-1 -th day is a cooldown\n",
    "    dp[i][0] = dp[i-1][1] - prices[i] \n",
    "    # sell the i-th stock, add the sold prices to the max cash flow after you bought your last stock\n",
    "    dp[i][2] = max_prev_buy + prices[i]\n",
    "    # tracking the max cash flow after a stock is bought\n",
    "    max_prev_buy = max(max_prev_buy, dp[i][0])\n",
    "    print(dp, max_prev_buy)\n",
    "\n",
    "max(dp[-1][1], dp[-1][2])"
   ]
  },
  {
   "attachments": {
    "image.png": {
     "image/png": "[encoded data removed]"
    }
   },
   "cell_type": "markdown",
   "metadata": {},
   "source": [
    "### 980. Unique Paths III\n",
    "You are given an m x n integer array grid where grid[i][j] could be:\n",
    "\n",
    "1 representing the starting square. There is exactly one starting square.<br>\n",
    "2 representing the ending square. There is exactly one ending square.<br>\n",
    "0 representing empty squares we can walk over.<br>\n",
    "-1 representing obstacles that we cannot walk over.<br>\n",
    "Return the number of 4-directional walks from the starting square to the ending square, that walk over every non-obstacle square exactly once.<br>\n",
    "<img src=\"attachment:image.png\" width=\"200\">"
   ]
  },
  {
   "cell_type": "code",
   "execution_count": 3,
   "metadata": {},
   "outputs": [
    {
     "data": {
      "text/plain": [
       "2"
      ]
     },
     "execution_count": 3,
     "metadata": {},
     "output_type": "execute_result"
    }
   ],
   "source": [
    "grid = [[1,0,0,0],[0,0,0,0],[0,0,2,-1]]\n",
    "\n",
    "# backtracking + dfs\n",
    "# search for starting location, end location, and all non-obstacle locations\n",
    "start, end = None, None\n",
    "visit = set()\n",
    "for i in range(len(grid)):\n",
    "    for j in range(len(grid[0])):\n",
    "        if grid[i][j] == 0:\n",
    "            visit.add((i, j))\n",
    "        elif grid[i][j] == 1:\n",
    "            start = (i, j)\n",
    "        elif grid[i][j] == 2:\n",
    "            end = (i, j)\n",
    "            visit.add((i, j))\n",
    "# moving through the grid to search for valid paths\n",
    "def backtrack(x, y, visit):\n",
    "    # detecting if search terminates and if all non-obstacle nodes have been visited\n",
    "    if (x, y) == end:\n",
    "        return len(visit) == 0\n",
    "    # initialise result\n",
    "    res = 0\n",
    "    # search all directions from the current node\n",
    "    for (i, j) in ((x-1, y), (x+1, y), (x, y-1), (x, y+1)):\n",
    "        if (i, j) in visit: # if (i, j) is a non-obstacle node that has not been visited\n",
    "            visit.remove((i, j)) # mark (i, j) as visited\n",
    "            res += backtrack(i, j, visit) # dfs for valid paths, if found one, add one to res\n",
    "            visit.add((i, j)) # backtrack to the current node and search from another direction\n",
    "    return res\n",
    "backtrack(start[0], start[1], visit)"
   ]
  },
  {
   "cell_type": "markdown",
   "metadata": {},
   "source": [
    "### 55. Jump Game\n",
    "You are given an integer array nums. You are initially positioned at the array's first index, and each element in the array represents your maximum jump length at that position.\n",
    "\n",
    "Return true if you can reach the last index, or false otherwise."
   ]
  },
  {
   "cell_type": "code",
   "execution_count": 7,
   "metadata": {},
   "outputs": [
    {
     "data": {
      "text/plain": [
       "True"
      ]
     },
     "execution_count": 7,
     "metadata": {},
     "output_type": "execute_result"
    }
   ],
   "source": [
    "nums = [2,3,1,4,4]\n",
    "def canJump(nums):\n",
    "    flag = True\n",
    "    for i in range(len(nums)-2, -1, -1):\n",
    "        # if position i allows 0 step, we need to find a location that allow us to jump over position i\n",
    "        if nums[i] == 0:\n",
    "            flag = False\n",
    "            for j in range(i-1,-1,-1):\n",
    "                # if we found a location j allows jump length nums[j] that can cover the distance btween i and j\n",
    "                # we can jump over location i\n",
    "                if nums[j] > i-j:\n",
    "                    flag = True\n",
    "                    break\n",
    "            # if we cannot jump over location i, means we will get trapped here, and cannot reach the last index\n",
    "            if flag==False: break\n",
    "    return flag\n",
    "canJump(nums)"
   ]
  },
  {
   "cell_type": "code",
   "execution_count": 8,
   "metadata": {},
   "outputs": [
    {
     "data": {
      "text/plain": [
       "True"
      ]
     },
     "execution_count": 8,
     "metadata": {},
     "output_type": "execute_result"
    }
   ],
   "source": [
    "n = len(nums)\n",
    "dp = [False] * n\n",
    "dp[-1] = True\n",
    "for i in range(n-2, -1, -1):\n",
    "    for j in range(nums[i] + 1):\n",
    "        if dp[i+j]:\n",
    "            dp[i] = True\n",
    "            break\n",
    "dp[0]"
   ]
  },
  {
   "cell_type": "code",
   "execution_count": 11,
   "metadata": {},
   "outputs": [
    {
     "data": {
      "text/plain": [
       "True"
      ]
     },
     "execution_count": 11,
     "metadata": {},
     "output_type": "execute_result"
    }
   ],
   "source": [
    "# time O(n) solution\n",
    "nums = [2,3,1,4,4]\n",
    "# take curr vairbale to keep the current maxinum jump\n",
    "def canJump(nums):\n",
    "    curr = nums[0]\n",
    "    # traverse all the elements through loop\n",
    "    for i in range(1, len(nums)):\n",
    "        # if the current index i is less than current maxinum jump curr (curr - 1 jump to reach i)\n",
    "        # it means it is not optimal to jump to the current index,\n",
    "        # so we should keep the current maximum jump, vice versa\n",
    "        # if we jump to a location where the updated curr from the last step is 0\n",
    "        # it is not possible to excape from this location, if it is not the last location, return False\n",
    "        if curr == 0:\n",
    "            return False\n",
    "        curr -= 1\n",
    "        curr = max(curr, nums[i])\n",
    "    return True\n",
    "canJump(nums)"
   ]
  },
  {
   "attachments": {
    "image.png": {
     "image/png": "[encoded data removed]"
    }
   },
   "cell_type": "markdown",
   "metadata": {},
   "source": [
    "### 790. Domino and Tromino Tiling\n",
    "You have two types of tiles: a 2 x 1 domino shape and a tromino shape. You may rotate these shapes.\n",
    "\n",
    "<img src=\"attachment:image.png\" width=\"256\" align=left> "
   ]
  },
  {
   "attachments": {
    "image.png": {
     "image/png": "[encoded data removed]"
    }
   },
   "cell_type": "markdown",
   "metadata": {},
   "source": [
    "Example 1: <br>\n",
    "<img src=\"attachment:image.png\" width=\"512\" align=left> "
   ]
  },
  {
   "cell_type": "markdown",
   "metadata": {},
   "source": [
    "<img src=\"https://assets.leetcode.com/users/images/de639bbf-995e-48da-96ee-47bc830cd220_1639109512.768774.jpeg\" width=\"400\" align=left> <img src=\"https://assets.leetcode.com/users/images/875bd993-2f8d-44f5-95eb-c113e8983cc8_1639109494.0658832.jpeg\" width=\"400\">"
   ]
  },
  {
   "cell_type": "code",
   "execution_count": 13,
   "metadata": {},
   "outputs": [
    {
     "data": {
      "text/plain": [
       "5"
      ]
     },
     "execution_count": 13,
     "metadata": {},
     "output_type": "execute_result"
    }
   ],
   "source": [
    "n = 3\n",
    "def numTilings(n):\n",
    "    if n < 3:\n",
    "        return n\n",
    "    # dp[i-1] denotes the number of ways to tile a 2*i board\n",
    "    dp = [0] * n\n",
    "    # dp2[i] denotes the number of ways to tile a 2*i board and 1 additional square left below (or above symmetrically)\n",
    "    dp2 = [0] * n\n",
    "    \n",
    "    dp[0], dp[1] = 1, 2\n",
    "    dp2[0], dp2[1] = 0, 1\n",
    "    \n",
    "    for i in range(2, n):\n",
    "        dp[i] = dp[i-1] + dp[i-2] + 2*dp2[i-1]\n",
    "        dp2[i] = dp2[i-1] + dp[i-2]\n",
    "    return dp[-1] % (10**9 + 7)\n",
    "\n",
    "numTilings(n)"
   ]
  },
  {
   "cell_type": "markdown",
   "metadata": {},
   "source": [
    "### 926. Flip String to Monotone Increasing\n",
    "A binary string is monotone increasing if it consists of some number of 0's (possibly none), followed by some number of 1's (also possibly none).\n",
    "\n",
    "You are given a binary string s. You can flip s[i] changing it from 0 to 1 or from 1 to 0.\n",
    "\n",
    "Return the minimum number of flips to make s monotone increasing."
   ]
  },
  {
   "cell_type": "code",
   "execution_count": 42,
   "metadata": {},
   "outputs": [],
   "source": [
    "s = \"010110\""
   ]
  },
  {
   "cell_type": "code",
   "execution_count": 38,
   "metadata": {},
   "outputs": [
    {
     "data": {
      "text/plain": [
       "2"
      ]
     },
     "execution_count": 38,
     "metadata": {},
     "output_type": "execute_result"
    }
   ],
   "source": [
    "# at position i, lhs is the number of 1s in s[:i] (potential to change them to 0s)\n",
    "# rhs is the number of 0s in s[i:] (potential to change them to 1s)\n",
    "min_flips = float(\"inf\")\n",
    "LHS, RHS = 0, 0\n",
    "# initialize RHS with total number of 0s\n",
    "for i in s:\n",
    "    RHS += 1 - int(i) \n",
    "min_flips = min(min_flips, LHS+RHS)\n",
    "# at position i, total number of flips is LHS+RHS\n",
    "# update min_flips if LHS+RHS < min_flips\n",
    "for i in s:\n",
    "    LHS += int(i)\n",
    "    RHS -= 1-int(i)\n",
    "    min_flips = min(min_flips, LHS+RHS)\n",
    "min_flips"
   ]
  },
  {
   "cell_type": "code",
   "execution_count": 39,
   "metadata": {},
   "outputs": [
    {
     "data": {
      "text/plain": [
       "2"
      ]
     },
     "execution_count": 39,
     "metadata": {},
     "output_type": "execute_result"
    }
   ],
   "source": [
    "ones, ans = 0, 0\n",
    "for i in s:\n",
    "    # discard all initail 0s, and change everything faterwards to 1s or 0s\n",
    "    if i == \"1\":\n",
    "        ones += 1\n",
    "    elif ones: # under this condition, there must be one flip\n",
    "        ans += 1\n",
    "        ones -= 1\n",
    "ans"
   ]
  },
  {
   "cell_type": "code",
   "execution_count": 49,
   "metadata": {},
   "outputs": [
    {
     "data": {
      "text/plain": [
       "2"
      ]
     },
     "execution_count": 49,
     "metadata": {},
     "output_type": "execute_result"
    }
   ],
   "source": [
    "# discard all initail 0s, and change everything faterwards to 1s or 0s\n",
    "start = 0\n",
    "for i in range(len(s)):\n",
    "    if s[i] == \"1\":\n",
    "        start = i\n",
    "        break\n",
    "ones = 0\n",
    "for i in s[start:]:\n",
    "    if i == \"1\":\n",
    "        ones += 1\n",
    "ans = min(ones, len(s[start:])-ones)\n",
    "ans"
   ]
  },
  {
   "cell_type": "markdown",
   "metadata": {},
   "source": [
    "### 918. Maximum Sum Circular Subarray\n",
    "Given a circular integer array nums of length n, return the maximum possible sum of a non-empty subarray of nums.\n",
    "\n",
    "A circular array means the end of the array connects to the beginning of the array. Formally, the next element of nums[i] is nums[(i + 1) % n] and the previous element of nums[i] is nums[(i - 1 + n) % n].\n",
    "\n",
    "A subarray may only include each element of the fixed buffer nums at most once. Formally, for a subarray nums[i], nums[i + 1], ..., nums[j], there does not exist i <= k1, k2 <= j with k1 % n == k2 % n."
   ]
  },
  {
   "cell_type": "code",
   "execution_count": 98,
   "metadata": {},
   "outputs": [],
   "source": [
    "nums = [-3,-2,-3]"
   ]
  },
  {
   "cell_type": "code",
   "execution_count": 99,
   "metadata": {},
   "outputs": [
    {
     "name": "stdout",
     "output_type": "stream",
     "text": [
      "-2 -2 -5 -5\n",
      "-3 -2 -8 -8\n"
     ]
    },
    {
     "data": {
      "text/plain": [
       "-2"
      ]
     },
     "execution_count": 99,
     "metadata": {},
     "output_type": "execute_result"
    }
   ],
   "source": [
    "# Kadane’s Algorithm\n",
    "n = len(nums)\n",
    "curMax, bestMax, curMin, bestMin = nums[0], nums[0], nums[0], nums[0]\n",
    "for n in nums[1:]:\n",
    "    curMax = max(curMax + n, n) # curMax>0, add n to it; curMax < 0, abandon curMax\n",
    "    bestMax = max(bestMax, curMax)\n",
    "    curMin = min(curMin + n, n) # curMin<n, add n to it; curMin > 0, abandon curMin\n",
    "    bestMin = min(bestMin, curMin) \n",
    "    print(curMax, bestMax, curMin, bestMin)\n",
    "# ans = bestMax, the max non-empty subarry does not cross the boundray\n",
    "# ans = sum(nums) - bestMin, the max non-empty subarry cross the boundray, but the min subarry does not\n",
    "ans = bestMax if bestMax < 0 else max(bestMax, sum(nums)-bestMin) # bestMax < 0 means all elements are negative\n",
    "ans"
   ]
  },
  {
   "cell_type": "code",
   "execution_count": 100,
   "metadata": {},
   "outputs": [
    {
     "name": "stdout",
     "output_type": "stream",
     "text": [
      "[-3, -2, -3] [-3, -5, -5]\n"
     ]
    },
    {
     "data": {
      "text/plain": [
       "-2"
      ]
     },
     "execution_count": 100,
     "metadata": {},
     "output_type": "execute_result"
    }
   ],
   "source": [
    "# DP\n",
    "max_dp = [i for i in nums]\n",
    "min_dp = [i for i in nums]\n",
    "for i in range(1, len(nums)):\n",
    "    if max_dp[i-1] > 0:\n",
    "        max_dp[i] += max_dp[i-1]\n",
    "    if min_dp[i-1] < 0:\n",
    "        min_dp[i] += max_dp[i-1]\n",
    "ans = max(max(max_dp), sum(nums) - min(min_dp))\n",
    "print(max_dp, min_dp)\n",
    "ans"
   ]
  },
  {
   "cell_type": "markdown",
   "metadata": {},
   "source": [
    "### 491. Non-decreasing Subsequences\n",
    "Given an integer array nums, return all the different possible non-decreasing subsequences of the given array with at least two elements. You may return the answer in any order."
   ]
  },
  {
   "cell_type": "code",
   "execution_count": 102,
   "metadata": {},
   "outputs": [],
   "source": [
    "nums = [4,6,7,7]"
   ]
  },
  {
   "cell_type": "code",
   "execution_count": 125,
   "metadata": {},
   "outputs": [
    {
     "data": {
      "text/plain": [
       "[[4, 6], [4, 6, 7], [4, 6, 7, 7], [4, 7], [4, 7, 7], [6, 7], [6, 7, 7], [7, 7]]"
      ]
     },
     "execution_count": 125,
     "metadata": {},
     "output_type": "execute_result"
    }
   ],
   "source": [
    "# backtracking\n",
    "def findSubsequences(nums):\n",
    "    global res\n",
    "    res = []\n",
    "    def backTrack(A, cur, idx):\n",
    "        if len(cur)>1 and cur==sorted(cur) and cur not in res:\n",
    "            res.append(cur[:])\n",
    "        for i in range(idx, len(A)):\n",
    "            cur.append(A[i])\n",
    "            backTrack(A, cur, i+1)\n",
    "            cur.pop()\n",
    "    \n",
    "    backTrack(nums,[],0)\n",
    "    return res\n",
    "\n",
    "findSubsequences(nums)"
   ]
  },
  {
   "cell_type": "code",
   "execution_count": 137,
   "metadata": {},
   "outputs": [
    {
     "data": {
      "text/plain": [
       "[[4, 7], [6, 7], [4, 6], [4, 6, 7, 7], [7, 7], [4, 7, 7], [4, 6, 7], [6, 7, 7]]"
      ]
     },
     "execution_count": 137,
     "metadata": {},
     "output_type": "execute_result"
    }
   ],
   "source": [
    "curr = [[nums[0]]]\n",
    "for x in nums[1:]:\n",
    "    curr += [y + [x] for y in curr if x >= y[-1]]\n",
    "    curr += [[x]]\n",
    "    \n",
    "curr = [tuple(x) for x in curr if len(x) >= 2]\n",
    "[list(x) for x in set(curr)]"
   ]
  },
  {
   "cell_type": "code",
   "execution_count": 138,
   "metadata": {},
   "outputs": [
    {
     "data": {
      "text/plain": [
       "[[4, 7], [6, 7], [4, 6], [4, 6, 7, 7], [7, 7], [4, 7, 7], [4, 6, 7], [6, 7, 7]]"
      ]
     },
     "execution_count": 138,
     "metadata": {},
     "output_type": "execute_result"
    }
   ],
   "source": [
    "# backtracking 2, time O(n*2^n), space O(n)\n",
    "# iterate though all elements; then take the following options\n",
    "# 1. pick that element\n",
    "# 2. skip it\n",
    "# 3. when we complete the iteration, check if len(cur) >= 2\n",
    "def BT(A, idx, out, ans):\n",
    "    # base case: if we have reached the end of the input array A\n",
    "    if idx >= len(A):\n",
    "        # only add the output if len(out) > 1\n",
    "        if len(out) > 1:\n",
    "            ans.add(tuple(out))\n",
    "        return\n",
    "    # if the output is empty or if the current element is >= elements in output\n",
    "    if not out or A[idx] >= out[-1]:\n",
    "        # add the current element to the output and recursively backtrack (dfs) feasible solutions\n",
    "        out.append(A[idx])\n",
    "        BT(A, idx+1, out, ans)\n",
    "        # backtrack to another path\n",
    "        out.pop()\n",
    "    # if no feasible solution found in this path, skip and backtrack\n",
    "    BT(A, idx+1, out, ans)\n",
    "# use set to avoid repeating\n",
    "ans = set()\n",
    "BT(nums, 0, [], ans)\n",
    "[list(x) for x in ans]"
   ]
  },
  {
   "cell_type": "markdown",
   "metadata": {},
   "source": [
    "### 93. Restore IP Addresses\n",
    "A valid IP address consists of exactly four integers separated by single dots. Each integer is between 0 and 255 (inclusive) and cannot have leading zeros.\n",
    "\n",
    "For example, \"0.1.2.201\" and \"192.168.1.1\" are valid IP addresses, but \"0.011.255.245\", \"192.168.1.312\" and \"192.168@1.1\" are invalid IP addresses.\n",
    "Given a string s containing only digits, return all possible valid IP addresses that can be formed by inserting dots into s. You are not allowed to reorder or remove any digits in s. You may return the valid IP addresses in any order."
   ]
  },
  {
   "cell_type": "code",
   "execution_count": 142,
   "metadata": {},
   "outputs": [],
   "source": [
    "s = \"101023\""
   ]
  },
  {
   "cell_type": "code",
   "execution_count": 148,
   "metadata": {},
   "outputs": [
    {
     "data": {
      "text/plain": [
       "['1.0.10.23', '1.0.102.3', '10.1.0.23', '10.10.2.3', '101.0.2.3']"
      ]
     },
     "execution_count": 148,
     "metadata": {},
     "output_type": "execute_result"
    }
   ],
   "source": [
    "# backtracking\n",
    "class Solution:\n",
    "    def valid(self, tmp): # define backtracking constraints\n",
    "        if len(tmp) > 3 or len(tmp) == 0: # case 1, length of IP addr element should be <=3 and >0\n",
    "            return False\n",
    "        if len(tmp) > 1 and tmp[0] == '0': # case 2, if length of IP addr element >1, the first num cannot be 0\n",
    "            return False\n",
    "        if len(tmp) and int(tmp) > 255: # case 3, IP addr element should <= 255\n",
    "            return False\n",
    "        return True\n",
    "\n",
    "    def BT(self, s, res, cur, idx, dots):\n",
    "        if dots == 3: # when three dots has been added\n",
    "            if self.valid(s[idx:]): # check if the last element satisfies the constraints\n",
    "                res.append(cur + s[idx:]) # adding the current elements and the last element to the solution\n",
    "            return\n",
    "        for i in range(idx, max(idx+3, len(s))): # check from current index and at most the next 2 indexs\n",
    "            if self.valid(s[idx:i+1]): # check if element s[idx:i+1] (x, xx, or xxx) satisfies contrainst\n",
    "                newCur = cur + s[idx:i+1] + '.' # add this element to the current result and add a dot\n",
    "                self.BT(s, res, newCur, i+1, dots+1) # backtracking other solutions\n",
    "    \n",
    "    def restoreIpAddresses(self, s):\n",
    "        res = []\n",
    "        self.BT(s, res, \"\", 0, 0)\n",
    "        return res\n",
    "    \n",
    "res = Solution()\n",
    "res.restoreIpAddresses(s)"
   ]
  },
  {
   "cell_type": "markdown",
   "metadata": {},
   "source": [
    "### 131. Palindrome Partitioning\n",
    "Given a string s, partition s such that every substring of the partition is a palindrome. Return all possible palindrome partitioning of s."
   ]
  },
  {
   "cell_type": "code",
   "execution_count": 170,
   "metadata": {},
   "outputs": [],
   "source": [
    "s = \"aab\""
   ]
  },
  {
   "cell_type": "code",
   "execution_count": 171,
   "metadata": {},
   "outputs": [
    {
     "data": {
      "text/plain": [
       "[['a', 'a', 'b'], ['aa', 'b']]"
      ]
     },
     "execution_count": 171,
     "metadata": {},
     "output_type": "execute_result"
    }
   ],
   "source": [
    "# backtracking, time O(n * 2^n), space O(n)\n",
    "class Solutions():\n",
    "    def valid(self, tmp): # defining constraints\n",
    "        return tmp == tmp[::-1]\n",
    "\n",
    "    def BT(self, s, res, cur):\n",
    "        if not s: # if all strings have been checked, add the current solution the result\n",
    "            res.append(cur)\n",
    "        for i in range(1, len(s)+1):\n",
    "            if self.valid(s[:i]): # check if s[:i] is valid\n",
    "                newCur = cur + [s[:i]] # add element s[:i] to the current solution\n",
    "                self.BT(s[i:], res, newCur) # becktracking valid results in s[i:]\n",
    "\n",
    "    def partition(self, s):\n",
    "        res = []\n",
    "        self.BT(s, res, [])\n",
    "        return res\n",
    "    \n",
    "res = Solutions()\n",
    "res.partition(s)"
   ]
  },
  {
   "cell_type": "code",
   "execution_count": 174,
   "metadata": {},
   "outputs": [
    {
     "name": "stdout",
     "output_type": "stream",
     "text": [
      "[[], [], [['b']], [[]]]\n",
      "[[], [['a', 'b']], [['b']], [[]]]\n",
      "[[], [['a', 'b']], [['b']], [[]]]\n",
      "[[['a', 'a', 'b']], [['a', 'b']], [['b']], [[]]]\n",
      "[[['a', 'a', 'b'], ['aa', 'b']], [['a', 'b']], [['b']], [[]]]\n",
      "[[['a', 'a', 'b'], ['aa', 'b']], [['a', 'b']], [['b']], [[]]]\n"
     ]
    },
    {
     "data": {
      "text/plain": [
       "[['a', 'a', 'b'], ['aa', 'b']]"
      ]
     },
     "execution_count": 174,
     "metadata": {},
     "output_type": "execute_result"
    }
   ],
   "source": [
    "# DP\n",
    "# dp[i] stores all possible palindrome partitions of string s[i:]\n",
    "n = len(s)\n",
    "dp = [[] for _ in range(n+1)]\n",
    "dp[-1].append([]) \n",
    "for i in range(n-1, -1, -1):\n",
    "    for j in range(i+1, n+1):\n",
    "        cur = s[i:j]\n",
    "        if cur == cur[::-1]: # if s[i:j] is palindrome \n",
    "            for k in dp[j]:\n",
    "                dp[i].append([cur]+k) # add s[i:j] the palindromes in s[j:], now we have palindromes in s[i:] \n",
    "        print(dp)\n",
    "dp[0]"
   ]
  },
  {
   "cell_type": "markdown",
   "metadata": {},
   "source": [
    "### 472. Concatenated Words\n",
    "Given an array of strings words (without duplicates), return all the concatenated words in the given list of words.\n",
    "\n",
    "A concatenated word is defined as a string that is comprised entirely of at least two shorter words in the given array."
   ]
  },
  {
   "cell_type": "code",
   "execution_count": 7,
   "metadata": {},
   "outputs": [],
   "source": [
    "words = [\"cat\",\"cats\",\"catsdogcats\",\"dog\",\"dogcatsdog\",\"hippopotamuses\",\"rat\",\"ratcatdogcat\"]"
   ]
  },
  {
   "cell_type": "code",
   "execution_count": 15,
   "metadata": {},
   "outputs": [
    {
     "name": "stdout",
     "output_type": "stream",
     "text": [
      "defaultdict(<function <lambda> at 0x000001B4F19D4D08>, {})\n"
     ]
    },
    {
     "data": {
      "text/plain": [
       "['catsdogcats', 'dogcatsdog', 'ratcatdogcat']"
      ]
     },
     "execution_count": 15,
     "metadata": {},
     "output_type": "execute_result"
    }
   ],
   "source": [
    "# Trie & DFS, time O(n), space O(n)\n",
    "from collections import defaultdict\n",
    "# create a trie data structure for all given words\n",
    "ddic = lambda: defaultdict(ddic)\n",
    "trie = ddic()\n",
    "for word in words:\n",
    "    cur = trie\n",
    "    for char in word:\n",
    "        cur = cur[char]\n",
    "    cur['end'] = True\n",
    "def isConcate(word, start):\n",
    "    # if the current prefix is in the trie\n",
    "    # DFS to check whether the slice of the word starting after the prefix is a concatenated word\n",
    "    cur = trie\n",
    "    for i in range(start, len(word)):\n",
    "        char = word[i]\n",
    "        if char not in cur:\n",
    "            return False\n",
    "        cur = cur[char]\n",
    "        if 'end' in cur:\n",
    "            if i+1 == len(word):\n",
    "                return start != 0 # distinguish simple words from concatenated words\n",
    "            if isConcat(word, i+1):\n",
    "                return True\n",
    "    return False\n",
    "[word for word in words if isConcate(word, 0)]"
   ]
  },
  {
   "cell_type": "code",
   "execution_count": 19,
   "metadata": {},
   "outputs": [
    {
     "data": {
      "text/plain": [
       "['catsdogcats', 'dogcatsdog', 'ratcatdogcat']"
      ]
     },
     "execution_count": 19,
     "metadata": {},
     "output_type": "execute_result"
    }
   ],
   "source": [
    "# Trie + DFS method2 (another way to construct trie data structure)\n",
    "# step1: insert all the words into the trie\n",
    "# step2: DFS each word to find concatenated words  \n",
    "from collections import defaultdict\n",
    "class TrieNode:\n",
    "    def __init__(self):\n",
    "        self.child = defaultdict(TrieNode)\n",
    "        self.isEnd = False\n",
    "class Trie:\n",
    "    def __init__(self):\n",
    "        self.root = TrieNode()\n",
    "    def insert(self, word):\n",
    "        marker = self.root\n",
    "        for ch in word:\n",
    "            marker = marker.child[ch]\n",
    "        marker.isEnd = True\n",
    "\n",
    "def dfs(word, start, root, count):\n",
    "    n, marker = len(word), root\n",
    "    for i in range(start, n):\n",
    "        marker = marker.child[word[i]]\n",
    "        if marker.isEnd:\n",
    "            if i == n-1:\n",
    "                return count >= 1 # distinguish simple words from concatenate words\n",
    "            if dfs(word, i+1, root, count+1):\n",
    "                return True\n",
    "    return False\n",
    "trie = Trie()\n",
    "for word in words:\n",
    "    trie.insert(word)\n",
    "[word for word in words if dfs(word, 0, trie.root, 0)]"
   ]
  },
  {
   "cell_type": "code",
   "execution_count": 27,
   "metadata": {},
   "outputs": [
    {
     "data": {
      "text/plain": [
       "['catsdogcats', 'dogcatsdog', 'ratcatdogcat']"
      ]
     },
     "execution_count": 27,
     "metadata": {},
     "output_type": "execute_result"
    }
   ],
   "source": [
    "# Pure DFS (prefix + suffix)\n",
    "d = set(words)\n",
    "def dfs(word):\n",
    "    for i in range(1, len(word)):\n",
    "        prefix, suffix = word[:i], word[i:]\n",
    "        if prefix in d and suffix in d:\n",
    "            return True\n",
    "        if prefix in d and dfs(suffix):\n",
    "            return True\n",
    "    return False\n",
    "[word for word in words if dfs(word)]"
   ]
  },
  {
   "cell_type": "code",
   "execution_count": 25,
   "metadata": {},
   "outputs": [
    {
     "data": {
      "text/plain": [
       "['catsdogcats', 'dogcatsdog', 'ratcatdogcat']"
      ]
     },
     "execution_count": 25,
     "metadata": {},
     "output_type": "execute_result"
    }
   ],
   "source": [
    "# DP\n",
    "s = set(words)\n",
    "dic = {}\n",
    "def dfs(word):\n",
    "    if word in dic:\n",
    "        return dic[word]\n",
    "    for i in range(1, len(word)):\n",
    "        if word[:i] not in s:\n",
    "            continue\n",
    "        r = word[i:]\n",
    "        if r in s or dfs(r):\n",
    "            dic[word] = True\n",
    "            return True\n",
    "    dic[word] = False\n",
    "    return False\n",
    "[word for word in words if dfs(word)]"
   ]
  },
  {
   "cell_type": "markdown",
   "metadata": {},
   "source": [
    "### 1137. N-th Tribonacci Number\n",
    "The Tribonacci sequence Tn is defined as follows: \n",
    "\n",
    "T0 = 0, T1 = 1, T2 = 1, and Tn+3 = Tn + Tn+1 + Tn+2 for n >= 0.\n",
    "\n",
    "Given n, return the value of Tn."
   ]
  },
  {
   "cell_type": "code",
   "execution_count": 70,
   "metadata": {},
   "outputs": [],
   "source": [
    "n = 25"
   ]
  },
  {
   "cell_type": "code",
   "execution_count": 71,
   "metadata": {},
   "outputs": [
    {
     "data": {
      "text/plain": [
       "1389537"
      ]
     },
     "execution_count": 71,
     "metadata": {},
     "output_type": "execute_result"
    }
   ],
   "source": [
    "# DP\n",
    "def tribonacci(n):\n",
    "    if n == 0:\n",
    "        return 0\n",
    "    if n == 1 or n == 2:\n",
    "        return 1\n",
    "    dp = [[] for _ in range(n+1)]\n",
    "    dp[0], dp[1], dp[2] = 0, 1, 1\n",
    "    for i in range(3, n+1):\n",
    "        dp[i] = dp[i-1] + dp[i-2] + dp[i-3]\n",
    "    return dp[-1]\n",
    "\n",
    "tribonacci(n)"
   ]
  },
  {
   "cell_type": "code",
   "execution_count": 72,
   "metadata": {},
   "outputs": [
    {
     "data": {
      "text/plain": [
       "1389537"
      ]
     },
     "execution_count": 72,
     "metadata": {},
     "output_type": "execute_result"
    }
   ],
   "source": [
    "# recursion\n",
    "def tribonacci(n):\n",
    "    if n == 0:\n",
    "        return 0\n",
    "    if n == 1 or n == 2:\n",
    "        return 1\n",
    "    return tribonacci(n-1) + tribonacci(n-2) + tribonacci(n-3)\n",
    "tribonacci(n)"
   ]
  },
  {
   "cell_type": "code",
   "execution_count": 73,
   "metadata": {},
   "outputs": [
    {
     "data": {
      "text/plain": [
       "1389537"
      ]
     },
     "execution_count": 73,
     "metadata": {},
     "output_type": "execute_result"
    }
   ],
   "source": [
    "# space O(1)\n",
    "def tribonacci(n):\n",
    "    res = [0, 1, 1]\n",
    "    if n <= 2:\n",
    "        return res[n]\n",
    "    for i in range(3, n+1):\n",
    "        res.append(sum(res))\n",
    "        res.pop(0)\n",
    "    return res[-1]\n",
    "tribonacci(n)"
   ]
  },
  {
   "cell_type": "code",
   "execution_count": 74,
   "metadata": {},
   "outputs": [
    {
     "data": {
      "text/plain": [
       "1389537"
      ]
     },
     "execution_count": 74,
     "metadata": {},
     "output_type": "execute_result"
    }
   ],
   "source": [
    "# matrix\n",
    "import numpy as np\n",
    "def tribonacci(n):\n",
    "    if n == 0:\n",
    "        return 0\n",
    "    if n == 1 or n == 2:\n",
    "        return 1\n",
    "    t = np.matrix([[0], [1], [1]]) # first three tribonacci num\n",
    "    M = np.matrix([[0, 1, 0], \n",
    "                   [0, 0, 1], \n",
    "                  [1, 1, 1]])\n",
    "    return (M ** (n-2) * t)[-1, 0] # time compexity of matrix multiplication in numpy is O(logN)\n",
    "tribonacci(n)"
   ]
  },
  {
   "cell_type": "markdown",
   "metadata": {},
   "source": [
    "### 1626. Best Team With No Conflicts\n",
    "You are the manager of a basketball team. For the upcoming tournament, you want to choose the team with the highest overall score. The score of the team is the sum of scores of all the players in the team.\n",
    "\n",
    "However, the basketball team is not allowed to have conflicts. A conflict exists if a younger player has a strictly higher score than an older player. A conflict does not occur between players of the same age.\n",
    "\n",
    "Given two lists, scores and ages, where each scores[i] and ages[i] represents the score and age of the ith player, respectively, return the highest overall score of all possible basketball teams."
   ]
  },
  {
   "cell_type": "code",
   "execution_count": 156,
   "metadata": {},
   "outputs": [],
   "source": [
    "scores = [1,2,5,7,2,1,2]\n",
    "ages = [8,8,10,1,2,3,11]"
   ]
  },
  {
   "cell_type": "code",
   "execution_count": 157,
   "metadata": {},
   "outputs": [
    {
     "name": "stdout",
     "output_type": "stream",
     "text": [
      "[(1, 7), (2, 2), (3, 1), (8, 1), (8, 2), (10, 5), (11, 2)]\n",
      "[7, 2, 1, 2, 4, 9, 6]\n"
     ]
    },
    {
     "data": {
      "text/plain": [
       "9"
      ]
     },
     "execution_count": 157,
     "metadata": {},
     "output_type": "execute_result"
    }
   ],
   "source": [
    "# DP + sorting, time O(n ** 2), space O(n)\n",
    "hsh = []\n",
    "for a, s in zip(ages, scores):\n",
    "    hsh.append((a,s))\n",
    "hsh.sort()\n",
    "print(hsh)\n",
    "dp = [[] for _ in range(len(ages))] # max score when the i-th player is included in the [:i] players\n",
    "for i in range(len(ages)):\n",
    "    dp[i] = hsh[i][1]\n",
    "    for j in range(i):\n",
    "        if hsh[j][1] <= hsh[i][1]:\n",
    "            dp[i] = max(dp[i], dp[j] + hsh[i][1]) # add hsh[i][1] to max(dp[:i])\n",
    "print(dp)\n",
    "max(dp)"
   ]
  },
  {
   "cell_type": "code",
   "execution_count": 158,
   "metadata": {},
   "outputs": [
    {
     "data": {
      "text/plain": [
       "[0, 7, 2, 1, 0, 0, 0, 0, 4, 0, 9, 6]"
      ]
     },
     "execution_count": 158,
     "metadata": {},
     "output_type": "execute_result"
    }
   ],
   "source": [
    "# DP method 2 time O(n ** 2)\n",
    "dp = [0] * (max(ages) + 1)\n",
    "hsh = sorted(zip(scores, ages))\n",
    "for s, a in hsh:\n",
    "    dp[a] = s + max(dp[:a+1])\n",
    "dp"
   ]
  },
  {
   "cell_type": "markdown",
   "metadata": {},
   "source": [
    "### 45. Jump Game II\n",
    "You are given a 0-indexed array of integers nums of length n. You are initially positioned at nums[0].\n",
    "\n",
    "Each element nums[i] represents the maximum length of a forward jump from index i. In other words, if you are at nums[i], you can jump to any nums[i + j] where:\n",
    "\n",
    "1. 0 <= j <= nums[i] and\n",
    "2. i + j < n\n",
    "\n",
    "Return the minimum number of jumps to reach nums[n - 1]. The test cases are generated such that you can reach nums[n - 1]."
   ]
  },
  {
   "cell_type": "code",
   "execution_count": 16,
   "metadata": {},
   "outputs": [],
   "source": [
    "nums = [2,3,1,1,4]"
   ]
  },
  {
   "cell_type": "code",
   "execution_count": 17,
   "metadata": {},
   "outputs": [
    {
     "name": "stdout",
     "output_type": "stream",
     "text": [
      "[2, 1, 2, 1, 0]\n"
     ]
    },
    {
     "data": {
      "text/plain": [
       "2"
      ]
     },
     "execution_count": 17,
     "metadata": {},
     "output_type": "execute_result"
    }
   ],
   "source": [
    "# DP\n",
    "def jump(nums):\n",
    "    dp = [float('inf') for _ in range(len(nums))] # min step start from i to n-1\n",
    "    dp[-1] = 0\n",
    "    for i in range(len(nums)-2, -1, -1):\n",
    "        dp[i] = 1 + min(dp[i: min(i+nums[i]+1, len(nums))])\n",
    "    print(dp)\n",
    "    return dp[0]\n",
    "jump(nums)"
   ]
  },
  {
   "cell_type": "code",
   "execution_count": 19,
   "metadata": {},
   "outputs": [
    {
     "name": "stdout",
     "output_type": "stream",
     "text": [
      "[0, 1, 1, 2, 2]\n"
     ]
    },
    {
     "data": {
      "text/plain": [
       "2"
      ]
     },
     "execution_count": 19,
     "metadata": {},
     "output_type": "execute_result"
    }
   ],
   "source": [
    "# DP method 2\n",
    "def jump(nums):\n",
    "    if len(nums) == 1:\n",
    "        return 0\n",
    "    dp = [0] * len(nums) # min steps to reach i\n",
    "    j = 0 \n",
    "    for i in range(1, len(nums)):\n",
    "        # find the nearest j that can reach i\n",
    "        while j + nums[j] < i:\n",
    "            j += 1\n",
    "        dp[i] = dp[j] + 1\n",
    "    print(dp)\n",
    "    return dp[-1]\n",
    "jump(nums)"
   ]
  },
  {
   "cell_type": "code",
   "execution_count": 26,
   "metadata": {},
   "outputs": [
    {
     "name": "stdout",
     "output_type": "stream",
     "text": [
      "i: 0 | num: 2 | reachableIdx: 2 | prevReachableIdx: 2 | res: 1\n",
      "i: 1 | num: 3 | reachableIdx: 4 | prevReachableIdx: 2 | res: 1\n"
     ]
    },
    {
     "data": {
      "text/plain": [
       "2"
      ]
     },
     "execution_count": 26,
     "metadata": {},
     "output_type": "execute_result"
    }
   ],
   "source": [
    "# Greedy, time O(n), space O(1)\n",
    "def jump(nums):\n",
    "    if len(nums) == 1:\n",
    "        return 0\n",
    "    reachableIdx, prevReachableIdx, res = 0, 0, 0\n",
    "    for i, num in enumerate(nums):\n",
    "        if i + num >= reachableIdx:\n",
    "            reachableIdx = i + num\n",
    "        if i == prevReachableIdx:\n",
    "            res += 1\n",
    "            prevReachableIdx = reachableIdx\n",
    "            if prevReachableIdx == len(nums) - 1:\n",
    "                return res\n",
    "        print(\"i:\",i,\"|\",\"num:\",num,\"|\",\"reachableIdx:\",reachableIdx,\"|\",\"prevReachableIdx:\",prevReachableIdx,\"|\",\"res:\",res)\n",
    "jump(nums)"
   ]
  },
  {
   "cell_type": "markdown",
   "metadata": {},
   "source": [
    "### 1162. As Far from Land as Possible\n",
    "Given an n x n grid containing only values 0 and 1, where 0 represents water and 1 represents land, find a water cell such that its distance to the nearest land cell is maximized, and return the distance. If no land or water exists in the grid, return -1.\n",
    "\n",
    "The distance used in this problem is the Manhattan distance: the distance between two cells (x0, y0) and (x1, y1) is |x0 - x1| + |y0 - y1|."
   ]
  },
  {
   "cell_type": "markdown",
   "metadata": {},
   "source": [
    "Example 1:<br>\n",
    "<img src=\"https://assets.leetcode.com/uploads/2019/05/03/1336_ex1.JPG\" width=\"200\">\n",
    "Input: grid = [[1,0,1],[0,0,0],[1,0,1]] <br>\n",
    "Output: 2<br>\n",
    "Explanation: The cell (1, 1) is as far as possible from all the land with distance 2."
   ]
  },
  {
   "cell_type": "markdown",
   "metadata": {},
   "source": [
    "Hint:\n",
    "<img src=\"https://leetcode.com/problems/as-far-from-land-as-possible/solutions/3043174/Figures/1162/1162A.png\" width=512>"
   ]
  },
  {
   "cell_type": "code",
   "execution_count": 52,
   "metadata": {},
   "outputs": [
    {
     "name": "stdout",
     "output_type": "stream",
     "text": [
      "[[1, 1, 1], [1, 1, 1], [1, 1, 1]]\n"
     ]
    },
    {
     "data": {
      "text/plain": [
       "2"
      ]
     },
     "execution_count": 52,
     "metadata": {},
     "output_type": "execute_result"
    }
   ],
   "source": [
    "grid = [[1,0,1],[0,0,0],[1,0,1]]\n",
    "def maxDistance(grid):\n",
    "    import copy\n",
    "    import numpy as np\n",
    "    n, m = len(grid), len(grid[0])\n",
    "    dp = copy.deepcopy(grid)\n",
    "    dist = 0\n",
    "    if not np.any(grid):\n",
    "        return -1\n",
    "    if np.all(grid):\n",
    "        retunr -1\n",
    "    while not np.all(dp):\n",
    "        dist += 1\n",
    "        dp_tmp = copy.deepcopy(dp)\n",
    "        for i in range(n):\n",
    "            for j in range(m):\n",
    "                if dp[i][j] == 1:\n",
    "                    for k,l in [(i-1, j), (i+1, j), (i, j-1), (i, j+1)]:\n",
    "                        if 0<=k<n and 0<=l<m:\n",
    "                            dp_tmp[k][l] = 1\n",
    "        dp = copy.deepcopy(dp_tmp)\n",
    "    print(dp)\n",
    "    return dist\n",
    "maxDistance(grid)"
   ]
  },
  {
   "cell_type": "code",
   "execution_count": 67,
   "metadata": {},
   "outputs": [
    {
     "name": "stdout",
     "output_type": "stream",
     "text": [
      "deque([(0, 0), (1, 0), (2, 0), (3, 3)]) 1\n",
      "deque([(0, 1), (1, 1), (3, 0), (2, 1), (2, 3), (3, 2)]) 2\n",
      "deque([(0, 2), (1, 2), (3, 1), (2, 2), (1, 3)]) 3\n",
      "deque([(0, 3)]) 4\n",
      "[[1, 1, 2, 3], [1, 1, 2, 2], [1, 1, 2, 1], [1, 2, 1, 1]]\n"
     ]
    },
    {
     "data": {
      "text/plain": [
       "3"
      ]
     },
     "execution_count": 67,
     "metadata": {},
     "output_type": "execute_result"
    }
   ],
   "source": [
    "# BFS, time O(n^2)\n",
    "grid = [[1,0,0,0],[1,0,0,0],[1,0,0,0],[0,0,0,1]]\n",
    "def maxDistance(grid):\n",
    "    from collections import deque\n",
    "    n = len(grid)\n",
    "    q = deque()\n",
    "    for i in range(n):\n",
    "        for j in range(n):\n",
    "            if grid[i][j] == 1:\n",
    "                q.append((i, j))\n",
    "    if not q or len(q) == n*n: # no 'land' or no 'water'\n",
    "        return -1\n",
    "    res = 0\n",
    "    while q:\n",
    "        size = len(q)\n",
    "        res += 1\n",
    "        print(q, res)\n",
    "        while size:\n",
    "            size -= 1\n",
    "            i, j = q.popleft()\n",
    "            for k, l in [(i-1, j), (i+1, j), (i, j-1), (i, j+1)]:\n",
    "                if 0<=k<n and 0<=l<n and grid[k][l] == 0:\n",
    "                    grid[k][l] = res\n",
    "                    q.append((k, l))\n",
    "    print(grid)\n",
    "    return res-1\n",
    "maxDistance(grid)"
   ]
  },
  {
   "cell_type": "code",
   "execution_count": 69,
   "metadata": {},
   "outputs": [
    {
     "name": "stdout",
     "output_type": "stream",
     "text": [
      "[[0, 1, 2, 3], [0, 1, 2, 3], [0, 1, 2, 3], [1, 2, 3, 0]]\n",
      "[[0, 1, 2, 3], [0, 1, 2, 2], [0, 1, 2, 1], [1, 2, 1, 0]]\n"
     ]
    },
    {
     "data": {
      "text/plain": [
       "3"
      ]
     },
     "execution_count": 69,
     "metadata": {},
     "output_type": "execute_result"
    }
   ],
   "source": [
    "# DP, time O(n^2)\n",
    "grid = [[1,0,0,0],[1,0,0,0],[1,0,0,0],[0,0,0,1]]\n",
    "def maxDistance(grid):\n",
    "    n = len(grid)\n",
    "    dp = [[0] * n for _ in range(n)] # min distance from current location to a land\n",
    "    # from top left to bottom right, dp[i][j] = min(dp[i-1][j], dp[i][j-1])+1, set dp[k][l] to inf when k or l is out of boaders\n",
    "    for i in range(n):\n",
    "        for j in range(n):\n",
    "            if grid[i][j] == 0:\n",
    "                top = dp[i-1][j] if i else float('inf')\n",
    "                left = dp[i][j-1] if j else float('inf')\n",
    "                dp[i][j] = min(top, left) + 1\n",
    "    print(dp)\n",
    "    # from bottom right to top left, dp[i][j] = min(dp[i+1][j]+1, dp[i][j+1]+1, dp[i][j])\n",
    "    # set dp[k][l] to inf when k or l is out of boaders\n",
    "    for i in range(n-1, -1, -1):\n",
    "        for j in range(n-1, -1, -1):\n",
    "            if grid[i][j] == 0:\n",
    "                bottom = dp[i+1][j] if i+1 < n else float('inf')\n",
    "                right = dp[i][j+1] if j+1 < n else float('inf')\n",
    "                dp[i][j] = min(dp[i][j], bottom+1, right+1)\n",
    "    print(dp)\n",
    "    res = max(max(row) for row in dp)\n",
    "    return -1 if res in (0, float('inf')) else res\n",
    "maxDistance(grid)"
   ]
  },
  {
   "cell_type": "markdown",
   "metadata": {},
   "source": [
    "### 72. Edit Distance\n",
    "Given two strings word1 and word2, return the minimum number of operations required to convert word1 to word2.\n",
    "\n",
    "You have the following three operations permitted on a word:\n",
    "\n",
    "- Insert a character\n",
    "- Delete a character\n",
    "- Replace a character\n",
    "\n",
    "#### Example 1:\n",
    "Input: word1 = \"horse\", word2 = \"ros\"<br>\n",
    "Output: 3<br>\n",
    "Explanation: <br>\n",
    "horse -> rorse (replace 'h' with 'r')<br>\n",
    "rorse -> rose (remove 'r')<br>\n",
    "rose -> ros (remove 'e')"
   ]
  },
  {
   "cell_type": "markdown",
   "metadata": {},
   "source": [
    "<img src='https://i.ibb.co/d61gvvm/IMG-0033.jpg' width='400'>"
   ]
  },
  {
   "cell_type": "code",
   "execution_count": 11,
   "metadata": {},
   "outputs": [
    {
     "name": "stdout",
     "output_type": "stream",
     "text": [
      "[[0, 1, 2, 3, 4, 5, 6, 7, 8, 9], [1, 1, 2, 3, 3, 4, 5, 6, 7, 8], [2, 2, 2, 3, 4, 4, 5, 6, 7, 8], [3, 3, 3, 3, 3, 4, 5, 6, 7, 8], [4, 4, 4, 4, 4, 4, 5, 6, 7, 8], [5, 5, 5, 5, 5, 5, 5, 6, 7, 8], [6, 6, 6, 5, 6, 6, 5, 6, 7, 8], [7, 6, 7, 6, 6, 7, 6, 5, 6, 7], [8, 7, 7, 7, 7, 7, 7, 6, 5, 6], [9, 8, 7, 8, 8, 7, 8, 7, 6, 5]]\n"
     ]
    },
    {
     "data": {
      "text/plain": [
       "5"
      ]
     },
     "execution_count": 11,
     "metadata": {},
     "output_type": "execute_result"
    }
   ],
   "source": [
    "# word1 = \"horse\"\n",
    "# word2 = \"ros\"\n",
    "word1 = \"intention\"\n",
    "word2 = \"execution\"\n",
    "# DP time O(nm), space O(nm)\n",
    "def minDistance(word1, word2):\n",
    "    n, m = len(word1)+1, len(word2)+1\n",
    "    dp = [[0]*n for _ in range(m)]\n",
    "    for i in range(n):\n",
    "        dp[0][i] = i\n",
    "    for i in range(m):\n",
    "        dp[i][0] = i\n",
    "    for i in range(1, m):\n",
    "        for j in range(1, n):\n",
    "            if word2[i-1] != word1[j-1]:\n",
    "                # need an operation:\n",
    "                # dp[i-1][j-1]: replace word1[j-1] with word2[i-1]\n",
    "                # dp[i-1][j]: add word2[i-1] to adjusted word1[:j]\n",
    "                # dp[i][j-1]: delete word1[j]\n",
    "                dp[i][j] = min(dp[i-1][j-1], dp[i][j-1], dp[i-1][j]) + 1\n",
    "            else:\n",
    "                dp[i][j] = dp[i-1][j-1] # word2[i-1] == word1[j-1], no operation needed\n",
    "    print(dp)\n",
    "    return dp[-1][-1]\n",
    "\n",
    "minDistance(word1, word2)"
   ]
  },
  {
   "cell_type": "markdown",
   "metadata": {},
   "source": [
    "### 64. Minimum Path Sum\n",
    "Given a m x n grid filled with non-negative numbers, find a path from top left to bottom right, which minimizes the sum of all numbers along its path.\n",
    "\n",
    "Note: You can only move either down or right at any point in time.\n",
    "\n",
    "#### Example 1:\n",
    "<img src='https://assets.leetcode.com/uploads/2020/11/05/minpath.jpg' width=160>\n",
    "Input: grid = [[1,3,1],[1,5,1],[4,2,1]]<br>\n",
    "Output: 7<br>\n",
    "Explanation: Because the path 1 → 3 → 1 → 1 → 1 minimizes the sum."
   ]
  },
  {
   "cell_type": "code",
   "execution_count": 4,
   "metadata": {},
   "outputs": [
    {
     "name": "stdout",
     "output_type": "stream",
     "text": [
      "[[1, 4, 5], [2, 7, 6], [6, 8, 7]]\n"
     ]
    },
    {
     "data": {
      "text/plain": [
       "7"
      ]
     },
     "execution_count": 4,
     "metadata": {},
     "output_type": "execute_result"
    }
   ],
   "source": [
    "grid = [[1,3,1],[1,5,1],[4,2,1]]\n",
    "# DP, time O(nm), space O(1)\n",
    "# to reach point (i, j), you have to reach either (i-1, j) or (i, j-1)\n",
    "# so let grid[i][j] += min(grid[i-1][j], grid[i][j-1])\n",
    "def minPathSum(grid): \n",
    "    n, m = len(grid), len(grid[0])\n",
    "    def inside(x, y):\n",
    "        return 0<=x<n and 0<=y<m\n",
    "    for i in range(n):\n",
    "        for j in range(m):\n",
    "            if inside(i-1, j) and inside(i, j-1):\n",
    "                grid[i][j] += min(grid[i-1][j], grid[i][j-1])\n",
    "            elif inside(i-1, j):\n",
    "                grid[i][j] += grid[i-1][j]\n",
    "            elif inside(i, j-1):\n",
    "                grid[i][j] += grid[i][j-1]\n",
    "    print(grid)\n",
    "    return grid[-1][-1]\n",
    "\n",
    "minPathSum(grid)"
   ]
  },
  {
   "cell_type": "code",
   "execution_count": 5,
   "metadata": {},
   "outputs": [
    {
     "data": {
      "text/plain": [
       "7"
      ]
     },
     "execution_count": 5,
     "metadata": {},
     "output_type": "execute_result"
    }
   ],
   "source": [
    "def minPathSum(grid): \n",
    "    n, m = len(grid), len(grid[0])\n",
    "    for i in range(1, n):\n",
    "        grid[i][0] += grid[i-1][0]\n",
    "    for j in range(1, m):\n",
    "        grid[0][j] += grid[0][j-1]\n",
    "    for i in range(1, n):\n",
    "        for j in range(1, m):\n",
    "            grid[i][j] += min(grid[i-1][j], grid[i][j-1])\n",
    "    return grid[-1][-1]\n",
    "grid = [[1,3,1],[1,5,1],[4,2,1]]\n",
    "minPathSum(grid)"
   ]
  },
  {
   "cell_type": "code",
   "execution_count": 11,
   "metadata": {},
   "outputs": [
    {
     "name": "stdout",
     "output_type": "stream",
     "text": [
      "[1, 2, 6]\n",
      "[4, 7, 8]\n",
      "[5, 6, 7]\n"
     ]
    },
    {
     "data": {
      "text/plain": [
       "7"
      ]
     },
     "execution_count": 11,
     "metadata": {},
     "output_type": "execute_result"
    }
   ],
   "source": [
    "def minPathSum(grid): # space O(n), without modifying the original grid\n",
    "    n, m = len(grid), len(grid[0])\n",
    "    dp = [grid[0][0]] * n\n",
    "    for i in range(1, n):\n",
    "        dp[i] = dp[i-1] + grid[i][0]\n",
    "    print(dp)\n",
    "    for j in range(1, m):\n",
    "        dp[0] += grid[0][j]\n",
    "        for i in range(1, n):\n",
    "            dp[i] = min(dp[i], dp[i-1]) + grid[i][j]\n",
    "        print(dp)\n",
    "    return dp[-1]\n",
    "\n",
    "grid = [[1,3,1],[1,5,1],[4,2,1]]\n",
    "minPathSum(grid)"
   ]
  },
  {
   "cell_type": "markdown",
   "metadata": {},
   "source": [
    "### 983. Minimum Cost For Tickets\n",
    "You have planned some train traveling one year in advance. The days of the year in which you will travel are given as an integer array days. Each day is an integer from 1 to 365.\n",
    "\n",
    "Train tickets are sold in three different ways:\n",
    "\n",
    "- a 1-day pass is sold for costs[0] dollars,\n",
    "- a 7-day pass is sold for costs[1] dollars, and\n",
    "- a 30-day pass is sold for costs[2] dollars.\n",
    "The passes allow that many days of consecutive travel.\n",
    "\n",
    "- For example, if we get a 7-day pass on day 2, then we can travel for 7 days: 2, 3, 4, 5, 6, 7, and 8.\n",
    "Return the minimum number of dollars you need to travel every day in the given list of days.\n",
    "\n",
    "#### Example 1:\n",
    "Input: days = [1,2,3,4,5,6,7,8,9,10,30,31], costs = [2,7,15] <br>\n",
    "Output: 17 <br>\n",
    "Explanation: For example, here is one way to buy passes that lets you travel your travel plan: <br>\n",
    "On day 1, you bought a 30-day pass for costs[2] = \\\\$15 which covered days 1, 2, ..., 30. <br>\n",
    "On day 31, you bought a 1-day pass for costs[0] = \\\\$2 which covered day 31. <br>\n",
    "In total, you spent \\\\$17 and covered all the days of your travel."
   ]
  },
  {
   "cell_type": "code",
   "execution_count": 15,
   "metadata": {},
   "outputs": [
    {
     "data": {
      "text/plain": [
       "17"
      ]
     },
     "execution_count": 15,
     "metadata": {},
     "output_type": "execute_result"
    }
   ],
   "source": [
    "days = [1,2,3,4,5,6,7,8,9,10,30,31]\n",
    "costs = [2,7,15]\n",
    "# DP, create a dp list for 356 days (with size of 366 considering 0-index)\n",
    "# for day i, if we don't travel, dp[i] = dp[i-1]\n",
    "# if we travel, dp[i] = min(dp[i-1]+costs[0], dp[i-7]+costs[1], dp[i-30]+costs[2])\n",
    "# Time O(n+365) (n=len(days)), space O(1) (constant)\n",
    "def minCostTickets(days, costs):\n",
    "    dp = [float('inf')] * 366\n",
    "    dp[0] = 0\n",
    "    travel_day_idx = 0\n",
    "    for day in range(1, 366): # iterate from day 1 to day 365\n",
    "        if travel_day_idx < len(days) and day == days[travel_day_idx]: # if we travel on that day\n",
    "            dp[day] = min(dp[day], dp[day-1]+costs[0]) # if day is covered by previous x-day pass or not\n",
    "            if day >= 7:\n",
    "                dp[day] = min(dp[day], dp[day-7]+costs[1]) # if day >= 7, check if it is cheaper to buy a 1-day pass at day-7\n",
    "            else:\n",
    "                dp[day] = min(dp[day], costs[1]) # else check if it is cheaper to buy a 7-day pass now\n",
    "            if day >- 30:\n",
    "                dp[day] = min(dp[day], dp[day-30]+costs[2])\n",
    "            else:\n",
    "                dp[day] = min(dp[day], costs[2])\n",
    "            travel_day_idx += 1\n",
    "        else:\n",
    "            dp[day] = dp[day-1]\n",
    "    return dp[-1]\n",
    "\n",
    "minCostTickets(days, costs)"
   ]
  },
  {
   "cell_type": "code",
   "execution_count": 17,
   "metadata": {},
   "outputs": [
    {
     "data": {
      "text/plain": [
       "17"
      ]
     },
     "execution_count": 17,
     "metadata": {},
     "output_type": "execute_result"
    }
   ],
   "source": [
    "# DP method 2\n",
    "def minCostTickets(days, costs):\n",
    "    from collections import deque\n",
    "    cost = 0\n",
    "    last7 = deque() # save the day and cost of the days that the 7-day pass valid till the cur day\n",
    "    last30 = deque() # save the day and cost of the days that the 30-day pass valid till the cur day\n",
    "    for day in days:\n",
    "        while last7 and last7[0][0] + 7 <= day: \n",
    "            last7.popleft() # pop out invalid tickets\n",
    "        while last30 and last30[0][0] + 30 <= day:\n",
    "            last30.popleft() # pop out invalid tickets\n",
    "        last7.append((day, cost+costs[1]))\n",
    "        last30.append((day, cost+costs[2]))\n",
    "#         print(last7, last30)\n",
    "        # compare the cost of 1. buy a 1-day pass; 2. buy a 7-day pass 7 days ago; 3. buy a 30-day pass 30 days ago\n",
    "        cost = min(cost+costs[0], last7[0][1], last30[0][1]) \n",
    "    return cost\n",
    "minCostTickets(days, costs)"
   ]
  },
  {
   "cell_type": "markdown",
   "metadata": {},
   "source": [
    "### 1402. Reducing Dishes\n",
    "A chef has collected data on the satisfaction level of his n dishes. Chef can cook any dish in 1 unit of time.\n",
    "\n",
    "Like-time coefficient of a dish is defined as the time taken to cook that dish including previous dishes multiplied by its satisfaction level i.e. time[i] * satisfaction[i].\n",
    "\n",
    "Return the maximum sum of like-time coefficient that the chef can obtain after dishes preparation.\n",
    "\n",
    "Dishes can be prepared in any order and the chef can discard some dishes to get this maximum value.\n",
    "\n",
    "#### Example 1:\n",
    "Input: satisfaction = [-1,-8,0,5,-9] <br>\n",
    "Output: 14 <br>\n",
    "Explanation: After Removing the second and last dish, the maximum total like-time coefficient will be equal to (-1\\*1 + 0\\*2 + 5\\*3 = 14). <br>\n",
    "Each dish is prepared in one unit of time."
   ]
  },
  {
   "cell_type": "code",
   "execution_count": 30,
   "metadata": {},
   "outputs": [
    {
     "name": "stdout",
     "output_type": "stream",
     "text": [
      "[-8, -7, -1, 0, 1, 15] -1 70\n",
      "[-7, -1, 0, 1, 15] -8 70\n",
      "[-1, 0, 1, 15] -7 62\n",
      "[0, 1, 15] -1 47\n"
     ]
    },
    {
     "data": {
      "text/plain": [
       "70"
      ]
     },
     "execution_count": 30,
     "metadata": {},
     "output_type": "execute_result"
    }
   ],
   "source": [
    "satisfaction = [-1,-8,0,15,1,-7]\n",
    "# brutal force, time (n**2), space O(1)\n",
    "def maxSatisfaction(satisfaction): \n",
    "    satisfaction.sort()\n",
    "    dish = -1\n",
    "    score = 0\n",
    "    while satisfaction and dish < 0:\n",
    "        score_tmp = 0\n",
    "        for i, s in enumerate(satisfaction):\n",
    "            score_tmp += (i+1) * s\n",
    "        score = max(score, score_tmp)\n",
    "        print(satisfaction, dish, score_tmp)\n",
    "        dish = satisfaction.pop(0)\n",
    "    return score\n",
    "        \n",
    "maxSatisfaction(satisfaction)"
   ]
  },
  {
   "cell_type": "code",
   "execution_count": 43,
   "metadata": {},
   "outputs": [
    {
     "name": "stdout",
     "output_type": "stream",
     "text": [
      "[0, 11, 0, 0, 0]\n",
      "[0, 11, 14, 0, 0]\n",
      "[0, 11, 14, 10, 0]\n"
     ]
    },
    {
     "data": {
      "text/plain": [
       "14"
      ]
     },
     "execution_count": 43,
     "metadata": {},
     "output_type": "execute_result"
    }
   ],
   "source": [
    "satisfaction = [-1,-8,0,5,-7]\n",
    "# DP, time O(n + nlogn), space O(n)\n",
    "def maxSatisfaction(satisfaction): \n",
    "    satisfaction.sort()\n",
    "    if satisfaction[-1] <= 0:\n",
    "        return 0\n",
    "    score = [0] * len(satisfaction)\n",
    "    for i, s in enumerate(satisfaction):\n",
    "        score[0] += (i+1) * s\n",
    "    i = 1\n",
    "    s = sum(satisfaction)\n",
    "    dish = satisfaction.pop(0)\n",
    "    max_score = score[0]\n",
    "    while satisfaction and dish < 0:\n",
    "        score[i] = score[i-1] - s\n",
    "        max_score = max(max_score, score[i])\n",
    "        s -= dish\n",
    "        i += 1\n",
    "        print(score)\n",
    "        dish = satisfaction.pop(0)\n",
    "    return max_score\n",
    "        \n",
    "maxSatisfaction(satisfaction)"
   ]
  },
  {
   "cell_type": "code",
   "execution_count": 45,
   "metadata": {},
   "outputs": [
    {
     "data": {
      "text/plain": [
       "14"
      ]
     },
     "execution_count": 45,
     "metadata": {},
     "output_type": "execute_result"
    }
   ],
   "source": [
    "satisfaction = [-1,-8,0,5,-7]\n",
    "# Greedy, time O(n + nlogn), space O(1)\n",
    "def maxSatisfaction(satisfaction): \n",
    "    satisfaction.sort(reverse=True)\n",
    "    n = len(satisfaction)\n",
    "    presum, res = 0, 0\n",
    "    for i in range(n):\n",
    "        presum += satisfaction[i]\n",
    "        if presum < 0:\n",
    "            break\n",
    "        res += presum\n",
    "    return res\n",
    "maxSatisfaction(satisfaction)"
   ]
  },
  {
   "cell_type": "code",
   "execution_count": 47,
   "metadata": {},
   "outputs": [
    {
     "name": "stdout",
     "output_type": "stream",
     "text": [
      "[5, 5, 4, -3, -11]\n"
     ]
    },
    {
     "data": {
      "text/plain": [
       "14"
      ]
     },
     "execution_count": 47,
     "metadata": {},
     "output_type": "execute_result"
    }
   ],
   "source": [
    "satisfaction = [-1,-8,0,5,-7]\n",
    "def maxSatisfaction(satisfaction):\n",
    "    from itertools import accumulate\n",
    "    s = list(accumulate(sorted(satisfaction, reverse=True)))\n",
    "    print(s)\n",
    "    return sum(n for n in s if n > 0)\n",
    "maxSatisfaction(satisfaction)"
   ]
  },
  {
   "cell_type": "markdown",
   "metadata": {},
   "source": [
    "### 87. Scramble String\n",
    "We can scramble a string s to get a string t using the following algorithm:\n",
    "\n",
    "If the length of the string is 1, stop.\n",
    "If the length of the string is > 1, do the following:\n",
    "Split the string into two non-empty substrings at a random index, i.e., if the string is s, divide it to x and y where s = x + y.\n",
    "Randomly decide to swap the two substrings or to keep them in the same order. i.e., after this step, s may become s = x + y or s = y + x.\n",
    "Apply step 1 recursively on each of the two substrings x and y.\n",
    "Given two strings s1 and s2 of the same length, return true if s2 is a scrambled string of s1, otherwise, return false.\n",
    "\n",
    "#### Example 1:\n",
    "**Input**: s1 = \"great\", s2 = \"rgeat\" <br>\n",
    "**Output**: true<br>\n",
    "**Explanation**: One possible scenario applied on s1 is:<br>\n",
    "- \"great\" --> \"gr/eat\" // divide at random index.\n",
    "- \"gr/eat\" --> \"gr/eat\" // random decision is not to swap the two substrings and keep them in order.\n",
    "- \"gr/eat\" --> \"g/r / e/at\" // apply the same algorithm recursively on both substrings. divide at random index each of them.\n",
    "- \"g/r / e/at\" --> \"r/g / e/at\" // random decision was to swap the first substring and to keep the second substring in the same order.\n",
    "- \"r/g / e/at\" --> \"r/g / e/ a/t\" // again apply the algorithm recursively, divide \"at\" to \"a/t\".\n",
    "- \"r/g / e/ a/t\" --> \"r/g / e/ a/t\" // random decision is to keep both substrings in the same order.<br>\n",
    "\n",
    "The algorithm stops now, and the result string is \"rgeat\" which is s2.<br>\n",
    "As one possible scenario led s1 to be scrambled to s2, we return true."
   ]
  },
  {
   "cell_type": "markdown",
   "metadata": {},
   "source": [
    "<img src='https://leetcode.com/problems/scramble-string/Figures/87/diagram.drawio.png' width=512>"
   ]
  },
  {
   "cell_type": "code",
   "execution_count": 64,
   "metadata": {},
   "outputs": [
    {
     "data": {
      "text/plain": [
       "True"
      ]
     },
     "execution_count": 64,
     "metadata": {},
     "output_type": "execute_result"
    }
   ],
   "source": [
    "# DP. \n",
    "# s: substring of s1 starting at index i with length of 'length'\n",
    "# t: substring of s2 starting at index j with length of 'length'\n",
    "# dp[length][i][j] is a boolean representing whether t is a scrambled version of s\n",
    "def isScramble(s1, s2):\n",
    "    n = len(s1)\n",
    "    if n == 1:\n",
    "        return s1 == s2\n",
    "    dp = [[[False for _ in range(n)] for _ in range(n)] for _ in range(n+1)]\n",
    "    for i in range(n):\n",
    "        for j in range(n):\n",
    "            dp[1][i][j] = (s1[i]==s2[j])\n",
    "    for length in range(2, n+1):\n",
    "        for i in range(n+1-length):\n",
    "            for j in range(n+1-length):\n",
    "                for newLength in range(1, length):\n",
    "                    dp[length][i][j] |= dp[newLength][i][j] and dp[length-newLength][i+newLength][j+newLength]\n",
    "                    dp[length][i][j] |= dp[newLength][i][j+length-newLength] and dp[length-newLength][i+newLength][j]\n",
    "    return dp[n][0][0]\n",
    "\n",
    "s1, s2 = \"abb\", \"bba\"\n",
    "isScramble(s1, s2)"
   ]
  },
  {
   "cell_type": "code",
   "execution_count": 3,
   "metadata": {},
   "outputs": [
    {
     "data": {
      "text/plain": [
       "True"
      ]
     },
     "execution_count": 3,
     "metadata": {},
     "output_type": "execute_result"
    }
   ],
   "source": [
    "# recursion + memoization (use an unordered map to store previous computational results)\n",
    "# argument: if two strings are scrambled versions of each others, \n",
    "# then they can be split into two non-empty substrings that are also scrambled versions of each others\n",
    "class Solution:\n",
    "    def __init__(self):\n",
    "        self.myMap = {}\n",
    "    def isScramble(self, s1, s2):\n",
    "        n = len(s1)\n",
    "        if s1 == s2:\n",
    "            return True\n",
    "        a, b, c = [0] * 26, [0] * 26, [0] * 26 # frequency counting for s1, s2 and current substring\n",
    "        # check if the current substrings have been calculated\n",
    "        if (s1 +  s2) in self.myMap:\n",
    "            return self.myMap[s1 + s2]\n",
    "        # check all possible splits for substrings\n",
    "        for i in range(1, n):\n",
    "            j = n - i\n",
    "            a[ord(s1[i-1]) - ord('a')] += 1\n",
    "            b[ord(s2[i-1]) - ord('a')] += 1\n",
    "            c[ord(s2[j]) - ord('a')] += 1\n",
    "            if a == b and self.isScramble(s1[:i], s2[:i]) and self.isScramble(s1[i:], s2[i:]):\n",
    "                self.myMap[s1 + s2] = True\n",
    "                return True\n",
    "            if a == c and self.isScramble(s1[:i], s2[j:]) and self.isScramble(s1[i:], s2[:j]):\n",
    "                self.myMap[s1 + s2] = True\n",
    "                return True\n",
    "        self.myMap[s1 + s2] = False\n",
    "        return False\n",
    "    \n",
    "s1, s2 = \"abb\", \"bba\"            \n",
    "res = Solution()\n",
    "res.isScramble(s1, s2)"
   ]
  },
  {
   "cell_type": "markdown",
   "metadata": {},
   "source": [
    "### 1444. Number of Ways of Cutting a Pizza\n",
    "Given a rectangular pizza represented as a rows x cols matrix containing the following characters: 'A' (an apple) and '.' (empty cell) and given the integer k. You have to cut the pizza into k pieces using k-1 cuts. \n",
    "\n",
    "For each cut you choose the direction: vertical or horizontal, then you choose a cut position at the cell boundary and cut the pizza into two pieces. If you cut the pizza vertically, give the left part of the pizza to a person. If you cut the pizza horizontally, give the upper part of the pizza to a person. Give the last piece of pizza to the last person.\n",
    "\n",
    "Return the number of ways of cutting the pizza such that each piece contains at least one apple. Since the answer can be a huge number, return this modulo 10^9 + 7.\n",
    "\n",
    "#### Example 1:\n",
    "<img src='https://assets.leetcode.com/uploads/2020/04/23/ways_to_cut_apple_1.png' width=512>\n",
    "\n",
    "**Input**: pizza = [\"A..\",\"AAA\",\"...\"], k = 3<br>\n",
    "**Output**: 3 <br>\n",
    "**Explanation**: The figure above shows the three ways to cut the pizza. Note that pieces must contain at least one apple."
   ]
  },
  {
   "cell_type": "code",
   "execution_count": 15,
   "metadata": {},
   "outputs": [
    {
     "data": {
      "text/plain": [
       "3"
      ]
     },
     "execution_count": 15,
     "metadata": {},
     "output_type": "execute_result"
    }
   ],
   "source": [
    "pizza, k = [\"A..\",\"AAA\",\"...\"], 3\n",
    "\n",
    "class Solution:\n",
    "    \n",
    "    def ways(self, pizza, k):\n",
    "        n, m = len(pizza), len(pizza[0])\n",
    "        preSum = [[0 for _ in range(m+1)] for _ in range(n+1)] # check if there are apples left in pizza[i:][j:]\n",
    "        for i in range(n-1, -1, -1):\n",
    "            for j in range(m-1, -1, -1):\n",
    "                preSum[i][j] = (pizza[i][j]=='A') + preSum[i+1][j] + preSum[i][j+1] - preSum[i+1][j+1]\n",
    "#         @lru_cache(None) # memorize previous recursion results to improve computational speed\n",
    "        def dp(kCur, row, col):\n",
    "            if preSum[row][col] == 0: # no apple left in pizza[row:][col:]\n",
    "                return 0\n",
    "            if kCur == 0: # no ppl left to share the rest of the pizza\n",
    "                return 1\n",
    "            res = 0\n",
    "            for r in range(row+1, n):\n",
    "                if preSum[row][col] - preSum[r][col] > 0:\n",
    "                    res = (res + dp(kCur-1, r, col)) % (10**9+7)\n",
    "            for c in range(col+1, m):\n",
    "                if preSum[row][col] - preSum[row][c] > 0:\n",
    "                    res = (res + dp(kCur-1, row, c)) % (10**9+7)\n",
    "            return res\n",
    "\n",
    "        return dp(k-1, 0, 0)\n",
    "\n",
    "res = Solution()\n",
    "res.ways(pizza, k)"
   ]
  },
  {
   "cell_type": "markdown",
   "metadata": {},
   "source": [
    "### 516. Longest Palindromic Subsequence\n",
    "Given a string s, find the longest palindromic subsequence's length in s.\n",
    "\n",
    "A subsequence is a sequence that can be derived from another sequence by deleting some or no elements without changing the order of the remaining elements.\n",
    "\n",
    "#### Example 1:\n",
    "**Input**: s = \"bbbab\" <br>\n",
    "**Output**: 4 <br>\n",
    "**Explanation**: One possible longest palindromic subsequence is \"bbbb\"."
   ]
  },
  {
   "cell_type": "code",
   "execution_count": 9,
   "metadata": {},
   "outputs": [
    {
     "name": "stdout",
     "output_type": "stream",
     "text": [
      "[[0, 0, 0, 0, 0, 0], [0, 1, 1, 1, 1, 1], [0, 1, 1, 2, 2, 2], [0, 1, 1, 2, 3, 3], [0, 1, 2, 2, 3, 3], [0, 1, 2, 3, 3, 4]]\n"
     ]
    },
    {
     "data": {
      "text/plain": [
       "4"
      ]
     },
     "execution_count": 9,
     "metadata": {},
     "output_type": "execute_result"
    }
   ],
   "source": [
    "s = 'bbbab'\n",
    "# equivalent to find longest common subsequence of s and s-reverse\n",
    "# dp, time O(n^2), space O(n^2)\n",
    "def longestPalindromeSubseq(s):\n",
    "    s2 = s[::-1]\n",
    "    dp = [[0]*(len(s)+1) for _ in range(len(s)+1)]\n",
    "    for i in range(1, len(s)+1):\n",
    "        for j in range(1, len(s)+1):\n",
    "            if s[i-1] == s2[j-1]:\n",
    "                dp[i][j] = dp[i-1][j-1] + 1\n",
    "            else:\n",
    "                dp[i][j] = max(dp[i-1][j], dp[i][j-1])\n",
    "    print(dp)\n",
    "    return dp[-1][-1]\n",
    "\n",
    "longestPalindromeSubseq(s)"
   ]
  },
  {
   "cell_type": "code",
   "execution_count": 10,
   "metadata": {},
   "outputs": [
    {
     "name": "stdout",
     "output_type": "stream",
     "text": [
      "[0, 0, 0, 0, 1]\n",
      "[0, 0, 0, 1, 1]\n",
      "[0, 0, 1, 1, 3]\n",
      "[0, 1, 2, 2, 3]\n",
      "[1, 2, 3, 3, 4]\n"
     ]
    },
    {
     "data": {
      "text/plain": [
       "4"
      ]
     },
     "execution_count": 10,
     "metadata": {},
     "output_type": "execute_result"
    }
   ],
   "source": [
    "# dp bottom up, space O(n)\n",
    "def longestPalindromeSubseq(s):\n",
    "    n = len(s)\n",
    "    dp = [0] * n # define dp[i][j] (use newdp to store j) as the length of the longest palindromic subsequence in substring s[i:j+1]\n",
    "    for i in range(n-1, -1, -1):\n",
    "        newdp = [0] * n\n",
    "        newdp[i] = 1\n",
    "        for j in range(i+1, n):\n",
    "            if s[i] == s[j]:\n",
    "                # add two elements (s[i] and s[j]) to the cur palindromic sequence\n",
    "                newdp[j] = 2 + dp[j-1] # equivalent to dp[i][j] = 2 + dp[i-1][j-1] (dp is dp[i-1], newdp is dp[i])\n",
    "            else:\n",
    "                newdp[j] = max(dp[j], newdp[j-1]) # eq to dp[i][j] = max(dp[i-1][j], dp[i][j-1])\n",
    "        dp = newdp\n",
    "        print(dp)\n",
    "    return dp[-1]\n",
    "\n",
    "longestPalindromeSubseq(s)  "
   ]
  },
  {
   "cell_type": "code",
   "execution_count": 13,
   "metadata": {},
   "outputs": [
    {
     "data": {
      "text/plain": [
       "4"
      ]
     },
     "execution_count": 13,
     "metadata": {},
     "output_type": "execute_result"
    }
   ],
   "source": [
    "# recursive DP\n",
    "def longestPalindromeSubseq(s):\n",
    "    def dp(i, j): # define dp(i, j) as the length of the longest palindromic subsequence in s[i:j+1]\n",
    "        if i == j:\n",
    "            return 1\n",
    "        elif i > j:\n",
    "            return 0\n",
    "        if s[i] == s[j]:\n",
    "            return 2 + dp(i+1, j-1)\n",
    "        else:\n",
    "            return max(dp(i+1, j), dp(i, j-1))\n",
    "    s = list(s)\n",
    "    return dp(0, len(s) - 1)\n",
    "longestPalindromeSubseq(s) "
   ]
  },
  {
   "cell_type": "markdown",
   "metadata": {},
   "source": [
    "### 2218. Maximum Value of K Coins From Piles\n",
    "There are n piles of coins on a table. Each pile consists of a positive number of coins of assorted denominations.\n",
    "\n",
    "In one move, you can choose any coin on top of any pile, remove it, and add it to your wallet.\n",
    "\n",
    "Given a list piles, where piles[i] is a list of integers denoting the composition of the ith pile from top to bottom, and a positive integer k, return the maximum total value of coins you can have in your wallet if you choose exactly k coins optimally.\n",
    "\n",
    "#### Example 1:\n",
    "<img src='https://assets.leetcode.com/uploads/2019/11/09/e1.png' width=400>\n",
    "\n",
    "**Input**: piles = [[1,100,3],[7,8,9]], k = 2 <br>\n",
    "**Output**: 101 <br>\n",
    "**Explanation**: <br>\n",
    "The above diagram shows the different ways we can choose k coins. <br>\n",
    "The maximum total we can obtain is 101."
   ]
  },
  {
   "cell_type": "code",
   "execution_count": 20,
   "metadata": {},
   "outputs": [
    {
     "data": {
      "text/plain": [
       "101"
      ]
     },
     "execution_count": 20,
     "metadata": {},
     "output_type": "execute_result"
    }
   ],
   "source": [
    "piles = [[1,100,3],[7,8,9]]\n",
    "k = 2\n",
    "# top down recursive DP, time O(M*K), space O(N*K), where M=piles[i].size(), 0<K<k, n=piles.size()\n",
    "def maxValueOfCoins(piles, k):\n",
    "    def _search(rest_k, pile_pos):\n",
    "        \"\"\" Search for best accumulated coin value starting from pile at position 'pile_pos',\n",
    "        Args:\n",
    "         - rest_k: The rest of coins we could pick\n",
    "         - pile_pos: The starting position of pile we are working on\n",
    "        \"\"\"\n",
    "        if rest_k == 0 or pile_pos == len(piles): \n",
    "            return 0\n",
    "        # scenario 1: not choosing any coins from the current pile and moving to the next pile\n",
    "        cur_mv_found = _search(rest_k, pile_pos+1)\n",
    "        # scenario 2: looking for solution with the current pile being involved\n",
    "        cur_pile = piles[pile_pos]\n",
    "        acc_coin_val = 0\n",
    "        for i in range(min(rest_k, len(cur_pile))):\n",
    "            # accumulate coins from top of the cur pile\n",
    "            acc_coin_val += cur_pile[i]\n",
    "            # moving to the next pile with accumulated coin val in the cur pile, and keep tracking the max\n",
    "            cur_mv_found = max(cur_mv_found, acc_coin_val + _search(rest_k-i-1, pile_pos+1))\n",
    "        # return the max accumulated coin val found from the cur pile\n",
    "        return cur_mv_found\n",
    "    return _search(k, 0)\n",
    "    \n",
    "maxValueOfCoins(piles, k)"
   ]
  },
  {
   "cell_type": "code",
   "execution_count": 26,
   "metadata": {},
   "outputs": [
    {
     "data": {
      "text/plain": [
       "101"
      ]
     },
     "execution_count": 26,
     "metadata": {},
     "output_type": "execute_result"
    }
   ],
   "source": [
    "# DP + prefix sum, time O(K*S), space O(K), S=total coins in piles\n",
    "def maxValueOfCoins(piles, k):\n",
    "    \"\"\"\n",
    "    Args:\n",
    "     - mv[i]: The max total val of coins we can have if we choose at most i coins from all the piles went through so far.\n",
    "     - pileSum[i]: The sum of coins taken from the cur pile from the top coin to the i-th coin.\n",
    "    \"\"\"\n",
    "    mv = [0] * (k + 1) \n",
    "    pileSum = [0] * (k + 1)\n",
    "    for pile in piles:\n",
    "        n = min(k, len(pile))\n",
    "        s = 0\n",
    "        for i in range(1, n+1):\n",
    "            pileSum[i] = s = s + pile[i-1] # compute the presum of top i coins in the pile\n",
    "        for i in range(k, 0, -1): # iterate over each possible num of coins in cur pile\n",
    "            maxVal = 0 \n",
    "            for j in range(min(i, n), -1, -1): # interate over each posible number of coins we can take from the cur pile\n",
    "                maxVal = max(maxVal, pileSum[j] + mv[i - j]) # update maxVal if taking j coins from cur pile (preSum[j]),\n",
    "                # and the max coins we can have if we choose the remaining coins from the previous piles (mv[i-j])\n",
    "            mv[i] = maxVal # update mv[i] with the max val if we take i coins from all piles\n",
    "    return mv[k]\n",
    "maxValueOfCoins(piles, k)"
   ]
  },
  {
   "cell_type": "code",
   "execution_count": 45,
   "metadata": {},
   "outputs": [
    {
     "data": {
      "text/plain": [
       "706"
      ]
     },
     "execution_count": 45,
     "metadata": {},
     "output_type": "execute_result"
    }
   ],
   "source": [
    "# DP, time O(S * K), space O(N * K)\n",
    "piles = [[100],[100],[100],[100],[100],[100],[1,1,1,1,1,1,700]]\n",
    "k = 7\n",
    "def maxValueOfCoins(piles, k):\n",
    "    n = len(piles)\n",
    "    # dp[i][j] -> max total val if coins if we choose at most j coins from the leftmost i piles optimally\n",
    "    dp = [[0] * (k+1) for _ in range(n+1)]\n",
    "    for i in range(1, n+1):\n",
    "        for j in range(0, k+1):\n",
    "            prefix_sum = 0\n",
    "            for p in range(0, min(len(piles[i-1]), j)):\n",
    "                prefix_sum += piles[i-1][p]\n",
    "                # scenario 1: not choosing any coins from cur file, resulting in dp[i][j]\n",
    "                # scenario 2: choosing cur_coin from the cur file, resulting in dp[i-1][j-p-1] + prefix_sum\n",
    "                dp[i][j] = max(dp[i][j], dp[i-1][j-p-1] + prefix_sum)\n",
    "    return dp[n][k]\n",
    "maxValueOfCoins(piles, k)"
   ]
  },
  {
   "cell_type": "markdown",
   "metadata": {},
   "source": [
    "### 1639. Number of Ways to Form a Target String Given a Dictionary\n",
    "You are given a list of strings of the same length words and a string target.\n",
    "\n",
    "Your task is to form target using the given words under the following rules:\n",
    "\n",
    "target should be formed from left to right.\n",
    "To form the ith character (0-indexed) of target, you can choose the kth character of the jth string in words if target[i] = words[j][k].\n",
    "Once you use the kth character of the jth string of words, you can no longer use the xth character of any string in words where x <= k. In other words, all characters to the left of or at index k become unusuable for every string.\n",
    "Repeat the process until you form the string target.\n",
    "Notice that you can use multiple characters from the same string in words provided the conditions above are met.\n",
    "\n",
    "Return the number of ways to form target from words. Since the answer may be too large, return it modulo 109 + 7.\n",
    "\n",
    "#### Example 1:\n",
    "**Input**: words = [\"acca\",\"bbbb\",\"caca\"], target = \"aba\" <br>\n",
    "**Output**: 6 <br>\n",
    "**Explanation**: There are 6 ways to form target. <br>\n",
    "- \"aba\" -> index 0 (\"acca\"), index 1 (\"bbbb\"), index 3 (\"caca\")\n",
    "- \"aba\" -> index 0 (\"acca\"), index 2 (\"bbbb\"), index 3 (\"caca\")\n",
    "- \"aba\" -> index 0 (\"acca\"), index 1 (\"bbbb\"), index 3 (\"acca\")\n",
    "- \"aba\" -> index 0 (\"acca\"), index 2 (\"bbbb\"), index 3 (\"acca\")\n",
    "- \"aba\" -> index 1 (\"caca\"), index 2 (\"bbbb\"), index 3 (\"acca\")\n",
    "- \"aba\" -> index 1 (\"caca\"), index 2 (\"bbbb\"), index 3 (\"caca\")"
   ]
  },
  {
   "cell_type": "code",
   "execution_count": 46,
   "metadata": {},
   "outputs": [],
   "source": [
    "words = [\"abba\",\"baab\"] \n",
    "target = \"bab\""
   ]
  },
  {
   "cell_type": "code",
   "execution_count": null,
   "metadata": {},
   "outputs": [],
   "source": [
    "def numWays(words, target):\n",
    "    "
   ]
  },
  {
   "cell_type": "markdown",
   "metadata": {},
   "source": [
    "### 879. Profitable Schemes\n",
    "There is a group of n members, and a list of various crimes they could commit. The ith crime generates a profit[i] and requires group[i] members to participate in it. If a member participates in one crime, that member can't participate in another crime.\n",
    "\n",
    "Let's call a profitable scheme any subset of these crimes that generates at least minProfit profit, and the total number of members participating in that subset of crimes is at most n.\n",
    "\n",
    "Return the number of schemes that can be chosen. Since the answer may be very large, return it modulo 10^9 + 7.\n",
    "\n",
    "#### Example 1:\n",
    "**Input**: n = 5, minProfit = 3, group = [2,2], profit = [2,3] <br>\n",
    "**Output**: 2<br>\n",
    "**Explanation**: To make a profit of at least 3, the group could either commit crimes 0 and 1, or just crime 1. In total, there are 2 schemes."
   ]
  },
  {
   "cell_type": "code",
   "execution_count": 1,
   "metadata": {},
   "outputs": [
    {
     "data": {
      "text/plain": [
       "7"
      ]
     },
     "execution_count": 1,
     "metadata": {},
     "output_type": "execute_result"
    }
   ],
   "source": [
    "n = 10\n",
    "minProfit = 5\n",
    "group = [2,3,5]\n",
    "profit = [6,7,8]\n",
    "\n",
    "def profitableSchemes(n, minProfit, group, profit): # DP, time O(len(group)*n*minProfit), space O(len(group)*n*minProfit)\n",
    "    mod = 10 ** 9 + 7\n",
    "    # dp[i][j][k]: j ppl selected after the first i crimes considered, with total profit k\n",
    "    dp = [[[0] * (minProfit + 1) for _ in range(n + 1)] for _ in range(len(group) + 1)]\n",
    "    dp[0][0][0] = 1\n",
    "    for i in range(1, len(group)+1):\n",
    "        for j in range(n+1):\n",
    "            for k in range(minProfit+1):\n",
    "                if j < group[i-1]: # if the ppl left not sufficient for the i-th crime\n",
    "                    dp[i][j][k] = dp[i-1][j][k]\n",
    "                else:\n",
    "                    # two secarios: 1. select crime-i; 2. skip crime-i\n",
    "                    # if select the crime i-1, for the cur state, it requires j-group[i-1] pp selected and \n",
    "                    # max(0, k-prfit[i-1]) total profit for the previous state\n",
    "                    dp[i][j][k] = (dp[i-1][j][k] + dp[i-1][j-group[i-1]][max(0, k-profit[i-1])]) % mod\n",
    "    # for the final result, accumulate dp cells with 1) all crimes considered (i==len(group)) and 2) minProfit meet (k==minProfit)\n",
    "    return sum(dp[len(group)][j][minProfit] for j in range(n+1)) % mod\n",
    "\n",
    "profitableSchemes(n, minProfit, group, profit)"
   ]
  },
  {
   "cell_type": "code",
   "execution_count": 2,
   "metadata": {},
   "outputs": [
    {
     "data": {
      "text/plain": [
       "7"
      ]
     },
     "execution_count": 2,
     "metadata": {},
     "output_type": "execute_result"
    }
   ],
   "source": [
    "# DP with optimized space O(minProfit*n), bottom up\n",
    "def profitableSchemes(n, minProfit, group, profit):\n",
    "    mod = 10 ** 9 + 7\n",
    "    dp = [[0] * (minProfit+1) for _ in range(n + 1)]\n",
    "    dp[0][0] = 1\n",
    "    for k in range(1, len(group)+1):\n",
    "        g = group[k-1]\n",
    "        p = profit[k-1]\n",
    "        for i in range(n, g-1, -1):\n",
    "            for j in range(minProfit, -1, -1):\n",
    "                # update dp: res of not selecting the (k-1)-th crime + select the (k-1)-th crime\n",
    "                dp[i][j] = (dp[i][j] + dp[i-g][max(0, j-p)]) % mod\n",
    "    return sum(dp[i][minProfit] for i in range(n+1)) % mod\n",
    "\n",
    "profitableSchemes(n, minProfit, group, profit)"
   ]
  },
  {
   "cell_type": "code",
   "execution_count": 7,
   "metadata": {},
   "outputs": [
    {
     "data": {
      "text/plain": [
       "7"
      ]
     },
     "execution_count": 7,
     "metadata": {},
     "output_type": "execute_result"
    }
   ],
   "source": [
    "# DP recursive, time O(len(group)*n*minProfit), space O(len(group)*n*minProfit)\n",
    "def profitableSchemes(n, minProfit, group, profit):\n",
    "    def dfs(i, members, curProf): # consider the i-th crime, with 'members' ppl already involved, and 'curProf' profit made already\n",
    "        if i >= len(group): # at the final crime\n",
    "            if curProf >= minProfit and members <= n: # if minProfit satisfied and total ppl <= n, then this path works, add 1 to the solution\n",
    "                return 1\n",
    "            else: # otherwise this path failed, add 0 to the solution\n",
    "                return 0\n",
    "        ans = 0\n",
    "        ans += dfs(i+1, members, curProf) # senario 1: do not select the cur crime\n",
    "        if members <= n - group[i]: # only if this condition satisfied, we can consider senario 2\n",
    "            ans += dfs(i+1, members+group[i], min(curProf+profit[i], minProfit)) # senario 2: select the cur crime\n",
    "        return ans\n",
    "    return dfs(0, 0, 0) % (10 ** 9 + 7)\n",
    "profitableSchemes(n, minProfit, group, profit)     "
   ]
  },
  {
   "cell_type": "markdown",
   "metadata": {},
   "source": [
    "### 1312. Minimum Insertion Steps to Make a String Palindrome\n",
    "Given a string s. In one step you can insert any character at any index of the string.\n",
    "\n",
    "Return the minimum number of steps to make s palindrome.\n",
    "\n",
    "A Palindrome String is one that reads the same backward as well as forward.\n",
    "\n",
    "#### Example 1:\n",
    "**Input**: s = \"leetcode\"<br>\n",
    "**Output**: 5<br>\n",
    "**Explanation**: Inserting 5 characters the string becomes \"leetcodocteel\"."
   ]
  },
  {
   "cell_type": "code",
   "execution_count": 22,
   "metadata": {},
   "outputs": [
    {
     "data": {
      "text/plain": [
       "5"
      ]
     },
     "execution_count": 22,
     "metadata": {},
     "output_type": "execute_result"
    }
   ],
   "source": [
    "# The idea: let m = len(longest palindromic subsequence), n = len(s), then res = n - m\n",
    "# using DP to find the longest palindromic subsequence, time O(n**2), space O(n**2)\n",
    "s = \"leetcode\"\n",
    "\n",
    "def minInsertions(s):\n",
    "    n = len(s)\n",
    "    r = s[::-1]\n",
    "    dp = [[0] * (n+1) for _ in range(n+1)]\n",
    "    for i, char1 in enumerate(s):\n",
    "        for j, char2 in enumerate(r):\n",
    "            if char1 == char2:\n",
    "                dp[i+1][j+1] = dp[i][j] + 1\n",
    "            else:\n",
    "                dp[i+1][j+1] = max(dp[i+1][j], dp[i][j+1])\n",
    "    return n - dp[n][n]\n",
    "\n",
    "minInsertions(s)"
   ]
  },
  {
   "cell_type": "code",
   "execution_count": 13,
   "metadata": {},
   "outputs": [
    {
     "data": {
      "text/plain": [
       "0"
      ]
     },
     "execution_count": 13,
     "metadata": {},
     "output_type": "execute_result"
    }
   ],
   "source": [
    "# DP, optimized space O(n)\n",
    "s = \"zzazz\"\n",
    "\n",
    "def minInsertions(s):\n",
    "    n = len(s)\n",
    "    dp = [0] * n\n",
    "    for i in range(n-1, -1, -1):\n",
    "        newdp = [0] * n\n",
    "        newdp[i] = 1\n",
    "        for j in range(i+1, n):\n",
    "            if s[i] == s[j]:\n",
    "                newdp[j] = dp[j-1] + 2 # add 2 chars in the palindrome\n",
    "            else:\n",
    "                newdp[j] = max(newdp[j-1], dp[j])\n",
    "        dp = newdp\n",
    "    return n - dp[-1]\n",
    "\n",
    "minInsertions(s)"
   ]
  },
  {
   "cell_type": "code",
   "execution_count": 20,
   "metadata": {},
   "outputs": [
    {
     "data": {
      "text/plain": [
       "5"
      ]
     },
     "execution_count": 20,
     "metadata": {},
     "output_type": "execute_result"
    }
   ],
   "source": [
    "# DP further reduced space cost\n",
    "\n",
    "s = \"leetcode\"\n",
    "\n",
    "def minInsertions(s):\n",
    "    n = len(s)\n",
    "    dp = [0] * n \n",
    "    for i in range(n-2, -1, -1):\n",
    "        prev = 0\n",
    "        for j in range(i+1, n):\n",
    "            tmp = dp[j]\n",
    "            if s[i] == s[j]:\n",
    "                dp[j] = prev # no insertions needed\n",
    "            else:\n",
    "                dp[j] = min(dp[j], dp[j-1]) + 1 # 1 insertion needed\n",
    "            prev = tmp\n",
    "    return dp[n-1]\n",
    "minInsertions(s)"
   ]
  },
  {
   "cell_type": "code",
   "execution_count": 16,
   "metadata": {},
   "outputs": [
    {
     "data": {
      "text/plain": [
       "5"
      ]
     },
     "execution_count": 16,
     "metadata": {},
     "output_type": "execute_result"
    }
   ],
   "source": [
    "# DP, recursive\n",
    "\n",
    "s = \"leetcode\"\n",
    "\n",
    "def minInsertions(s):\n",
    "    def dp(i, j):\n",
    "        if i == j:\n",
    "            return 1\n",
    "        if i > j:\n",
    "            return 0\n",
    "        if s[i] == s[j]:\n",
    "            return 2 + dp(i+1, j-1)\n",
    "        else:\n",
    "            return max(dp(i+1, j), dp(i, j-1))\n",
    "    return len(s) - dp(0, len(s)-1)\n",
    "\n",
    "minInsertions(s)        "
   ]
  },
  {
   "cell_type": "markdown",
   "metadata": {},
   "source": [
    "### 1416. Restore The Array\n",
    "A program was supposed to print an array of integers. The program forgot to print whitespaces and the array is printed as a string of digits s and all we know is that all integers in the array were in the range [1, k] and there are no leading zeros in the array.\n",
    "\n",
    "Given the string s and the integer k, return the number of the possible arrays that can be printed as s using the mentioned program. Since the answer may be very large, return it modulo 109 + 7.\n",
    "\n",
    "####  Example 3:\n",
    "**Input**: s = \"1317\", k = 2000 <br>\n",
    "**Output**: 8 <br>\n",
    "**Explanation**: Possible arrays are [1317],[131,7],[13,17],[1,317],[13,1,7],[1,31,7],[1,3,17],[1,3,1,7]"
   ]
  },
  {
   "cell_type": "code",
   "execution_count": 57,
   "metadata": {},
   "outputs": [
    {
     "data": {
      "text/plain": [
       "18"
      ]
     },
     "execution_count": 57,
     "metadata": {},
     "output_type": "execute_result"
    }
   ],
   "source": [
    "s, k = \"199306013\", 1000\n",
    "# bottom up DP, time O(n*logk), space O(n)\n",
    "def numberOfArrays(s, k): \n",
    "    mod = 10**9 + 7\n",
    "    n = len(s)\n",
    "    dp = [0] * n + [1] # dp[i]: number of ways to divide the string from i to the end\n",
    "    for i in range(n-1, -1, -1):\n",
    "        if s[i] == '0': # skip the starting '0's\n",
    "            continue\n",
    "        j = i\n",
    "        while j < n and int(s[i: j+1]) <= k: \n",
    "            # if s[i:j+1]<=k, add dp[j+1] (the num of ways to partition sub string s[j+1:]) to dp[i]\n",
    "            dp[i] += dp[j+1]\n",
    "            j += 1\n",
    "        dp[i] %= mod\n",
    "    return dp[0]\n",
    "    \n",
    "numberOfArrays(s, k)    "
   ]
  },
  {
   "cell_type": "code",
   "execution_count": 59,
   "metadata": {},
   "outputs": [
    {
     "data": {
      "text/plain": [
       "18"
      ]
     },
     "execution_count": 59,
     "metadata": {},
     "output_type": "execute_result"
    }
   ],
   "source": [
    "# DP + recursive dfs, time O(nlogk), space O(n)\n",
    "\n",
    "def numberOfArrays(s, k):\n",
    "\n",
    "    def dfs(s, k, i, dp): # dp[i]: num of ways to partition s[i:]\n",
    "        if i == len(s): # reach the end of the string, only one way to partition\n",
    "            return 1\n",
    "        if s[i] == '0': # skip starting '0's\n",
    "            return 0\n",
    "        if dp[i] != -1: # memorize, directly return dp[i] if it has been calculated (dp[i]!=-1, as a flag)\n",
    "            return dp[i]\n",
    "        ans, num = 0, 0\n",
    "        for j in range(i, len(s)):\n",
    "            num = num * 10 + int(s[j])\n",
    "            if num > k: # check if s[i:j+1] < k, if not then break, if so then do dfs recursively\n",
    "                break\n",
    "            ans = (ans + dfs(s, k, j+1, dp)) % (10**9+7) # add the num of ways to partition s[j+1:] to dp[i] (ans)\n",
    "        dp[i] = ans\n",
    "        return ans\n",
    "    dp = [-1] * len(s)\n",
    "    return dfs(s, k, 0, dp)\n",
    "\n",
    "numberOfArrays(s, k) "
   ]
  },
  {
   "cell_type": "code",
   "execution_count": null,
   "metadata": {},
   "outputs": [],
   "source": []
  },
  {
   "cell_type": "code",
   "execution_count": null,
   "metadata": {},
   "outputs": [],
   "source": []
  },
  {
   "cell_type": "code",
   "execution_count": null,
   "metadata": {},
   "outputs": [],
   "source": []
  },
  {
   "cell_type": "code",
   "execution_count": null,
   "metadata": {},
   "outputs": [],
   "source": []
  }
 ],
 "metadata": {
  "kernelspec": {
   "display_name": "Python 3",
   "language": "python",
   "name": "python3"
  },
  "language_info": {
   "codemirror_mode": {
    "name": "ipython",
    "version": 3
   },
   "file_extension": ".py",
   "mimetype": "text/x-python",
   "name": "python",
   "nbconvert_exporter": "python",
   "pygments_lexer": "ipython3",
   "version": "3.7.1"
  }
 },
 "nbformat": 4,
 "nbformat_minor": 2
}
