{
 "cells": [
  {
   "cell_type": "markdown",
   "metadata": {},
   "source": [
    "### 1704. Determine if String Halves Are Alike\n",
    "You are given a string s of even length. Split this string into two halves of equal lengths, and let a be the first half and b be the second half.\n",
    "\n",
    "Two strings are alike if they have the same number of vowels ('a', 'e', 'i', 'o', 'u', 'A', 'E', 'I', 'O', 'U'). Notice that s contains uppercase and lowercase letters.\n",
    "\n",
    "Return true if a and b are alike. Otherwise, return false."
   ]
  },
  {
   "cell_type": "code",
   "execution_count": 7,
   "metadata": {},
   "outputs": [
    {
     "name": "stdout",
     "output_type": "stream",
     "text": [
      "False\n"
     ]
    }
   ],
   "source": [
    "s = \"textbook\"\n",
    "a = s[:len(s)//2]\n",
    "b = s[len(s)//2:]\n",
    "m = {'a', 'e', 'i', 'o', 'u', 'A', 'E', 'I', 'O', 'U'}\n",
    "ca, cb = 0, 0\n",
    "for i in range(len(a)):\n",
    "    if a[i] in m:\n",
    "        ca += 1\n",
    "    if b[i] in m:\n",
    "        cb += 1\n",
    "print(ca == cb)"
   ]
  },
  {
   "cell_type": "markdown",
   "metadata": {},
   "source": [
    "### 20. Valid Parentheses"
   ]
  },
  {
   "cell_type": "code",
   "execution_count": 1,
   "metadata": {},
   "outputs": [
    {
     "name": "stdout",
     "output_type": "stream",
     "text": [
      "True\n"
     ]
    }
   ],
   "source": [
    "s =\"([]{{[]}})\"\n",
    "while len(s)>0:\n",
    "    s1 = s\n",
    "    s = s.replace('{}', '')\n",
    "    s = s.replace('[]', '')\n",
    "    s = s.replace('()', '')\n",
    "    if s == s1:\n",
    "        break\n",
    "print(len(s) == 0)"
   ]
  },
  {
   "cell_type": "markdown",
   "metadata": {},
   "source": [
    "### 1657. Determine if Two Strings Are Close\n",
    "Two strings are considered close if you can attain one from the other using the following operations: <br>\n",
    " <br>\n",
    "Operation 1: Swap any two existing characters. <br>\n",
    "For example, abcde -> aecdb <br>\n",
    "Operation 2: Transform every occurrence of one existing character into another existing character, and do the same with the other character. <br>\n",
    "For example, aacabb -> bbcbaa (all a's turn into b's, and all b's turn into a's) <br>\n",
    "You can use the operations on either string as many times as necessary. <br>\n",
    " <br>\n",
    "Given two strings, word1 and word2, return true if word1 and word2 are close, and false otherwise. <br>"
   ]
  },
  {
   "cell_type": "code",
   "execution_count": 47,
   "metadata": {},
   "outputs": [
    {
     "name": "stdout",
     "output_type": "stream",
     "text": [
      "True\n"
     ]
    }
   ],
   "source": [
    "# time complexity: Counter(): O(n); sorted(): O(nlogn). Total: O(nlogn)\n",
    "from collections import defaultdict\n",
    "from collections import Counter\n",
    "word1 = \"decabbba\"\n",
    "word2 = \"abcccbde\"\n",
    "# dic1 = defaultdict(int)\n",
    "# dic2 = defaultdict(int)\n",
    "# for i in word1:\n",
    "#     dic1[i] += 1\n",
    "# for j in word2:\n",
    "#     dic2[j] += 1\n",
    "# for i in dic2:\n",
    "#     if i not in dic1:\n",
    "#         print(dic2[i])\n",
    "#         break\n",
    "# Counter build a hash table counting the occurancy of item\n",
    "cnt1 = Counter(word1)\n",
    "cnt2 = Counter(word2)\n",
    "# Counter.keys() returns the item names\n",
    "if cnt1.keys() != cnt2.keys():\n",
    "    print('False')\n",
    "# Counter.values() returns the occurancy of items\n",
    "elif sorted(cnt1.values()) != sorted(cnt2.values()):\n",
    "    print('False')\n",
    "else:\n",
    "    print('True')"
   ]
  },
  {
   "cell_type": "code",
   "execution_count": 48,
   "metadata": {},
   "outputs": [
    {
     "data": {
      "text/plain": [
       "dict_keys(['d', 'e', 'c', 'a', 'b'])"
      ]
     },
     "execution_count": 48,
     "metadata": {},
     "output_type": "execute_result"
    }
   ],
   "source": [
    "cnt1.keys()"
   ]
  },
  {
   "cell_type": "code",
   "execution_count": 49,
   "metadata": {},
   "outputs": [
    {
     "data": {
      "text/plain": [
       "dict_keys(['a', 'b', 'c', 'd', 'e'])"
      ]
     },
     "execution_count": 49,
     "metadata": {},
     "output_type": "execute_result"
    }
   ],
   "source": [
    "cnt2.keys()"
   ]
  },
  {
   "cell_type": "code",
   "execution_count": 50,
   "metadata": {},
   "outputs": [
    {
     "data": {
      "text/plain": [
       "True"
      ]
     },
     "execution_count": 50,
     "metadata": {},
     "output_type": "execute_result"
    }
   ],
   "source": [
    "cnt1.keys() == cnt2.keys()"
   ]
  },
  {
   "cell_type": "code",
   "execution_count": 51,
   "metadata": {},
   "outputs": [
    {
     "data": {
      "text/plain": [
       "dict_values([1, 2, 3, 1, 1])"
      ]
     },
     "execution_count": 51,
     "metadata": {},
     "output_type": "execute_result"
    }
   ],
   "source": [
    "cnt2.values()"
   ]
  },
  {
   "cell_type": "code",
   "execution_count": 52,
   "metadata": {},
   "outputs": [
    {
     "data": {
      "text/plain": [
       "dict_values([1, 1, 1, 2, 3])"
      ]
     },
     "execution_count": 52,
     "metadata": {},
     "output_type": "execute_result"
    }
   ],
   "source": [
    "cnt1.values()"
   ]
  },
  {
   "cell_type": "code",
   "execution_count": 53,
   "metadata": {},
   "outputs": [
    {
     "data": {
      "text/plain": [
       "False"
      ]
     },
     "execution_count": 53,
     "metadata": {},
     "output_type": "execute_result"
    }
   ],
   "source": [
    "cnt1.values() == cnt2.values()"
   ]
  },
  {
   "cell_type": "markdown",
   "metadata": {},
   "source": [
    "### 451. Sort Characters By Frequency\n",
    "Given a string s, sort it in decreasing order based on the frequency of the characters. The frequency of a character is the number of times it appears in the string."
   ]
  },
  {
   "cell_type": "code",
   "execution_count": 56,
   "metadata": {},
   "outputs": [
    {
     "name": "stdout",
     "output_type": "stream",
     "text": [
      "eetr\n",
      "eetr\n"
     ]
    }
   ],
   "source": [
    "s = \"tree\"\n",
    "# hash table methd, time O(nlogk), space O(n), n is len(s), k is number of unique items in s\n",
    "from collections import Counter\n",
    "\n",
    "dic = Counter(s)\n",
    "res = \"\"\n",
    "for w, c in dic.most_common():\n",
    "    res += w * c\n",
    "print(res)\n",
    "res = \"\"\n",
    "for w, c in sorted(dic.items(), key = lambda pairs : pairs[1], reverse = True):\n",
    "    res += w * c\n",
    "print(res)"
   ]
  },
  {
   "cell_type": "code",
   "execution_count": 58,
   "metadata": {},
   "outputs": [
    {
     "name": "stdout",
     "output_type": "stream",
     "text": [
      "eert\n"
     ]
    }
   ],
   "source": [
    "# heap, time O(nlogk), space O(n)\n",
    "import heapq\n",
    "heap = [(-v, k) for k, v in dic.items()]\n",
    "heapq.heapify(heap)\n",
    "res = \"\"\n",
    "while heap:\n",
    "    v, k = heapq.heappop(heap)\n",
    "    res += k * (-v)\n",
    "print(res)"
   ]
  },
  {
   "cell_type": "markdown",
   "metadata": {},
   "source": [
    "### 171. Excel Sheet Column Number\n",
    "Given a string columnTitle that represents the column title as appears in an Excel sheet, return its corresponding column number. <br>\n",
    "For example: A -> 1; B -> 2; C -> 3...; Z -> 26; AA -> 27; AB -> 28..."
   ]
  },
  {
   "cell_type": "code",
   "execution_count": 1,
   "metadata": {},
   "outputs": [
    {
     "data": {
      "text/plain": [
       "701"
      ]
     },
     "execution_count": 1,
     "metadata": {},
     "output_type": "execute_result"
    }
   ],
   "source": [
    "columnTitle = \"ZY\"\n",
    "col = ord(columnTitle[0]) - ord(\"A\") + 1\n",
    "for i in range(1, len(columnTitle)):\n",
    "    col = 26 * col + (ord(columnTitle[i]) - ord(\"A\") + 1)\n",
    "col"
   ]
  },
  {
   "cell_type": "markdown",
   "metadata": {},
   "source": [
    "## 166. Fraction to Recurring Decimal\n",
    "Given two integers representing the numerator and denominator of a fraction, return the fraction in string format.\n",
    "\n",
    "If the fractional part is repeating, enclose the repeating part in parentheses.\n",
    "\n",
    "If multiple answers are possible, return any of them.\n",
    "\n",
    "It is guaranteed that the length of the answer string is less than 104 for all the given inputs."
   ]
  },
  {
   "cell_type": "code",
   "execution_count": 3,
   "metadata": {},
   "outputs": [
    {
     "data": {
      "text/plain": [
       "'0.(012)'"
      ]
     },
     "execution_count": 3,
     "metadata": {},
     "output_type": "execute_result"
    }
   ],
   "source": [
    "numerator = 4\n",
    "denominator = 333\n",
    "\n",
    "def fractionToDecimal(numerator, denominator):\n",
    "    res = []\n",
    "    if (numerator>0 and denominator<0) or (numerator<0 and denominator>0):\n",
    "        res.append(\"-\")\n",
    "    n = abs(numerator) // abs(denominator)\n",
    "    r = abs(numerator) % abs(denominator)\n",
    "    res.append(str(n))\n",
    "    if r == 0:\n",
    "        return \"\".join(res)\n",
    "    res.append(\".\")\n",
    "    hsh = {}\n",
    "    while r != 0:\n",
    "        if r in hsh:\n",
    "            res.insert(hsh[r], \"(\")\n",
    "            res.append(\")\")\n",
    "            return \"\".join(res)\n",
    "        hsh[r] = len(res)\n",
    "        r *= 10 \n",
    "        res.append(str(r // abs(denominator)))\n",
    "        r = r % abs(denominator)\n",
    "    return \"\".join(res)\n",
    "\n",
    "fractionToDecimal(numerator, denominator)"
   ]
  },
  {
   "cell_type": "markdown",
   "metadata": {},
   "source": [
    "### 202. Happy Number\n",
    "Write an algorithm to determine if a number n is happy.\n",
    "\n",
    "A happy number is a number defined by the following process:\n",
    "\n",
    "Starting with any positive integer, replace the number by the sum of the squares of its digits.<br>\n",
    "Repeat the process until the number equals 1 (where it will stay), or it loops endlessly in a cycle which does not include 1.<br>\n",
    "Those numbers for which this process ends in 1 are happy.<br>\n",
    "Return true if n is a happy number, and false if not."
   ]
  },
  {
   "cell_type": "code",
   "execution_count": 5,
   "metadata": {},
   "outputs": [
    {
     "data": {
      "text/plain": [
       "True"
      ]
     },
     "execution_count": 5,
     "metadata": {},
     "output_type": "execute_result"
    }
   ],
   "source": [
    "n = 19\n",
    "def isHappy(n):\n",
    "    hsh = set()\n",
    "    num = n\n",
    "    while True:\n",
    "        tmp = 0\n",
    "        while num > 0:\n",
    "            tmp += (num % 10) ** 2\n",
    "            num = num // 10\n",
    "        if tmp == 1:\n",
    "            return True\n",
    "        if tmp not in hsh:\n",
    "            hsh.add(tmp)\n",
    "        else:\n",
    "            return False\n",
    "        num = tmp\n",
    "isHappy(n)"
   ]
  },
  {
   "cell_type": "markdown",
   "metadata": {},
   "source": [
    "### 290. Word Pattern\n",
    "Given a pattern and a string s, find if s follows the same pattern.\n",
    "\n",
    "Here follow means a full match, such that there is a bijection between a letter in pattern and a non-empty word in s."
   ]
  },
  {
   "cell_type": "code",
   "execution_count": 12,
   "metadata": {},
   "outputs": [
    {
     "data": {
      "text/plain": [
       "True"
      ]
     },
     "execution_count": 12,
     "metadata": {},
     "output_type": "execute_result"
    }
   ],
   "source": [
    "pattern = \"abba\" \n",
    "s = \"b a a b\"\n",
    "\n",
    "def wordPattern(pattern, s):\n",
    "    from collections import defaultdict\n",
    "    s = s.split()\n",
    "    if len(s) != len(pattern) or len(set(s)) != len(set(pattern)):\n",
    "        return False\n",
    "    hsh = defaultdict(list)\n",
    "    for i, p in enumerate(pattern):\n",
    "        if p not in hsh:\n",
    "            hsh[p] = s[i]\n",
    "        elif hsh[p] != s[i]:\n",
    "            return False\n",
    "    return True\n",
    "wordPattern(pattern, s)"
   ]
  },
  {
   "cell_type": "code",
   "execution_count": 14,
   "metadata": {},
   "outputs": [
    {
     "data": {
      "text/plain": [
       "True"
      ]
     },
     "execution_count": 14,
     "metadata": {},
     "output_type": "execute_result"
    }
   ],
   "source": [
    "def wordPattern2(pattern, s):\n",
    "    from itertools import zip_longest\n",
    "    s = s.split()\n",
    "    return len(set(s)) == len(set(pattern)) == len(set(zip_longest(s, pattern)))\n",
    "wordPattern2(pattern, s)"
   ]
  },
  {
   "cell_type": "markdown",
   "metadata": {},
   "source": [
    "### 520. Detect Capital\n",
    "We define the usage of capitals in a word to be right when one of the following cases holds:\n",
    "\n",
    "1. All letters in this word are capitals, like \"USA\".<br>\n",
    "2. All letters in this word are not capitals, like \"leetcode\".<br>\n",
    "3. Only the first letter in this word is capital, like \"Google\".<br>\n",
    "\n",
    "Given a string word, return true if the usage of capitals in it is right."
   ]
  },
  {
   "cell_type": "code",
   "execution_count": 23,
   "metadata": {},
   "outputs": [
    {
     "data": {
      "text/plain": [
       "False"
      ]
     },
     "execution_count": 23,
     "metadata": {},
     "output_type": "execute_result"
    }
   ],
   "source": [
    "word = \"QmO\"\n",
    "\n",
    "def detectCapitalUse(word):\n",
    "    if word[0].isupper():\n",
    "        if len(word) <= 2:\n",
    "            return True\n",
    "        if word[1].isupper():\n",
    "            for i in range(2, len(word)):\n",
    "                if not word[i].isupper():\n",
    "                    return False\n",
    "            return True\n",
    "        else:\n",
    "            for i in range(2, len(word)):\n",
    "                if word[i].isupper():\n",
    "                    return False\n",
    "            return True\n",
    "    else:\n",
    "        for s in word:\n",
    "            if s.isupper():\n",
    "                return False\n",
    "        return True\n",
    "detectCapitalUse(word)    "
   ]
  },
  {
   "cell_type": "code",
   "execution_count": 24,
   "metadata": {},
   "outputs": [
    {
     "data": {
      "text/plain": [
       "False"
      ]
     },
     "execution_count": 24,
     "metadata": {},
     "output_type": "execute_result"
    }
   ],
   "source": [
    "def detectCapitalUse2(word):\n",
    "    cnt = sum(c.isupper() for c in word)\n",
    "    if cnt == len(word): # all upper case\n",
    "        return True\n",
    "    if cnt == 0: # all lower case\n",
    "        return True\n",
    "    if cnt == 1 and word[0].isupper(): # only the first letter being upper case\n",
    "        return True\n",
    "    return False\n",
    "detectCapitalUse2(word)"
   ]
  },
  {
   "cell_type": "code",
   "execution_count": 27,
   "metadata": {},
   "outputs": [
    {
     "data": {
      "text/plain": [
       "False"
      ]
     },
     "execution_count": 27,
     "metadata": {},
     "output_type": "execute_result"
    }
   ],
   "source": [
    "word = \"QmO\"\n",
    "def detectCapitalUse3(word):\n",
    "    if word == word.upper():\n",
    "        return True\n",
    "    if word == word.lower():\n",
    "        return True\n",
    "    if word == word.capitalize():\n",
    "        return True\n",
    "    return False\n",
    "detectCapitalUse3(word)"
   ]
  },
  {
   "cell_type": "markdown",
   "metadata": {},
   "source": [
    "### 944. Delete Columns to Make Sorted\n",
    "You are given an array of n strings strs, all of the same length.\n",
    "\n",
    "The strings can be arranged such that there is one on each line, making a grid. For example, strs = [\"abc\", \"bce\", \"cae\"] can be arranged as:"
   ]
  },
  {
   "cell_type": "code",
   "execution_count": 58,
   "metadata": {},
   "outputs": [
    {
     "data": {
      "text/plain": [
       "1"
      ]
     },
     "execution_count": 58,
     "metadata": {},
     "output_type": "execute_result"
    }
   ],
   "source": [
    "strs = [\"cbad\",\"dafe\",\"ghif\"]\n",
    "cnt = 0\n",
    "for i in range(len(strs[0])):\n",
    "    arr = \"\"\n",
    "    for j in range(len(strs)):\n",
    "        arr += strs[j][i]\n",
    "    if arr != \"\".join(sorted(arr)):\n",
    "        cnt += 1\n",
    "cnt"
   ]
  },
  {
   "cell_type": "code",
   "execution_count": 62,
   "metadata": {},
   "outputs": [
    {
     "data": {
      "text/plain": [
       "1"
      ]
     },
     "execution_count": 62,
     "metadata": {},
     "output_type": "execute_result"
    }
   ],
   "source": [
    "cnt = 0\n",
    "for i in zip(*strs):\n",
    "    if sorted(i) != list(i):\n",
    "        cnt += 1\n",
    "cnt"
   ]
  },
  {
   "cell_type": "code",
   "execution_count": 63,
   "metadata": {},
   "outputs": [
    {
     "data": {
      "text/plain": [
       "1"
      ]
     },
     "execution_count": 63,
     "metadata": {},
     "output_type": "execute_result"
    }
   ],
   "source": [
    "sum(col != sorted(col) for col in map(list, zip(*strs)))"
   ]
  },
  {
   "cell_type": "markdown",
   "metadata": {},
   "source": [
    "### 1071. Greatest Common Divisor of Strings\n",
    "For two strings s and t, we say \"t divides s\" if and only if s = t + ... + t (i.e., t is concatenated with itself one or more times).\n",
    "\n",
    "Given two strings str1 and str2, return the largest string x such that x divides both str1 and str2."
   ]
  },
  {
   "cell_type": "code",
   "execution_count": 63,
   "metadata": {},
   "outputs": [],
   "source": [
    "str1, str2 = \"ABCABC\", \"ABC\""
   ]
  },
  {
   "cell_type": "code",
   "execution_count": 64,
   "metadata": {},
   "outputs": [
    {
     "data": {
      "text/plain": [
       "'ABC'"
      ]
     },
     "execution_count": 64,
     "metadata": {},
     "output_type": "execute_result"
    }
   ],
   "source": [
    "# this code find the smallest non empty string x\n",
    "def gcdOfStrings(str1, str2):\n",
    "    i = (str1 + str1).find(str1, 1, -1)\n",
    "    j = (str2 + str2).find(str2, 1, -1)\n",
    "    if i != -1 and j != -1:\n",
    "        if str1[:i] == str2[:j]:\n",
    "            return str1[:i]\n",
    "        else:\n",
    "            return \"\"\n",
    "    if i == -1 and j == -1:\n",
    "        return str1 if str1 == str2 else \"\"\n",
    "    if i == -1 and j != -1:\n",
    "        return str1 if str1 == str2[:j] else \"\"\n",
    "    if i != -1 and j == -1:\n",
    "        return str2 if str2 == str1[:i] else \"\"\n",
    "\n",
    "gcdOfStrings(str1, str2)"
   ]
  },
  {
   "cell_type": "code",
   "execution_count": 65,
   "metadata": {},
   "outputs": [
    {
     "data": {
      "text/plain": [
       "'ABC'"
      ]
     },
     "execution_count": 65,
     "metadata": {},
     "output_type": "execute_result"
    }
   ],
   "source": [
    "# find the largest string x\n",
    "if len(str2) > len(str1):\n",
    "    str1, str2 = str2, str1\n",
    "ans = \"\"\n",
    "for k in range(len(str2)):\n",
    "    prefix = str2[:k+1]\n",
    "    if prefix*(len(str1)//len(prefix))==str1 and prefix*(len(str2)//len(prefix))==str2:\n",
    "        ans = prefix\n",
    "ans"
   ]
  },
  {
   "cell_type": "code",
   "execution_count": 66,
   "metadata": {},
   "outputs": [
    {
     "data": {
      "text/plain": [
       "'ABC'"
      ]
     },
     "execution_count": 66,
     "metadata": {},
     "output_type": "execute_result"
    }
   ],
   "source": [
    "import math\n",
    "def gcdOfStrings(str1, str2):\n",
    "    # math.gcd(a, b) finds greatest common divisor of the two integers\n",
    "    return str1[:math.gcd(len(str1), len(str2))] if str1 + str2 == str2 + str1 else \"\"\n",
    "gcdOfStrings(str1, str2)"
   ]
  },
  {
   "cell_type": "code",
   "execution_count": 68,
   "metadata": {},
   "outputs": [
    {
     "data": {
      "text/plain": [
       "'ABC'"
      ]
     },
     "execution_count": 68,
     "metadata": {},
     "output_type": "execute_result"
    }
   ],
   "source": [
    "# Euclid's algorithm\n",
    "def gcdOfStrings(str1, str2):\n",
    "    L1, L2 = len(str1), len(str2)\n",
    "    if L1 < L2:\n",
    "        return gcdOfStrings(str2, str1) # ensure str1 is the longer one\n",
    "    if str1[:L2] == str2: # check if str2 is a prefix in str1\n",
    "        if L1 == L2:\n",
    "            return str1\n",
    "        return gcdOfStrings(str2, str1[:L2]) # return the gcd of the str2 and str1 minus the prefix\n",
    "    return \"\"\n",
    "gcdOfStrings(str1, str2)"
   ]
  },
  {
   "cell_type": "markdown",
   "metadata": {},
   "source": [
    "### 953. Verifying an Alien Dictionary\n",
    "In an alien language, surprisingly, they also use English lowercase letters, but possibly in a different order. The order of the alphabet is some permutation of lowercase letters.\n",
    "\n",
    "Given a sequence of words written in the alien language, and the order of the alphabet, return true if and only if the given words are sorted lexicographically in this alien language."
   ]
  },
  {
   "cell_type": "code",
   "execution_count": 95,
   "metadata": {},
   "outputs": [],
   "source": [
    "words = [\"fxasxpc\",\"dfbdrifhp\",\"nwzgs\",\"cmwqriv\",\"ebulyfyve\",\"miracx\",\"sxckdwzv\",\"dtijzluhts\",\"wwbmnge\",\"qmjwymmyox\"]\n",
    "order = \"zkgwaverfimqxbnctdplsjyohu\""
   ]
  },
  {
   "cell_type": "code",
   "execution_count": 99,
   "metadata": {},
   "outputs": [
    {
     "data": {
      "text/plain": [
       "False"
      ]
     },
     "execution_count": 99,
     "metadata": {},
     "output_type": "execute_result"
    }
   ],
   "source": [
    "# time O(n * m), space O(1)\n",
    "from collections import defaultdict\n",
    "\n",
    "def isAlienSorted(words, order):\n",
    "    orderMap = defaultdict(int)\n",
    "    for i in range(26):\n",
    "        orderMap[order[i]] = i + 1\n",
    "    for i in range(len(words)-1):\n",
    "        for j in range(len(words[i])):\n",
    "            if j >= len(words[i+1]):\n",
    "                return False\n",
    "            if orderMap[words[i][j]] < orderMap[words[i+1][j]]:\n",
    "                break\n",
    "            if orderMap[words[i][j]] > orderMap[words[i+1][j]]:\n",
    "                return False\n",
    "    return True\n",
    "\n",
    "isAlienSorted(words, order)"
   ]
  },
  {
   "cell_type": "code",
   "execution_count": 101,
   "metadata": {},
   "outputs": [
    {
     "data": {
      "text/plain": [
       "False"
      ]
     },
     "execution_count": 101,
     "metadata": {},
     "output_type": "execute_result"
    }
   ],
   "source": [
    "# custom sort, time O(n), space O(1)\n",
    "def isAlienSorted(words, order):\n",
    "    return words == sorted(words, key=lambda word:[order.index(c) for c in word])\n",
    "isAlienSorted(words, order)"
   ]
  },
  {
   "cell_type": "markdown",
   "metadata": {},
   "source": [
    "### 6. Zigzag Conversion\n",
    "The string \"PAYPALISHIRING\" is written in a zigzag pattern on a given number of rows like this: (you may want to display this pattern in a fixed font for better legibility)\n",
    "\n",
    "P&emsp;A&emsp;H&emsp;N <br>\n",
    "A&nbsp;P&nbsp;L&nbsp;S&nbsp;I&nbsp;I&nbsp;G <br>\n",
    "Y&emsp;I&emsp;R <br>\n",
    "\n",
    "And then read line by line: \"PAHNAPLSIIGYIR\"\n",
    "\n",
    "Write the code that will take a string and make this conversion given a number of rows:\n",
    "\n",
    "string convert(string s, int numRows);"
   ]
  },
  {
   "cell_type": "code",
   "execution_count": 112,
   "metadata": {},
   "outputs": [],
   "source": [
    "s, numRows = \"PAYPALISHIRING\" ,4"
   ]
  },
  {
   "cell_type": "code",
   "execution_count": 175,
   "metadata": {},
   "outputs": [
    {
     "data": {
      "text/plain": [
       "'PINALSIGYAHRPI'"
      ]
     },
     "execution_count": 175,
     "metadata": {},
     "output_type": "execute_result"
    }
   ],
   "source": [
    "# time O(n), space O(n)\n",
    "def convert(s, numRows):\n",
    "    if numRows == 1:\n",
    "        return s\n",
    "    gap1, gap2 = (numRows - 1) * 2, 0\n",
    "    res = ''\n",
    "    idx = 0\n",
    "    for i in range(numRows):\n",
    "        idx = i\n",
    "        p = 0\n",
    "        while idx < len(s):\n",
    "            res += s[idx]\n",
    "            if gap2 == 0:\n",
    "                idx += gap1\n",
    "            elif gap1 == 0:\n",
    "                idx += gap2\n",
    "            else:\n",
    "                if p % 2 == 0: \n",
    "                    idx += gap1\n",
    "                else: \n",
    "                    idx += gap2\n",
    "                p += 1\n",
    "        gap1 -= 2\n",
    "        gap2 += 2\n",
    "    return res\n",
    "convert(s, numRows)"
   ]
  },
  {
   "cell_type": "code",
   "execution_count": 183,
   "metadata": {},
   "outputs": [
    {
     "name": "stdout",
     "output_type": "stream",
     "text": [
      "['PIN', 'ALSIG', 'YAHR', 'PI']\n"
     ]
    },
    {
     "data": {
      "text/plain": [
       "'PINALSIGYAHRPI'"
      ]
     },
     "execution_count": 183,
     "metadata": {},
     "output_type": "execute_result"
    }
   ],
   "source": [
    "def convert(s, numRows):\n",
    "    if numRows == len(s) or numRows == 1:\n",
    "        return s\n",
    "    res = [''] * numRows\n",
    "    idx = 1\n",
    "    goingUp = True # flag of traveling up\n",
    "    for char in s:\n",
    "        res[idx-1] += char\n",
    "        if idx == numRows: # reach the end of res list, travel back\n",
    "            goingUp = False\n",
    "        elif idx == 1:\n",
    "            goingUp = True # reach the beginning of res list, travel forward\n",
    "        if goingUp: # travel forward\n",
    "            idx += 1\n",
    "        else: # travel back\n",
    "            idx -= 1\n",
    "    print(res)\n",
    "    return ''.join(res)\n",
    "\n",
    "convert(s, numRows)"
   ]
  },
  {
   "cell_type": "markdown",
   "metadata": {},
   "source": [
    "### 567. Permutation in String\n",
    "Given two strings s1 and s2, return true if s2 contains a permutation of s1, or false otherwise.\n",
    "\n",
    "In other words, return true if one of s1's permutations is the substring of s2."
   ]
  },
  {
   "cell_type": "code",
   "execution_count": 195,
   "metadata": {},
   "outputs": [],
   "source": [
    "s1 = \"ab\"\n",
    "s2 = \"aibbaooo\""
   ]
  },
  {
   "cell_type": "code",
   "execution_count": 185,
   "metadata": {},
   "outputs": [
    {
     "data": {
      "text/plain": [
       "True"
      ]
     },
     "execution_count": 185,
     "metadata": {},
     "output_type": "execute_result"
    }
   ],
   "source": [
    "# hash map + sliding window, time O(l1 + l1 * (l2 - l1 + 1)), space O(2 * l1)\n",
    "def checkInclusion(s1, s2):\n",
    "    from collections import Counter\n",
    "    l1, l2 = len(s1), len(s2)\n",
    "    if l1 > l2:\n",
    "        return False\n",
    "    if l1 == l2:\n",
    "        return Counter(s1) == Counter(s2)\n",
    "    c1 = Counter(s1)\n",
    "    for i in range(l2 - l1 + 1):\n",
    "        c2 = Counter(s2[i: l1+i])\n",
    "        if c1 == c2:\n",
    "            return True\n",
    "    return False\n",
    "checkInclusion(s1, s2)"
   ]
  },
  {
   "cell_type": "code",
   "execution_count": 197,
   "metadata": {},
   "outputs": [
    {
     "data": {
      "text/plain": [
       "True"
      ]
     },
     "execution_count": 197,
     "metadata": {},
     "output_type": "execute_result"
    }
   ],
   "source": [
    "# sliding window method 2, optimised\n",
    "def checkInclusion(s1, s2):\n",
    "    l1, l2 = len(s1), len(s2)\n",
    "    if l1 > l2:\n",
    "        return False\n",
    "    c1 = [0] * 26\n",
    "    c2 = [0] * 26\n",
    "    for chr1 in s1:\n",
    "        c1[ord(chr1) - ord('a')] += 1\n",
    "    for i in range(l2):\n",
    "        c2[ord(s2[i]) - ord('a')] += 1\n",
    "        if i >= l1:\n",
    "            c2[ord(s2[i - l1]) - ord('a')] -= 1 # sliding window, reduce freq of s2[i - l1]\n",
    "        if c1 == c2:\n",
    "            return True\n",
    "    return False\n",
    "checkInclusion(s1, s2)"
   ]
  },
  {
   "cell_type": "markdown",
   "metadata": {},
   "source": [
    "### 438. Find All Anagrams in a String\n",
    "Given two strings s and p, return an array of all the start indices of p's anagrams in s. You may return the answer in any order.\n",
    "\n",
    "An Anagram is a word or phrase formed by rearranging the letters of a different word or phrase, typically using all the original letters exactly once."
   ]
  },
  {
   "cell_type": "code",
   "execution_count": 187,
   "metadata": {},
   "outputs": [],
   "source": [
    "s = \"cbaebabacd\"\n",
    "p = \"abc\""
   ]
  },
  {
   "cell_type": "code",
   "execution_count": 200,
   "metadata": {},
   "outputs": [
    {
     "data": {
      "text/plain": [
       "[0, 6]"
      ]
     },
     "execution_count": 200,
     "metadata": {},
     "output_type": "execute_result"
    }
   ],
   "source": [
    "def findAnagrams(s, p):\n",
    "    ns, np = len(s), len(p)\n",
    "    if ns < np:\n",
    "        return []\n",
    "    cp = [0] * 26\n",
    "    for chrp in p:\n",
    "        cp[ord(chrp) - ord('a')] += 1\n",
    "    res = []\n",
    "    cs = [0] * 26\n",
    "    for i in range(ns):\n",
    "        cs[ord(s[i]) - ord('a')] += 1\n",
    "        if i >= np:\n",
    "            cs[ord(s[i - np]) - ord('a')] -= 1\n",
    "        if cp == cs:\n",
    "            res.append(i - np + 1)\n",
    "    return res\n",
    "findAnagrams(s, p)"
   ]
  },
  {
   "cell_type": "markdown",
   "metadata": {},
   "source": [
    "### 2306. Naming a Company\n",
    "You are given an array of strings ideas that represents a list of names to be used in the process of naming a company. The process of naming a company is as follows:\n",
    "\n",
    "Choose 2 distinct names from ideas, call them ideaA and ideaB.<br>\n",
    "Swap the first letters of ideaA and ideaB with each other.<br>\n",
    "If both of the new names are not found in the original ideas, then the name ideaA ideaB (the concatenation of ideaA and ideaB, separated by a space) is a valid company name.<br>\n",
    "Otherwise, it is not a valid name.<br>\n",
    "Return the number of distinct valid names for the company."
   ]
  },
  {
   "cell_type": "markdown",
   "metadata": {},
   "source": [
    "Example 1:\n",
    "\n",
    "Input: ideas = [\"coffee\",\"donuts\",\"time\",\"toffee\"]\n",
    "Output: 6\n",
    "Explanation: The following selections are valid:\n",
    "- (\"coffee\", \"donuts\"): The company name created is \"doffee conuts\".\n",
    "- (\"donuts\", \"coffee\"): The company name created is \"conuts doffee\".\n",
    "- (\"donuts\", \"time\"): The company name created is \"tonuts dime\".\n",
    "- (\"donuts\", \"toffee\"): The company name created is \"tonuts doffee\".\n",
    "- (\"time\", \"donuts\"): The company name created is \"dime tonuts\".\n",
    "- (\"toffee\", \"donuts\"): The company name created is \"doffee tonuts\".\n",
    "Therefore, there are a total of 6 distinct company names.\n",
    "\n",
    "The following are some examples of invalid selections:\n",
    "- (\"coffee\", \"time\"): The name \"toffee\" formed after swapping already exists in the original array.\n",
    "- (\"time\", \"toffee\"): Both names are still the same after swapping and exist in the original array.\n",
    "- (\"coffee\", \"toffee\"): Both names formed after swapping already exist in the original array."
   ]
  },
  {
   "cell_type": "code",
   "execution_count": 1,
   "metadata": {},
   "outputs": [],
   "source": [
    "ideas = [\"coffee\",\"donuts\",\"time\",\"toffee\"]"
   ]
  },
  {
   "cell_type": "code",
   "execution_count": 9,
   "metadata": {},
   "outputs": [
    {
     "name": "stdout",
     "output_type": "stream",
     "text": [
      "{'doffee tonuts', 'tonuts dime', 'dime tonuts', 'doffee conuts', 'conuts doffee', 'tonuts doffee'}\n"
     ]
    },
    {
     "data": {
      "text/plain": [
       "6"
      ]
     },
     "execution_count": 9,
     "metadata": {},
     "output_type": "execute_result"
    }
   ],
   "source": [
    "# brutal force, time O(n^3), space O(len(names))\n",
    "def distinctNames(ideas):\n",
    "    names = set()\n",
    "    for i in range(len(ideas)):\n",
    "        for j in range(i+1, len(ideas)):\n",
    "            nameAtmp, nameBtmp = ideas[i], ideas[j]\n",
    "            nameA, nameB = nameBtmp[0]+nameAtmp[1:], nameAtmp[0]+nameBtmp[1:]\n",
    "            if nameA not in ideas and nameB not in ideas:\n",
    "                names.add(nameA+' '+nameB)\n",
    "                names.add(nameB+' '+nameA)\n",
    "    print(names)\n",
    "    return len(names)\n",
    "distinctNames(ideas)"
   ]
  },
  {
   "cell_type": "markdown",
   "metadata": {},
   "source": [
    "<img src='https://leetcode.com/problems/naming-a-company/solutions/3081799/Figures/2306/4.png' width='500'> <img src='https://leetcode.com/problems/naming-a-company/solutions/3081799/Figures/2306/5.png' width='480'>"
   ]
  },
  {
   "cell_type": "code",
   "execution_count": 23,
   "metadata": {},
   "outputs": [
    {
     "name": "stdout",
     "output_type": "stream",
     "text": [
      "defaultdict(<class 'set'>, {'c': {'offee'}, 'd': {'onuts'}, 't': {'ime', 'offee'}})\n"
     ]
    },
    {
     "data": {
      "text/plain": [
       "6"
      ]
     },
     "execution_count": 23,
     "metadata": {},
     "output_type": "execute_result"
    }
   ],
   "source": [
    "# Grouping, time O(n * (len(idx)) ^ 2)\n",
    "from collections import defaultdict\n",
    "hsh = defaultdict(set)\n",
    "for idea in ideas:\n",
    "    hsh[idea[0]].add(idea[1:])\n",
    "print(hsh)\n",
    "names = 0\n",
    "idx = [i for i in hsh]\n",
    "for i in range(len(idx)):\n",
    "    for j in range(i+1, len(idx)):\n",
    "        inter = len(hsh[idx[i]] & hsh[idx[j]])\n",
    "        comb1 = len(hsh[idx[i]]) - inter\n",
    "        comb2 = len(hsh[idx[j]]) - inter\n",
    "        names += 2 * comb1 * comb2\n",
    "names"
   ]
  },
  {
   "cell_type": "markdown",
   "metadata": {},
   "source": [
    "### 67. Add Binary\n",
    "Given two binary strings a and b, return their sum as a binary string."
   ]
  },
  {
   "cell_type": "code",
   "execution_count": 41,
   "metadata": {},
   "outputs": [],
   "source": [
    "a, b = \"1010\", \"1011\""
   ]
  },
  {
   "cell_type": "code",
   "execution_count": 39,
   "metadata": {},
   "outputs": [
    {
     "data": {
      "text/plain": [
       "'10101'"
      ]
     },
     "execution_count": 39,
     "metadata": {},
     "output_type": "execute_result"
    }
   ],
   "source": [
    "def addBinary(a, b):\n",
    "    if len(a) < len(b):\n",
    "        a, b = b, a\n",
    "    b = ''.join(['0']*(len(a)-len(b))) + b\n",
    "    idx = 0\n",
    "    res = ''\n",
    "    for i in range(len(a)-1,-1,-1):\n",
    "        res = str(int(a[i])^int(b[i])^idx) + res\n",
    "        if int(a[i]) + int(b[i]) + idx >= 2:\n",
    "            idx = 1\n",
    "        else: idx = 0\n",
    "    if idx == 1:\n",
    "        res = '1' + res\n",
    "    return res\n",
    "addBinary(a, b)"
   ]
  },
  {
   "cell_type": "code",
   "execution_count": 46,
   "metadata": {},
   "outputs": [
    {
     "data": {
      "text/plain": [
       "'10101'"
      ]
     },
     "execution_count": 46,
     "metadata": {},
     "output_type": "execute_result"
    }
   ],
   "source": [
    "def addBinary(a, b):\n",
    "    aL, bL = -len(a), -len(b)\n",
    "    i, carry, res = -1, 0, ''\n",
    "    while i >= aL or i >= bL:\n",
    "        aBit = int(a[i]) if i >= aL else 0\n",
    "        bBit = int(b[i]) if i >= bL else 0\n",
    "        s = aBit + bBit + carry\n",
    "        res = str(s % 2) + res # (1+1+1)%2=1, (1+1+0)%2=0, (1+0+0)%2=1, (0+0+0)%2=0 \n",
    "        carry = s // 2 # (1+1+1)//2=1, (1+1+0)//2=1, (1+0+0)//2=0, (0+0+0)//2=0\n",
    "        i -= 1\n",
    "    return '1' + res if carry else res\n",
    "addBinary(a, b)"
   ]
  },
  {
   "cell_type": "code",
   "execution_count": null,
   "metadata": {},
   "outputs": [],
   "source": []
  }
 ],
 "metadata": {
  "kernelspec": {
   "display_name": "Python 3",
   "language": "python",
   "name": "python3"
  },
  "language_info": {
   "codemirror_mode": {
    "name": "ipython",
    "version": 3
   },
   "file_extension": ".py",
   "mimetype": "text/x-python",
   "name": "python",
   "nbconvert_exporter": "python",
   "pygments_lexer": "ipython3",
   "version": "3.7.1"
  }
 },
 "nbformat": 4,
 "nbformat_minor": 2
}
