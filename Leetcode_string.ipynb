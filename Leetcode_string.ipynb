{
 "cells": [
  {
   "cell_type": "markdown",
   "metadata": {},
   "source": [
    "### 1704. Determine if String Halves Are Alike\n",
    "You are given a string s of even length. Split this string into two halves of equal lengths, and let a be the first half and b be the second half.\n",
    "\n",
    "Two strings are alike if they have the same number of vowels ('a', 'e', 'i', 'o', 'u', 'A', 'E', 'I', 'O', 'U'). Notice that s contains uppercase and lowercase letters.\n",
    "\n",
    "Return true if a and b are alike. Otherwise, return false."
   ]
  },
  {
   "cell_type": "code",
   "execution_count": 7,
   "metadata": {},
   "outputs": [
    {
     "name": "stdout",
     "output_type": "stream",
     "text": [
      "False\n"
     ]
    }
   ],
   "source": [
    "s = \"textbook\"\n",
    "a = s[:len(s)//2]\n",
    "b = s[len(s)//2:]\n",
    "m = {'a', 'e', 'i', 'o', 'u', 'A', 'E', 'I', 'O', 'U'}\n",
    "ca, cb = 0, 0\n",
    "for i in range(len(a)):\n",
    "    if a[i] in m:\n",
    "        ca += 1\n",
    "    if b[i] in m:\n",
    "        cb += 1\n",
    "print(ca == cb)"
   ]
  },
  {
   "cell_type": "markdown",
   "metadata": {},
   "source": [
    "### 20. Valid Parentheses\n",
    "Given a string s containing just the characters '(', ')', '{', '}', '[' and ']', determine if the input string is valid.\n",
    "\n",
    "An input string is valid if:\n",
    "\n",
    "Open brackets must be closed by the same type of brackets.<br>\n",
    "Open brackets must be closed in the correct order.<br>\n",
    "Every close bracket has a corresponding open bracket of the same type."
   ]
  },
  {
   "cell_type": "code",
   "execution_count": 41,
   "metadata": {},
   "outputs": [
    {
     "name": "stdout",
     "output_type": "stream",
     "text": [
      "\n"
     ]
    },
    {
     "data": {
      "text/plain": [
       "True"
      ]
     },
     "execution_count": 41,
     "metadata": {},
     "output_type": "execute_result"
    }
   ],
   "source": [
    "s = \"()[]{}\"\n",
    "def isValid(s):\n",
    "    while \"()\" in s or \"{}\" in s or \"[]\" in s:\n",
    "        s = s.replace(\"()\", \"\")\n",
    "        s = s.replace(\"{}\", \"\")\n",
    "        s = s.replace(\"[]\", \"\")\n",
    "        print(s)\n",
    "    return s==\"\"\n",
    "isValid(s)"
   ]
  },
  {
   "cell_type": "code",
   "execution_count": 1,
   "metadata": {},
   "outputs": [
    {
     "name": "stdout",
     "output_type": "stream",
     "text": [
      "True\n"
     ]
    }
   ],
   "source": [
    "s =\"([]{{[]}})\"\n",
    "while len(s)>0:\n",
    "    s1 = s\n",
    "    s = s.replace('{}', '')\n",
    "    s = s.replace('[]', '')\n",
    "    s = s.replace('()', '')\n",
    "    if s == s1:\n",
    "        break\n",
    "print(len(s) == 0)"
   ]
  },
  {
   "cell_type": "code",
   "execution_count": 49,
   "metadata": {},
   "outputs": [
    {
     "data": {
      "text/plain": [
       "False"
      ]
     },
     "execution_count": 49,
     "metadata": {},
     "output_type": "execute_result"
    }
   ],
   "source": [
    "# stack\n",
    "s =\"[\"\n",
    "def isValid(s):\n",
    "    op = ['(', '[', '{']\n",
    "    cl = [')', ']', '}']\n",
    "    stack = []\n",
    "    for char in s:\n",
    "        if char in op:\n",
    "            stack.append(char)\n",
    "        else:\n",
    "            if len(stack) != 0 and stack[-1] == op[cl.index(char)]:\n",
    "                stack.pop()\n",
    "            else:\n",
    "                return False\n",
    "    return len(stack)==0\n",
    "isValid(s)"
   ]
  },
  {
   "cell_type": "code",
   "execution_count": 51,
   "metadata": {},
   "outputs": [
    {
     "data": {
      "text/plain": [
       "True"
      ]
     },
     "execution_count": 51,
     "metadata": {},
     "output_type": "execute_result"
    }
   ],
   "source": [
    "# stack method 2:\n",
    "s =\"([]{{[]}})\"\n",
    "def isValid(s):\n",
    "    d = {\"(\":\")\", \"[\":\"]\", \"{\":\"}\"}\n",
    "    stack = []\n",
    "    for char in s:\n",
    "        if char in d:\n",
    "            stack.append(char)\n",
    "        elif len(stack)!=0 and char == d[stack[-1]]:\n",
    "            stack.pop()\n",
    "        else:\n",
    "            return False\n",
    "    return len(stack) == 0\n",
    "isValid(s)"
   ]
  },
  {
   "cell_type": "markdown",
   "metadata": {},
   "source": [
    "### 1657. Determine if Two Strings Are Close\n",
    "Two strings are considered close if you can attain one from the other using the following operations: <br>\n",
    " <br>\n",
    "Operation 1: Swap any two existing characters. <br>\n",
    "For example, abcde -> aecdb <br>\n",
    "Operation 2: Transform every occurrence of one existing character into another existing character, and do the same with the other character. <br>\n",
    "For example, aacabb -> bbcbaa (all a's turn into b's, and all b's turn into a's) <br>\n",
    "You can use the operations on either string as many times as necessary. <br>\n",
    " <br>\n",
    "Given two strings, word1 and word2, return true if word1 and word2 are close, and false otherwise. <br>"
   ]
  },
  {
   "cell_type": "code",
   "execution_count": 47,
   "metadata": {},
   "outputs": [
    {
     "name": "stdout",
     "output_type": "stream",
     "text": [
      "True\n"
     ]
    }
   ],
   "source": [
    "# time complexity: Counter(): O(n); sorted(): O(nlogn). Total: O(nlogn)\n",
    "from collections import defaultdict\n",
    "from collections import Counter\n",
    "word1 = \"decabbba\"\n",
    "word2 = \"abcccbde\"\n",
    "# dic1 = defaultdict(int)\n",
    "# dic2 = defaultdict(int)\n",
    "# for i in word1:\n",
    "#     dic1[i] += 1\n",
    "# for j in word2:\n",
    "#     dic2[j] += 1\n",
    "# for i in dic2:\n",
    "#     if i not in dic1:\n",
    "#         print(dic2[i])\n",
    "#         break\n",
    "# Counter build a hash table counting the occurancy of item\n",
    "cnt1 = Counter(word1)\n",
    "cnt2 = Counter(word2)\n",
    "# Counter.keys() returns the item names\n",
    "if cnt1.keys() != cnt2.keys():\n",
    "    print('False')\n",
    "# Counter.values() returns the occurancy of items\n",
    "elif sorted(cnt1.values()) != sorted(cnt2.values()):\n",
    "    print('False')\n",
    "else:\n",
    "    print('True')"
   ]
  },
  {
   "cell_type": "code",
   "execution_count": 48,
   "metadata": {},
   "outputs": [
    {
     "data": {
      "text/plain": [
       "dict_keys(['d', 'e', 'c', 'a', 'b'])"
      ]
     },
     "execution_count": 48,
     "metadata": {},
     "output_type": "execute_result"
    }
   ],
   "source": [
    "cnt1.keys()"
   ]
  },
  {
   "cell_type": "code",
   "execution_count": 49,
   "metadata": {},
   "outputs": [
    {
     "data": {
      "text/plain": [
       "dict_keys(['a', 'b', 'c', 'd', 'e'])"
      ]
     },
     "execution_count": 49,
     "metadata": {},
     "output_type": "execute_result"
    }
   ],
   "source": [
    "cnt2.keys()"
   ]
  },
  {
   "cell_type": "code",
   "execution_count": 50,
   "metadata": {},
   "outputs": [
    {
     "data": {
      "text/plain": [
       "True"
      ]
     },
     "execution_count": 50,
     "metadata": {},
     "output_type": "execute_result"
    }
   ],
   "source": [
    "cnt1.keys() == cnt2.keys()"
   ]
  },
  {
   "cell_type": "code",
   "execution_count": 51,
   "metadata": {},
   "outputs": [
    {
     "data": {
      "text/plain": [
       "dict_values([1, 2, 3, 1, 1])"
      ]
     },
     "execution_count": 51,
     "metadata": {},
     "output_type": "execute_result"
    }
   ],
   "source": [
    "cnt2.values()"
   ]
  },
  {
   "cell_type": "code",
   "execution_count": 52,
   "metadata": {},
   "outputs": [
    {
     "data": {
      "text/plain": [
       "dict_values([1, 1, 1, 2, 3])"
      ]
     },
     "execution_count": 52,
     "metadata": {},
     "output_type": "execute_result"
    }
   ],
   "source": [
    "cnt1.values()"
   ]
  },
  {
   "cell_type": "code",
   "execution_count": 53,
   "metadata": {},
   "outputs": [
    {
     "data": {
      "text/plain": [
       "False"
      ]
     },
     "execution_count": 53,
     "metadata": {},
     "output_type": "execute_result"
    }
   ],
   "source": [
    "cnt1.values() == cnt2.values()"
   ]
  },
  {
   "cell_type": "markdown",
   "metadata": {},
   "source": [
    "### 451. Sort Characters By Frequency\n",
    "Given a string s, sort it in decreasing order based on the frequency of the characters. The frequency of a character is the number of times it appears in the string."
   ]
  },
  {
   "cell_type": "code",
   "execution_count": 56,
   "metadata": {},
   "outputs": [
    {
     "name": "stdout",
     "output_type": "stream",
     "text": [
      "eetr\n",
      "eetr\n"
     ]
    }
   ],
   "source": [
    "s = \"tree\"\n",
    "# hash table methd, time O(nlogk), space O(n), n is len(s), k is number of unique items in s\n",
    "from collections import Counter\n",
    "\n",
    "dic = Counter(s)\n",
    "res = \"\"\n",
    "for w, c in dic.most_common():\n",
    "    res += w * c\n",
    "print(res)\n",
    "res = \"\"\n",
    "for w, c in sorted(dic.items(), key = lambda pairs : pairs[1], reverse = True):\n",
    "    res += w * c\n",
    "print(res)"
   ]
  },
  {
   "cell_type": "code",
   "execution_count": 58,
   "metadata": {},
   "outputs": [
    {
     "name": "stdout",
     "output_type": "stream",
     "text": [
      "eert\n"
     ]
    }
   ],
   "source": [
    "# heap, time O(nlogk), space O(n)\n",
    "import heapq\n",
    "heap = [(-v, k) for k, v in dic.items()]\n",
    "heapq.heapify(heap)\n",
    "res = \"\"\n",
    "while heap:\n",
    "    v, k = heapq.heappop(heap)\n",
    "    res += k * (-v)\n",
    "print(res)"
   ]
  },
  {
   "cell_type": "markdown",
   "metadata": {},
   "source": [
    "### 171. Excel Sheet Column Number\n",
    "Given a string columnTitle that represents the column title as appears in an Excel sheet, return its corresponding column number. <br>\n",
    "For example: A -> 1; B -> 2; C -> 3...; Z -> 26; AA -> 27; AB -> 28..."
   ]
  },
  {
   "cell_type": "code",
   "execution_count": 1,
   "metadata": {},
   "outputs": [
    {
     "data": {
      "text/plain": [
       "701"
      ]
     },
     "execution_count": 1,
     "metadata": {},
     "output_type": "execute_result"
    }
   ],
   "source": [
    "columnTitle = \"ZY\"\n",
    "col = ord(columnTitle[0]) - ord(\"A\") + 1\n",
    "for i in range(1, len(columnTitle)):\n",
    "    col = 26 * col + (ord(columnTitle[i]) - ord(\"A\") + 1)\n",
    "col"
   ]
  },
  {
   "cell_type": "markdown",
   "metadata": {},
   "source": [
    "## 166. Fraction to Recurring Decimal\n",
    "Given two integers representing the numerator and denominator of a fraction, return the fraction in string format.\n",
    "\n",
    "If the fractional part is repeating, enclose the repeating part in parentheses.\n",
    "\n",
    "If multiple answers are possible, return any of them.\n",
    "\n",
    "It is guaranteed that the length of the answer string is less than 104 for all the given inputs."
   ]
  },
  {
   "cell_type": "code",
   "execution_count": 3,
   "metadata": {},
   "outputs": [
    {
     "data": {
      "text/plain": [
       "'0.(012)'"
      ]
     },
     "execution_count": 3,
     "metadata": {},
     "output_type": "execute_result"
    }
   ],
   "source": [
    "numerator = 4\n",
    "denominator = 333\n",
    "\n",
    "def fractionToDecimal(numerator, denominator):\n",
    "    res = []\n",
    "    if (numerator>0 and denominator<0) or (numerator<0 and denominator>0):\n",
    "        res.append(\"-\")\n",
    "    n = abs(numerator) // abs(denominator)\n",
    "    r = abs(numerator) % abs(denominator)\n",
    "    res.append(str(n))\n",
    "    if r == 0:\n",
    "        return \"\".join(res)\n",
    "    res.append(\".\")\n",
    "    hsh = {}\n",
    "    while r != 0:\n",
    "        if r in hsh:\n",
    "            res.insert(hsh[r], \"(\")\n",
    "            res.append(\")\")\n",
    "            return \"\".join(res)\n",
    "        hsh[r] = len(res)\n",
    "        r *= 10 \n",
    "        res.append(str(r // abs(denominator)))\n",
    "        r = r % abs(denominator)\n",
    "    return \"\".join(res)\n",
    "\n",
    "fractionToDecimal(numerator, denominator)"
   ]
  },
  {
   "cell_type": "markdown",
   "metadata": {},
   "source": [
    "### 202. Happy Number\n",
    "Write an algorithm to determine if a number n is happy.\n",
    "\n",
    "A happy number is a number defined by the following process:\n",
    "\n",
    "Starting with any positive integer, replace the number by the sum of the squares of its digits.<br>\n",
    "Repeat the process until the number equals 1 (where it will stay), or it loops endlessly in a cycle which does not include 1.<br>\n",
    "Those numbers for which this process ends in 1 are happy.<br>\n",
    "Return true if n is a happy number, and false if not."
   ]
  },
  {
   "cell_type": "code",
   "execution_count": 5,
   "metadata": {},
   "outputs": [
    {
     "data": {
      "text/plain": [
       "True"
      ]
     },
     "execution_count": 5,
     "metadata": {},
     "output_type": "execute_result"
    }
   ],
   "source": [
    "n = 19\n",
    "def isHappy(n):\n",
    "    hsh = set()\n",
    "    num = n\n",
    "    while True:\n",
    "        tmp = 0\n",
    "        while num > 0:\n",
    "            tmp += (num % 10) ** 2\n",
    "            num = num // 10\n",
    "        if tmp == 1:\n",
    "            return True\n",
    "        if tmp not in hsh:\n",
    "            hsh.add(tmp)\n",
    "        else:\n",
    "            return False\n",
    "        num = tmp\n",
    "isHappy(n)"
   ]
  },
  {
   "cell_type": "markdown",
   "metadata": {},
   "source": [
    "### 290. Word Pattern\n",
    "Given a pattern and a string s, find if s follows the same pattern.\n",
    "\n",
    "Here follow means a full match, such that there is a bijection between a letter in pattern and a non-empty word in s."
   ]
  },
  {
   "cell_type": "code",
   "execution_count": 12,
   "metadata": {},
   "outputs": [
    {
     "data": {
      "text/plain": [
       "True"
      ]
     },
     "execution_count": 12,
     "metadata": {},
     "output_type": "execute_result"
    }
   ],
   "source": [
    "pattern = \"abba\" \n",
    "s = \"b a a b\"\n",
    "\n",
    "def wordPattern(pattern, s):\n",
    "    from collections import defaultdict\n",
    "    s = s.split()\n",
    "    if len(s) != len(pattern) or len(set(s)) != len(set(pattern)):\n",
    "        return False\n",
    "    hsh = defaultdict(list)\n",
    "    for i, p in enumerate(pattern):\n",
    "        if p not in hsh:\n",
    "            hsh[p] = s[i]\n",
    "        elif hsh[p] != s[i]:\n",
    "            return False\n",
    "    return True\n",
    "wordPattern(pattern, s)"
   ]
  },
  {
   "cell_type": "code",
   "execution_count": 14,
   "metadata": {},
   "outputs": [
    {
     "data": {
      "text/plain": [
       "True"
      ]
     },
     "execution_count": 14,
     "metadata": {},
     "output_type": "execute_result"
    }
   ],
   "source": [
    "def wordPattern2(pattern, s):\n",
    "    from itertools import zip_longest\n",
    "    s = s.split()\n",
    "    return len(set(s)) == len(set(pattern)) == len(set(zip_longest(s, pattern)))\n",
    "wordPattern2(pattern, s)"
   ]
  },
  {
   "cell_type": "markdown",
   "metadata": {},
   "source": [
    "### 520. Detect Capital\n",
    "We define the usage of capitals in a word to be right when one of the following cases holds:\n",
    "\n",
    "1. All letters in this word are capitals, like \"USA\".<br>\n",
    "2. All letters in this word are not capitals, like \"leetcode\".<br>\n",
    "3. Only the first letter in this word is capital, like \"Google\".<br>\n",
    "\n",
    "Given a string word, return true if the usage of capitals in it is right."
   ]
  },
  {
   "cell_type": "code",
   "execution_count": 23,
   "metadata": {},
   "outputs": [
    {
     "data": {
      "text/plain": [
       "False"
      ]
     },
     "execution_count": 23,
     "metadata": {},
     "output_type": "execute_result"
    }
   ],
   "source": [
    "word = \"QmO\"\n",
    "\n",
    "def detectCapitalUse(word):\n",
    "    if word[0].isupper():\n",
    "        if len(word) <= 2:\n",
    "            return True\n",
    "        if word[1].isupper():\n",
    "            for i in range(2, len(word)):\n",
    "                if not word[i].isupper():\n",
    "                    return False\n",
    "            return True\n",
    "        else:\n",
    "            for i in range(2, len(word)):\n",
    "                if word[i].isupper():\n",
    "                    return False\n",
    "            return True\n",
    "    else:\n",
    "        for s in word:\n",
    "            if s.isupper():\n",
    "                return False\n",
    "        return True\n",
    "detectCapitalUse(word)    "
   ]
  },
  {
   "cell_type": "code",
   "execution_count": 24,
   "metadata": {},
   "outputs": [
    {
     "data": {
      "text/plain": [
       "False"
      ]
     },
     "execution_count": 24,
     "metadata": {},
     "output_type": "execute_result"
    }
   ],
   "source": [
    "def detectCapitalUse2(word):\n",
    "    cnt = sum(c.isupper() for c in word)\n",
    "    if cnt == len(word): # all upper case\n",
    "        return True\n",
    "    if cnt == 0: # all lower case\n",
    "        return True\n",
    "    if cnt == 1 and word[0].isupper(): # only the first letter being upper case\n",
    "        return True\n",
    "    return False\n",
    "detectCapitalUse2(word)"
   ]
  },
  {
   "cell_type": "code",
   "execution_count": 27,
   "metadata": {},
   "outputs": [
    {
     "data": {
      "text/plain": [
       "False"
      ]
     },
     "execution_count": 27,
     "metadata": {},
     "output_type": "execute_result"
    }
   ],
   "source": [
    "word = \"QmO\"\n",
    "def detectCapitalUse3(word):\n",
    "    if word == word.upper():\n",
    "        return True\n",
    "    if word == word.lower():\n",
    "        return True\n",
    "    if word == word.capitalize():\n",
    "        return True\n",
    "    return False\n",
    "detectCapitalUse3(word)"
   ]
  },
  {
   "cell_type": "markdown",
   "metadata": {},
   "source": [
    "### 944. Delete Columns to Make Sorted\n",
    "You are given an array of n strings strs, all of the same length.\n",
    "\n",
    "The strings can be arranged such that there is one on each line, making a grid. For example, strs = [\"abc\", \"bce\", \"cae\"] can be arranged as:"
   ]
  },
  {
   "cell_type": "code",
   "execution_count": 58,
   "metadata": {},
   "outputs": [
    {
     "data": {
      "text/plain": [
       "1"
      ]
     },
     "execution_count": 58,
     "metadata": {},
     "output_type": "execute_result"
    }
   ],
   "source": [
    "strs = [\"cbad\",\"dafe\",\"ghif\"]\n",
    "cnt = 0\n",
    "for i in range(len(strs[0])):\n",
    "    arr = \"\"\n",
    "    for j in range(len(strs)):\n",
    "        arr += strs[j][i]\n",
    "    if arr != \"\".join(sorted(arr)):\n",
    "        cnt += 1\n",
    "cnt"
   ]
  },
  {
   "cell_type": "code",
   "execution_count": 62,
   "metadata": {},
   "outputs": [
    {
     "data": {
      "text/plain": [
       "1"
      ]
     },
     "execution_count": 62,
     "metadata": {},
     "output_type": "execute_result"
    }
   ],
   "source": [
    "cnt = 0\n",
    "for i in zip(*strs):\n",
    "    if sorted(i) != list(i):\n",
    "        cnt += 1\n",
    "cnt"
   ]
  },
  {
   "cell_type": "code",
   "execution_count": 63,
   "metadata": {},
   "outputs": [
    {
     "data": {
      "text/plain": [
       "1"
      ]
     },
     "execution_count": 63,
     "metadata": {},
     "output_type": "execute_result"
    }
   ],
   "source": [
    "sum(col != sorted(col) for col in map(list, zip(*strs)))"
   ]
  },
  {
   "cell_type": "markdown",
   "metadata": {},
   "source": [
    "### 1071. Greatest Common Divisor of Strings\n",
    "For two strings s and t, we say \"t divides s\" if and only if s = t + ... + t (i.e., t is concatenated with itself one or more times).\n",
    "\n",
    "Given two strings str1 and str2, return the largest string x such that x divides both str1 and str2."
   ]
  },
  {
   "cell_type": "code",
   "execution_count": 63,
   "metadata": {},
   "outputs": [],
   "source": [
    "str1, str2 = \"ABCABC\", \"ABC\""
   ]
  },
  {
   "cell_type": "code",
   "execution_count": 64,
   "metadata": {},
   "outputs": [
    {
     "data": {
      "text/plain": [
       "'ABC'"
      ]
     },
     "execution_count": 64,
     "metadata": {},
     "output_type": "execute_result"
    }
   ],
   "source": [
    "# this code find the smallest non empty string x\n",
    "def gcdOfStrings(str1, str2):\n",
    "    i = (str1 + str1).find(str1, 1, -1)\n",
    "    j = (str2 + str2).find(str2, 1, -1)\n",
    "    if i != -1 and j != -1:\n",
    "        if str1[:i] == str2[:j]:\n",
    "            return str1[:i]\n",
    "        else:\n",
    "            return \"\"\n",
    "    if i == -1 and j == -1:\n",
    "        return str1 if str1 == str2 else \"\"\n",
    "    if i == -1 and j != -1:\n",
    "        return str1 if str1 == str2[:j] else \"\"\n",
    "    if i != -1 and j == -1:\n",
    "        return str2 if str2 == str1[:i] else \"\"\n",
    "\n",
    "gcdOfStrings(str1, str2)"
   ]
  },
  {
   "cell_type": "code",
   "execution_count": 65,
   "metadata": {},
   "outputs": [
    {
     "data": {
      "text/plain": [
       "'ABC'"
      ]
     },
     "execution_count": 65,
     "metadata": {},
     "output_type": "execute_result"
    }
   ],
   "source": [
    "# find the largest string x\n",
    "if len(str2) > len(str1):\n",
    "    str1, str2 = str2, str1\n",
    "ans = \"\"\n",
    "for k in range(len(str2)):\n",
    "    prefix = str2[:k+1]\n",
    "    if prefix*(len(str1)//len(prefix))==str1 and prefix*(len(str2)//len(prefix))==str2:\n",
    "        ans = prefix\n",
    "ans"
   ]
  },
  {
   "cell_type": "code",
   "execution_count": 66,
   "metadata": {},
   "outputs": [
    {
     "data": {
      "text/plain": [
       "'ABC'"
      ]
     },
     "execution_count": 66,
     "metadata": {},
     "output_type": "execute_result"
    }
   ],
   "source": [
    "import math\n",
    "def gcdOfStrings(str1, str2):\n",
    "    # math.gcd(a, b) finds greatest common divisor of the two integers\n",
    "    return str1[:math.gcd(len(str1), len(str2))] if str1 + str2 == str2 + str1 else \"\"\n",
    "gcdOfStrings(str1, str2)"
   ]
  },
  {
   "cell_type": "code",
   "execution_count": 68,
   "metadata": {},
   "outputs": [
    {
     "data": {
      "text/plain": [
       "'ABC'"
      ]
     },
     "execution_count": 68,
     "metadata": {},
     "output_type": "execute_result"
    }
   ],
   "source": [
    "# Euclid's algorithm\n",
    "def gcdOfStrings(str1, str2):\n",
    "    L1, L2 = len(str1), len(str2)\n",
    "    if L1 < L2:\n",
    "        return gcdOfStrings(str2, str1) # ensure str1 is the longer one\n",
    "    if str1[:L2] == str2: # check if str2 is a prefix in str1\n",
    "        if L1 == L2:\n",
    "            return str1\n",
    "        return gcdOfStrings(str2, str1[:L2]) # return the gcd of the str2 and str1 minus the prefix\n",
    "    return \"\"\n",
    "gcdOfStrings(str1, str2)"
   ]
  },
  {
   "cell_type": "markdown",
   "metadata": {},
   "source": [
    "### 953. Verifying an Alien Dictionary\n",
    "In an alien language, surprisingly, they also use English lowercase letters, but possibly in a different order. The order of the alphabet is some permutation of lowercase letters.\n",
    "\n",
    "Given a sequence of words written in the alien language, and the order of the alphabet, return true if and only if the given words are sorted lexicographically in this alien language."
   ]
  },
  {
   "cell_type": "code",
   "execution_count": 95,
   "metadata": {},
   "outputs": [],
   "source": [
    "words = [\"fxasxpc\",\"dfbdrifhp\",\"nwzgs\",\"cmwqriv\",\"ebulyfyve\",\"miracx\",\"sxckdwzv\",\"dtijzluhts\",\"wwbmnge\",\"qmjwymmyox\"]\n",
    "order = \"zkgwaverfimqxbnctdplsjyohu\""
   ]
  },
  {
   "cell_type": "code",
   "execution_count": 99,
   "metadata": {},
   "outputs": [
    {
     "data": {
      "text/plain": [
       "False"
      ]
     },
     "execution_count": 99,
     "metadata": {},
     "output_type": "execute_result"
    }
   ],
   "source": [
    "# time O(n * m), space O(1)\n",
    "from collections import defaultdict\n",
    "\n",
    "def isAlienSorted(words, order):\n",
    "    orderMap = defaultdict(int)\n",
    "    for i in range(26):\n",
    "        orderMap[order[i]] = i + 1\n",
    "    for i in range(len(words)-1):\n",
    "        for j in range(len(words[i])):\n",
    "            if j >= len(words[i+1]):\n",
    "                return False\n",
    "            if orderMap[words[i][j]] < orderMap[words[i+1][j]]:\n",
    "                break\n",
    "            if orderMap[words[i][j]] > orderMap[words[i+1][j]]:\n",
    "                return False\n",
    "    return True\n",
    "\n",
    "isAlienSorted(words, order)"
   ]
  },
  {
   "cell_type": "code",
   "execution_count": 101,
   "metadata": {},
   "outputs": [
    {
     "data": {
      "text/plain": [
       "False"
      ]
     },
     "execution_count": 101,
     "metadata": {},
     "output_type": "execute_result"
    }
   ],
   "source": [
    "# custom sort, time O(n), space O(1)\n",
    "def isAlienSorted(words, order):\n",
    "    return words == sorted(words, key=lambda word:[order.index(c) for c in word])\n",
    "isAlienSorted(words, order)"
   ]
  },
  {
   "cell_type": "markdown",
   "metadata": {},
   "source": [
    "### 6. Zigzag Conversion\n",
    "The string \"PAYPALISHIRING\" is written in a zigzag pattern on a given number of rows like this: (you may want to display this pattern in a fixed font for better legibility)\n",
    "\n",
    "P&emsp;A&emsp;H&emsp;N <br>\n",
    "A&nbsp;P&nbsp;L&nbsp;S&nbsp;I&nbsp;I&nbsp;G <br>\n",
    "Y&emsp;I&emsp;R <br>\n",
    "\n",
    "And then read line by line: \"PAHNAPLSIIGYIR\"\n",
    "\n",
    "Write the code that will take a string and make this conversion given a number of rows:\n",
    "\n",
    "string convert(string s, int numRows);"
   ]
  },
  {
   "cell_type": "code",
   "execution_count": 112,
   "metadata": {},
   "outputs": [],
   "source": [
    "s, numRows = \"PAYPALISHIRING\" ,4"
   ]
  },
  {
   "cell_type": "code",
   "execution_count": 175,
   "metadata": {},
   "outputs": [
    {
     "data": {
      "text/plain": [
       "'PINALSIGYAHRPI'"
      ]
     },
     "execution_count": 175,
     "metadata": {},
     "output_type": "execute_result"
    }
   ],
   "source": [
    "# time O(n), space O(n)\n",
    "def convert(s, numRows):\n",
    "    if numRows == 1:\n",
    "        return s\n",
    "    gap1, gap2 = (numRows - 1) * 2, 0\n",
    "    res = ''\n",
    "    idx = 0\n",
    "    for i in range(numRows):\n",
    "        idx = i\n",
    "        p = 0\n",
    "        while idx < len(s):\n",
    "            res += s[idx]\n",
    "            if gap2 == 0:\n",
    "                idx += gap1\n",
    "            elif gap1 == 0:\n",
    "                idx += gap2\n",
    "            else:\n",
    "                if p % 2 == 0: \n",
    "                    idx += gap1\n",
    "                else: \n",
    "                    idx += gap2\n",
    "                p += 1\n",
    "        gap1 -= 2\n",
    "        gap2 += 2\n",
    "    return res\n",
    "convert(s, numRows)"
   ]
  },
  {
   "cell_type": "code",
   "execution_count": 183,
   "metadata": {},
   "outputs": [
    {
     "name": "stdout",
     "output_type": "stream",
     "text": [
      "['PIN', 'ALSIG', 'YAHR', 'PI']\n"
     ]
    },
    {
     "data": {
      "text/plain": [
       "'PINALSIGYAHRPI'"
      ]
     },
     "execution_count": 183,
     "metadata": {},
     "output_type": "execute_result"
    }
   ],
   "source": [
    "def convert(s, numRows):\n",
    "    if numRows == len(s) or numRows == 1:\n",
    "        return s\n",
    "    res = [''] * numRows\n",
    "    idx = 1\n",
    "    goingUp = True # flag of traveling up\n",
    "    for char in s:\n",
    "        res[idx-1] += char\n",
    "        if idx == numRows: # reach the end of res list, travel back\n",
    "            goingUp = False\n",
    "        elif idx == 1:\n",
    "            goingUp = True # reach the beginning of res list, travel forward\n",
    "        if goingUp: # travel forward\n",
    "            idx += 1\n",
    "        else: # travel back\n",
    "            idx -= 1\n",
    "    print(res)\n",
    "    return ''.join(res)\n",
    "\n",
    "convert(s, numRows)"
   ]
  },
  {
   "cell_type": "markdown",
   "metadata": {},
   "source": [
    "### 567. Permutation in String\n",
    "Given two strings s1 and s2, return true if s2 contains a permutation of s1, or false otherwise.\n",
    "\n",
    "In other words, return true if one of s1's permutations is the substring of s2."
   ]
  },
  {
   "cell_type": "code",
   "execution_count": 195,
   "metadata": {},
   "outputs": [],
   "source": [
    "s1 = \"ab\"\n",
    "s2 = \"aibbaooo\""
   ]
  },
  {
   "cell_type": "code",
   "execution_count": 185,
   "metadata": {},
   "outputs": [
    {
     "data": {
      "text/plain": [
       "True"
      ]
     },
     "execution_count": 185,
     "metadata": {},
     "output_type": "execute_result"
    }
   ],
   "source": [
    "# hash map + sliding window, time O(l1 + l1 * (l2 - l1 + 1)), space O(2 * l1)\n",
    "def checkInclusion(s1, s2):\n",
    "    from collections import Counter\n",
    "    l1, l2 = len(s1), len(s2)\n",
    "    if l1 > l2:\n",
    "        return False\n",
    "    if l1 == l2:\n",
    "        return Counter(s1) == Counter(s2)\n",
    "    c1 = Counter(s1)\n",
    "    for i in range(l2 - l1 + 1):\n",
    "        c2 = Counter(s2[i: l1+i])\n",
    "        if c1 == c2:\n",
    "            return True\n",
    "    return False\n",
    "checkInclusion(s1, s2)"
   ]
  },
  {
   "cell_type": "code",
   "execution_count": 197,
   "metadata": {},
   "outputs": [
    {
     "data": {
      "text/plain": [
       "True"
      ]
     },
     "execution_count": 197,
     "metadata": {},
     "output_type": "execute_result"
    }
   ],
   "source": [
    "# sliding window method 2, optimised\n",
    "def checkInclusion(s1, s2):\n",
    "    l1, l2 = len(s1), len(s2)\n",
    "    if l1 > l2:\n",
    "        return False\n",
    "    c1 = [0] * 26\n",
    "    c2 = [0] * 26\n",
    "    for chr1 in s1:\n",
    "        c1[ord(chr1) - ord('a')] += 1\n",
    "    for i in range(l2):\n",
    "        c2[ord(s2[i]) - ord('a')] += 1\n",
    "        if i >= l1:\n",
    "            c2[ord(s2[i - l1]) - ord('a')] -= 1 # sliding window, reduce freq of s2[i - l1]\n",
    "        if c1 == c2:\n",
    "            return True\n",
    "    return False\n",
    "checkInclusion(s1, s2)"
   ]
  },
  {
   "cell_type": "markdown",
   "metadata": {},
   "source": [
    "### 438. Find All Anagrams in a String\n",
    "Given two strings s and p, return an array of all the start indices of p's anagrams in s. You may return the answer in any order.\n",
    "\n",
    "An Anagram is a word or phrase formed by rearranging the letters of a different word or phrase, typically using all the original letters exactly once."
   ]
  },
  {
   "cell_type": "code",
   "execution_count": 187,
   "metadata": {},
   "outputs": [],
   "source": [
    "s = \"cbaebabacd\"\n",
    "p = \"abc\""
   ]
  },
  {
   "cell_type": "code",
   "execution_count": 200,
   "metadata": {},
   "outputs": [
    {
     "data": {
      "text/plain": [
       "[0, 6]"
      ]
     },
     "execution_count": 200,
     "metadata": {},
     "output_type": "execute_result"
    }
   ],
   "source": [
    "def findAnagrams(s, p):\n",
    "    ns, np = len(s), len(p)\n",
    "    if ns < np:\n",
    "        return []\n",
    "    cp = [0] * 26\n",
    "    for chrp in p:\n",
    "        cp[ord(chrp) - ord('a')] += 1\n",
    "    res = []\n",
    "    cs = [0] * 26\n",
    "    for i in range(ns):\n",
    "        cs[ord(s[i]) - ord('a')] += 1\n",
    "        if i >= np:\n",
    "            cs[ord(s[i - np]) - ord('a')] -= 1\n",
    "        if cp == cs:\n",
    "            res.append(i - np + 1)\n",
    "    return res\n",
    "findAnagrams(s, p)"
   ]
  },
  {
   "cell_type": "markdown",
   "metadata": {},
   "source": [
    "### 2306. Naming a Company\n",
    "You are given an array of strings ideas that represents a list of names to be used in the process of naming a company. The process of naming a company is as follows:\n",
    "\n",
    "Choose 2 distinct names from ideas, call them ideaA and ideaB.<br>\n",
    "Swap the first letters of ideaA and ideaB with each other.<br>\n",
    "If both of the new names are not found in the original ideas, then the name ideaA ideaB (the concatenation of ideaA and ideaB, separated by a space) is a valid company name.<br>\n",
    "Otherwise, it is not a valid name.<br>\n",
    "Return the number of distinct valid names for the company."
   ]
  },
  {
   "cell_type": "markdown",
   "metadata": {},
   "source": [
    "Example 1:\n",
    "\n",
    "Input: ideas = [\"coffee\",\"donuts\",\"time\",\"toffee\"]\n",
    "Output: 6\n",
    "Explanation: The following selections are valid:\n",
    "- (\"coffee\", \"donuts\"): The company name created is \"doffee conuts\".\n",
    "- (\"donuts\", \"coffee\"): The company name created is \"conuts doffee\".\n",
    "- (\"donuts\", \"time\"): The company name created is \"tonuts dime\".\n",
    "- (\"donuts\", \"toffee\"): The company name created is \"tonuts doffee\".\n",
    "- (\"time\", \"donuts\"): The company name created is \"dime tonuts\".\n",
    "- (\"toffee\", \"donuts\"): The company name created is \"doffee tonuts\".\n",
    "Therefore, there are a total of 6 distinct company names.\n",
    "\n",
    "The following are some examples of invalid selections:\n",
    "- (\"coffee\", \"time\"): The name \"toffee\" formed after swapping already exists in the original array.\n",
    "- (\"time\", \"toffee\"): Both names are still the same after swapping and exist in the original array.\n",
    "- (\"coffee\", \"toffee\"): Both names formed after swapping already exist in the original array."
   ]
  },
  {
   "cell_type": "code",
   "execution_count": 1,
   "metadata": {},
   "outputs": [],
   "source": [
    "ideas = [\"coffee\",\"donuts\",\"time\",\"toffee\"]"
   ]
  },
  {
   "cell_type": "code",
   "execution_count": 9,
   "metadata": {},
   "outputs": [
    {
     "name": "stdout",
     "output_type": "stream",
     "text": [
      "{'doffee tonuts', 'tonuts dime', 'dime tonuts', 'doffee conuts', 'conuts doffee', 'tonuts doffee'}\n"
     ]
    },
    {
     "data": {
      "text/plain": [
       "6"
      ]
     },
     "execution_count": 9,
     "metadata": {},
     "output_type": "execute_result"
    }
   ],
   "source": [
    "# brutal force, time O(n^3), space O(len(names))\n",
    "def distinctNames(ideas):\n",
    "    names = set()\n",
    "    for i in range(len(ideas)):\n",
    "        for j in range(i+1, len(ideas)):\n",
    "            nameAtmp, nameBtmp = ideas[i], ideas[j]\n",
    "            nameA, nameB = nameBtmp[0]+nameAtmp[1:], nameAtmp[0]+nameBtmp[1:]\n",
    "            if nameA not in ideas and nameB not in ideas:\n",
    "                names.add(nameA+' '+nameB)\n",
    "                names.add(nameB+' '+nameA)\n",
    "    print(names)\n",
    "    return len(names)\n",
    "distinctNames(ideas)"
   ]
  },
  {
   "cell_type": "markdown",
   "metadata": {},
   "source": [
    "<img src='https://leetcode.com/problems/naming-a-company/solutions/3081799/Figures/2306/4.png' width='500'> <img src='https://leetcode.com/problems/naming-a-company/solutions/3081799/Figures/2306/5.png' width='480'>"
   ]
  },
  {
   "cell_type": "code",
   "execution_count": 23,
   "metadata": {},
   "outputs": [
    {
     "name": "stdout",
     "output_type": "stream",
     "text": [
      "defaultdict(<class 'set'>, {'c': {'offee'}, 'd': {'onuts'}, 't': {'ime', 'offee'}})\n"
     ]
    },
    {
     "data": {
      "text/plain": [
       "6"
      ]
     },
     "execution_count": 23,
     "metadata": {},
     "output_type": "execute_result"
    }
   ],
   "source": [
    "# Grouping, time O(n * (len(idx)) ^ 2)\n",
    "from collections import defaultdict\n",
    "hsh = defaultdict(set)\n",
    "for idea in ideas:\n",
    "    hsh[idea[0]].add(idea[1:])\n",
    "print(hsh)\n",
    "names = 0\n",
    "idx = [i for i in hsh]\n",
    "for i in range(len(idx)):\n",
    "    for j in range(i+1, len(idx)):\n",
    "        inter = len(hsh[idx[i]] & hsh[idx[j]])\n",
    "        comb1 = len(hsh[idx[i]]) - inter\n",
    "        comb2 = len(hsh[idx[j]]) - inter\n",
    "        names += 2 * comb1 * comb2\n",
    "names"
   ]
  },
  {
   "cell_type": "markdown",
   "metadata": {},
   "source": [
    "### 67. Add Binary\n",
    "Given two binary strings a and b, return their sum as a binary string."
   ]
  },
  {
   "cell_type": "code",
   "execution_count": 41,
   "metadata": {},
   "outputs": [],
   "source": [
    "a, b = \"1010\", \"1011\""
   ]
  },
  {
   "cell_type": "code",
   "execution_count": 39,
   "metadata": {},
   "outputs": [
    {
     "data": {
      "text/plain": [
       "'10101'"
      ]
     },
     "execution_count": 39,
     "metadata": {},
     "output_type": "execute_result"
    }
   ],
   "source": [
    "def addBinary(a, b):\n",
    "    if len(a) < len(b):\n",
    "        a, b = b, a\n",
    "    b = ''.join(['0']*(len(a)-len(b))) + b\n",
    "    idx = 0\n",
    "    res = ''\n",
    "    for i in range(len(a)-1,-1,-1):\n",
    "        res = str(int(a[i])^int(b[i])^idx) + res\n",
    "        if int(a[i]) + int(b[i]) + idx >= 2:\n",
    "            idx = 1\n",
    "        else: idx = 0\n",
    "    if idx == 1:\n",
    "        res = '1' + res\n",
    "    return res\n",
    "addBinary(a, b)"
   ]
  },
  {
   "cell_type": "code",
   "execution_count": 46,
   "metadata": {},
   "outputs": [
    {
     "data": {
      "text/plain": [
       "'10101'"
      ]
     },
     "execution_count": 46,
     "metadata": {},
     "output_type": "execute_result"
    }
   ],
   "source": [
    "def addBinary(a, b):\n",
    "    aL, bL = -len(a), -len(b)\n",
    "    i, carry, res = -1, 0, ''\n",
    "    while i >= aL or i >= bL:\n",
    "        aBit = int(a[i]) if i >= aL else 0\n",
    "        bBit = int(b[i]) if i >= bL else 0\n",
    "        s = aBit + bBit + carry\n",
    "        res = str(s % 2) + res # (1+1+1)%2=1, (1+1+0)%2=0, (1+0+0)%2=1, (0+0+0)%2=0 \n",
    "        carry = s // 2 # (1+1+1)//2=1, (1+1+0)//2=1, (1+0+0)//2=0, (0+0+0)//2=0\n",
    "        i -= 1\n",
    "    return '1' + res if carry else res\n",
    "addBinary(a, b)"
   ]
  },
  {
   "cell_type": "markdown",
   "metadata": {},
   "source": [
    "### 443. String Compression\n",
    "Given an array of characters chars, compress it using the following algorithm:\n",
    "\n",
    "Begin with an empty string s. For each group of consecutive repeating characters in chars:\n",
    "\n",
    "If the group's length is 1, append the character to s.\n",
    "Otherwise, append the character followed by the group's length.\n",
    "The compressed string s should not be returned separately, but instead, be stored in the input character array chars. Note that group lengths that are 10 or longer will be split into multiple characters in chars.\n",
    "\n",
    "After you are done modifying the input array, return the new length of the array.\n",
    "\n",
    "You must write an algorithm that uses only constant extra space.\n",
    "\n",
    "#### Example 1:\n",
    "Input: chars = [\"a\",\"a\",\"b\",\"b\",\"c\",\"c\",\"c\"]<br>\n",
    "Output: Return 6, and the first 6 characters of the input array should be: [\"a\",\"2\",\"b\",\"2\",\"c\",\"3\"]<br>\n",
    "Explanation: The groups are \"aa\", \"bb\", and \"ccc\". This compresses to \"a2b2c3\"."
   ]
  },
  {
   "cell_type": "code",
   "execution_count": 45,
   "metadata": {},
   "outputs": [
    {
     "name": "stdout",
     "output_type": "stream",
     "text": [
      "['a', 'b', 'b', 'b', 'b', 'b', 'b', 'b', 'b', 'b', 'b', 'b', 'b', 'c'] 0 1 1\n",
      "['a', 'b', 'b', 'b', 'b', 'b', 'b', 'b', 'b', 'b', 'b', 'b', 'b', 'c'] 1 2 1\n",
      "['a', 'b', 'b', 'b', 'b', 'b', 'b', 'b', 'b', 'b', 'b', 'b', 'c'] 1 2 2\n",
      "['a', 'b', 'b', 'b', 'b', 'b', 'b', 'b', 'b', 'b', 'b', 'c'] 1 2 3\n",
      "['a', 'b', 'b', 'b', 'b', 'b', 'b', 'b', 'b', 'b', 'c'] 1 2 4\n",
      "['a', 'b', 'b', 'b', 'b', 'b', 'b', 'b', 'b', 'c'] 1 2 5\n",
      "['a', 'b', 'b', 'b', 'b', 'b', 'b', 'b', 'c'] 1 2 6\n",
      "['a', 'b', 'b', 'b', 'b', 'b', 'b', 'c'] 1 2 7\n",
      "['a', 'b', 'b', 'b', 'b', 'b', 'c'] 1 2 8\n",
      "['a', 'b', 'b', 'b', 'b', 'c'] 1 2 9\n",
      "['a', 'b', 'b', 'b', 'c'] 1 2 10\n",
      "['a', 'b', 'b', 'c'] 1 2 11\n",
      "['a', 'b', 'c'] 1 2 12\n",
      "['a', 'b', '1', '2', 'c'] 4\n",
      "['a', 'b', '1', '2', 'c'] 4 5 1\n"
     ]
    },
    {
     "data": {
      "text/plain": [
       "5"
      ]
     },
     "execution_count": 45,
     "metadata": {},
     "output_type": "execute_result"
    }
   ],
   "source": [
    "chars = [\"a\",\"b\",\"b\",\"b\",\"b\",\"b\",\"b\",\"b\",\"b\",\"b\",\"b\",\"b\",\"b\",\"c\"]\n",
    "# two pointers, time O(n), space O(1)\n",
    "def compress(chars):\n",
    "    if len(chars) == 1:\n",
    "        return 1\n",
    "    slow, fast = 0, 1\n",
    "    cnt = 1\n",
    "    while True:\n",
    "        print(chars, slow, fast, cnt)\n",
    "        if fast <= len(chars)-1 and chars[slow] == chars[fast]:\n",
    "            chars.pop(fast)\n",
    "            cnt += 1\n",
    "        else:\n",
    "            if cnt > 1:\n",
    "                while cnt > 0:\n",
    "                    chars.insert(slow+1, str(cnt%10))\n",
    "                    cnt //= 10\n",
    "                    fast += 1\n",
    "                print(chars, fast)\n",
    "            cnt = 1\n",
    "            if fast > len(chars)-1:\n",
    "                break\n",
    "            slow = fast\n",
    "            fast += 1\n",
    "    return fast\n",
    "            \n",
    "compress(chars)"
   ]
  },
  {
   "cell_type": "markdown",
   "metadata": {},
   "source": [
    "### 28 Find the Index of the First Occurrence in a String\n",
    "Given two strings needle and haystack, return the index of the first occurrence of needle in haystack, or -1 if needle is not part of haystack.\n",
    "\n",
    "#### Example 1:\n",
    "Input: haystack = \"sadbutsad\", needle = \"sad\" <br>\n",
    "Output: 0<br>\n",
    "Explanation: \"sad\" occurs at index 0 and 6.\n",
    "The first occurrence is at index 0, so we return 0."
   ]
  },
  {
   "cell_type": "code",
   "execution_count": 54,
   "metadata": {},
   "outputs": [],
   "source": [
    "haystack = \"asadbutsad\"\n",
    "needle = \"sad\""
   ]
  },
  {
   "cell_type": "code",
   "execution_count": 55,
   "metadata": {},
   "outputs": [
    {
     "data": {
      "text/plain": [
       "1"
      ]
     },
     "execution_count": 55,
     "metadata": {},
     "output_type": "execute_result"
    }
   ],
   "source": [
    "def strStr(haystack, needle):\n",
    "    n, m = len(haystack), len(needle)\n",
    "    if n < m:\n",
    "        return -1\n",
    "    for i in range(n):\n",
    "        if n-i < m:\n",
    "            return -1\n",
    "        if haystack[i] == needle[0]:\n",
    "            if haystack[i:i+m] == needle:\n",
    "                return i\n",
    "    return -1\n",
    "strStr(haystack, needle)            "
   ]
  },
  {
   "cell_type": "code",
   "execution_count": 57,
   "metadata": {},
   "outputs": [
    {
     "name": "stdout",
     "output_type": "stream",
     "text": [
      "[0, 0, 0]\n"
     ]
    },
    {
     "data": {
      "text/plain": [
       "1"
      ]
     },
     "execution_count": 57,
     "metadata": {},
     "output_type": "execute_result"
    }
   ],
   "source": [
    "# KMP (Knuth Morris Pratt) Algo, time O(m+n), space(m)\n",
    "def strStr(haystack, needle):\n",
    "    n, m = len(haystack), len(needle)\n",
    "    if m == 0:\n",
    "        return 0\n",
    "    pi = [0] * m\n",
    "    j = 0 \n",
    "    for i in range(1, m):\n",
    "        while j > 0 and needle[j] != needle[i]:\n",
    "            j = pi[j - 1]\n",
    "        if needle[j] == needle[i]:\n",
    "            j += 1\n",
    "        pi[i] = j\n",
    "    j = 0\n",
    "    for i in range(n):\n",
    "        while j > 0 and needle[j] != haystack[i]:\n",
    "            j = pi[j - 1]\n",
    "        if needle[j] == haystack[i]:\n",
    "            j += 1\n",
    "        if j == m:\n",
    "            return i - m + 1\n",
    "    return -1\n",
    "strStr(haystack, needle)"
   ]
  },
  {
   "cell_type": "code",
   "execution_count": 60,
   "metadata": {},
   "outputs": [
    {
     "data": {
      "text/plain": [
       "1"
      ]
     },
     "execution_count": 60,
     "metadata": {},
     "output_type": "execute_result"
    }
   ],
   "source": [
    "def strStr(haystack, needle):\n",
    "    n, m = len(haystack), len(needle)\n",
    "    if m == 0:\n",
    "        return 0\n",
    "    if needle not in haystack:\n",
    "        return -1\n",
    "    return len(haystack.split(needle)[0])\n",
    "strStr(haystack, needle)"
   ]
  },
  {
   "cell_type": "markdown",
   "metadata": {},
   "source": [
    "### 208. Implement Trie (Prefix Tree)\n",
    "A trie (pronounced as \"try\") or prefix tree is a tree data structure used to efficiently store and retrieve keys in a dataset of strings. There are various applications of this data structure, such as autocomplete and spellchecker.\n",
    "\n",
    "Implement the Trie class:\n",
    "\n",
    "- Trie() Initializes the trie object.\n",
    "- void insert(String word) Inserts the string word into the trie.\n",
    "- boolean search(String word) Returns true if the string word is in the trie (i.e., was inserted before), and false otherwise.\n",
    "- boolean startsWith(String prefix) Returns true if there is a previously inserted string word that has the prefix prefix, and false otherwise.\n",
    "\n",
    "#### Example 1:\n",
    "Input: <br>\n",
    "[\"Trie\", \"insert\", \"search\", \"search\", \"startsWith\", \"insert\", \"search\"]<br>\n",
    "[[], [\"apple\"], [\"apple\"], [\"app\"], [\"app\"], [\"app\"], [\"app\"]]<br>\n",
    "Output:<br>\n",
    "[null, null, true, false, true, null, true]<br>\n",
    "\n",
    "Explanation:<br>\n",
    "- Trie trie = new Trie();\n",
    "- trie.insert(\"apple\");\n",
    "- trie.search(\"apple\");   // return True\n",
    "- trie.search(\"app\");     // return False\n",
    "- trie.startsWith(\"app\"); // return True\n",
    "- trie.insert(\"app\");\n",
    "- trie.search(\"app\");     // return True"
   ]
  },
  {
   "cell_type": "code",
   "execution_count": 7,
   "metadata": {},
   "outputs": [
    {
     "name": "stdout",
     "output_type": "stream",
     "text": [
      "True True\n"
     ]
    }
   ],
   "source": [
    "class Trie:\n",
    "    def __init__(self):\n",
    "        self.words = set()\n",
    "        self.pre = set()\n",
    "        \n",
    "    def insert(self, word):\n",
    "        self.words.add(word)\n",
    "        for i in range(len(word)):\n",
    "            self.pre.add(word[:i+1])\n",
    "        \n",
    "    def search(self, word):\n",
    "        return word in self.words\n",
    "        \n",
    "    def startsWith(self, prefix):\n",
    "        return prefix in self.pre\n",
    "        \n",
    "obj = Trie()\n",
    "obj.insert('apple')\n",
    "param_2 = obj.search('apple')\n",
    "param_3 = obj.startsWith('app')\n",
    "print(param_2, param_3)"
   ]
  },
  {
   "cell_type": "code",
   "execution_count": 8,
   "metadata": {},
   "outputs": [
    {
     "name": "stdout",
     "output_type": "stream",
     "text": [
      "True True\n"
     ]
    }
   ],
   "source": [
    "# solution found in: https://leetcode.com/problems/implement-trie-prefix-tree/solutions/631419/python-sol-by-dictionary-80-w-visualization/\n",
    "class TrieNode:\n",
    "    def __init__(self):\n",
    "        self.children = {}\n",
    "        self.end_of_word = False\n",
    "        \n",
    "class Trie:\n",
    "    def __init__(self):\n",
    "        self.root = TrieNode()\n",
    "        \n",
    "    def insert(self, word):\n",
    "        node = self.root\n",
    "        for char in word:\n",
    "            if char not in node.children:\n",
    "                node.children[char] = TrieNode()\n",
    "            node = node.children[char]\n",
    "        node.end_of_word = True\n",
    "        \n",
    "    def search(self, word):\n",
    "        node = self.root\n",
    "        for char in word:\n",
    "            if char not in node.children:\n",
    "                return False\n",
    "            node = node.children[char]\n",
    "        return node.end_of_word # if not the end of the word, it might be a prefix instead of a word\n",
    "    \n",
    "    def startsWith(self, prefix):\n",
    "        node = self.root\n",
    "        for char in prefix:\n",
    "            if char not in node.children:\n",
    "                return False\n",
    "            node = node.children[char]\n",
    "        return True\n",
    "\n",
    "obj = Trie()\n",
    "obj.insert('apple')\n",
    "param_2 = obj.search('apple')\n",
    "param_3 = obj.startsWith('app')\n",
    "print(param_2, param_3)"
   ]
  },
  {
   "cell_type": "markdown",
   "metadata": {},
   "source": [
    "### 1472. Design Browser History\n",
    "You have a browser of one tab where you start on the homepage and you can visit another url, get back in the history number of steps or move forward in the history number of steps.\n",
    "\n",
    "Implement the BrowserHistory class:\n",
    "\n",
    "- BrowserHistory(string homepage) Initializes the object with the homepage of the browser.\n",
    "- void visit(string url) Visits url from the current page. It clears up all the forward history.\n",
    "- string back(int steps) Move steps back in history. If you can only return x steps in the history and steps > x, you will return only x steps. Return the current url after moving back in history at most steps.\n",
    "- string forward(int steps) Move steps forward in history. If you can only forward x steps in the history and steps > x, you will forward only x steps. Return the current url after forwarding in history at most steps.\n",
    "\n",
    "#### Example:\n",
    "Input:<br>\n",
    "[\"BrowserHistory\",\"visit\",\"visit\",\"visit\",\"back\",\"back\",\"forward\",\"visit\",\"forward\",\"back\",\"back\"]<br>\n",
    "[[\"leetcode.com\"],[\"google.com\"],[\"facebook.com\"],[\"youtube.com\"],[1],[1],[1],[\"linkedin.com\"],[2],[2],[7]]<br>\n",
    "Output:<br>\n",
    "[null,null,null,null,\"facebook.com\",\"google.com\",\"facebook.com\",null,\"linkedin.com\",\"google.com\",\"leetcode.com\"]<br>\n",
    "\n",
    "Explanation: <br>\n",
    "- BrowserHistory browserHistory = new BrowserHistory(\"leetcode.com\");\n",
    "- browserHistory.visit(\"google.com\");       // You are in \"leetcode.com\". Visit \"google.com\"\n",
    "- browserHistory.visit(\"facebook.com\");     // You are in \"google.com\". Visit \"facebook.com\"\n",
    "- browserHistory.visit(\"youtube.com\");      // You are in \"facebook.com\". Visit \"youtube.com\"\n",
    "- browserHistory.back(1);                   // You are in \"youtube.com\", move back to \"facebook.com\" return \"facebook.com\"\n",
    "- browserHistory.back(1);                   // You are in \"facebook.com\", move back to \"google.com\" return \"google.com\"\n",
    "- browserHistory.forward(1);                // You are in \"google.com\", move forward to \"facebook.com\" return \"facebook.com\"\n",
    "- browserHistory.visit(\"linkedin.com\");     // You are in \"facebook.com\". Visit \"linkedin.com\"\n",
    "- browserHistory.forward(2);                // You are in \"linkedin.com\", you cannot move forward any steps.\n",
    "- browserHistory.back(2);                   // You are in \"linkedin.com\", move back two steps to \"facebook.com\" then to -\"google.com\". return \"google.com\"\n",
    "- browserHistory.back(7);                   // You are in \"google.com\", you can move back only one step to \"leetcode.com\". return \"leetcode.com\""
   ]
  },
  {
   "cell_type": "code",
   "execution_count": 10,
   "metadata": {},
   "outputs": [
    {
     "name": "stdout",
     "output_type": "stream",
     "text": [
      "facebook.com google.com facebook.com linkedin.com google.com leetcode.com\n"
     ]
    }
   ],
   "source": [
    "class DLinkedList:\n",
    "    def __init__(self, val=0, next=None, prev=None):\n",
    "        self.val = val\n",
    "        self.next = next\n",
    "        self.prev = prev\n",
    "    \n",
    "class BrowserHistory:\n",
    "    def __init__(self, homepage):\n",
    "        self.root = DLinkedList(homepage)\n",
    "        \n",
    "    def visit(self, url):\n",
    "        # create the next node\n",
    "        node = DLinkedList(url)\n",
    "        node.next = None\n",
    "        # doubly link the current node and the next node\n",
    "        self.root.next = node\n",
    "        node.prev = self.root\n",
    "        # move the current node to the next\n",
    "        self.root = self.root.next\n",
    "        \n",
    "    def back(self, steps):\n",
    "        while steps > 0 and self.root.prev:\n",
    "            steps -= 1\n",
    "            self.root = self.root.prev\n",
    "        return self.root.val\n",
    "    \n",
    "    def forward(self, steps):\n",
    "        while steps > 0 and self.root.next:\n",
    "            steps -= 1\n",
    "            self.root = self.root.next\n",
    "        return self.root.val\n",
    "    \n",
    "obj = BrowserHistory('leetcode.com')\n",
    "obj.visit('google.com')\n",
    "obj.visit('facebook.com')\n",
    "obj.visit('youtube.com')\n",
    "param_2 = obj.back(1)\n",
    "param_3 = obj.back(1)\n",
    "param_4 = obj.forward(1)\n",
    "obj.visit('linkedin.com')\n",
    "param_5 = obj.forward(2)\n",
    "param_6 = obj.back(2)\n",
    "param_7 = obj.back(7)\n",
    "print(param_2, param_3, param_4, param_5, param_6, param_7)"
   ]
  },
  {
   "cell_type": "code",
   "execution_count": 14,
   "metadata": {},
   "outputs": [
    {
     "name": "stdout",
     "output_type": "stream",
     "text": [
      "facebook.com google.com facebook.com linkedin.com google.com leetcode.com\n"
     ]
    }
   ],
   "source": [
    "# array approach\n",
    "class BrowserHistory:\n",
    "    def __init__(self, homepage):\n",
    "        self.history = [homepage]\n",
    "        self.current = 0\n",
    "    \n",
    "    def visit(self, url):\n",
    "        self.history = self.history[:self.current+1] + [url]\n",
    "        self.current += 1\n",
    "    \n",
    "    def back(self, steps):\n",
    "        self.current = max(0, self.current - steps)\n",
    "        return self.history[self.current]\n",
    "    \n",
    "    def forward(self, steps):\n",
    "        self.current = min(len(self.history)-1, self.current + steps)\n",
    "        return self.history[self.current]\n",
    "    \n",
    "obj = BrowserHistory('leetcode.com')\n",
    "obj.visit('google.com')\n",
    "obj.visit('facebook.com')\n",
    "obj.visit('youtube.com')\n",
    "param_2 = obj.back(1)\n",
    "param_3 = obj.back(1)\n",
    "param_4 = obj.forward(1)\n",
    "obj.visit('linkedin.com')\n",
    "param_5 = obj.forward(2)\n",
    "param_6 = obj.back(2)\n",
    "param_7 = obj.back(7)\n",
    "print(param_2, param_3, param_4, param_5, param_6, param_7)"
   ]
  },
  {
   "cell_type": "code",
   "execution_count": 16,
   "metadata": {},
   "outputs": [
    {
     "name": "stdout",
     "output_type": "stream",
     "text": [
      "facebook.com google.com facebook.com linkedin.com google.com leetcode.com\n"
     ]
    }
   ],
   "source": [
    "# stack approach\n",
    "class BrowserHistory:\n",
    "    def __init__(self, homepage):\n",
    "        self.history = []\n",
    "        self.future = []\n",
    "        self.history.append(homepage)\n",
    "        \n",
    "    def visit(self, url):\n",
    "        self.history.append(url)\n",
    "        self.future = []\n",
    "        \n",
    "    def back(self, steps):\n",
    "        while steps > 0 and len(self.history) > 1:\n",
    "            self.future.append(self.history.pop())\n",
    "            steps -= 1\n",
    "        return self.history[-1]\n",
    "    \n",
    "    def forward(self, steps):\n",
    "        while steps > 0 and self.future:\n",
    "            self.history.append(self.future.pop())\n",
    "            steps -= 1\n",
    "        return self.history[-1]\n",
    "            \n",
    "obj = BrowserHistory('leetcode.com')\n",
    "obj.visit('google.com')\n",
    "obj.visit('facebook.com')\n",
    "obj.visit('youtube.com')\n",
    "param_2 = obj.back(1)\n",
    "param_3 = obj.back(1)\n",
    "param_4 = obj.forward(1)\n",
    "obj.visit('linkedin.com')\n",
    "param_5 = obj.forward(2)\n",
    "param_6 = obj.back(2)\n",
    "param_7 = obj.back(7)\n",
    "print(param_2, param_3, param_4, param_5, param_6, param_7)"
   ]
  },
  {
   "cell_type": "markdown",
   "metadata": {},
   "source": [
    "### 211. Design Add and Search Words Data Structure\n",
    "Design a data structure that supports adding new words and finding if a string matches any previously added string.\n",
    "\n",
    "Implement the WordDictionary class:\n",
    "\n",
    "- WordDictionary() Initializes the object.\n",
    "- void addWord(word) Adds word to the data structure, it can be matched later.\n",
    "- bool search(word) Returns true if there is any string in the data structure that matches word or false otherwise. word may - contain dots '.' where dots can be matched with any letter.\n",
    "\n",
    "#### Example:\n",
    "Input <br>\n",
    "[\"WordDictionary\",\"addWord\",\"addWord\",\"addWord\",\"search\",\"search\",\"search\",\"search\"]<br>\n",
    "[[],[\"bad\"],[\"dad\"],[\"mad\"],[\"pad\"],[\"bad\"],[\".ad\"],[\"b..\"]]<br>\n",
    "Output<br>\n",
    "[null,null,null,null,false,true,true,true]<br>\n",
    "\n",
    "Explanation<br>\n",
    "- WordDictionary wordDictionary = new WordDictionary();\n",
    "- wordDictionary.addWord(\"bad\");\n",
    "- wordDictionary.addWord(\"dad\");\n",
    "- wordDictionary.addWord(\"mad\");\n",
    "- wordDictionary.search(\"pad\"); // return False\n",
    "- wordDictionary.search(\"bad\"); // return True\n",
    "- wordDictionary.search(\".ad\"); // return True\n",
    "- wordDictionary.search(\"b..\"); // return True"
   ]
  },
  {
   "cell_type": "code",
   "execution_count": 18,
   "metadata": {},
   "outputs": [
    {
     "name": "stdout",
     "output_type": "stream",
     "text": [
      "False True True True\n"
     ]
    }
   ],
   "source": [
    "# Trie + BFS\n",
    "class Trie:\n",
    "    def __init__(self):\n",
    "        self.children = {}\n",
    "        self.is_end = False\n",
    "\n",
    "class WordDictionary:\n",
    "    def __init__(self):\n",
    "        self.root = Trie()\n",
    "        \n",
    "    def addWord(self, word):\n",
    "        node = self.root\n",
    "        for ch in word:\n",
    "            if ch not in node.children:\n",
    "                node.children[ch] = Trie()\n",
    "            node = node.children[ch]\n",
    "        node.is_end = True\n",
    "        \n",
    "    def search(self, word):\n",
    "        def dfs(node, i):\n",
    "            if i == len(word): # if search to the end of the word\n",
    "                return node.is_end\n",
    "            if word[i] == '.':\n",
    "                for child in node.children:\n",
    "                    if dfs(node.children[child], i+1):\n",
    "                        return True\n",
    "            if word[i] in node.children:\n",
    "                return dfs(node.children[word[i]], i+1)\n",
    "            return False\n",
    "        return dfs(self.root, 0)\n",
    "    \n",
    "obj = WordDictionary()\n",
    "obj.addWord('bad')\n",
    "obj.addWord('dad')\n",
    "obj.addWord('mad')\n",
    "param_2 = obj.search('pad')\n",
    "param_3 = obj.search('bad')\n",
    "param_4 = obj.search('.ad')\n",
    "param_5 = obj.search('b..')\n",
    "print(param_2, param_3, param_4, param_5)"
   ]
  },
  {
   "cell_type": "code",
   "execution_count": 27,
   "metadata": {
    "scrolled": true
   },
   "outputs": [
    {
     "name": "stdout",
     "output_type": "stream",
     "text": [
      "False True True True\n"
     ]
    }
   ],
   "source": [
    "class WordDictionary:\n",
    "\n",
    "    def __init__(self):\n",
    "        self.children = [None] * 26\n",
    "        self.is_end = False\n",
    "        \n",
    "    def addWord(self, word):\n",
    "        node = self\n",
    "        for ch in word:\n",
    "            if not node.children[ord(ch)-ord('a')]:\n",
    "                node.children[ord(ch)-ord('a')] = WordDictionary()\n",
    "            node = node.children[ord(ch)-ord('a')]\n",
    "        node.is_end = True\n",
    "        \n",
    "    def search(self, word):\n",
    "        node = self\n",
    "        for i in range(len(word)):\n",
    "            if word[i] == '.':\n",
    "                for child in node.children:\n",
    "                    if child and child.search(word[i+1:]):\n",
    "                        return True\n",
    "                return False\n",
    "            if not node.children[ord(word[i])-ord('a')]:\n",
    "                return False\n",
    "            node = node.children[ord(word[i])-ord('a')]\n",
    "        return node and node.is_end\n",
    "\n",
    "obj = WordDictionary()\n",
    "obj.addWord('bad')\n",
    "obj.addWord('dad')\n",
    "obj.addWord('mad')\n",
    "param_2 = obj.search('pad')\n",
    "param_3 = obj.search('bad')\n",
    "param_4 = obj.search('.ad')\n",
    "param_5 = obj.search('b..')\n",
    "print(param_2, param_3, param_4, param_5)"
   ]
  },
  {
   "cell_type": "markdown",
   "metadata": {},
   "source": [
    "### 2405. Optimal Partition of String\n",
    "Given a string s, partition the string into one or more substrings such that the characters in each substring are unique. That is, no letter appears in a single substring more than once.\n",
    "\n",
    "Return the minimum number of substrings in such a partition.\n",
    "\n",
    "Note that each character should belong to exactly one substring in a partition.\n",
    " \n",
    "#### Example 1:\n",
    "**Input**: s = \"abacaba\" <br>\n",
    "**Output**: 4 <br>\n",
    "**Explanation**: <br>\n",
    "Two possible partitions are (\"a\",\"ba\",\"cab\",\"a\") and (\"ab\",\"a\",\"ca\",\"ba\"). <br>\n",
    "It can be shown that 4 is the minimum number of substrings needed."
   ]
  },
  {
   "cell_type": "code",
   "execution_count": 3,
   "metadata": {},
   "outputs": [
    {
     "name": "stdout",
     "output_type": "stream",
     "text": [
      "{'a': 1, 'b': 1}\n",
      "{'a': 1, 'c': 1}\n",
      "{'a': 1, 'b': 1}\n"
     ]
    },
    {
     "data": {
      "text/plain": [
       "4"
      ]
     },
     "execution_count": 3,
     "metadata": {},
     "output_type": "execute_result"
    }
   ],
   "source": [
    "s = \"abacaba\"\n",
    "\n",
    "def partitionString(s): # greedy + hash table (can use set() alternatively), time O(n), space O(1) (worst space: 26)\n",
    "    hsh = {}\n",
    "    res = 1\n",
    "    for i in s:\n",
    "        if i in hsh:\n",
    "            print(hsh)\n",
    "            res += 1\n",
    "            hsh = {}\n",
    "        hsh[i] = 1\n",
    "    return res\n",
    "\n",
    "partitionString(s)"
   ]
  },
  {
   "cell_type": "code",
   "execution_count": 28,
   "metadata": {},
   "outputs": [
    {
     "data": {
      "text/plain": [
       "4"
      ]
     },
     "execution_count": 28,
     "metadata": {},
     "output_type": "execute_result"
    }
   ],
   "source": [
    "def partitionString(s): # greedy + bit manipulation/bitmask (xor)\n",
    "    flag, ans = 0, 1\n",
    "    for i in s:\n",
    "        # if the new char appeared in flag, reset flag\n",
    "        if flag & (1 << (ord(i) - ord('a'))):\n",
    "            flag = 0\n",
    "            ans += 1\n",
    "        # use 'flag' to track the set of the bits corresponding to the characters appears in the current substring\n",
    "        # shift the current char one bit to the left to avoid odd numbers \n",
    "        # (otherwise after xor the last bit will always change from 1 to 0)\n",
    "        flag ^= 1 << (ord(i) - ord('a')) # '^': sets each bit to 1 if only one of two bits is 1\n",
    "    return ans\n",
    "\n",
    "partitionString(s)"
   ]
  },
  {
   "cell_type": "markdown",
   "metadata": {},
   "source": [
    "### 2390. Removing Stars From a String\n",
    "You are given a string s, which contains stars *.\n",
    "\n",
    "In one operation, you can:\n",
    "\n",
    "Choose a star in s.\n",
    "Remove the closest non-star character to its left, as well as remove the star itself.\n",
    "Return the string after all stars have been removed.\n",
    "\n",
    "Note:\n",
    "\n",
    "The input will be generated such that the operation is always possible.\n",
    "It can be shown that the resulting string will always be unique.\n",
    "\n",
    "#### Example 1:\n",
    "**Input**: s = \"leet\\*\\*cod\\*e\"<br>\n",
    "**Output**: \"lecoe\"<br>\n",
    "**Explanation**: Performing the removals from left to right:\n",
    "- The closest character to the 1st star is 't' in \"leet\\*\\*cod*e\". s becomes \"lee*cod*e\".\n",
    "- The closest character to the 2nd star is 'e' in \"lee*cod*e\". s becomes \"lecod*e\".\n",
    "- The closest character to the 3rd star is 'd' in \"lecod*e\". s becomes \"lecoe\".\n",
    "\n",
    "There are no more stars, so we return \"lecoe\"."
   ]
  },
  {
   "cell_type": "code",
   "execution_count": 8,
   "metadata": {},
   "outputs": [
    {
     "data": {
      "text/plain": [
       "''"
      ]
     },
     "execution_count": 8,
     "metadata": {},
     "output_type": "execute_result"
    }
   ],
   "source": [
    "def removeStars(s): # two pointers, time O(N**2), space O(1)\n",
    "    i = 0\n",
    "    while i < len(s):\n",
    "        if i==0 and s[i]=='*':\n",
    "            s = s[:i] + s[i+1:]\n",
    "        elif s[i]=='*':\n",
    "            s = s[:i-1] + s[i+1:]\n",
    "            i -= 1\n",
    "        else:\n",
    "            i += 1\n",
    "    return s\n",
    "s = \"erase*****\"\n",
    "removeStars(s)"
   ]
  },
  {
   "cell_type": "code",
   "execution_count": 11,
   "metadata": {},
   "outputs": [
    {
     "data": {
      "text/plain": [
       "''"
      ]
     },
     "execution_count": 11,
     "metadata": {},
     "output_type": "execute_result"
    }
   ],
   "source": [
    "def removeStars(s): # stack, time O(n), space O(n)\n",
    "    stack = []\n",
    "    for char in s:\n",
    "        if char != '*':\n",
    "            stack.append(char)\n",
    "        elif stack:\n",
    "            stack.pop()\n",
    "    return ''.join(stack)\n",
    "s = \"erase*****\"\n",
    "removeStars(s)"
   ]
  },
  {
   "cell_type": "markdown",
   "metadata": {},
   "source": [
    "### 71. Simplify Path\n",
    "Given a string path, which is an absolute path (starting with a slash '/') to a file or directory in a Unix-style file system, convert it to the simplified canonical path.\n",
    "\n",
    "In a Unix-style file system, a period '.' refers to the current directory, a double period '..' refers to the directory up a level, and any multiple consecutive slashes (i.e. '//') are treated as a single slash '/'. For this problem, any other format of periods such as '...' are treated as file/directory names.\n",
    "\n",
    "The canonical path should have the following format:\n",
    "\n",
    "The path starts with a single slash '/'. <br>\n",
    "Any two directories are separated by a single slash '/'. <br>\n",
    "The path does not end with a trailing '/'. <br>\n",
    "The path only contains the directories on the path from the root directory to the target file or directory (i.e., no period '.' or double period '..') <br>\n",
    "Return the simplified canonical path.\n",
    "\n",
    "#### Example 1:\n",
    "**Input**: path = \"/home//foo/\" <br>\n",
    "**Output**: \"/home/foo\" <br>\n",
    "**Explanation**: In the canonical path, multiple consecutive slashes are replaced by a single one."
   ]
  },
  {
   "cell_type": "code",
   "execution_count": 45,
   "metadata": {},
   "outputs": [
    {
     "name": "stdout",
     "output_type": "stream",
     "text": [
      "['/', 'home', '/', 'user', '/', 'Pictures', '/']\n"
     ]
    },
    {
     "data": {
      "text/plain": [
       "'/home/user/Pictures'"
      ]
     },
     "execution_count": 45,
     "metadata": {},
     "output_type": "execute_result"
    }
   ],
   "source": [
    "# stack, time O(n), space O(n)\n",
    "def simplifyPath(path):\n",
    "    if len(path) == 1:\n",
    "        return path\n",
    "    stack = ['/']\n",
    "    tmp = ''\n",
    "    for i in range(1, len(path)):\n",
    "        if path[i] == '/':\n",
    "            if tmp == '.':\n",
    "                tmp = ''\n",
    "            elif tmp == '..':\n",
    "                if len(stack) > 1:\n",
    "                    stack.pop()\n",
    "                if len(stack) > 1:\n",
    "                    stack.pop()\n",
    "                tmp = ''\n",
    "            elif len(tmp) > 0:\n",
    "                stack.append(tmp)\n",
    "                tmp = ''\n",
    "            if not stack or stack[-1] != '/':\n",
    "                stack.append(path[i])\n",
    "        else:\n",
    "            tmp += path[i]\n",
    "    if len(tmp) > 0:\n",
    "        if tmp == '..':\n",
    "            if len(stack) > 1:\n",
    "                stack.pop()\n",
    "            if len(stack) > 1:\n",
    "                stack.pop()\n",
    "        elif tmp != '.':\n",
    "            stack.append(tmp)\n",
    "    print(stack)\n",
    "    while len(stack) > 1 and stack[-1] == '/':\n",
    "        stack.pop()           \n",
    "    return ''.join(stack)\n",
    "\n",
    "path = \"/home/user/./Downloads/../Pictures/././\"\n",
    "simplifyPath(path)"
   ]
  },
  {
   "cell_type": "code",
   "execution_count": 46,
   "metadata": {},
   "outputs": [
    {
     "data": {
      "text/plain": [
       "'/home/user/Pictures'"
      ]
     },
     "execution_count": 46,
     "metadata": {},
     "output_type": "execute_result"
    }
   ],
   "source": [
    "# stack method 2, time O(n), space O(n)\n",
    "def simplifyPath(path):\n",
    "    stack = []\n",
    "    path = path.split('/')\n",
    "    for elem in path:\n",
    "        if stack and elem == '..':\n",
    "            stack.pop()\n",
    "        elif elem not in ['.', '..', '']:\n",
    "            stack.append(elem)\n",
    "    return '/' + '/'.join(stack)\n",
    "simplifyPath(path)"
   ]
  },
  {
   "cell_type": "markdown",
   "metadata": {},
   "source": [
    "### 1768. Merge Strings Alternately\n",
    "You are given two strings word1 and word2. Merge the strings by adding letters in alternating order, starting with word1. If a string is longer than the other, append the additional letters onto the end of the merged string.\n",
    "\n",
    "Return the merged string.\n",
    "\n",
    "#### Example 1:\n",
    "**Input**: word1 = \"abc\", word2 = \"pqr\" <br>\n",
    "**Output**: \"apbqcr\"<br>\n",
    "**Explanation**: The merged string will be merged as so:\n",
    "- word1:  a   b   c\n",
    "- word2:    p   q   r\n",
    "- merged: a p b q c r"
   ]
  },
  {
   "cell_type": "code",
   "execution_count": 60,
   "metadata": {},
   "outputs": [],
   "source": [
    "word1 = \"ab\"\n",
    "word2 = \"pqrs\""
   ]
  },
  {
   "cell_type": "code",
   "execution_count": 66,
   "metadata": {},
   "outputs": [
    {
     "data": {
      "text/plain": [
       "'apbqrs'"
      ]
     },
     "execution_count": 66,
     "metadata": {},
     "output_type": "execute_result"
    }
   ],
   "source": [
    "def mergeAlternately(word1, word2):\n",
    "    n, m = len(word1), len(word2)\n",
    "    i = 0\n",
    "    res = ''\n",
    "    while i < n and i < m:\n",
    "        res += word1[i]\n",
    "        res += word2[i]\n",
    "        i += 1\n",
    "    res += word1[i:]\n",
    "    res += word2[i:]\n",
    "    return res\n",
    "mergeAlternately(word1, word2)"
   ]
  },
  {
   "cell_type": "code",
   "execution_count": 70,
   "metadata": {},
   "outputs": [
    {
     "name": "stdout",
     "output_type": "stream",
     "text": [
      "apbq 1\n"
     ]
    },
    {
     "data": {
      "text/plain": [
       "'apbqrs'"
      ]
     },
     "execution_count": 70,
     "metadata": {},
     "output_type": "execute_result"
    }
   ],
   "source": [
    "def mergeAlternately(word1, word2):\n",
    "    n, m = len(word1), len(word2)\n",
    "    i = 0\n",
    "    res = ''\n",
    "    for i, (char1, char2) in enumerate(zip(word1, word2)):\n",
    "        res += char1 + char2\n",
    "    res += word1[i+1:] + word2[i+1:]\n",
    "    return res\n",
    "mergeAlternately(word1, word2)"
   ]
  },
  {
   "cell_type": "code",
   "execution_count": 72,
   "metadata": {},
   "outputs": [
    {
     "data": {
      "text/plain": [
       "'apbqrs'"
      ]
     },
     "execution_count": 72,
     "metadata": {},
     "output_type": "execute_result"
    }
   ],
   "source": [
    "def mergeAlternately(word1, word2):\n",
    "    import itertools\n",
    "    return ''.join(char1+char2 for char1, char2 in itertools.zip_longest(word1, word2, fillvalue=\"\"))\n",
    "mergeAlternately(word1, word2)"
   ]
  },
  {
   "cell_type": "markdown",
   "metadata": {},
   "source": [
    "### 258. Add Digits\n",
    "Given an integer num, repeatedly add all its digits until the result has only one digit, and return it.\n",
    "\n",
    "#### Example:\n",
    "**Input**: num = 38 <br>\n",
    "**Output**: 2 <br>\n",
    "**Explanation**: The process is <br>\n",
    "- 38 --> 3 + 8 --> 11\n",
    "- 11 --> 1 + 1 --> 2 \n",
    "- Since 2 has only one digit, return it."
   ]
  },
  {
   "cell_type": "code",
   "execution_count": 28,
   "metadata": {},
   "outputs": [
    {
     "data": {
      "text/plain": [
       "9"
      ]
     },
     "execution_count": 28,
     "metadata": {},
     "output_type": "execute_result"
    }
   ],
   "source": [
    "num = 99\n",
    "\n",
    "def addDigits(num):\n",
    "    tmp = 0\n",
    "    while True:\n",
    "        tmp += num % 10\n",
    "        num //= 10\n",
    "        if num <= 0 and tmp < 10:\n",
    "            return tmp\n",
    "        elif num <= 0:\n",
    "            num = tmp\n",
    "            tmp = 0\n",
    "addDigits(num)        "
   ]
  },
  {
   "cell_type": "code",
   "execution_count": 49,
   "metadata": {},
   "outputs": [
    {
     "data": {
      "text/plain": [
       "0"
      ]
     },
     "execution_count": 49,
     "metadata": {},
     "output_type": "execute_result"
    }
   ],
   "source": [
    "num = 0\n",
    "# 1->1,   2->2...   9->9;\n",
    "# 10->1,  11->2... 18->9;\n",
    "# the pattern repeats with a period of 9\n",
    "def addDigits(num): # time O(1)\n",
    "#     if num == 0:\n",
    "#         return 0\n",
    "#     res = num % 9\n",
    "#     return res if res != 0 else 9\n",
    "    return 0 if num == 0 else (num - 1) % 9 + 1\n",
    "addDigits(num) "
   ]
  },
  {
   "cell_type": "markdown",
   "metadata": {},
   "source": [
    "### 1945. Sum of Digits of String After Convert\n",
    "You are given a string s consisting of lowercase English letters, and an integer k.\n",
    "\n",
    "First, convert s into an integer by replacing each letter with its position in the alphabet (i.e., replace 'a' with 1, 'b' with 2, ..., 'z' with 26). Then, transform the integer by replacing it with the sum of its digits. Repeat the transform operation k times in total.\n",
    "\n",
    "For example, if s = \"zbax\" and k = 2, then the resulting integer would be 8 by the following operations:\n",
    "- Convert: \"zbax\" ➝ \"(26)(2)(1)(24)\" ➝ \"262124\" ➝ 262124\n",
    "- Transform #1: 262124 ➝ 2 + 6 + 2 + 1 + 2 + 4 ➝ 17\n",
    "- Transform #2: 17 ➝ 1 + 7 ➝ 8\n",
    "\n",
    "Return the resulting integer after performing the operations described above."
   ]
  },
  {
   "cell_type": "code",
   "execution_count": 60,
   "metadata": {},
   "outputs": [
    {
     "data": {
      "text/plain": [
       "33"
      ]
     },
     "execution_count": 60,
     "metadata": {},
     "output_type": "execute_result"
    }
   ],
   "source": [
    "s, k = \"leetcode\", 1\n",
    "\n",
    "def getLucky(s, k):\n",
    "    res = [str(ord(char) - ord('a') + 1) for char in s]\n",
    "    s = int(''.join(res))\n",
    "    while k > 0:\n",
    "        tmp = 0\n",
    "        while s > 0:\n",
    "            tmp += s % 10\n",
    "            s //= 10\n",
    "        k -= 1\n",
    "        if tmp < 10:\n",
    "            return tmp\n",
    "        else:\n",
    "            s = tmp\n",
    "    return s\n",
    "\n",
    "getLucky(s, k)"
   ]
  },
  {
   "cell_type": "code",
   "execution_count": 63,
   "metadata": {},
   "outputs": [
    {
     "data": {
      "text/plain": [
       "33"
      ]
     },
     "execution_count": 63,
     "metadata": {},
     "output_type": "execute_result"
    }
   ],
   "source": [
    "def getLucky(s, k):\n",
    "    res = [str(ord(char) - ord('a') + 1) for char in s]\n",
    "    s = ''.join(res)\n",
    "    while k > 0:\n",
    "        s = sum([int(char) for char in str(s)])\n",
    "        if s < 10:\n",
    "            return s\n",
    "        k -= 1\n",
    "    return s\n",
    "getLucky(s, k)    "
   ]
  },
  {
   "cell_type": "code",
   "execution_count": null,
   "metadata": {},
   "outputs": [],
   "source": []
  },
  {
   "cell_type": "code",
   "execution_count": null,
   "metadata": {},
   "outputs": [],
   "source": []
  },
  {
   "cell_type": "code",
   "execution_count": null,
   "metadata": {},
   "outputs": [],
   "source": []
  },
  {
   "cell_type": "code",
   "execution_count": null,
   "metadata": {},
   "outputs": [],
   "source": []
  }
 ],
 "metadata": {
  "kernelspec": {
   "display_name": "Python 3",
   "language": "python",
   "name": "python3"
  },
  "language_info": {
   "codemirror_mode": {
    "name": "ipython",
    "version": 3
   },
   "file_extension": ".py",
   "mimetype": "text/x-python",
   "name": "python",
   "nbconvert_exporter": "python",
   "pygments_lexer": "ipython3",
   "version": "3.7.1"
  }
 },
 "nbformat": 4,
 "nbformat_minor": 2
}
