{
 "cells": [
  {
   "cell_type": "markdown",
   "metadata": {},
   "source": [
    "### 1704. Determine if String Halves Are Alike\n",
    "You are given a string s of even length. Split this string into two halves of equal lengths, and let a be the first half and b be the second half.\n",
    "\n",
    "Two strings are alike if they have the same number of vowels ('a', 'e', 'i', 'o', 'u', 'A', 'E', 'I', 'O', 'U'). Notice that s contains uppercase and lowercase letters.\n",
    "\n",
    "Return true if a and b are alike. Otherwise, return false."
   ]
  },
  {
   "cell_type": "code",
   "execution_count": 7,
   "metadata": {},
   "outputs": [
    {
     "name": "stdout",
     "output_type": "stream",
     "text": [
      "False\n"
     ]
    }
   ],
   "source": [
    "s = \"textbook\"\n",
    "a = s[:len(s)//2]\n",
    "b = s[len(s)//2:]\n",
    "m = {'a', 'e', 'i', 'o', 'u', 'A', 'E', 'I', 'O', 'U'}\n",
    "ca, cb = 0, 0\n",
    "for i in range(len(a)):\n",
    "    if a[i] in m:\n",
    "        ca += 1\n",
    "    if b[i] in m:\n",
    "        cb += 1\n",
    "print(ca == cb)"
   ]
  },
  {
   "cell_type": "markdown",
   "metadata": {},
   "source": [
    "### 20. Valid Parentheses"
   ]
  },
  {
   "cell_type": "code",
   "execution_count": 1,
   "metadata": {},
   "outputs": [
    {
     "name": "stdout",
     "output_type": "stream",
     "text": [
      "True\n"
     ]
    }
   ],
   "source": [
    "s =\"([]{{[]}})\"\n",
    "while len(s)>0:\n",
    "    s1 = s\n",
    "    s = s.replace('{}', '')\n",
    "    s = s.replace('[]', '')\n",
    "    s = s.replace('()', '')\n",
    "    if s == s1:\n",
    "        break\n",
    "print(len(s) == 0)"
   ]
  },
  {
   "cell_type": "markdown",
   "metadata": {},
   "source": [
    "### 1657. Determine if Two Strings Are Close\n",
    "Two strings are considered close if you can attain one from the other using the following operations: <br>\n",
    " <br>\n",
    "Operation 1: Swap any two existing characters. <br>\n",
    "For example, abcde -> aecdb <br>\n",
    "Operation 2: Transform every occurrence of one existing character into another existing character, and do the same with the other character. <br>\n",
    "For example, aacabb -> bbcbaa (all a's turn into b's, and all b's turn into a's) <br>\n",
    "You can use the operations on either string as many times as necessary. <br>\n",
    " <br>\n",
    "Given two strings, word1 and word2, return true if word1 and word2 are close, and false otherwise. <br>"
   ]
  },
  {
   "cell_type": "code",
   "execution_count": 47,
   "metadata": {},
   "outputs": [
    {
     "name": "stdout",
     "output_type": "stream",
     "text": [
      "True\n"
     ]
    }
   ],
   "source": [
    "# time complexity: Counter(): O(n); sorted(): O(nlogn). Total: O(nlogn)\n",
    "from collections import defaultdict\n",
    "from collections import Counter\n",
    "word1 = \"decabbba\"\n",
    "word2 = \"abcccbde\"\n",
    "# dic1 = defaultdict(int)\n",
    "# dic2 = defaultdict(int)\n",
    "# for i in word1:\n",
    "#     dic1[i] += 1\n",
    "# for j in word2:\n",
    "#     dic2[j] += 1\n",
    "# for i in dic2:\n",
    "#     if i not in dic1:\n",
    "#         print(dic2[i])\n",
    "#         break\n",
    "# Counter build a hash table counting the occurancy of item\n",
    "cnt1 = Counter(word1)\n",
    "cnt2 = Counter(word2)\n",
    "# Counter.keys() returns the item names\n",
    "if cnt1.keys() != cnt2.keys():\n",
    "    print('False')\n",
    "# Counter.values() returns the occurancy of items\n",
    "elif sorted(cnt1.values()) != sorted(cnt2.values()):\n",
    "    print('False')\n",
    "else:\n",
    "    print('True')"
   ]
  },
  {
   "cell_type": "code",
   "execution_count": 48,
   "metadata": {},
   "outputs": [
    {
     "data": {
      "text/plain": [
       "dict_keys(['d', 'e', 'c', 'a', 'b'])"
      ]
     },
     "execution_count": 48,
     "metadata": {},
     "output_type": "execute_result"
    }
   ],
   "source": [
    "cnt1.keys()"
   ]
  },
  {
   "cell_type": "code",
   "execution_count": 49,
   "metadata": {},
   "outputs": [
    {
     "data": {
      "text/plain": [
       "dict_keys(['a', 'b', 'c', 'd', 'e'])"
      ]
     },
     "execution_count": 49,
     "metadata": {},
     "output_type": "execute_result"
    }
   ],
   "source": [
    "cnt2.keys()"
   ]
  },
  {
   "cell_type": "code",
   "execution_count": 50,
   "metadata": {},
   "outputs": [
    {
     "data": {
      "text/plain": [
       "True"
      ]
     },
     "execution_count": 50,
     "metadata": {},
     "output_type": "execute_result"
    }
   ],
   "source": [
    "cnt1.keys() == cnt2.keys()"
   ]
  },
  {
   "cell_type": "code",
   "execution_count": 51,
   "metadata": {},
   "outputs": [
    {
     "data": {
      "text/plain": [
       "dict_values([1, 2, 3, 1, 1])"
      ]
     },
     "execution_count": 51,
     "metadata": {},
     "output_type": "execute_result"
    }
   ],
   "source": [
    "cnt2.values()"
   ]
  },
  {
   "cell_type": "code",
   "execution_count": 52,
   "metadata": {},
   "outputs": [
    {
     "data": {
      "text/plain": [
       "dict_values([1, 1, 1, 2, 3])"
      ]
     },
     "execution_count": 52,
     "metadata": {},
     "output_type": "execute_result"
    }
   ],
   "source": [
    "cnt1.values()"
   ]
  },
  {
   "cell_type": "code",
   "execution_count": 53,
   "metadata": {},
   "outputs": [
    {
     "data": {
      "text/plain": [
       "False"
      ]
     },
     "execution_count": 53,
     "metadata": {},
     "output_type": "execute_result"
    }
   ],
   "source": [
    "cnt1.values() == cnt2.values()"
   ]
  },
  {
   "cell_type": "markdown",
   "metadata": {},
   "source": [
    "### 451. Sort Characters By Frequency\n",
    "Given a string s, sort it in decreasing order based on the frequency of the characters. The frequency of a character is the number of times it appears in the string."
   ]
  },
  {
   "cell_type": "code",
   "execution_count": 56,
   "metadata": {},
   "outputs": [
    {
     "name": "stdout",
     "output_type": "stream",
     "text": [
      "eetr\n",
      "eetr\n"
     ]
    }
   ],
   "source": [
    "s = \"tree\"\n",
    "# hash table methd, time O(nlogk), space O(n), n is len(s), k is number of unique items in s\n",
    "from collections import Counter\n",
    "\n",
    "dic = Counter(s)\n",
    "res = \"\"\n",
    "for w, c in dic.most_common():\n",
    "    res += w * c\n",
    "print(res)\n",
    "res = \"\"\n",
    "for w, c in sorted(dic.items(), key = lambda pairs : pairs[1], reverse = True):\n",
    "    res += w * c\n",
    "print(res)"
   ]
  },
  {
   "cell_type": "code",
   "execution_count": 58,
   "metadata": {},
   "outputs": [
    {
     "name": "stdout",
     "output_type": "stream",
     "text": [
      "eert\n"
     ]
    }
   ],
   "source": [
    "# heap, time O(nlogk), space O(n)\n",
    "import heapq\n",
    "heap = [(-v, k) for k, v in dic.items()]\n",
    "heapq.heapify(heap)\n",
    "res = \"\"\n",
    "while heap:\n",
    "    v, k = heapq.heappop(heap)\n",
    "    res += k * (-v)\n",
    "print(res)"
   ]
  },
  {
   "cell_type": "code",
   "execution_count": null,
   "metadata": {},
   "outputs": [],
   "source": []
  }
 ],
 "metadata": {
  "kernelspec": {
   "display_name": "Python 3",
   "language": "python",
   "name": "python3"
  },
  "language_info": {
   "codemirror_mode": {
    "name": "ipython",
    "version": 3
   },
   "file_extension": ".py",
   "mimetype": "text/x-python",
   "name": "python",
   "nbconvert_exporter": "python",
   "pygments_lexer": "ipython3",
   "version": "3.7.1"
  }
 },
 "nbformat": 4,
 "nbformat_minor": 2
}
