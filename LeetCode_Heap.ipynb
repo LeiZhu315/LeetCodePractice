{
 "cells": [
  {
   "cell_type": "markdown",
   "metadata": {},
   "source": [
    "### 1834. Single-Threaded CPU\n",
    "You are given n tasks labeled from 0 to n - 1 represented by a 2D integer array tasks, where tasks[i] = [enqueueTimei, processingTimei] means that the ith task will be available to process at enqueueTimei and will take processingTimei to finish processing.\n",
    "\n",
    "You have a single-threaded CPU that can process at most one task at a time and will act in the following way:\n",
    "\n",
    "If the CPU is idle and there are no available tasks to process, the CPU remains idle.<br>\n",
    "If the CPU is idle and there are available tasks, the CPU will choose the one with the shortest processing time. If multiple tasks have the same shortest processing time, it will choose the task with the smallest index.<br>\n",
    "Once a task is started, the CPU will process the entire task without stopping.<br>\n",
    "The CPU can finish a task then start a new one instantly.<br>\n",
    "Return the order in which the CPU will process the tasks."
   ]
  },
  {
   "cell_type": "code",
   "execution_count": 5,
   "metadata": {},
   "outputs": [
    {
     "data": {
      "text/plain": [
       "[6, 1, 2, 9, 4, 10, 0, 11, 5, 13, 3, 8, 12, 7]"
      ]
     },
     "execution_count": 5,
     "metadata": {},
     "output_type": "execute_result"
    }
   ],
   "source": [
    "tasks = [[19,13],[16,9],[21,10],[32,25],[37,4],[49,24],[2,15],[38,41],[37,34],[33,6],[45,4],[18,18],[46,39],[12,24]]\n",
    "\n",
    "import heapq\n",
    "queue, time, res = [], 0, []\n",
    "# sorting the tasks by enqueue time, for same enqueue time, sorting by processing time\n",
    "tasks = sorted((task, index) for index, task in enumerate(tasks))\n",
    "# push all tasks into the queue by the enqueue time order\n",
    "for (enqT, proT), index in tasks:\n",
    "    # cpu processes the tasks in the queue when the next enqueue time is later than the current time\n",
    "    while queue and time < enqT:\n",
    "        # heap pop the task in the queue with shortest processing time\n",
    "        # if the processing time, pop the smallest id\n",
    "        end, proIndex, start = heapq.heappop(queue)\n",
    "        time = max(time, start) + end\n",
    "        res.append(proIndex)\n",
    "    # adding new tasks to the queue if current time is later than the enqueue time for the next task\n",
    "    # for all task in the queue, the processing priority goes by: processing time > id > enqueue time\n",
    "    heapq.heappush(queue, (proT, index, enqT))\n",
    "# when all tasks in the queue, some may have not been processed (time > the last enqT), add them to the result.\n",
    "res += [i for _,i,_ in sorted(queue)]\n",
    "res"
   ]
  },
  {
   "cell_type": "markdown",
   "metadata": {},
   "source": [
    "### 1962. Remove Stones to Minimize the Total\n",
    "You are given a 0-indexed integer array piles, where piles[i] represents the number of stones in the ith pile, and an integer k. You should apply the following operation exactly k times:\n",
    "\n",
    "Choose any piles[i] and remove floor(piles[i] / 2) stones from it.<br>\n",
    "Notice that you can apply the operation on the same pile more than once.\n",
    "\n",
    "Return the minimum possible total number of stones remaining after applying the k operations.\n",
    "\n",
    "floor(x) is the greatest integer that is smaller than or equal to x (i.e., rounds x down)."
   ]
  },
  {
   "cell_type": "code",
   "execution_count": 9,
   "metadata": {},
   "outputs": [
    {
     "name": "stdout",
     "output_type": "stream",
     "text": [
      "12\n"
     ]
    }
   ],
   "source": [
    "piles = [4,3,6,7]\n",
    "k = 3\n",
    "\n",
    "import heapq\n",
    "import math\n",
    "\n",
    "piles = [-i for i in piles]\n",
    "heapq.heapify(piles)\n",
    "while k > 0:\n",
    "    tmp = -heapq.heappop(piles)\n",
    "    tmp = tmp - math.floor(tmp / 2)\n",
    "    heapq.heappush(piles, -tmp)\n",
    "    k -= 1\n",
    "print(-sum(piles))"
   ]
  },
  {
   "cell_type": "code",
   "execution_count": 11,
   "metadata": {},
   "outputs": [],
   "source": [
    "import plotly.express as px"
   ]
  },
  {
   "cell_type": "code",
   "execution_count": null,
   "metadata": {},
   "outputs": [],
   "source": []
  }
 ],
 "metadata": {
  "kernelspec": {
   "display_name": "Python 3",
   "language": "python",
   "name": "python3"
  },
  "language_info": {
   "codemirror_mode": {
    "name": "ipython",
    "version": 3
   },
   "file_extension": ".py",
   "mimetype": "text/x-python",
   "name": "python",
   "nbconvert_exporter": "python",
   "pygments_lexer": "ipython3",
   "version": "3.7.1"
  }
 },
 "nbformat": 4,
 "nbformat_minor": 2
}
