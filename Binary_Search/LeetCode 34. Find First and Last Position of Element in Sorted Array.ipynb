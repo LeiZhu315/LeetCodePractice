{
 "cells": [
  {
   "cell_type": "markdown",
   "metadata": {},
   "source": [
    "### 34. Find First and Last Position of Element in Sorted Array\n",
    "Given an array of integers nums sorted in non-decreasing order, find the starting and ending position of a given target value.\n",
    "\n",
    "If target is not found in the array, return [-1, -1].\n",
    "\n",
    "You must write an algorithm with O(log n) runtime complexity.\n",
    "\n",
    "#### Example 1:\n",
    "- Input: nums = [5,7,7,8,8,10], target = 8\n",
    "- Output: [3,4]\n",
    "\n",
    "#### Example 2:\n",
    "- Input: nums = [5,7,7,8,8,10], target = 6\n",
    "- Output: [-1,-1]\n",
    "\n",
    "#### Example 3:\n",
    "- Input: nums = [], target = 0\n",
    "- Output: [-1,-1]\n",
    " \n",
    "#### Constraints:\n",
    "- 0 <= nums.length <= 105\n",
    "- -109 <= nums[i] <= 109\n",
    "- nums is a non-decreasing array.\n",
    "- -109 <= target <= 109\n",
    "\n",
    "#### Difficulty:\n",
    "Medium\n",
    "\n",
    "https://leetcode.com/problems/find-first-and-last-position-of-element-in-sorted-array/description/?envType=daily-question&envId=2023-10-09"
   ]
  },
  {
   "cell_type": "code",
   "execution_count": 28,
   "metadata": {},
   "outputs": [
    {
     "data": {
      "text/plain": [
       "[-1, -1]"
      ]
     },
     "execution_count": 28,
     "metadata": {},
     "output_type": "execute_result"
    }
   ],
   "source": [
    "# Binary search (two-pass), time O(logn), space O(1)\n",
    "class Solution:\n",
    "    def searchRange(self, nums, target):\n",
    "        if not nums:\n",
    "            return [-1, -1]\n",
    "        \n",
    "        n = len(nums)\n",
    "        \n",
    "        lo, hi = 0, n - 1\n",
    "        while lo < hi:\n",
    "            mid = (lo + hi) // 2\n",
    "            if nums[mid] < target:\n",
    "                lo = mid + 1\n",
    "            else:\n",
    "                hi = mid - 1\n",
    "        \n",
    "        left = lo\n",
    "        \n",
    "        hi = n - 1\n",
    "        while lo < hi:\n",
    "            mid = (lo + hi) // 2\n",
    "            if nums[mid] <= target:\n",
    "                lo = mid + 1\n",
    "            else:\n",
    "                hi = mid - 1\n",
    "        right = lo - 1\n",
    "        if right < left:\n",
    "            left = right = -1\n",
    "\n",
    "        return [left, right]\n",
    "        \n",
    "        \n",
    "nums = [5,7,7,8,8,10]\n",
    "target = 4\n",
    "ans = Solution()\n",
    "ans.searchRange(nums, target)"
   ]
  },
  {
   "cell_type": "code",
   "execution_count": 44,
   "metadata": {},
   "outputs": [
    {
     "data": {
      "text/plain": [
       "[5, 5]"
      ]
     },
     "execution_count": 44,
     "metadata": {},
     "output_type": "execute_result"
    }
   ],
   "source": [
    "# Binary search (two-pass), time O(logn), space O(1)\n",
    "class Solution:\n",
    "    def searchRange(self, nums, target):\n",
    "        if not nums:\n",
    "            return [-1, -1]\n",
    "        \n",
    "        def bisearch(nums, target):\n",
    "            lo, hi = 0, len(nums)\n",
    "            while lo < hi:\n",
    "                mid = (lo + hi) // 2\n",
    "                if nums[mid] < target:\n",
    "                    lo = mid + 1\n",
    "                else:\n",
    "                    hi = mid\n",
    "            return lo\n",
    "        \n",
    "        left = bisearch(nums, target)\n",
    "        right = bisearch(nums, target + 1) - 1\n",
    "        \n",
    "        if left > right:\n",
    "            left = right = -1\n",
    "            \n",
    "        return [left, right]\n",
    "        \n",
    "        \n",
    "nums = [5,7,7,8,8,10]\n",
    "target = 10\n",
    "ans = Solution()\n",
    "ans.searchRange(nums, target)"
   ]
  },
  {
   "cell_type": "code",
   "execution_count": 30,
   "metadata": {},
   "outputs": [
    {
     "data": {
      "text/plain": [
       "[-1, -1]"
      ]
     },
     "execution_count": 30,
     "metadata": {},
     "output_type": "execute_result"
    }
   ],
   "source": [
    "# Binary search (bisect), time O(logn), space O(1)\n",
    "class Solution:\n",
    "    def searchRange(self, nums, target):\n",
    "        if not nums:\n",
    "            return [-1, -1]\n",
    "        \n",
    "        import bisect as bi\n",
    "        left = bi.bisect_left(nums, target)\n",
    "        right = bi.bisect_right(nums, target) - 1\n",
    "        \n",
    "        if left > right:\n",
    "            left = right = -1\n",
    "            \n",
    "        return [left, right]\n",
    "        \n",
    "        \n",
    "nums = [5,7,7,8,8,10]\n",
    "target = 4\n",
    "ans = Solution()\n",
    "ans.searchRange(nums, target)"
   ]
  },
  {
   "cell_type": "code",
   "execution_count": null,
   "metadata": {},
   "outputs": [],
   "source": []
  }
 ],
 "metadata": {
  "kernelspec": {
   "display_name": "Python 3",
   "language": "python",
   "name": "python3"
  },
  "language_info": {
   "codemirror_mode": {
    "name": "ipython",
    "version": 3
   },
   "file_extension": ".py",
   "mimetype": "text/x-python",
   "name": "python",
   "nbconvert_exporter": "python",
   "pygments_lexer": "ipython3",
   "version": "3.8.3"
  }
 },
 "nbformat": 4,
 "nbformat_minor": 4
}
