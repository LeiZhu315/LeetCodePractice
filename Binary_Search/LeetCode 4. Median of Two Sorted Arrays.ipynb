{
 "cells": [
  {
   "cell_type": "markdown",
   "metadata": {},
   "source": [
    "### 4. Median of Two Sorted Arrays\n",
    "Given two sorted arrays nums1 and nums2 of size m and n respectively, return the median of the two sorted arrays.\n",
    "\n",
    "The overall run time complexity should be O(log (m+n)).\n",
    "\n",
    "#### Example 1:\n",
    "- Input: nums1 = [1,3], nums2 = [2]\n",
    "- Output: 2.00000\n",
    "- Explanation: merged array = [1,2,3] and median is 2.\n",
    "\n",
    "#### Example 2:\n",
    "- Input: nums1 = [1,2], nums2 = [3,4]\n",
    "- Output: 2.50000\n",
    "- Explanation: merged array = [1,2,3,4] and median is (2 + 3) / 2 = 2.5.\n",
    " \n",
    "#### Constraints:\n",
    "- nums1.length == m\n",
    "- nums2.length == n\n",
    "- 0 <= m <= 1000\n",
    "- 0 <= n <= 1000\n",
    "- 1 <= m + n <= 2000\n",
    "- -106 <= nums1[i], nums2[i] <= 106\n",
    "\n",
    "#### Difficulty:\n",
    "Hard\n",
    "\n",
    "https://leetcode.com/problems/median-of-two-sorted-arrays/description/?envType=daily-question&envId=2023-09-21"
   ]
  },
  {
   "cell_type": "code",
   "execution_count": 1,
   "metadata": {},
   "outputs": [
    {
     "data": {
      "text/plain": [
       "2.5"
      ]
     },
     "execution_count": 1,
     "metadata": {},
     "output_type": "execute_result"
    }
   ],
   "source": [
    "# Brute-force, time O(m+n), space O(m+n)\n",
    "class Solution:\n",
    "    def findMedianSortedArrays(self, nums1, nums2):\n",
    "        m, n = len(nums1), len(nums2)\n",
    "        nums3 = []\n",
    "        i, j = 0, 0\n",
    "        while i < m and j < n:\n",
    "            if nums1[i] <= nums2[j]:\n",
    "                nums3.append(nums1[i])\n",
    "                i += 1\n",
    "            else:\n",
    "                nums3.append(nums2[j])\n",
    "                j += 1\n",
    "        nums3.extend(nums1[i:])\n",
    "        nums3.extend(nums2[j:])\n",
    "        \n",
    "        if (m + n) % 2:\n",
    "            return nums3[(m + n) // 2]\n",
    "        else:\n",
    "            return (nums3[(m + n) // 2] + nums3[(m + n) // 2 - 1]) / 2\n",
    "        \n",
    "\n",
    "nums1 = [1,2]\n",
    "nums2 = [3,4]\n",
    "ans = Solution()\n",
    "ans.findMedianSortedArrays(nums1, nums2)"
   ]
  },
  {
   "cell_type": "code",
   "execution_count": 2,
   "metadata": {},
   "outputs": [
    {
     "data": {
      "text/plain": [
       "2.5"
      ]
     },
     "execution_count": 2,
     "metadata": {},
     "output_type": "execute_result"
    }
   ],
   "source": [
    "# Binary search, time O(log(m+n)), space O(1)\n",
    "class Solution:\n",
    "    def findMedianSortedArrays(self, nums1, nums2):\n",
    "            \n",
    "        na, nb = len(nums1), len(nums2)\n",
    "        n = na + nb\n",
    "        \n",
    "        def solve(k, a_start, a_end, b_start, b_end):\n",
    "            # if the segment of one array is empty, it means we have passed \n",
    "            # all its element, just return the corresponding element in \n",
    "            # the other array\n",
    "            if a_start > a_end:\n",
    "                return nums2[k - a_start]\n",
    "            if b_start > b_end:\n",
    "                return nums1[k - b_start]\n",
    "            # get the middle indexes and middle values of nums1, nums2\n",
    "            a_idx, b_idx = (a_start + a_end) // 2, (b_start + b_end) // 2\n",
    "            a_val, b_val = nums1[a_idx], nums2[b_idx]\n",
    "            \n",
    "            # if k is in the right half of nums1+nums2, \n",
    "            # remove the larger right half\n",
    "            if a_idx + b_idx < k:\n",
    "                if a_val > b_val:\n",
    "                    return solve(k, a_start, a_end, b_idx+1, b_end)\n",
    "                else:\n",
    "                    return solve(k, a_idx+1, a_end, b_start, b_end)\n",
    "            # otherwise, remove the smaller left half\n",
    "            else:\n",
    "                if a_val > b_val:\n",
    "                    return solve(k, a_start, a_idx-1, b_start, b_end)\n",
    "                else:\n",
    "                    return solve(k, a_start, a_end, b_start, b_idx-1)\n",
    "                \n",
    "        if n % 2:\n",
    "            return solve(n//2, 0, na-1, 0, nb-1)\n",
    "        else:\n",
    "            res = solve(n//2-1, 0, na-1, 0, nb-1) + solve(n//2, 0, na-1, 0, nb-1)\n",
    "            return res / 2\n",
    "\n",
    "nums1 = [1,2]\n",
    "nums2 = [3,4]\n",
    "ans = Solution()\n",
    "ans.findMedianSortedArrays(nums1, nums2)"
   ]
  },
  {
   "cell_type": "code",
   "execution_count": 3,
   "metadata": {},
   "outputs": [
    {
     "data": {
      "text/plain": [
       "2.5"
      ]
     },
     "execution_count": 3,
     "metadata": {},
     "output_type": "execute_result"
    }
   ],
   "source": [
    "# Binary search, time O(log(min(m, n))), space O(1)\n",
    "class Solution:\n",
    "    def findMedianSortedArrays(self, nums1, nums2):\n",
    "        if len(nums2) < len(nums1):\n",
    "            nums1, nums2 = nums2, nums1\n",
    "            \n",
    "        m, n = len(nums1), len(nums2)\n",
    "        low, high = 0, m\n",
    "        \n",
    "        while low <= high:\n",
    "            partitionX = (low + high) // 2\n",
    "            partitionY = (m + n + 1) // 2 - partitionX\n",
    "            \n",
    "            maxLeftX = float('-inf') if partitionX == 0 else nums1[partitionX-1]\n",
    "            maxLeftY = float('-inf') if partitionY == 0 else nums2[partitionY-1]\n",
    "            minRightX = float('inf') if partitionX == m else nums1[partitionX]\n",
    "            minRightY = float('inf') if partitionY == n else nums2[partitionY]\n",
    "            \n",
    "            if maxLeftX <= minRightY and maxLeftY <= minRightX:\n",
    "                if (m + n) % 2 == 0:\n",
    "                    return (max(maxLeftX, maxLeftY) + min(minRightX, minRightY)) / 2\n",
    "                else:\n",
    "                    return max(maxLeftX, maxLeftY)\n",
    "            elif maxLeftX > minRightY:\n",
    "                high = partitionX - 1\n",
    "            else:\n",
    "                low = partitionX + 1\n",
    "\n",
    "nums1 = [1,2]\n",
    "nums2 = [3,4]\n",
    "ans = Solution()\n",
    "ans.findMedianSortedArrays(nums1, nums2)"
   ]
  },
  {
   "cell_type": "code",
   "execution_count": null,
   "metadata": {},
   "outputs": [],
   "source": []
  }
 ],
 "metadata": {
  "kernelspec": {
   "display_name": "Python 3",
   "language": "python",
   "name": "python3"
  },
  "language_info": {
   "codemirror_mode": {
    "name": "ipython",
    "version": 3
   },
   "file_extension": ".py",
   "mimetype": "text/x-python",
   "name": "python",
   "nbconvert_exporter": "python",
   "pygments_lexer": "ipython3",
   "version": "3.8.3"
  }
 },
 "nbformat": 4,
 "nbformat_minor": 4
}
