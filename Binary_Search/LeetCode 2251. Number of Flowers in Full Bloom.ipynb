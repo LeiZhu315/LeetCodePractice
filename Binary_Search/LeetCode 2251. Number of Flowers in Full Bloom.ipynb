{
 "cells": [
  {
   "cell_type": "markdown",
   "metadata": {},
   "source": [
    "### 2251. Number of Flowers in Full Bloom\n",
    "You are given a 0-indexed 2D integer array flowers, where flowers[i] = [starti, endi] means the ith flower will be in full bloom from starti to endi (inclusive). You are also given a 0-indexed integer array people of size n, where people[i] is the time that the ith person will arrive to see the flowers.\n",
    "\n",
    "Return an integer array answer of size n, where answer[i] is the number of flowers that are in full bloom when the ith person arrives.\n",
    "\n",
    "#### Example 1:\n",
    "<img src='https://assets.leetcode.com/uploads/2022/03/02/ex1new.jpg' width=512> <br>\n",
    "- Input: flowers = [[1,6],[3,7],[9,12],[4,13]], poeple = [2,3,7,11]\n",
    "- Output: [1,2,2,2]\n",
    "- Explanation: The figure above shows the times when the flowers are in full bloom and when the people arrive. For each person, we return the number of flowers in full bloom during their arrival.\n",
    "\n",
    "#### Example 2:\n",
    "<img src='https://assets.leetcode.com/uploads/2022/03/02/ex2new.jpg' width=512> <br>\n",
    "- Input: flowers = [[1,10],[3,3]], people = [3,3,2]\n",
    "- Output: [2,2,1]\n",
    "- Explanation: The figure above shows the times when the flowers are in full bloom and when the people arrive. For each person, we return the number of flowers in full bloom during their arrival.\n",
    " \n",
    "#### Constraints:\n",
    "- 1 <= flowers.length <= 5 * 10^4\n",
    "- flowers[i].length == 2\n",
    "- 1 <= starti <= endi <= 10^9\n",
    "- 1 <= people.length <= 5 * 10^4\n",
    "- 1 <= people[i] <= 10^9\n",
    "\n",
    "#### Difficulty:\n",
    "Hard\n",
    "\n",
    "https://leetcode.com/problems/number-of-flowers-in-full-bloom/description/?envType=daily-question&envId=2023-10-11"
   ]
  },
  {
   "cell_type": "code",
   "execution_count": 9,
   "metadata": {},
   "outputs": [
    {
     "data": {
      "text/plain": [
       "[1, 2, 2, 2]"
      ]
     },
     "execution_count": 9,
     "metadata": {},
     "output_type": "execute_result"
    }
   ],
   "source": [
    "# hash table, time O(m * max(f[1]-f[0]) + m), space O(max(f[1]) - min(f[0]))\n",
    "class Solution:\n",
    "    def fullBloomFlowers(self, flowers, people):\n",
    "        hsh = {}\n",
    "        for f in flowers:\n",
    "            for t in range(f[0], f[1]+1):\n",
    "                hsh[t] = 1 + hsh.get(t, 0)\n",
    "        res = []\n",
    "        for p in people:\n",
    "            res.append(hsh.get(p, 0))\n",
    "        return res\n",
    "        \n",
    "\n",
    "flowers = [[1,6],[3,7],[9,12],[4,13]]\n",
    "people = [2,3,7,11]\n",
    "ans = Solution()\n",
    "ans.fullBloomFlowers(flowers, people)"
   ]
  },
  {
   "cell_type": "code",
   "execution_count": 16,
   "metadata": {},
   "outputs": [
    {
     "data": {
      "text/plain": [
       "[1, 2, 2, 2]"
      ]
     },
     "execution_count": 16,
     "metadata": {},
     "output_type": "execute_result"
    }
   ],
   "source": [
    "# Binary search + hash table, time ((m+n)logn), space O(n)\n",
    "class Solution:\n",
    "    def fullBloomFlowers(self, flowers, people):\n",
    "        from collections import defaultdict\n",
    "        import bisect\n",
    "        \n",
    "        cnt = defaultdict(int)\n",
    "        for start, end in flowers:\n",
    "            cnt[start] += 1\n",
    "            cnt[end + 1] -= 1\n",
    "            \n",
    "        days = sorted(cnt.keys())\n",
    "        \n",
    "        # update number of flowers remain blooming at the recored days (sorted)\n",
    "        ttal = 0\n",
    "        for day in days:\n",
    "            ttal += cnt[day]\n",
    "            cnt[day] = ttal\n",
    "            \n",
    "        res = []\n",
    "\n",
    "        for t in people:\n",
    "            # use bisect_right because if the query date is not in days, the flower blooming status\n",
    "            # remain the same as the previous changing date.\n",
    "            idx = bisect.bisect_right(days, t)\n",
    "            if idx == 0:\n",
    "                res.append(0)\n",
    "            else:\n",
    "                res.append(cnt[days[idx - 1]])\n",
    "        \n",
    "        return res\n",
    "        \n",
    "        \n",
    "flowers = [[1,6],[3,7],[9,12],[4,13]]\n",
    "people = [2,3,7,11]\n",
    "ans = Solution()\n",
    "ans.fullBloomFlowers(flowers, people)"
   ]
  },
  {
   "cell_type": "code",
   "execution_count": 18,
   "metadata": {},
   "outputs": [
    {
     "data": {
      "text/plain": [
       "[1, 2, 2, 2]"
      ]
     },
     "execution_count": 18,
     "metadata": {},
     "output_type": "execute_result"
    }
   ],
   "source": [
    "# Binary search, time ((m+n)logn), space O(n)\n",
    "class Solution:\n",
    "    def fullBloomFlowers(self, flowers, people):\n",
    "        from bisect import bisect_right, bisect_left\n",
    "        \n",
    "        start = sorted(a for a, b in flowers)\n",
    "        end = sorted(b for a, b in flowers)\n",
    "        \n",
    "        return [bisect_right(start, t) - bisect_left(end, t)\n",
    "               for t in people]\n",
    "        \n",
    "        \n",
    "flowers = [[1,6],[3,7],[9,12],[4,13]]\n",
    "people = [2,3,7,11]\n",
    "ans = Solution()\n",
    "ans.fullBloomFlowers(flowers, people)"
   ]
  },
  {
   "cell_type": "code",
   "execution_count": 21,
   "metadata": {},
   "outputs": [
    {
     "data": {
      "text/plain": [
       "[1, 2, 2, 2]"
      ]
     },
     "execution_count": 21,
     "metadata": {},
     "output_type": "execute_result"
    }
   ],
   "source": [
    "# Binary search, time ((m+n)logn), space O(n)\n",
    "class Solution:\n",
    "    def fullBloomFlowers(self, flowers, people):\n",
    "        import bisect\n",
    "        import sortedcontainers\n",
    "        from itertools import accumulate\n",
    "        \n",
    "        diff = sortedcontainers.SortedDict({0: 0})\n",
    "        for i, j in flowers:\n",
    "            diff[i] = diff.get(i, 0) + 1\n",
    "            diff[j + 1] = diff.get(j + 1, 0) - 1\n",
    "            \n",
    "        cnt = list(accumulate(diff.values()))\n",
    "        \n",
    "        return [cnt[diff.bisect(t) - 1] for t in people]\n",
    "        \n",
    "        \n",
    "flowers = [[1,6],[3,7],[9,12],[4,13]]\n",
    "people = [2,3,7,11]\n",
    "ans = Solution()\n",
    "ans.fullBloomFlowers(flowers, people)"
   ]
  },
  {
   "cell_type": "code",
   "execution_count": null,
   "metadata": {},
   "outputs": [],
   "source": []
  }
 ],
 "metadata": {
  "kernelspec": {
   "display_name": "Python 3",
   "language": "python",
   "name": "python3"
  },
  "language_info": {
   "codemirror_mode": {
    "name": "ipython",
    "version": 3
   },
   "file_extension": ".py",
   "mimetype": "text/x-python",
   "name": "python",
   "nbconvert_exporter": "python",
   "pygments_lexer": "ipython3",
   "version": "3.8.3"
  }
 },
 "nbformat": 4,
 "nbformat_minor": 4
}
