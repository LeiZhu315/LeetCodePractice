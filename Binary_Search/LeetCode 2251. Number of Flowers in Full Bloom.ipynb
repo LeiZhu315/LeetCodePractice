{
 "cells": [
  {
   "cell_type": "markdown",
   "metadata": {},
   "source": [
    "### 2251. Number of Flowers in Full Bloom\n",
    "You are given a 0-indexed 2D integer array flowers, where flowers[i] = [starti, endi] means the ith flower will be in full bloom from starti to endi (inclusive). You are also given a 0-indexed integer array people of size n, where people[i] is the time that the ith person will arrive to see the flowers.\n",
    "\n",
    "Return an integer array answer of size n, where answer[i] is the number of flowers that are in full bloom when the ith person arrives.\n",
    "\n",
    "#### Example 1:\n",
    "<img src='https://assets.leetcode.com/uploads/2022/03/02/ex1new.jpg' width=512> <br>\n",
    "- Input: flowers = [[1,6],[3,7],[9,12],[4,13]], poeple = [2,3,7,11]\n",
    "- Output: [1,2,2,2]\n",
    "- Explanation: The figure above shows the times when the flowers are in full bloom and when the people arrive. For each person, we return the number of flowers in full bloom during their arrival.\n",
    "\n",
    "#### Example 2:\n",
    "<img src='https://assets.leetcode.com/uploads/2022/03/02/ex2new.jpg' width=512> <br>\n",
    "- Input: flowers = [[1,10],[3,3]], people = [3,3,2]\n",
    "- Output: [2,2,1]\n",
    "- Explanation: The figure above shows the times when the flowers are in full bloom and when the people arrive. For each person, we return the number of flowers in full bloom during their arrival.\n",
    " \n",
    "#### Constraints:\n",
    "- 1 <= flowers.length <= 5 * 10^4\n",
    "- flowers[i].length == 2\n",
    "- 1 <= starti <= endi <= 10^9\n",
    "- 1 <= people.length <= 5 * 10^4\n",
    "- 1 <= people[i] <= 10^9\n",
    "\n",
    "#### Difficulty:\n",
    "Hard\n",
    "\n",
    "https://leetcode.com/problems/number-of-flowers-in-full-bloom/description/?envType=daily-question&envId=2023-10-11"
   ]
  },
  {
   "cell_type": "code",
   "execution_count": 5,
   "metadata": {},
   "outputs": [
    {
     "data": {
      "text/plain": [
       "[1, 2, 2, 2]"
      ]
     },
     "execution_count": 5,
     "metadata": {},
     "output_type": "execute_result"
    }
   ],
   "source": [
    "# Binary search + hash table, time ((m+n)logn), space O(n)\n",
    "class Solution:\n",
    "    def fullBloomFlowers(self, flowers, people):\n",
    "        from collections import defaultdict\n",
    "        import bisect\n",
    "        \n",
    "        cnt = defaultdict(int)\n",
    "        for start, end in flowers:\n",
    "            cnt[start] += 1\n",
    "            cnt[end + 1] -= 1\n",
    "            \n",
    "        days = sorted(cnt.keys())\n",
    "        \n",
    "        ttal = 0\n",
    "        for day in days:\n",
    "            ttal += cnt[day]\n",
    "            cnt[day] = ttal\n",
    "        \n",
    "        res = []\n",
    "        for t in people:\n",
    "            idx = bisect.bisect_right(days, t)\n",
    "            if idx == 0:\n",
    "                res.append(0)\n",
    "            else:\n",
    "                res.append(cnt[days[idx - 1]])\n",
    "        \n",
    "        return res\n",
    "        \n",
    "        \n",
    "flowers = [[1,6],[3,7],[9,12],[4,13]]\n",
    "people = [2,3,7,11]\n",
    "ans = Solution()\n",
    "ans.fullBloomFlowers(flowers, people)"
   ]
  },
  {
   "cell_type": "code",
   "execution_count": null,
   "metadata": {},
   "outputs": [],
   "source": []
  }
 ],
 "metadata": {
  "kernelspec": {
   "display_name": "Python 3",
   "language": "python",
   "name": "python3"
  },
  "language_info": {
   "codemirror_mode": {
    "name": "ipython",
    "version": 3
   },
   "file_extension": ".py",
   "mimetype": "text/x-python",
   "name": "python",
   "nbconvert_exporter": "python",
   "pygments_lexer": "ipython3",
   "version": "3.8.3"
  }
 },
 "nbformat": 4,
 "nbformat_minor": 4
}
