{
 "cells": [
  {
   "cell_type": "markdown",
   "metadata": {},
   "source": [
    "### 1631. Path With Minimum Effort\n",
    "You are a hiker preparing for an upcoming hike. You are given heights, a 2D array of size rows x columns, where heights[row][col] represents the height of cell (row, col). You are situated in the top-left cell, (0, 0), and you hope to travel to the bottom-right cell, (rows-1, columns-1) (i.e., 0-indexed). You can move up, down, left, or right, and you wish to find a route that requires the minimum effort.\n",
    "\n",
    "A route's effort is the maximum absolute difference in heights between two consecutive cells of the route.\n",
    "\n",
    "Return the minimum effort required to travel from the top-left cell to the bottom-right cell.\n",
    "\n",
    "#### Example 1:\n",
    "<img src='https://assets.leetcode.com/uploads/2020/10/04/ex1.png' width=200> <br>\n",
    "- Input: heights = [[1,2,2],[3,8,2],[5,3,5]]\n",
    "- Output: 2\n",
    "- Explanation: The route of [1,3,5,3,5] has a maximum absolute difference of 2 in consecutive cells.\n",
    "This is better than the route of [1,2,2,2,5], where the maximum absolute difference is 3.\n",
    "\n",
    "#### Example 2:\n",
    "<img src='https://assets.leetcode.com/uploads/2020/10/04/ex2.png' width=200> <br>\n",
    "- Input: heights = [[1,2,3],[3,8,4],[5,3,5]]\n",
    "- Output: 1\n",
    "- Explanation: The route of [1,2,3,4,5] has a maximum absolute difference of 1 in consecutive cells, which is better than route [1,3,5,3,5].\n",
    "\n",
    "#### Example 3:\n",
    "<img src='https://assets.leetcode.com/uploads/2020/10/04/ex3.png' width=200> <br>\n",
    "- Input: heights = [[1,2,1,1,1],[1,2,1,2,1],[1,2,1,2,1],[1,2,1,2,1],[1,1,1,2,1]]\n",
    "- Output: 0\n",
    "- Explanation: This route does not require any effort.\n",
    "\n",
    "#### Constraints:\n",
    "- rows == heights.length\n",
    "- columns == heights[i].length\n",
    "- 1 <= rows, columns <= 100\n",
    "- 1 <= heights[i][j] <= 106\n",
    "\n",
    "#### Difficulty:\n",
    "Medium\n",
    "\n",
    "https://leetcode.com/problems/path-with-minimum-effort/description/?envType=daily-question&envId=2023-09-16"
   ]
  },
  {
   "cell_type": "code",
   "execution_count": 1,
   "metadata": {},
   "outputs": [
    {
     "data": {
      "text/plain": [
       "0"
      ]
     },
     "execution_count": 1,
     "metadata": {},
     "output_type": "execute_result"
    }
   ],
   "source": [
    "# Dijkstra + heap, time O(mn * logmn), space O(mn)\n",
    "class Solution:\n",
    "    def minimumEffortPath(self, heights):\n",
    "        import heapq\n",
    "        m, n = len(heights), len(heights[0])\n",
    "        direc = [(1,0), (-1,0), (0,1), (0,-1)]\n",
    "        dist = [[float('inf') for _ in range(n)] for _ in range(m)]\n",
    "        dist[0][0] = 0\n",
    "        q = [(0, 0, 0)]\n",
    "        \n",
    "        while q:\n",
    "            w, i, j = heapq.heappop(q)\n",
    "            if i == m - 1 and j == n - 1:\n",
    "                return w\n",
    "            for x, y in direc:\n",
    "                ii, jj = i + x, j + y\n",
    "                if 0 <= ii < m and 0 <= jj < n:\n",
    "                    new_w = max(w, abs(heights[i][j] - heights[ii][jj]))\n",
    "                    if new_w < dist[ii][jj]:\n",
    "                        dist[ii][jj] = new_w\n",
    "                        heapq.heappush(q, (new_w, ii, jj))\n",
    "    \n",
    "heights = [[1,2,1,1,1],[1,2,1,2,1],[1,2,1,2,1],[1,2,1,2,1],[1,1,1,2,1]]\n",
    "ans = Solution()\n",
    "ans.minimumEffortPath(heights)"
   ]
  },
  {
   "cell_type": "code",
   "execution_count": 2,
   "metadata": {},
   "outputs": [
    {
     "data": {
      "text/plain": [
       "0"
      ]
     },
     "execution_count": 2,
     "metadata": {},
     "output_type": "execute_result"
    }
   ],
   "source": [
    "# DFS + binary search, time O(), space O()\n",
    "class Solution:\n",
    "    def minimumEffortPath(self, heights):\n",
    "        \n",
    "        direc = [(1,0), (-1,0), (0,1), (0,-1)]\n",
    "        self.m, self.n = len(heights), len(heights[0])\n",
    "        \n",
    "        def dfs(i, j, limit_efforts):\n",
    "            if visited[i][j]:\n",
    "                return\n",
    "            visited[i][j] = True\n",
    "            if i == self.m - 1 and j == self.n - 1:\n",
    "                return\n",
    "            for di, dj in direc:\n",
    "                ii, jj = i + di, j + dj\n",
    "                if 0 <= ii < self.m and 0 <= jj < self.n:\n",
    "                    new_efforts = abs(heights[i][j] - heights[ii][jj])\n",
    "                    if new_efforts <= limit_efforts:\n",
    "                        dfs(ii, jj, limit_efforts)\n",
    "                        \n",
    "        l, h = 0, 1000000\n",
    "        while l < h:\n",
    "            mid = (h + l) // 2\n",
    "            visited = [[False] * self.n for _ in range(self.m)]\n",
    "            dfs(0, 0, mid)\n",
    "            if visited[-1][-1]:\n",
    "                h = mid\n",
    "            else:\n",
    "                l = mid + 1\n",
    "        return l\n",
    "        \n",
    "    \n",
    "heights = [[1,2,1,1,1],[1,2,1,2,1],[1,2,1,2,1],[1,2,1,2,1],[1,1,1,2,1]]\n",
    "ans = Solution()\n",
    "ans.minimumEffortPath(heights)"
   ]
  },
  {
   "cell_type": "code",
   "execution_count": null,
   "metadata": {},
   "outputs": [],
   "source": []
  }
 ],
 "metadata": {
  "kernelspec": {
   "display_name": "Python 3",
   "language": "python",
   "name": "python3"
  },
  "language_info": {
   "codemirror_mode": {
    "name": "ipython",
    "version": 3
   },
   "file_extension": ".py",
   "mimetype": "text/x-python",
   "name": "python",
   "nbconvert_exporter": "python",
   "pygments_lexer": "ipython3",
   "version": "3.8.3"
  }
 },
 "nbformat": 4,
 "nbformat_minor": 4
}
