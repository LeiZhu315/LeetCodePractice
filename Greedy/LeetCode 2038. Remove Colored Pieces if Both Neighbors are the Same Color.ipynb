{
 "cells": [
  {
   "cell_type": "markdown",
   "metadata": {},
   "source": [
    "### 2038. Remove Colored Pieces if Both Neighbors are the Same Color\n",
    "There are n pieces arranged in a line, and each piece is colored either by 'A' or by 'B'. You are given a string colors of length n where colors[i] is the color of the ith piece.\n",
    "\n",
    "Alice and Bob are playing a game where they take alternating turns removing pieces from the line. In this game, Alice moves first.\n",
    "\n",
    "Alice is only allowed to remove a piece colored 'A' if both its neighbors are also colored 'A'. She is not allowed to remove pieces that are colored 'B'.\n",
    "Bob is only allowed to remove a piece colored 'B' if both its neighbors are also colored 'B'. He is not allowed to remove pieces that are colored 'A'.\n",
    "Alice and Bob cannot remove pieces from the edge of the line.\n",
    "If a player cannot make a move on their turn, that player loses and the other player wins.\n",
    "Assuming Alice and Bob play optimally, return true if Alice wins, or return false if Bob wins.\n",
    "\n",
    "#### Example 1:\n",
    "- Input: colors = \"AAABABB\"\n",
    "- Output: true\n",
    "- Explanation:\n",
    " - AAABABB -> AABABB\n",
    "  - Alice moves first.\n",
    "  - She removes the second 'A' from the left since that is the only 'A' whose neighbors are both 'A'.\n",
    "\n",
    " - Now it's Bob's turn.\n",
    " - Bob cannot make a move on his turn since there are no 'B's whose neighbors are both 'B'.\n",
    " - Thus, Alice wins, so return true.\n",
    "\n",
    "#### Example 2:\n",
    "- Input: colors = \"AA\"\n",
    "- Output: false\n",
    "- Explanation:\n",
    " - Alice has her turn first.\n",
    " - There are only two 'A's and both are on the edge of the line, so she cannot move on her turn.\n",
    " - Thus, Bob wins, so return false.\n",
    "\n",
    "#### Example 3:\n",
    "- Input: colors = \"ABBBBBBBAAA\"\n",
    "- Output: false\n",
    "- Explanation:\n",
    " - ABBBBBBBAAA -> ABBBBBBBAA\n",
    "  - Alice moves first.\n",
    "  - Her only option is to remove the second to last 'A' from the right.\n",
    "\n",
    " - ABBBBBBBAA -> ABBBBBBAA\n",
    "  - Next is Bob's turn.\n",
    "  - He has many options for which 'B' piece to remove. He can pick any.\n",
    "\n",
    " - On Alice's second turn, she has no more pieces that she can remove.\n",
    " - Thus, Bob wins, so return false.\n",
    " \n",
    "#### Constraints:\n",
    "- 1 <= colors.length <= 105\n",
    "- colors consists of only the letters 'A' and 'B'\n",
    "\n",
    "#### Difficulty:\n",
    "Medium\n",
    "\n",
    "https://leetcode.com/problems/remove-colored-pieces-if-both-neighbors-are-the-same-color/description/?envType=daily-question&envId=2023-10-02"
   ]
  },
  {
   "cell_type": "code",
   "execution_count": 2,
   "metadata": {},
   "outputs": [
    {
     "data": {
      "text/plain": [
       "False"
      ]
     },
     "execution_count": 2,
     "metadata": {},
     "output_type": "execute_result"
    }
   ],
   "source": [
    "# Greedy, time O(n), space O(n)\n",
    "class Solution:\n",
    "    def winnerOfGame(self, colors):\n",
    "        if len(colors) < 3:\n",
    "            return False\n",
    "        Bob_moves, Alice_moves = 0, 0\n",
    "        for i in range(1, len(colors)-1):\n",
    "            if colors[i-1] == colors[i] == colors[i+1] == 'A':\n",
    "                Alice_moves += 1\n",
    "            elif colors[i-1] == colors[i] == colors[i+1] == 'B':\n",
    "                Bob_moves += 1\n",
    "        return Alice_moves > Bob_moves\n",
    "        \n",
    "        \n",
    "colors = \"ABBBBBBBAAA\"\n",
    "ans = Solution()\n",
    "ans.winnerOfGame(colors)"
   ]
  },
  {
   "cell_type": "code",
   "execution_count": 6,
   "metadata": {},
   "outputs": [
    {
     "data": {
      "text/plain": [
       "False"
      ]
     },
     "execution_count": 6,
     "metadata": {},
     "output_type": "execute_result"
    }
   ],
   "source": [
    "class Solution:\n",
    "    def winnerOfGame(self, colors):\n",
    "        Bob_moves, Alice_moves = 0, 0\n",
    "        cnt = 1\n",
    "        \n",
    "        for i in range(1, len(colors)):\n",
    "            if colors[i] == colors[i-1]:\n",
    "                cnt += 1\n",
    "            else:\n",
    "                if colors[i-1] == 'A':\n",
    "                    Alice_moves += max(0, cnt-2)\n",
    "                else:\n",
    "                    Bob_moves += max(0, cnt-2)\n",
    "                cnt = 1\n",
    "                \n",
    "        if colors[-1] == 'A':\n",
    "            Alice_moves += max(0, cnt-2)\n",
    "        else:\n",
    "            Bob_moves += max(0, cnt-2)\n",
    "        \n",
    "        return Alice_moves > Bob_moves\n",
    "        \n",
    "        \n",
    "colors = \"ABBBBBBBAAA\"\n",
    "ans = Solution()\n",
    "ans.winnerOfGame(colors)"
   ]
  },
  {
   "cell_type": "code",
   "execution_count": 10,
   "metadata": {},
   "outputs": [
    {
     "data": {
      "text/plain": [
       "False"
      ]
     },
     "execution_count": 10,
     "metadata": {},
     "output_type": "execute_result"
    }
   ],
   "source": [
    "class Solution:\n",
    "    def winnerOfGame(self, colors):\n",
    "        import re\n",
    "        Bob_moves = sum(len(match.group()) - 2 for match in re.finditer(r'B{3,}', colors))\n",
    "        Alice_moves = sum(len(match.group()) - 2 for match in re.finditer(r'A{3,}', colors))\n",
    "        return Alice_moves > Bob_moves\n",
    "        \n",
    "        \n",
    "colors = \"ABBBBBBBAAA\"\n",
    "ans = Solution()\n",
    "ans.winnerOfGame(colors)"
   ]
  },
  {
   "cell_type": "code",
   "execution_count": null,
   "metadata": {},
   "outputs": [],
   "source": []
  }
 ],
 "metadata": {
  "kernelspec": {
   "display_name": "Python 3",
   "language": "python",
   "name": "python3"
  },
  "language_info": {
   "codemirror_mode": {
    "name": "ipython",
    "version": 3
   },
   "file_extension": ".py",
   "mimetype": "text/x-python",
   "name": "python",
   "nbconvert_exporter": "python",
   "pygments_lexer": "ipython3",
   "version": "3.8.3"
  }
 },
 "nbformat": 4,
 "nbformat_minor": 4
}
