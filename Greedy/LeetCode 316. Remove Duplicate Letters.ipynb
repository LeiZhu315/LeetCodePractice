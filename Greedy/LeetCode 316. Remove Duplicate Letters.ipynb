{
 "cells": [
  {
   "cell_type": "markdown",
   "metadata": {},
   "source": [
    "### 316. Remove Duplicate Letters\n",
    "Given a string s, remove duplicate letters so that every letter appears once and only once. You must make sure your result is \n",
    "the smallest in lexicographical order among all possible results.\n",
    " \n",
    "#### Example 1:\n",
    "- Input: s = \"bcabc\"\n",
    "- Output: \"abc\"\n",
    "\n",
    "#### Example 2:\n",
    "- Input: s = \"cbacdcbc\"\n",
    "- Output: \"acdb\"\n",
    " \n",
    "#### Constraints:\n",
    "- 1 <= s.length <= 104\n",
    "- s consists of lowercase English letters.\n",
    "\n",
    "#### Difficulty:\n",
    "Medium\n",
    "\n",
    "https://leetcode.com/problems/remove-duplicate-letters/description/?envType=daily-question&envId=2023-09-26"
   ]
  },
  {
   "cell_type": "code",
   "execution_count": 53,
   "metadata": {},
   "outputs": [
    {
     "data": {
      "text/plain": [
       "'abc'"
      ]
     },
     "execution_count": 53,
     "metadata": {},
     "output_type": "execute_result"
    }
   ],
   "source": [
    "# Monotonic stack + Greedy, time O(n), space O(n)\n",
    "class Solution:\n",
    "    def removeDuplicateLetters(self, s):\n",
    "        last_loc = {c:i for i, c in enumerate(s)}\n",
    "        seen = set()\n",
    "        stack = []\n",
    "        \n",
    "        for i, c in enumerate(s):\n",
    "            if c not in seen:\n",
    "                while (stack and c < stack[-1]\n",
    "                       and i < last_loc[stack[-1]]):\n",
    "                    \"\"\"\n",
    "                    Construct a 'monotonic stack',\n",
    "                    pop out a char if:\n",
    "                    1. the stack is not empty, and\n",
    "                    2. the cur char is smaller than the last char in stack,and\n",
    "                    3. the cur index in smaller than the last char inde in the stack\n",
    "                    (so we still can add the poped large char back to the stack)\n",
    "                    \"\"\"\n",
    "                    seen.discard(stack.pop())\n",
    "                stack.append(c)\n",
    "                seen.add(c)\n",
    "                \n",
    "        return ''.join(stack)\n",
    "        \n",
    "s = \"abacb\"\n",
    "ans = Solution()\n",
    "ans.removeDuplicateLetters(s)"
   ]
  },
  {
   "cell_type": "code",
   "execution_count": 55,
   "metadata": {},
   "outputs": [
    {
     "data": {
      "text/plain": [
       "'abc'"
      ]
     },
     "execution_count": 55,
     "metadata": {},
     "output_type": "execute_result"
    }
   ],
   "source": [
    "# Hash + Greedy + stack, time O(n), space O(n)\n",
    "class Solution:\n",
    "    def removeDuplicateLetters(self, s):\n",
    "        from collections import Counter\n",
    "        cnt = Counter(s)\n",
    "        seen = set()\n",
    "        res = []\n",
    "\n",
    "        for c in s:\n",
    "            cnt[c] -= 1\n",
    "            if c in seen:\n",
    "                continue\n",
    "            while res and c < res[-1] and cnt[res[-1]] >= 1:\n",
    "                seen.remove(res.pop())\n",
    "            seen.add(c)\n",
    "            res.append(c)\n",
    "            \n",
    "        return ''.join(res)\n",
    "        \n",
    "s = \"abacb\"\n",
    "ans = Solution()\n",
    "ans.removeDuplicateLetters(s)"
   ]
  },
  {
   "cell_type": "code",
   "execution_count": null,
   "metadata": {},
   "outputs": [],
   "source": []
  }
 ],
 "metadata": {
  "kernelspec": {
   "display_name": "Python 3",
   "language": "python",
   "name": "python3"
  },
  "language_info": {
   "codemirror_mode": {
    "name": "ipython",
    "version": 3
   },
   "file_extension": ".py",
   "mimetype": "text/x-python",
   "name": "python",
   "nbconvert_exporter": "python",
   "pygments_lexer": "ipython3",
   "version": "3.8.3"
  }
 },
 "nbformat": 4,
 "nbformat_minor": 4
}
