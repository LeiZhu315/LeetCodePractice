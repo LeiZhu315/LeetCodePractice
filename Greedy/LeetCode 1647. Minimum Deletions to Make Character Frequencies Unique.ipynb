{
 "cells": [
  {
   "cell_type": "markdown",
   "metadata": {},
   "source": [
    "### 1647. Minimum Deletions to Make Character Frequencies Unique\n",
    "A string s is called good if there are no two different characters in s that have the same frequency.\n",
    "\n",
    "Given a string s, return the minimum number of characters you need to delete to make s good.\n",
    "\n",
    "The frequency of a character in a string is the number of times it appears in the string. For example, in the string \"aab\", the frequency of 'a' is 2, while the frequency of 'b' is 1.\n",
    "\n",
    "#### Example 1:\n",
    "- Input: s = \"aab\"\n",
    "- Output: 0\n",
    "- Explanation: s is already good.\n",
    "\n",
    "#### Example 2:\n",
    "- Input: s = \"aaabbbcc\"\n",
    "- Output: 2\n",
    "- Explanation: You can delete two 'b's resulting in the good string \"aaabcc\".\n",
    "Another way it to delete one 'b' and one 'c' resulting in the good string \"aaabbc\".\n",
    "\n",
    "#### Example 3:\n",
    "- Input: s = \"ceabaacb\"\n",
    "- Output: 2\n",
    "- Explanation: You can delete both 'c's resulting in the good string \"eabaab\".\n",
    "Note that we only care about characters that are still in the string at the end (i.e. frequency of 0 is ignored).\n",
    " \n",
    "#### Constraints:\n",
    "- 1 <= s.length <= 105\n",
    "- s contains only lowercase English letters.\n",
    "\n",
    "#### Difficulty: \n",
    "Medium\n",
    "\n",
    "https://leetcode.com/problems/minimum-deletions-to-make-character-frequencies-unique/?envType=daily-question&envId=2023-09-12"
   ]
  },
  {
   "cell_type": "code",
   "execution_count": 1,
   "metadata": {},
   "outputs": [
    {
     "name": "stdout",
     "output_type": "stream",
     "text": [
      "{'f': 2, 'e': 2, 'd': 2, 'c': 2, 'b': 2, 'a': 2}\n",
      "{'f': 2, 'e': 1, 'd': 0, 'c': 0, 'b': 0, 'a': 0}\n"
     ]
    },
    {
     "data": {
      "text/plain": [
       "9"
      ]
     },
     "execution_count": 1,
     "metadata": {},
     "output_type": "execute_result"
    }
   ],
   "source": [
    "# Greedy + hash table, time O(nlogn), space O(n)\n",
    "class Solution:\n",
    "    def minDeletions(self, s):\n",
    "        \n",
    "        hsh = {}\n",
    "        for c in s:\n",
    "            if c in hsh:\n",
    "                hsh[c] += 1\n",
    "            else:\n",
    "                hsh[c] = 1\n",
    "                \n",
    "        hsh = dict(sorted(hsh.items(), key=lambda x:x[0], reverse=True))\n",
    "        print(hsh)\n",
    "        \n",
    "        res = 0\n",
    "        nums = set()\n",
    "        for c in hsh:\n",
    "            if hsh[c] not in nums:\n",
    "                nums.add(hsh[c])\n",
    "            else:\n",
    "                while hsh[c] in nums and hsh[c] > 0:\n",
    "                    hsh[c] -= 1\n",
    "                    res += 1\n",
    "                nums.add(hsh[c])\n",
    "        \n",
    "        print(hsh)\n",
    "        return res\n",
    "        \n",
    "        \n",
    "s = \"aabbccddeeff\"\n",
    "ans = Solution()\n",
    "ans.minDeletions(s)"
   ]
  },
  {
   "cell_type": "code",
   "execution_count": 2,
   "metadata": {},
   "outputs": [
    {
     "data": {
      "text/plain": [
       "9"
      ]
     },
     "execution_count": 2,
     "metadata": {},
     "output_type": "execute_result"
    }
   ],
   "source": [
    "# Greedy, time O(n), space O(n)\n",
    "class Solution:\n",
    "    def minDeletions(self, s):\n",
    "        from collections import Counter\n",
    "        cnt = Counter(s)\n",
    "        res = 0\n",
    "        seen = set()\n",
    "        \n",
    "        for char, freq in cnt.items():\n",
    "            while freq > 0 and freq in seen:\n",
    "                freq -= 1\n",
    "                res += 1\n",
    "            seen.add(freq)\n",
    "            \n",
    "        return res\n",
    "\n",
    "s = \"aabbccddeeff\"\n",
    "ans = Solution()\n",
    "ans.minDeletions(s)"
   ]
  },
  {
   "cell_type": "code",
   "execution_count": 3,
   "metadata": {},
   "outputs": [
    {
     "data": {
      "text/plain": [
       "9"
      ]
     },
     "execution_count": 3,
     "metadata": {},
     "output_type": "execute_result"
    }
   ],
   "source": [
    "# Sorting + memorise, time O(nlogn), space O9n\n",
    "class Solution:\n",
    "    def minDeletions(self, s):\n",
    "        from collections import Counter\n",
    "        cnt = Counter(s)\n",
    "        res = 0\n",
    "        seen = set()\n",
    "        \n",
    "        sorted_freq = sorted(cnt.values(), reverse=True)\n",
    "        \n",
    "        for freq in sorted_freq:\n",
    "            if freq not in seen: # early exit condition\n",
    "                seen.add(freq)\n",
    "                continue \n",
    "            while freq > 0 and freq in seen:\n",
    "                freq -= 1\n",
    "                res += 1\n",
    "            seen.add(freq)\n",
    "            \n",
    "        return res\n",
    "    \n",
    "s = \"aabbccddeeff\"\n",
    "ans = Solution()\n",
    "ans.minDeletions(s)"
   ]
  },
  {
   "cell_type": "code",
   "execution_count": 4,
   "metadata": {},
   "outputs": [
    {
     "data": {
      "text/plain": [
       "9"
      ]
     },
     "execution_count": 4,
     "metadata": {},
     "output_type": "execute_result"
    }
   ],
   "source": [
    "# Heap, time O(nlogn), space O(n)\n",
    "class Solution:\n",
    "    def minDeletions(self, s):\n",
    "        import heapq\n",
    "        from collections import Counter\n",
    "        cnt = Counter(s)\n",
    "        res = 0\n",
    "        seen = set()\n",
    "        \n",
    "        q = list(cnt.values())\n",
    "        heapq.heapify(q)\n",
    "        \n",
    "        while q:\n",
    "            freq = heapq.heappop(q)\n",
    "            while freq > 0 and freq in seen:\n",
    "                res += 1\n",
    "                freq -= 1\n",
    "            seen.add(freq)\n",
    "            \n",
    "        return res\n",
    "    \n",
    "s = \"aabbccddeeff\"\n",
    "ans = Solution()\n",
    "ans.minDeletions(s)       "
   ]
  }
 ],
 "metadata": {
  "kernelspec": {
   "display_name": "Python 3",
   "language": "python",
   "name": "python3"
  },
  "language_info": {
   "codemirror_mode": {
    "name": "ipython",
    "version": 3
   },
   "file_extension": ".py",
   "mimetype": "text/x-python",
   "name": "python",
   "nbconvert_exporter": "python",
   "pygments_lexer": "ipython3",
   "version": "3.8.3"
  }
 },
 "nbformat": 4,
 "nbformat_minor": 4
}
