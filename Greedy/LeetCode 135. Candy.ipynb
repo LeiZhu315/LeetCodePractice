{
 "cells": [
  {
   "cell_type": "markdown",
   "metadata": {},
   "source": [
    "### 135. Candy\n",
    "There are n children standing in a line. Each child is assigned a rating value given in the integer array ratings.\n",
    "\n",
    "You are giving candies to these children subjected to the following requirements:\n",
    "\n",
    "Each child must have at least one candy.\n",
    "Children with a higher rating get more candies than their neighbors.\n",
    "Return the minimum number of candies you need to have to distribute the candies to the children. \n",
    "\n",
    "#### Example 1:\n",
    "- Input: ratings = [1,0,2]\n",
    "- Output: 5\n",
    "- Explanation: You can allocate to the first, second and third child with 2, 1, 2 candies respectively.\n",
    "\n",
    "#### Example 2:\n",
    "- Input: ratings = [1,2,2]\n",
    "- Output: 4\n",
    "- Explanation: You can allocate to the first, second and third child with 1, 2, 1 candies respectively.\n",
    "The third child gets 1 candy because it satisfies the above two conditions.\n",
    " \n",
    "#### Constraints:\n",
    "- n == ratings.length\n",
    "- 1 <= n <= 2 * 104\n",
    "- 0 <= ratings[i] <= 2 * 104\n",
    "\n",
    "#### Difficulty:\n",
    "Hard"
   ]
  },
  {
   "cell_type": "code",
   "execution_count": 1,
   "metadata": {},
   "outputs": [
    {
     "name": "stdout",
     "output_type": "stream",
     "text": [
      "[2, 2, 1, 1, 2, 1, 1]\n",
      "[3, 2, 1, 1, 2, 1, 1]\n"
     ]
    },
    {
     "data": {
      "text/plain": [
       "11"
      ]
     },
     "execution_count": 1,
     "metadata": {},
     "output_type": "execute_result"
    }
   ],
   "source": [
    "# Greedy (two-pass), time O(n), space O(n)\n",
    "class Solution:\n",
    "    def candy(self, ratings):\n",
    "        n = len(ratings)\n",
    "        if n == 1:\n",
    "            return 1\n",
    "        candies = [1] * n\n",
    "        \n",
    "        for i in range(n):\n",
    "            if i == 0:\n",
    "                if ratings[i] > ratings[i+1]:\n",
    "                    candies[i] = max(candies[i], candies[i+1] + 1)\n",
    "            elif i == n - 1:\n",
    "                if ratings[i] > ratings[i-1]:\n",
    "                    candies[i] = max(candies[i], candies[i-1] + 1)\n",
    "            else:\n",
    "                if ratings[i-1] < ratings[i] and ratings[i+1] < ratings[i]:\n",
    "                    candies[i] = max(max(candies[i-1], candies[i+1]) + 1, candies[i])\n",
    "                elif ratings[i-1] < ratings[i]:\n",
    "                    candies[i] = max(candies[i], candies[i-1] + 1)\n",
    "                elif ratings[i+1] < ratings[i]:\n",
    "                    candies[i] = max(candies[i], candies[i+1] + 1)\n",
    "        print(candies)\n",
    "        for i in range(n-1, -1, -1):\n",
    "            if i == 0:\n",
    "                if ratings[i] > ratings[i+1]:\n",
    "                    candies[i] = max(candies[i], candies[i+1] + 1)\n",
    "            elif i == n - 1:\n",
    "                if ratings[i] > ratings[i-1]:\n",
    "                    candies[i] = max(candies[i], candies[i-1] + 1)\n",
    "            else:\n",
    "                if ratings[i-1] < ratings[i] and ratings[i+1] < ratings[i]:\n",
    "                    candies[i] = max(max(candies[i-1], candies[i+1]) + 1, candies[i])\n",
    "                elif ratings[i-1] < ratings[i]:\n",
    "                    candies[i] = max(candies[i], candies[i-1] + 1)\n",
    "                elif ratings[i+1] < ratings[i]:\n",
    "                    candies[i] = max(candies[i], candies[i+1] + 1)\n",
    "        print(candies)\n",
    "            \n",
    "        return sum(candies)\n",
    "        \n",
    "ratings = [3,2,1,1,4,3,3]\n",
    "ans = Solution()\n",
    "ans.candy(ratings)"
   ]
  },
  {
   "cell_type": "code",
   "execution_count": 2,
   "metadata": {},
   "outputs": [
    {
     "data": {
      "text/plain": [
       "11"
      ]
     },
     "execution_count": 2,
     "metadata": {},
     "output_type": "execute_result"
    }
   ],
   "source": [
    "# Greedy (two-pass), time O(n), space O(n)\n",
    "class Solution:\n",
    "    def candy(self, ratings):\n",
    "        n = len(ratings)\n",
    "        candies = [1] * n\n",
    "        for i in range(1, n):\n",
    "            if ratings[i] > ratings[i-1]:\n",
    "                candies[i] = candies[i-1]+1\n",
    "        for i in range(n-2, -1, -1):\n",
    "            if ratings[i] > ratings[i+1]:\n",
    "                candies[i] = max(candies[i], candies[i+1] + 1)\n",
    "        return sum(candies)\n",
    "    \n",
    "ratings = [3,2,1,1,4,3,3]\n",
    "ans = Solution()\n",
    "ans.candy(ratings)"
   ]
  },
  {
   "cell_type": "code",
   "execution_count": 3,
   "metadata": {},
   "outputs": [
    {
     "data": {
      "text/plain": [
       "11"
      ]
     },
     "execution_count": 3,
     "metadata": {},
     "output_type": "execute_result"
    }
   ],
   "source": [
    "# Greedy (one-pass), time O(n), space O(n)\n",
    "class Solution:\n",
    "    def candy(self, ratings):\n",
    "        res = 1\n",
    "        up, down, peak = 0, 0, 0\n",
    "        \n",
    "        for prev, curr in zip(ratings[:-1], ratings[1:]):\n",
    "            if prev < curr:\n",
    "                up, down, peak = up + 1, 0, up + 1\n",
    "                res += 1 + up # add base candy 1 and increament candy 'up' to res\n",
    "            elif prev == curr:\n",
    "                up = down = peak = 0\n",
    "                res += 1 # only give one candy to this kid, sad\n",
    "            else:\n",
    "                up, down = 0, down + 1\n",
    "                res += 1 + down - int(peak >= down)\n",
    "        return res\n",
    "    \n",
    "ratings = [3,2,1,1,4,3,3]\n",
    "ans = Solution()\n",
    "ans.candy(ratings)"
   ]
  },
  {
   "cell_type": "code",
   "execution_count": null,
   "metadata": {},
   "outputs": [],
   "source": []
  }
 ],
 "metadata": {
  "kernelspec": {
   "display_name": "Python 3",
   "language": "python",
   "name": "python3"
  },
  "language_info": {
   "codemirror_mode": {
    "name": "ipython",
    "version": 3
   },
   "file_extension": ".py",
   "mimetype": "text/x-python",
   "name": "python",
   "nbconvert_exporter": "python",
   "pygments_lexer": "ipython3",
   "version": "3.8.3"
  }
 },
 "nbformat": 4,
 "nbformat_minor": 4
}
