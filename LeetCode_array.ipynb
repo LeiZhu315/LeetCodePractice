{
 "cells": [
  {
   "cell_type": "markdown",
   "metadata": {},
   "source": [
    "### 1. two sum"
   ]
  },
  {
   "cell_type": "code",
   "execution_count": 136,
   "metadata": {},
   "outputs": [
    {
     "name": "stdout",
     "output_type": "stream",
     "text": [
      "[0, 1]\n"
     ]
    }
   ],
   "source": [
    "nums = [3,3]\n",
    "target = 6\n",
    "for i in range(len(nums)):\n",
    "    if target - nums[i] in nums[i+1:]: # search target - nums[i] in the remainder array\n",
    "        # found first index i, search for the second in the remainder array using index, shift the second index by i+1\n",
    "        res = [i, nums[i+1:].index(target-nums[i])+1+i] \n",
    "        break\n",
    "print(res)"
   ]
  },
  {
   "cell_type": "markdown",
   "metadata": {},
   "source": [
    "### 26. Remove Duplicates from Sorted Array, change the array in place, return first x unique elements"
   ]
  },
  {
   "cell_type": "code",
   "execution_count": 9,
   "metadata": {},
   "outputs": [
    {
     "name": "stdout",
     "output_type": "stream",
     "text": [
      "5\n",
      "[0, 1, 2, 3, 4, 2, 2, 3, 3, 4]\n",
      "[0, 1, 2, 3, 4]\n",
      "[0, 1, 2, 3, 4]\n"
     ]
    }
   ],
   "source": [
    "nums = [0,0,1,1,1,2,2,3,3,4]\n",
    "i = 0\n",
    "# two pointers, i is slow and j is fast\n",
    "for j in range(1, len(nums)):\n",
    "    if nums[j] != nums[i]:\n",
    "        nums[i+1] = nums[j] # save nums[j] in nums[i+1] if nums[j] is a new number\n",
    "        i += 1\n",
    "print(i+1)\n",
    "print(nums)\n",
    "\n",
    "# set method, remove redundant elements, only leave unique elements\n",
    "nums = [0,0,1,1,1,2,2,3,3,4]\n",
    "nums[:] = set(nums)\n",
    "print(nums)\n",
    "\n",
    "# pop\n",
    "nums = [0,0,1,1,1,2,2,3,3,4]\n",
    "i = 1\n",
    "while i < len(nums):\n",
    "    if nums[i-1] == nums[i]:\n",
    "        nums.pop(i) # if there is a redundant element next to i-1, pop it out\n",
    "    else: i += 1\n",
    "print(nums)"
   ]
  },
  {
   "cell_type": "markdown",
   "metadata": {},
   "source": [
    "### 66. Plus One"
   ]
  },
  {
   "cell_type": "code",
   "execution_count": 25,
   "metadata": {},
   "outputs": [
    {
     "name": "stdout",
     "output_type": "stream",
     "text": [
      "[9, 3, 0]\n",
      "[9, 3, 0]\n"
     ]
    }
   ],
   "source": [
    "digits = [9,2,9]\n",
    "# if the highest bit is 9, it is posible the length of the array need to add 1\n",
    "if digits[0] == 9: \n",
    "    digits.insert(0,0)\n",
    "for i in range(len(digits)-1, -1, -1):\n",
    "    # add 1 to the last bit\n",
    "    digits[i] = digits[i] + 1\n",
    "    # if greater than 10, keep the reminder, loop to add 1 to a higher bit\n",
    "    if digits[i] >= 10:\n",
    "        digits[i] = digits[i]%10\n",
    "    # if not greater than 10, add 1 finishes and break the loop\n",
    "    else:\n",
    "        break\n",
    "# if the highest bit is still 9 and the added 0 was not used, remove it\n",
    "if digits[0] == 0:\n",
    "    digits = digits[1:]\n",
    "print(digits)\n",
    "\n",
    "# num to str and map method\n",
    "digits = [9,2,9]\n",
    "# convert to str\n",
    "st = ''.join(map(str, digits))\n",
    "# plus 1\n",
    "d_plus_1 = int(st) + 1\n",
    "# convert back to array\n",
    "res  = [int(x) for x in str(d_plus_1)]\n",
    "print(res)"
   ]
  },
  {
   "cell_type": "markdown",
   "metadata": {},
   "source": [
    "### 88. Merge Sorted Array"
   ]
  },
  {
   "cell_type": "code",
   "execution_count": 57,
   "metadata": {},
   "outputs": [
    {
     "name": "stdout",
     "output_type": "stream",
     "text": [
      "[2, 5, 6, 7, 8, 9]\n",
      "[2, 5, 6, 7, 8, 9]\n",
      "[7, 8, 9, 0, 0, 9, 0, 0]\n",
      "[7, 8, 9, 0, 8, 9, 0, 0]\n",
      "[7, 8, 9, 7, 8, 9, 0, 0]\n",
      "[7, 8, 6, 7, 8, 9, 0, 0]\n",
      "[7, 5, 6, 7, 8, 9, 0, 0]\n",
      "[2, 5, 6, 7, 8, 9, 0, 0]\n",
      "[2, 5, 6, 7, 8, 9, 0, 0]\n"
     ]
    }
   ],
   "source": [
    "nums1 = [7,8,9,0,0,0,0,0]\n",
    "m = 3\n",
    "nums2 = [2,5,6]\n",
    "n = 3\n",
    "# Output: [1,2,2,3,5,6]\n",
    "\n",
    "# build in function sorted()\n",
    "nums_mer = nums1[:m] + nums2[:n]\n",
    "nums_mer[:] = sorted(nums_mer)\n",
    "print(nums_mer)\n",
    "\n",
    "# merge sort:\n",
    "i,j = 0,0\n",
    "nums_new = []\n",
    "while i < m and j < n:\n",
    "    if nums1[i] <= nums2[j]:\n",
    "        nums_new.append(nums1[i])\n",
    "        i += 1\n",
    "    else:\n",
    "        nums_new.append(nums2[j])\n",
    "        j += 1\n",
    "if i == m:\n",
    "    nums_new += nums2[j:n]\n",
    "if j == n:\n",
    "    nums_new += nums1[i:m]\n",
    "print(nums_new)\n",
    "\n",
    "# modift nums1 in place\n",
    "# start merging from the end of the lists\n",
    "# two pinters T - O(m+n), S- O(1)\n",
    "p1, p2 = m-1, n-1\n",
    "# destination i index to insert nums1\n",
    "for i in range(m+n-1, -1, -1):\n",
    "    # if second list is empty, nothing more to merge\n",
    "    if p2 < 0:\n",
    "        break\n",
    "    # only merge from nums1 if there are items left to merge \n",
    "    # insert at i the larger of the two values from nums1 and nums2\n",
    "    if p1 >=0 and nums1[p1] > nums2[p2]:\n",
    "        nums1[i] = nums1[p1]\n",
    "        p1 -= 1\n",
    "    else:\n",
    "        nums1[i] = nums2[p2]\n",
    "        p2 -= 1\n",
    "    print(nums1)\n",
    "print(nums1)"
   ]
  },
  {
   "cell_type": "markdown",
   "metadata": {},
   "source": [
    "### 108. Convert Sorted Array to Binary Search Tree"
   ]
  },
  {
   "cell_type": "code",
   "execution_count": null,
   "metadata": {},
   "outputs": [],
   "source": [
    "class TreeNode:\n",
    "    def __init__(self, val=0, left=None, right=None):\n",
    "        self.val = val\n",
    "        self.left = left\n",
    "        self.right = right\n",
    "        \n",
    "class Solution:\n",
    "    def sortedArrayToBST(self, nums: List[int]) -> Optional[TreeNode]:\n",
    "        nums = sorted(nums) # sort the array first, if not sorted\n",
    "        return self.array2bst(nums)\n",
    "    \n",
    "    def array2bst(self, nums):\n",
    "        if not nums:\n",
    "            return None\n",
    "        mid = len(nums) // 2\n",
    "        node = TreeNode(nums[mid]) # add the mid element of the sorted array to the root\n",
    "        node.left = self.array2bst(nums[:mid]) # recursion, put first half array to left tree\n",
    "        node.right = self.array2bst(nums[mid:]) # put second half array to righ tree\n",
    "        return node"
   ]
  },
  {
   "cell_type": "markdown",
   "metadata": {},
   "source": [
    "### 118. Pascal's Triangle"
   ]
  },
  {
   "cell_type": "code",
   "execution_count": 67,
   "metadata": {},
   "outputs": [
    {
     "name": "stdout",
     "output_type": "stream",
     "text": [
      "[[1], [1, 1], [1, 2, 1], [1, 3, 3, 1], [1, 4, 6, 4, 1]]\n"
     ]
    }
   ],
   "source": [
    "numRows = 5\n",
    "# Output: [[1],[1,1],[1,2,1],[1,3,3,1],[1,4,6,4,1]]\n",
    "\n",
    "# corner cases\n",
    "# if numRows == 1:\n",
    "#     return [[1]]\n",
    "# elif numRows == 2:\n",
    "#     return [[1], [1, 1]]\n",
    "p = [[1], [1, 1]]\n",
    "tmp = []\n",
    "for i in range(2, numRows):\n",
    "    tmp = [1]\n",
    "    # append the sums from the last row\n",
    "    for j in range(1, i):\n",
    "        tmp.append(p[i-1][j-1]+p[i-1][j])\n",
    "    # append last 1\n",
    "    tmp.append(1)\n",
    "    p.append(tmp)\n",
    "print(p)"
   ]
  },
  {
   "cell_type": "markdown",
   "metadata": {},
   "source": [
    "### 121. Best Time to Buy and Sell Stock"
   ]
  },
  {
   "cell_type": "code",
   "execution_count": 75,
   "metadata": {},
   "outputs": [
    {
     "name": "stdout",
     "output_type": "stream",
     "text": [
      "5\n",
      "5\n"
     ]
    }
   ],
   "source": [
    "prices = [7,1,5,3,6,4]\n",
    "\n",
    "# two pointers\n",
    "c = 0\n",
    "buy = 0\n",
    "for sell in range(len(prices)):\n",
    "    # if buy price > sell price, buy it at the current 'sell' price which is lower\n",
    "    if prices[sell] - prices[buy] <= 0:\n",
    "        buy = sell\n",
    "    # save the profit if it is higher\n",
    "    c = max(c, prices[sell] - prices[buy])\n",
    "print(c)\n",
    "\n",
    "profit = 0\n",
    "buy = prices[0]\n",
    "for sell in range(len(prices)):\n",
    "    buy = min(buy, prices[sell])\n",
    "    profit = max(profit, prices[sell] - buy)\n",
    "print(profit)"
   ]
  },
  {
   "cell_type": "markdown",
   "metadata": {},
   "source": [
    "### 136. Single Number"
   ]
  },
  {
   "cell_type": "code",
   "execution_count": 89,
   "metadata": {},
   "outputs": [
    {
     "name": "stdout",
     "output_type": "stream",
     "text": [
      "4\n",
      "4\n"
     ]
    }
   ],
   "source": [
    "nums = [2,2,4,1,1]\n",
    "hsh = {}\n",
    "for i in nums:\n",
    "    if i in hsh:\n",
    "        hsh[i] += 1\n",
    "    else:\n",
    "        hsh[i] = 1\n",
    "for e in hsh:\n",
    "    if hsh[e] == 1:\n",
    "        print(e)\n",
    "        break\n",
    "\n",
    "# XOR method, 0^0=0, 0^1=, 1^0=0, 1^1=0\n",
    "res = 0\n",
    "for i in nums:\n",
    "    res = res ^ i\n",
    "print(res)"
   ]
  },
  {
   "cell_type": "markdown",
   "metadata": {},
   "source": [
    "### 169. Majority Element"
   ]
  },
  {
   "cell_type": "code",
   "execution_count": 99,
   "metadata": {},
   "outputs": [
    {
     "name": "stdout",
     "output_type": "stream",
     "text": [
      "2\n",
      "2\n"
     ]
    }
   ],
   "source": [
    "nums = [2,2,1,1,1,2,2]\n",
    "hsh = {}\n",
    "for i in nums:\n",
    "    if i in hsh:\n",
    "        hsh[i] += 1\n",
    "    else:\n",
    "        hsh[i] = 1\n",
    "for j in hsh:\n",
    "    if hsh[j] > len(nums)//2:\n",
    "        print(j)\n",
    "        break\n",
    "        \n",
    "nums = sorted(nums)\n",
    "print(nums[len(nums)//2 + 1])"
   ]
  },
  {
   "cell_type": "markdown",
   "metadata": {},
   "source": [
    "### 217. Contains Duplicate"
   ]
  },
  {
   "cell_type": "code",
   "execution_count": 102,
   "metadata": {},
   "outputs": [
    {
     "name": "stdout",
     "output_type": "stream",
     "text": [
      "True\n",
      "True\n"
     ]
    }
   ],
   "source": [
    "nums = [1,2,3,1]\n",
    "pre = len(nums)\n",
    "post = len(set(nums))\n",
    "print(pre != post)\n",
    "\n",
    "# hash table\n",
    "hsh = {}\n",
    "for i in nums:\n",
    "    if i in hsh:\n",
    "        hsh[i] += 1\n",
    "    else:\n",
    "        hsh[i] = 1\n",
    "for j in hsh:\n",
    "    if hsh[j] > 1:\n",
    "        print('True')\n",
    "        break"
   ]
  },
  {
   "cell_type": "markdown",
   "metadata": {},
   "source": [
    "### 268. Missing Number"
   ]
  },
  {
   "cell_type": "code",
   "execution_count": 108,
   "metadata": {},
   "outputs": [
    {
     "name": "stdout",
     "output_type": "stream",
     "text": [
      "9\n"
     ]
    }
   ],
   "source": [
    "nums = [8,6,4,2,3,5,7,0,1]\n",
    "\n",
    "m = len(nums)\n",
    "s = m*(m+1)/2\n",
    "res = int(s - sum(nums))\n",
    "print(res)"
   ]
  },
  {
   "cell_type": "markdown",
   "metadata": {},
   "source": [
    "### 283. Move Zeroes"
   ]
  },
  {
   "cell_type": "code",
   "execution_count": 119,
   "metadata": {},
   "outputs": [
    {
     "name": "stdout",
     "output_type": "stream",
     "text": [
      "[5, 1, 3, 12, 0, 0]\n",
      "[5, 1, 3, 12, 0, 0]\n"
     ]
    }
   ],
   "source": [
    "nums = [5,0,1,0,3,12]\n",
    "# two pointers \n",
    "s = 0\n",
    "for f in range(len(nums)):\n",
    "    if nums[f] != 0 and nums[s] == 0:\n",
    "        # swap non-zero element with zero element\n",
    "        nums[s], nums[f] = nums[f], nums[s]\n",
    "    if nums[s] != 0:\n",
    "        s += 1\n",
    "print(nums)\n",
    "\n",
    "# remove zeros and add at the end\n",
    "nums = [5,0,1,0,3,12]\n",
    "k = 0\n",
    "for i in nums:\n",
    "    if i == 0:\n",
    "        nums.remove(i)\n",
    "        k += 1\n",
    "nums[:] = nums + [0]*k\n",
    "print(nums)"
   ]
  },
  {
   "cell_type": "markdown",
   "metadata": {},
   "source": [
    "### 350. Intersection of Two Arrays II"
   ]
  },
  {
   "cell_type": "code",
   "execution_count": 125,
   "metadata": {},
   "outputs": [
    {
     "name": "stdout",
     "output_type": "stream",
     "text": [
      "[2, 2]\n",
      "[2, 2]\n"
     ]
    }
   ],
   "source": [
    "nums1 = [1,2,2,1]\n",
    "nums2 = [2,2]\n",
    "\n",
    "# pop element method\n",
    "n = []\n",
    "for i in nums1:\n",
    "    if i in nums2:\n",
    "        n.append(i)\n",
    "        nums2.remove(i)\n",
    "print(n)\n",
    "\n",
    "nums1 = [1,2,2,1]\n",
    "nums2 = [2,2]\n",
    "# two pointers\n",
    "nums1.sort()\n",
    "nums2.sort()\n",
    "i,j = 0,0\n",
    "res = []\n",
    "while i < len(nums1) and j < len(nums2):\n",
    "    # If nums1[i] is less than nums2[j], leave the smaller element and go to the next element in nums1\n",
    "    if nums1[i] < nums2[j]:\n",
    "        i += 1\n",
    "    # If nums1[i] is greater than nums2[j], go to the next element in nums2\n",
    "    elif nums2[j] < nums1[i]:\n",
    "        j += 1\n",
    "    # if both the element intersected, add this element to the result array, increase both i and j\n",
    "    else:\n",
    "        res.append(nums1[i])\n",
    "        i += 1\n",
    "        j += 1\n",
    "print(res)"
   ]
  },
  {
   "cell_type": "markdown",
   "metadata": {},
   "source": [
    "### 219. Contains Duplicate II"
   ]
  },
  {
   "cell_type": "code",
   "execution_count": 131,
   "metadata": {},
   "outputs": [
    {
     "name": "stdout",
     "output_type": "stream",
     "text": [
      "0 1\n",
      "{1: 0}\n",
      "1 2\n",
      "{1: 0, 2: 1}\n",
      "2 3\n",
      "{1: 0, 2: 1, 3: 2}\n",
      "3 1\n",
      "{1: 3, 2: 1, 3: 2}\n",
      "4 2\n",
      "{1: 3, 2: 4, 3: 2}\n",
      "5 3\n",
      "{1: 3, 2: 4, 3: 5}\n",
      "False\n"
     ]
    }
   ],
   "source": [
    "nums = [1,2,3,1,2,3]\n",
    "k = 2\n",
    "# hash table method\n",
    "hsh = {}\n",
    "for i,n in enumerate(nums):\n",
    "    # find duplicate element in the hash table, and compare the indices\n",
    "    if n in hsh and i-hsh[n] <= k:\n",
    "        print('True')\n",
    "        break\n",
    "    hsh[n] = i\n",
    "print('False')"
   ]
  },
  {
   "cell_type": "markdown",
   "metadata": {},
   "source": [
    "### 2357. Make Array Zero by Subtracting Equal Amounts"
   ]
  },
  {
   "cell_type": "code",
   "execution_count": 135,
   "metadata": {},
   "outputs": [
    {
     "name": "stdout",
     "output_type": "stream",
     "text": [
      "3\n",
      "3\n"
     ]
    }
   ],
   "source": [
    "nums = [1,5,0,3,5]\n",
    "k = 0\n",
    "nums = set(nums)\n",
    "while nums:\n",
    "    if 0 in nums: \n",
    "        nums.remove(0)\n",
    "    nums = [x-min(nums) for x in nums]\n",
    "    k += 1\n",
    "print(k-1)\n",
    "\n",
    "nums = [1,5,0,3,5]\n",
    "res = len(set(nums) - {0})\n",
    "print(res)"
   ]
  },
  {
   "cell_type": "markdown",
   "metadata": {},
   "source": [
    "### 11. Container With Most Water"
   ]
  },
  {
   "cell_type": "code",
   "execution_count": 137,
   "metadata": {},
   "outputs": [
    {
     "name": "stdout",
     "output_type": "stream",
     "text": [
      "49\n"
     ]
    }
   ],
   "source": [
    "height = [1,8,6,2,5,4,8,3,7]\n",
    "s, e = 0, len(height)-1\n",
    "V = min(height[s], height[e]) * (e - s)\n",
    "while s < e:\n",
    "    # seek taller bars\n",
    "    if height[s] < height[e]:\n",
    "        s += 1\n",
    "    else:\n",
    "        e -= 1\n",
    "    V = max(V, (min(height[s], height[e]) * (e - s)))\n",
    "print(V)"
   ]
  },
  {
   "cell_type": "markdown",
   "metadata": {},
   "source": [
    "### 128. Longest Consecutive Sequence\n",
    "Input: nums = [100,4,200,1,3,2] <br>\n",
    "Output: 4 <br>\n",
    "Explanation: The longest consecutive elements sequence is [1, 2, 3, 4]. Therefore its length is 4. <br>\n",
    "note that the time complexity of sorted() is nlog(n) "
   ]
  },
  {
   "cell_type": "code",
   "execution_count": 20,
   "metadata": {},
   "outputs": [
    {
     "name": "stdout",
     "output_type": "stream",
     "text": [
      "[-1, -1, 0, 1, 3, 4, 5, 6, 7, 8, 9, 9, 10, 11, 12, 13, 14, 15, 16, 17]\n",
      "[0, 1, 1, 2, 1, 1, 1, 1, 1, 1, 0, 1, 1, 1, 1, 1, 1, 1, 1]\n",
      "15\n"
     ]
    }
   ],
   "source": [
    "nums = [9,1,4,7,3,-1,0,5,8,-1,6,9,10,11,12,13,14,15,16,17]\n",
    "nums = sorted(nums)\n",
    "print(nums)\n",
    "diff = []\n",
    "for i in range(len(nums)-1):\n",
    "    diff.append(nums[i+1] - nums[i])\n",
    "res = 1\n",
    "cnt = 1\n",
    "for i in diff:\n",
    "    if i == 1:\n",
    "        cnt += 1\n",
    "    elif i > 1:\n",
    "        res = max(res, cnt)\n",
    "        cnt = 1\n",
    "res = max(res, cnt)\n",
    "print(diff)\n",
    "print(res)"
   ]
  },
  {
   "cell_type": "markdown",
   "metadata": {},
   "source": [
    "### 128. Longest Consecutive Sequence\n",
    " Union find solution <br>\n",
    "\n",
    " 1. Iterate over the numbers, if you have seen it before it's a duplicate number so don't repeat the work. <br>\n",
    "    Actually, even if i repeated the work it would still doesn't matter(except for penalty of redoing the work) <br>\n",
    "    but the algorithm would still be correct. <br>\n",
    " 2. Otherwise, find the adjacent element (num+1, num-1) <br>\n",
    " 3. Do union of adjacent elements and update the size of these nodes.  <br>\n",
    "    I have modified the union method to return the updated size <br>\n",
    "    as it avoids me finding largest connected component once finished. <br> \n",
    "    Only time the max_size would change is when there is union of two nodes "
   ]
  },
  {
   "cell_type": "code",
   "execution_count": 29,
   "metadata": {},
   "outputs": [
    {
     "name": "stdout",
     "output_type": "stream",
     "text": [
      "2\n",
      "4\n",
      "7\n",
      "9\n",
      "9\n"
     ]
    }
   ],
   "source": [
    "nums = [0,3,7,2,5,8,4,6,0,1]\n",
    "class Node:\n",
    "    def __init__(self, val):\n",
    "        self.val = val\n",
    "        self.parent = self\n",
    "        self.size = 1\n",
    "class UnionFind:\n",
    "    def find(self, node):\n",
    "        if node.parent != node:\n",
    "            node.parent = self.find(node.parent)\n",
    "        return node.parent\n",
    "    def union(self, node1, node2):\n",
    "        parent_1 = self.find(node1)\n",
    "        parent_2 = self.find(node2)\n",
    "        if parent_1 != parent_2:\n",
    "            parent_2.parent = parent_1\n",
    "            parent_1.size += parent_2.size\n",
    "        return parent_1.size\n",
    "uf = UnionFind()\n",
    "nodes = {}\n",
    "max_size = 0\n",
    "for num in nums:\n",
    "    if num not in nodes:\n",
    "        node = Node(num)\n",
    "        nodes[num] = node\n",
    "        size = 1\n",
    "        if num + 1 in nodes:\n",
    "            size = uf.union(node, nodes[num+1])\n",
    "#             print(size)\n",
    "        if num - 1 in nodes:\n",
    "            size = uf.union(node, nodes[num-1])\n",
    "#             print(size)\n",
    "        max_size = max(max_size, size)\n",
    "print(max_size)"
   ]
  },
  {
   "cell_type": "markdown",
   "metadata": {},
   "source": [
    "### 128. Longest Consecutive Sequence"
   ]
  },
  {
   "cell_type": "code",
   "execution_count": 37,
   "metadata": {},
   "outputs": [
    {
     "name": "stdout",
     "output_type": "stream",
     "text": [
      "9\n"
     ]
    }
   ],
   "source": [
    "# heapq solution\n",
    "import heapq\n",
    "nums = [0,3,7,2,5,8,4,6,0,1,-10]\n",
    "a, res, tmp = list(set(nums)), 0, 0\n",
    "heapq.heapify(a)\n",
    "while a:\n",
    "    pop_val = heapq.heappop(a)\n",
    "    tmp += 1\n",
    "    if a == [] or a[0] != pop_val + 1:\n",
    "        res = max(tmp, res)\n",
    "        tmp = 0\n",
    "print(res)"
   ]
  },
  {
   "cell_type": "markdown",
   "metadata": {},
   "source": [
    "### 380. Insert Delete GetRandom O(1)"
   ]
  },
  {
   "cell_type": "code",
   "execution_count": 129,
   "metadata": {},
   "outputs": [],
   "source": [
    "# note that the time complexity of array.remove(val) is O(n)\n",
    "class RandomizedSet:\n",
    "\n",
    "    def __init__(self):\n",
    "        self.RandSet = []\n",
    "        self.hsh = {}\n",
    "\n",
    "    def insert(self, val: int) -> bool:\n",
    "        if val in self.hsh:\n",
    "            return False\n",
    "        self.hsh[val] = len(self.RandSet)\n",
    "        self.RandSet.append(val)\n",
    "        return True\n",
    "\n",
    "    def remove(self, val: int) -> bool:\n",
    "        if val in self.hsh:\n",
    "#             self.RandSet.remove(val)\n",
    "            # cover the taregt element by the last element (second line)\n",
    "            # record the new location of the 'last' element in the hash table (first line)\n",
    "            self.hsh[self.RandSet[-1]] = self.hsh[val]\n",
    "#             print(self.hsh)\n",
    "            self.RandSet[self.hsh[val]] = self.RandSet[-1]\n",
    "#             print(self.RandSet)\n",
    "            # pop out the target element with time complexity of O(1)\n",
    "            self.RandSet.pop()\n",
    "            self.hsh.pop(val)\n",
    "            return True\n",
    "        return False\n",
    "        \n",
    "    def getRandom(self) -> int:\n",
    "        import random as random\n",
    "        return random.choice(self.RandSet)"
   ]
  },
  {
   "cell_type": "code",
   "execution_count": 130,
   "metadata": {},
   "outputs": [
    {
     "name": "stdout",
     "output_type": "stream",
     "text": [
      "{1: 0, 2: 1, 3: 0}\n",
      "[3, 2, 3]\n"
     ]
    },
    {
     "data": {
      "text/plain": [
       "True"
      ]
     },
     "execution_count": 130,
     "metadata": {},
     "output_type": "execute_result"
    }
   ],
   "source": [
    "obj = RandomizedSet()\n",
    "obj.insert(1)\n",
    "obj.insert(2)\n",
    "obj.insert(3)\n",
    "obj.remove(1)\n",
    "# RandomizedSet().getRandom()"
   ]
  },
  {
   "cell_type": "code",
   "execution_count": 102,
   "metadata": {},
   "outputs": [
    {
     "data": {
      "text/plain": [
       "{1: 1, 2: 1, 3: 1}"
      ]
     },
     "execution_count": 102,
     "metadata": {},
     "output_type": "execute_result"
    }
   ],
   "source": [
    "test = {1:1, 2:1, 3:1, 50:1}\n",
    "test.pop(50)\n",
    "test"
   ]
  },
  {
   "cell_type": "code",
   "execution_count": 105,
   "metadata": {},
   "outputs": [
    {
     "data": {
      "text/plain": [
       "[1, 2, 3]"
      ]
     },
     "execution_count": 105,
     "metadata": {},
     "output_type": "execute_result"
    }
   ],
   "source": [
    "test2 = [1,2,3,50]\n",
    "test2.remove(50)\n",
    "test2"
   ]
  },
  {
   "cell_type": "markdown",
   "metadata": {},
   "source": [
    "### 162. Find Peak Element\n",
    "You must write an algorithm that runs in O(log n) time."
   ]
  },
  {
   "cell_type": "code",
   "execution_count": 135,
   "metadata": {},
   "outputs": [
    {
     "name": "stdout",
     "output_type": "stream",
     "text": [
      "5\n"
     ]
    }
   ],
   "source": [
    "nums = [1,2,1,3,5,6,4]\n",
    "s, e = 1, len(nums)-1\n",
    "while s < e:\n",
    "    mid = (s+e)//2\n",
    "    if nums[mid] > nums[mid+1] and nums[mid] > nums[mid-1]:\n",
    "        print(mid)\n",
    "        break\n",
    "    elif nums[mid+1] > nums[mid] > nums[mid-1]:\n",
    "        s = mid + 1\n",
    "#     elif nums[mid] > nums[mid+1]:\n",
    "#         e = mid\n",
    "    else:\n",
    "        e = mid"
   ]
  },
  {
   "cell_type": "markdown",
   "metadata": {},
   "source": [
    "### 287. Find the Duplicate Number\n",
    " Given an array of integers nums containing n + 1 integers where each integer is in the range [1, n] inclusive. <br>\n",
    " There is only one repeated number in nums, return this repeated number. <br>\n",
    " You must solve the problem without modifying the array nums and uses only constant extra space.<br>\n"
   ]
  },
  {
   "cell_type": "code",
   "execution_count": 188,
   "metadata": {},
   "outputs": [
    {
     "name": "stdout",
     "output_type": "stream",
     "text": [
      "3\n"
     ]
    }
   ],
   "source": [
    "# heap map method\n",
    "nums = [3,1,3,4,2]\n",
    "hsh = {}\n",
    "for i in nums:\n",
    "    if i in hsh:\n",
    "        print(i)\n",
    "        break\n",
    "    else:\n",
    "        hsh[i] = 1"
   ]
  },
  {
   "cell_type": "code",
   "execution_count": 189,
   "metadata": {},
   "outputs": [
    {
     "name": "stdout",
     "output_type": "stream",
     "text": [
      "3\n"
     ]
    }
   ],
   "source": [
    "# sum, suitable for only one repeated number in the array, O(n) time O(n) space\n",
    "n = len(nums) - 1\n",
    "total = (1+n)*n/2\n",
    "print(sum(nums)-int(total))"
   ]
  },
  {
   "cell_type": "code",
   "execution_count": 190,
   "metadata": {},
   "outputs": [
    {
     "name": "stdout",
     "output_type": "stream",
     "text": [
      "0\n",
      "8\n",
      "10\n",
      "duplicate: 3\n"
     ]
    }
   ],
   "source": [
    "# bit manipulation, O(n) time O(n) space\n",
    "seen = 0\n",
    "for i in nums:\n",
    "    print(seen)\n",
    "    if seen & (1 << i):\n",
    "        print('duplicate:', i)\n",
    "        break\n",
    "    seen |= 1 << i"
   ]
  },
  {
   "cell_type": "code",
   "execution_count": 193,
   "metadata": {},
   "outputs": [
    {
     "name": "stdout",
     "output_type": "stream",
     "text": [
      "cycle A1 4 2\n",
      "cycle A2 2 6\n",
      "cycle A2 5 6\n",
      "cycle A2 6 6\n",
      "cycle B1 3 6\n",
      "cycle B2 4 5\n",
      "cycle B2 2 6\n",
      "cycle B2 5 5\n",
      "5\n"
     ]
    }
   ],
   "source": [
    "# Floyd's toroise and hare method, O(n) time O(1) space\n",
    "# x -> nums[x] -> nums[nums[x]] -> ...\n",
    "# there is a duplicate item ↔ there is cycle in the list\n",
    "# the entrance of the cycle ↔ the duplicate item we want\n",
    "nums = [3,1,5,4,2,6,5,7]\n",
    "slow = nums[nums[0]]\n",
    "fast = nums[slow]\n",
    "print('cycle A1',slow, fast)\n",
    "while slow != fast:\n",
    "    slow = nums[slow]\n",
    "    fast = nums[nums[fast]]\n",
    "    print('cycle A2',slow, fast)\n",
    "slow = nums[0]\n",
    "print('cycle B1',slow, fast)\n",
    "while slow != fast:\n",
    "    slow, fast = nums[slow], nums[fast]\n",
    "    print('cycle B2',slow, fast)\n",
    "print(slow)"
   ]
  },
  {
   "cell_type": "markdown",
   "metadata": {},
   "source": [
    "### 1207. Unique Number of Occurrences\n",
    "Given an array of integers arr, return true if the number of occurrences of each value in the array is unique, or false otherwise."
   ]
  },
  {
   "cell_type": "code",
   "execution_count": 197,
   "metadata": {},
   "outputs": [
    {
     "name": "stdout",
     "output_type": "stream",
     "text": [
      "True\n",
      "True\n"
     ]
    }
   ],
   "source": [
    "arr = [-3,0,1,-3,1,1,1,-3,10,0]\n",
    "hsh = {}\n",
    "for i in arr:\n",
    "    if i in hsh:\n",
    "        hsh[i] += 1\n",
    "    else:\n",
    "        hsh[i] = 1\n",
    "flag = True\n",
    "hsh2 = {}\n",
    "for i in hsh:\n",
    "    if hsh[i] in hsh2:\n",
    "        flag = False\n",
    "        break\n",
    "    else:\n",
    "        hsh2[hsh[i]] = 1\n",
    "print(flag)\n",
    "\n",
    "print(len(set(hsh.values())) == len(set(arr))) # then no need for the second hash table"
   ]
  },
  {
   "cell_type": "markdown",
   "metadata": {},
   "source": [
    "### 454. 4Sum II\n",
    "Given four integer arrays nums1, nums2, nums3, and nums4 all of length n, return the number of tuples (i, j, k, l) such that: <br>\n",
    "0 <= i, j, k, l < n <br>\n",
    "nums1[i] + nums2[j] + nums3[k] + nums4[l] == 0"
   ]
  },
  {
   "cell_type": "code",
   "execution_count": 200,
   "metadata": {},
   "outputs": [
    {
     "data": {
      "text/plain": [
       "2"
      ]
     },
     "execution_count": 200,
     "metadata": {},
     "output_type": "execute_result"
    }
   ],
   "source": [
    "nums1 = [1,2]\n",
    "nums2 = [-2,-1]\n",
    "nums3 = [-1,2]\n",
    "nums4 = [0,2]\n",
    "# time O(n^2), space O(n^2)\n",
    "hsh = {}\n",
    "res = 0\n",
    "for i in nums1:\n",
    "    for j in nums2:\n",
    "        if i+j in hsh:\n",
    "            hsh[i+j] += 1\n",
    "        else:\n",
    "            hsh[i+j] = 1\n",
    "for k in nums3:\n",
    "    for l in nums4:\n",
    "        if 0-k-l in hsh:\n",
    "            res += hsh[0-k-l]\n",
    "res"
   ]
  },
  {
   "cell_type": "markdown",
   "metadata": {},
   "source": [
    "### 2256. Minimum Average Difference\n",
    "You are given a 0-indexed integer array nums of length n. <br>\n",
    "\n",
    "The average difference of the index i is the absolute difference between the average of the first i + 1 elements of nums and the average of the last n - i - 1 elements. Both averages should be rounded down to the nearest integer. <br>\n",
    "\n",
    "Return the index with the minimum average difference. If there are multiple such indices, return the smallest one. <br>\n",
    "\n",
    "Note:<br>\n",
    "\n",
    "The absolute difference of two numbers is the absolute value of their difference.<br>\n",
    "The average of n elements is the sum of the n elements divided (integer division) by n.<br>\n",
    "The average of 0 elements is considered to be 0."
   ]
  },
  {
   "cell_type": "code",
   "execution_count": 34,
   "metadata": {},
   "outputs": [
    {
     "name": "stdout",
     "output_type": "stream",
     "text": [
      "3\n",
      "2\n",
      "1\n"
     ]
    }
   ],
   "source": [
    "nums = [5,4,3,2,1]\n",
    "diff = float('inf')\n",
    "index = 0\n",
    "for i in range(len(nums)-1):\n",
    "    head = nums[:i+1]\n",
    "    tail = nums[i+1:]\n",
    "    if diff > abs(int(sum(head)/len(head)) - int(sum(tail)/len(tail))):\n",
    "        diff = abs(int(sum(head)/len(head)) - int(sum(tail)/len(tail)))\n",
    "        index = i\n",
    "if diff > abs(int(sum(nums)/len(nums))):\n",
    "    index = len(nums) - 1\n",
    "print(index)"
   ]
  },
  {
   "cell_type": "code",
   "execution_count": 35,
   "metadata": {},
   "outputs": [
    {
     "name": "stdout",
     "output_type": "stream",
     "text": [
      "1\n"
     ]
    }
   ],
   "source": [
    "index = 0\n",
    "n = len(nums)\n",
    "diff = float('inf')\n",
    "head, tail = 0, sum(nums)\n",
    "for i in range(n-1):\n",
    "    head += nums[i]\n",
    "    tail -= nums[i]\n",
    "    if diff > abs(int(head // (i+1)) - int(tail // (n-i-1))):\n",
    "        diff = abs(int(head // (i+1)) - int(tail // (n-i-1)))\n",
    "        index = i\n",
    "if diff > abs(int(sum(nums)/len(nums))):\n",
    "    index = len(nums) - 1\n",
    "print(index)   "
   ]
  },
  {
   "cell_type": "markdown",
   "metadata": {},
   "source": [
    "### 130. Surrounded Regions\n",
    "Given an m x n matrix board containing 'X' and 'O', capture all regions that are 4-directionally surrounded by 'X'. <br>\n",
    "A region is captured by flipping all 'O's into 'X's in that surrounded region. <br>\n",
    "Notice that an 'O' should not be flipped if: <br>\n",
    "- It is on the border, or <br>\n",
    "- It is adjacent to an 'O' that should not be flipped."
   ]
  },
  {
   "cell_type": "code",
   "execution_count": 41,
   "metadata": {},
   "outputs": [
    {
     "name": "stdout",
     "output_type": "stream",
     "text": [
      "[['X', 'X', 'X', 'X'], ['X', 'X', 'X', 'X'], ['X', 'X', 'X', 'X'], ['X', 'O', 'X', 'X']]\n"
     ]
    }
   ],
   "source": [
    "board = [[\"X\",\"X\",\"X\",\"X\"],[\"X\",\"O\",\"O\",\"X\"],[\"X\",\"X\",\"O\",\"X\"],[\"X\",\"O\",\"X\",\"X\"]]\n",
    "\n",
    "# BFS:\n",
    "from collections import deque\n",
    "\n",
    "n, m = len(board), len(board[0])\n",
    "# check if the searching direction is inside the board\n",
    "def inside(i, j):\n",
    "    return (0 <= i < n) and (0 <= j < m)\n",
    "Q = deque()\n",
    "# search for the location of all border 'O's\n",
    "for i in range(n):\n",
    "    if board[i][0] == \"O\":\n",
    "        Q.append((i, 0))\n",
    "    if board[i][m-1] ==\"O\":\n",
    "        Q.append((i, m-1))\n",
    "for j in range(1,m-1):\n",
    "    if board[0][j] == \"O\":\n",
    "        Q.append((0, j))\n",
    "    if board[n-1][j] == \"O\":\n",
    "        Q.append((n-1, j))\n",
    "\n",
    "# change all the border 'O's and any 'O's directly linked to them into '#'s\n",
    "# the 'O's that haven't been changed are the ones we are looking for, turn them into 'X's\n",
    "while Q:\n",
    "    i, j = Q.popleft()\n",
    "    # change border 'O's into '#'s\n",
    "    board[i][j] = \"#\"\n",
    "    # search for any 'O's directly linked to the border 'O's in the four directions\n",
    "    for ii, jj in [(i+1, j), (i-1, j), (i, j+1), (i, j-1)]:\n",
    "        # if the searching direction is outside the board, skip\n",
    "        if not inside(ii, jj):\n",
    "            continue\n",
    "        if board[ii][jj] != \"O\":\n",
    "            continue\n",
    "        # found 'O' directly linked to a border 'O', save it's location into Q and turn it into '#'\n",
    "        # the programme will search for any 'O's directly linked to this 'O' we just found, and turn it into '#'\n",
    "        Q.append((ii, jj))\n",
    "        board[ii][jj] = \"#\"\n",
    "# turn all 'O's into 'X's and change '#'s back to 'O's\n",
    "for i in range(n):\n",
    "    for j in range(m):\n",
    "        if board[i][j] == \"O\":\n",
    "            board[i][j] = \"X\"\n",
    "        elif board[i][j] == \"#\":\n",
    "            board[i][j] = \"O\"\n",
    "print(board)"
   ]
  },
  {
   "cell_type": "markdown",
   "metadata": {},
   "source": [
    "### 200. Number of Islands\n",
    "Given an m x n 2D binary grid grid which represents a map of '1's (land) and '0's (water), return the number of islands.<br>\n",
    "An island is surrounded by water and is formed by connecting adjacent lands horizontally or vertically. You may assume all four edges of the grid are all surrounded by water."
   ]
  },
  {
   "cell_type": "code",
   "execution_count": 71,
   "metadata": {},
   "outputs": [
    {
     "name": "stdout",
     "output_type": "stream",
     "text": [
      "[['0', '0', '0'], ['0', '0', '0'], ['0', '0', '0']] 1\n"
     ]
    }
   ],
   "source": [
    "grid = [[\"1\",\"1\",\"1\"],[\"0\",\"1\",\"0\"],[\"0\",\"1\",\"0\"]]\n",
    "\n",
    "# depth forst search, time O(n*m)\n",
    "n, m = len(grid), len(grid[0])\n",
    "def inside(i, j):\n",
    "    return (0 <= i < n) and (0 <= j < m)\n",
    "def dfs(grid, i, j):\n",
    "#     print(\"layer1\",grid)\n",
    "    grid[i][j] = \"0\"\n",
    "    for ii, jj in [(i+1, j), (i-1, j), (i, j+1), (i, j-1)]:\n",
    "        if inside(ii, jj) and grid[ii][jj] == \"1\":\n",
    "            dfs(grid, ii, jj)\n",
    "#         print(\"layer2\",grid)\n",
    "res = 0\n",
    "for i in range(n):\n",
    "    for j in range(m):\n",
    "        if grid[i][j] == \"1\":\n",
    "            dfs(grid, i, j)\n",
    "            res += 1\n",
    "print(grid, res)"
   ]
  },
  {
   "cell_type": "code",
   "execution_count": 85,
   "metadata": {},
   "outputs": [
    {
     "name": "stdout",
     "output_type": "stream",
     "text": [
      "[['0', '0', '0', '0', '0'], ['0', '0', '0', '0', '0'], ['0', '0', '0', '0', '0'], ['0', '0', '0', '0', '0']] 3\n"
     ]
    }
   ],
   "source": [
    "# breadth first search\n",
    "grid = [[\"1\",\"1\",\"0\",\"0\",\"0\"],[\"1\",\"1\",\"0\",\"0\",\"0\"],[\"0\",\"0\",\"1\",\"0\",\"0\"],[\"0\",\"0\",\"0\",\"1\",\"1\"]]\n",
    "from collections import deque\n",
    "\n",
    "n, m = len(grid), len(grid[0])\n",
    "def helper(grid, queue):\n",
    "    while queue:\n",
    "        i, j = queue.popleft()\n",
    "        for ii, jj in [(i+1, j), (i-1, j), (i, j+1), (i, j-1)]:\n",
    "            if inside(ii, jj) and grid[ii][jj] == \"1\":\n",
    "                queue.append((ii, jj))\n",
    "                grid[ii][jj] = \"0\"\n",
    "count = 0\n",
    "queue = deque([])\n",
    "for i in range(n):\n",
    "    for j in range(m):\n",
    "        if grid[i][j] == '1':\n",
    "            grid[i][j] = \"0\"\n",
    "            queue.append((i,j))\n",
    "            helper(grid,queue) # turn the adjancent '1' to '0'\n",
    "            count += 1\n",
    "print(grid, count)"
   ]
  },
  {
   "cell_type": "markdown",
   "metadata": {},
   "source": [
    "### 238. Product of Array Except Self\n",
    "Given an integer array nums, return an array answer such that answer[i] is equal to the product of all the elements of nums except nums[i].<br>\n",
    "The product of any prefix or suffix of nums is guaranteed to fit in a 32-bit integer.<br>\n",
    "You must write an algorithm that runs in O(n) time and without using the division operation."
   ]
  },
  {
   "cell_type": "code",
   "execution_count": 134,
   "metadata": {},
   "outputs": [
    {
     "name": "stdout",
     "output_type": "stream",
     "text": [
      "[1, 2, 4, 12]\n",
      "[24, 24, 16, 12]\n"
     ]
    }
   ],
   "source": [
    "nums = [2,2,3,4]\n",
    "\n",
    "# using exp and log, but cannot deal with input of 0 (log(n), n>0)\n",
    "# import math\n",
    "# def productExceptSelf(nums):\n",
    "#     answer = [1]*len(nums)\n",
    "#     for i in range(1, len(nums)):\n",
    "#         answer[0] *= nums[i]\n",
    "#     for i in range(1, len(nums)):\n",
    "#         answer[i] = round(math.exp(math.log(answer[i-1]) - math.log(nums[i]))) * nums[i-1]\n",
    "#     return answer\n",
    "# answer = productExceptSelf(nums)\n",
    "# print(answer)\n",
    "\n",
    "# dynamic programming and prefix\n",
    "def productExceptSelf(nums):\n",
    "    answer = [1] * len(nums)\n",
    "    # dp, store nums[0]*...*nums[i-1] in nums[i]\n",
    "#     tmp = 1\n",
    "    for i in range(1, len(nums)):\n",
    "#         answer[i] = nums[i-1]*tmp\n",
    "#         tmp *= nums[i-1]\n",
    "        answer[i] = nums[i-1] * answer[i-1]\n",
    "    print(answer)\n",
    "    # bottom down prefix\n",
    "    tmp = 1\n",
    "#     dp = [1] * len(nums)\n",
    "    for i in range(len(nums)-1, -1, -1):\n",
    "#         dp[i] = nums[i+1] * dp[i+1] # start from i = len(nums)-2\n",
    "#         answer[i] *= dp[i]\n",
    "        answer[i] *= tmp\n",
    "        tmp *= nums[i]\n",
    "    return answer\n",
    "answer = productExceptSelf(nums)\n",
    "print(answer)"
   ]
  },
  {
   "cell_type": "markdown",
   "metadata": {},
   "source": [
    "### 240. Search a 2D Matrix II\n",
    "Write an efficient algorithm that searches for a value target in an m x n integer matrix matrix. This matrix has the following properties: <br>\n",
    "Integers in each row are sorted in ascending from left to right.<br>\n",
    "Integers in each column are sorted in ascending from top to bottom."
   ]
  },
  {
   "cell_type": "code",
   "execution_count": 11,
   "metadata": {},
   "outputs": [
    {
     "name": "stdout",
     "output_type": "stream",
     "text": [
      "3 3\n",
      "True\n"
     ]
    }
   ],
   "source": [
    "matrix = [[1,4,7,11,15],[2,5,8,12,19],[3,6,9,16,22],[10,13,14,17,24],[18,21,23,26,30]]\n",
    "target = 17\n",
    "\n",
    "# time O(n*m), space O(1)\n",
    "n, m = len(matrix), len(matrix[0])\n",
    "i, j = m-1, 0\n",
    "find = False\n",
    "for j in range(n):\n",
    "    if matrix[j][i] == target:\n",
    "        find = True\n",
    "        print(j, i)\n",
    "        break\n",
    "    elif matrix[j][i] > target:\n",
    "        for k in range(i-1, -1, -1):\n",
    "            if matrix[j][k] == target:\n",
    "                find = True\n",
    "                print(j, k)\n",
    "                break\n",
    "            elif matrix[j][k] < target:\n",
    "                i = k\n",
    "                break\n",
    "print(find)"
   ]
  },
  {
   "cell_type": "markdown",
   "metadata": {},
   "source": [
    "### 74. Search a 2D Matrix\n",
    "Write an efficient algorithm that searches for a value target in an m x n integer matrix matrix. This matrix has the following properties:<br>\n",
    "Integers in each row are sorted from left to right.<br>\n",
    "The first integer of each row is greater than the last integer of the previous row."
   ]
  },
  {
   "cell_type": "code",
   "execution_count": 41,
   "metadata": {},
   "outputs": [
    {
     "name": "stdout",
     "output_type": "stream",
     "text": [
      "True\n"
     ]
    }
   ],
   "source": [
    "matrix = [[1,3,5,7],[10,11,16,20],[23,30,34,60]]\n",
    "target = 11\n",
    "\n",
    "# time O(m+n), space O(1)\n",
    "n, m = len(matrix), len(matrix[0])\n",
    "i = 0\n",
    "find = False\n",
    "for i in range(n):\n",
    "    if matrix[i][m-1] == target:\n",
    "        find = True\n",
    "        break\n",
    "    elif matrix[i][m-1] > target:\n",
    "        for k in range(m-1, -1, -1):\n",
    "            if matrix[i][k] == target:\n",
    "                find = True\n",
    "                break\n",
    "print(find)"
   ]
  },
  {
   "cell_type": "code",
   "execution_count": 42,
   "metadata": {},
   "outputs": [
    {
     "name": "stdout",
     "output_type": "stream",
     "text": [
      "1 1\n",
      "found 1 1\n",
      "0 3\n"
     ]
    }
   ],
   "source": [
    "# two binary search\n",
    "# search row\n",
    "r1, r2 = 0, n-1\n",
    "while r1 < r2:\n",
    "    mid = (r1 + r2) // 2\n",
    "    if matrix[mid][m-1] == target:\n",
    "        print('found', mid, m-1)\n",
    "        break\n",
    "    elif matrix[mid][m-1] > target:\n",
    "        r2 = mid\n",
    "    else:\n",
    "        r1 = mid + 1\n",
    "print(r1,r2)\n",
    "# search for colomn\n",
    "c1, c2 = 0, m-1\n",
    "while c1 < c2:\n",
    "    mid = (c1 + c2) // 2\n",
    "    if matrix[r1][mid] == target:\n",
    "        print('found', r1, mid)\n",
    "        break\n",
    "    elif matrix[r1][mid] > target:\n",
    "        c2 = mid\n",
    "    else:\n",
    "        c1 = mid + 1\n",
    "print(c1, c2)"
   ]
  },
  {
   "cell_type": "markdown",
   "metadata": {},
   "source": [
    "### 149. Max Points on a Line\n",
    "Given an array of points where points[i] = [xi, yi] represents a point on the X-Y plane, return the maximum number of points that lie on the same straight line.\n",
    "<img src=\"https://assets.leetcode.com/uploads/2021/02/25/plane2.jpg\" width=\"256\">"
   ]
  },
  {
   "cell_type": "code",
   "execution_count": 4,
   "metadata": {},
   "outputs": [
    {
     "data": {
      "text/plain": [
       "4"
      ]
     },
     "execution_count": 4,
     "metadata": {},
     "output_type": "execute_result"
    }
   ],
   "source": [
    "points = [[1,1],[3,2],[5,3],[4,1],[2,3],[1,4]]\n",
    "\n",
    "from collections import defaultdict\n",
    "\n",
    "def find_slope(p1, p2):\n",
    "    x1, y1 = p1\n",
    "    x2, y2 = p2\n",
    "    if x1 - x2 == 0:\n",
    "        return float(\"inf\")\n",
    "    return (y1 - y2) / (x1 - x2)\n",
    "\n",
    "res = 1\n",
    "for i, p1 in enumerate(points):\n",
    "    # reset dict to avoid double-counting\n",
    "    slopes = defaultdict(int)\n",
    "    for p2 in points[i+1:]:\n",
    "        slope = find_slope(p1, p2)\n",
    "        slopes[slope] += 1\n",
    "        res = max(res, slopes[slope])\n",
    "res + 1"
   ]
  },
  {
   "cell_type": "markdown",
   "metadata": {},
   "source": [
    "### 57. Insert Interval\n",
    "You are given an array of non-overlapping intervals intervals where intervals[i] = [starti, endi] represent the start and the end of the ith interval and intervals is sorted in ascending order by starti. You are also given an interval newInterval = [start, end] that represents the start and end of another interval.\n",
    "\n",
    "Insert newInterval into intervals such that intervals is still sorted in ascending order by starti and intervals still does not have any overlapping intervals (merge overlapping intervals if necessary).\n",
    "\n",
    "Return intervals after the insertion."
   ]
  },
  {
   "cell_type": "code",
   "execution_count": 47,
   "metadata": {},
   "outputs": [],
   "source": [
    "intervals = [[1,2],[3,5],[6,7],[8,10],[12,16]]\n",
    "newInterval = [4,8]"
   ]
  },
  {
   "cell_type": "code",
   "execution_count": 24,
   "metadata": {},
   "outputs": [
    {
     "name": "stdout",
     "output_type": "stream",
     "text": [
      "[4, 8] [[1, 2]]\n",
      "[3, 8] [[1, 2]]\n",
      "[3, 8] [[1, 2]]\n",
      "[3, 10] [[1, 2]]\n",
      "[12, 16] [[1, 2], [3, 10]]\n"
     ]
    },
    {
     "data": {
      "text/plain": [
       "[[1, 2], [3, 10], [12, 16]]"
      ]
     },
     "execution_count": 24,
     "metadata": {},
     "output_type": "execute_result"
    }
   ],
   "source": [
    "def insert(intervals, newInterval):\n",
    "    res = []\n",
    "    for idx, [i, j] in enumerate(intervals):\n",
    "        if newInterval[0] > j: # case 1, newInterval at the right of cur interval, no overlap\n",
    "            res.append([i, j])\n",
    "        elif newInterval[1] < i: # case 2, newInterval at the left of cur interval, no overlap\n",
    "            res.append(newInterval)\n",
    "            newInterval = [i, j]\n",
    "        else: # overlap found, merge and update newInterval\n",
    "            newInterval[0] = min(i, newInterval[0])\n",
    "            newInterval[1] = max(j, newInterval[1])\n",
    "        print(newInterval, res)\n",
    "    res.append(newInterval)\n",
    "    return res\n",
    "insert(intervals, newInterval)"
   ]
  },
  {
   "cell_type": "code",
   "execution_count": 38,
   "metadata": {},
   "outputs": [
    {
     "name": "stdout",
     "output_type": "stream",
     "text": [
      "1 -1\n",
      "2 1\n",
      "3 -1\n",
      "4 -1\n",
      "5 1\n",
      "6 -1\n",
      "7 1\n",
      "8 -1\n",
      "8 1\n",
      "10 1\n",
      "12 -1\n",
      "16 1\n"
     ]
    },
    {
     "data": {
      "text/plain": [
       "[[1, 2], [3, 10], [12, 16]]"
      ]
     },
     "execution_count": 38,
     "metadata": {},
     "output_type": "execute_result"
    }
   ],
   "source": [
    "# sweep line, heap\n",
    "import heapq\n",
    "heap, res = [], []\n",
    "for s, e in intervals + [newInterval]: # in heap, mark start as -1, end as 1\n",
    "    heapq.heappush(heap, (s, -1))\n",
    "    heapq.heappush(heap, (e, 1))\n",
    "cur,s = 0, None\n",
    "while heap:\n",
    "    i, val = heapq.heappop(heap)\n",
    "    print(i, val)\n",
    "    if s is None: # if s is None, assign i to s as interval start\n",
    "        s = i\n",
    "    cur += val # keep counting till close interval\n",
    "    if cur == 0: # when cur == 0, close the interval\n",
    "        res.append([s, i])\n",
    "        s = None\n",
    "res"
   ]
  },
  {
   "cell_type": "markdown",
   "metadata": {},
   "source": [
    "### 974. Subarray Sums Divisible by K\n",
    "Given an integer array nums and an integer k, return the number of non-empty subarrays that have a sum divisible by k.\n",
    "\n",
    "A subarray is a contiguous part of an array."
   ]
  },
  {
   "cell_type": "code",
   "execution_count": 66,
   "metadata": {},
   "outputs": [],
   "source": [
    "nums = [4,5,0,-2,-3,1]\n",
    "k = 5"
   ]
  },
  {
   "cell_type": "code",
   "execution_count": 60,
   "metadata": {},
   "outputs": [
    {
     "data": {
      "text/plain": [
       "7"
      ]
     },
     "execution_count": 60,
     "metadata": {},
     "output_type": "execute_result"
    }
   ],
   "source": [
    "# time complexity O(n^2); space O(1)\n",
    "ans = 0\n",
    "\n",
    "for i in range(len(nums)):\n",
    "    prefix = 0\n",
    "    for j in range(i, len(nums)):\n",
    "        prefix += nums[j]\n",
    "        if not prefix // k:\n",
    "            ans += 1\n",
    "\n",
    "ans"
   ]
  },
  {
   "cell_type": "code",
   "execution_count": 69,
   "metadata": {},
   "outputs": [
    {
     "name": "stdout",
     "output_type": "stream",
     "text": [
      "{0: 2, 4: 4, 2: 1}\n"
     ]
    },
    {
     "data": {
      "text/plain": [
       "7"
      ]
     },
     "execution_count": 69,
     "metadata": {},
     "output_type": "execute_result"
    }
   ],
   "source": [
    "# hash map, time O(n), space O(n)\n",
    "# F[i] = sum(nums[:i])\n",
    "# sum(nums[i:j]) = F[j] - F[i]\n",
    "# if (F[j] - F[i]) % k = 0, then F[j] % k = F[i] % k\n",
    "# hsh[key] = F[i] % k\n",
    "ans = 0\n",
    "hsh = {0: 1} # if F[i]%k = 0,itself can be the subarray satisfying the criterion\n",
    "prefix = 0\n",
    "for num in nums:\n",
    "    prefix += num\n",
    "    key = prefix % k # key = F[i]%k\n",
    "    if key in hsh: # found F[i]%k in hsh that satisfies F[j]%k = F[i]%k\n",
    "        ans += hsh[key] # there can be more than one F[i]%k in hsh[key]\n",
    "        hsh[key] += 1\n",
    "    else:\n",
    "        hsh[key] = 1\n",
    "print(hsh)\n",
    "ans"
   ]
  },
  {
   "cell_type": "markdown",
   "metadata": {},
   "source": [
    "### 1470. Shuffle the Array\n",
    "Given the array nums consisting of 2n elements in the form [x1,x2,...,xn,y1,y2,...,yn].<br>\n",
    "Return the array in the form [x1,y1,x2,y2,...,xn,yn]."
   ]
  },
  {
   "cell_type": "code",
   "execution_count": 23,
   "metadata": {},
   "outputs": [],
   "source": [
    "nums = [1,2,3,4,9,8,7,6]\n",
    "n = 4"
   ]
  },
  {
   "cell_type": "code",
   "execution_count": 24,
   "metadata": {},
   "outputs": [
    {
     "data": {
      "text/plain": [
       "[1, 9, 2, 8, 3, 7, 4, 6]"
      ]
     },
     "execution_count": 24,
     "metadata": {},
     "output_type": "execute_result"
    }
   ],
   "source": [
    "# time O(n), space O(len(nums))\n",
    "res = []\n",
    "for i in range(n):\n",
    "    res.append(nums[i])\n",
    "    res.append(nums[i+n])\n",
    "res"
   ]
  },
  {
   "cell_type": "code",
   "execution_count": 26,
   "metadata": {},
   "outputs": [
    {
     "data": {
      "text/plain": [
       "[1, 9, 2, 8, 3, 7, 4, 6]"
      ]
     },
     "execution_count": 26,
     "metadata": {},
     "output_type": "execute_result"
    }
   ],
   "source": [
    "# space O(1), time O(n**2)\n",
    "nums = [1,2,3,4,9,8,7,6]\n",
    "idx = 1\n",
    "for i in range(n):\n",
    "    nums.insert(idx, nums[i+n])\n",
    "    nums.pop(i+n+1)\n",
    "    idx += 2\n",
    "nums"
   ]
  },
  {
   "cell_type": "markdown",
   "metadata": {},
   "source": [
    "### 904. Fruit Into Baskets\n",
    "You are visiting a farm that has a single row of fruit trees arranged from left to right. The trees are represented by an integer array fruits where fruits[i] is the type of fruit the ith tree produces.\n",
    "\n",
    "You want to collect as much fruit as possible. However, the owner has some strict rules that you must follow:\n",
    "\n",
    "You only have two baskets, and each basket can only hold a single type of fruit. There is no limit on the amount of fruit each basket can hold.\n",
    "Starting from any tree of your choice, you must pick exactly one fruit from every tree (including the start tree) while moving to the right. The picked fruits must fit in one of your baskets.\n",
    "Once you reach a tree with fruit that cannot fit in your baskets, you must stop.\n",
    "\n",
    "Given the integer array fruits, return the maximum number of fruits you can pick."
   ]
  },
  {
   "cell_type": "code",
   "execution_count": 73,
   "metadata": {},
   "outputs": [],
   "source": [
    "fruits = [0,1,2,2]"
   ]
  },
  {
   "cell_type": "code",
   "execution_count": 81,
   "metadata": {},
   "outputs": [
    {
     "name": "stdout",
     "output_type": "stream",
     "text": [
      "defaultdict(<class 'int'>, {0: 1}) {0: 0}\n",
      "defaultdict(<class 'int'>, {0: 1, 1: 1}) {0: 0, 1: 1}\n",
      "defaultdict(<class 'int'>, {2: 1, 1: 1}) {1: 1, 2: 2}\n",
      "defaultdict(<class 'int'>, {2: 2, 1: 1}) {1: 1, 2: 3}\n"
     ]
    },
    {
     "data": {
      "text/plain": [
       "3"
      ]
     },
     "execution_count": 81,
     "metadata": {},
     "output_type": "execute_result"
    }
   ],
   "source": [
    "# hash map + sliding window, time O(n)\n",
    "def totalFruit(fruits):\n",
    "    from collections import defaultdict\n",
    "    hsh = defaultdict(int)\n",
    "    position = {}\n",
    "    res = 0\n",
    "    for i in range(len(fruits)):\n",
    "        position[fruits[i]] = i\n",
    "        hsh[fruits[i]] += 1\n",
    "        if len(hsh) > 2:\n",
    "            hsh_tmp = defaultdict(int)\n",
    "            hsh_tmp[fruits[i]] = hsh.pop(fruits[i])\n",
    "            del hsh[fruits[i-1]]\n",
    "            key = list(hsh.keys())[0]\n",
    "            hsh_tmp[fruits[i-1]] = i - 1 - position[key]\n",
    "            del position[key]\n",
    "            hsh = hsh_tmp\n",
    "        res = max(res, sum(hsh.values()))\n",
    "        print(hsh, position)\n",
    "    return res\n",
    "totalFruit(fruits)"
   ]
  },
  {
   "cell_type": "code",
   "execution_count": 82,
   "metadata": {},
   "outputs": [
    {
     "data": {
      "text/plain": [
       "3"
      ]
     },
     "execution_count": 82,
     "metadata": {},
     "output_type": "execute_result"
    }
   ],
   "source": [
    "# two pointers\n",
    "def totalFruit(fruits):\n",
    "    from collections import Counter\n",
    "    fruit_types = Counter()\n",
    "    distinct = 0\n",
    "    max_fruits = 0\n",
    "    left = right = 0\n",
    "    while right < len(fruits):\n",
    "        if fruit_types[fruits[right]] == 0:\n",
    "            distinct += 1\n",
    "        fruit_types[fruits[right]] += 1\n",
    "        while distinct > 2: # move left pointer till distinct == 2\n",
    "            fruit_types[fruits[left]] -= 1\n",
    "            if fruit_types[fruits[left]] == 0:\n",
    "                distinct -= 1\n",
    "            left += 1\n",
    "        max_fruits = max(max_fruits, right-left+1)\n",
    "        right += 1\n",
    "    return max_fruits\n",
    "totalFruit(fruits)"
   ]
  },
  {
   "cell_type": "code",
   "execution_count": 83,
   "metadata": {},
   "outputs": [
    {
     "data": {
      "text/plain": [
       "3"
      ]
     },
     "execution_count": 83,
     "metadata": {},
     "output_type": "execute_result"
    }
   ],
   "source": [
    "# optimised two pointers\n",
    "def totalFruit(fruits):\n",
    "    from collections import defaultdict\n",
    "    res = 0\n",
    "    count = defaultdict(int)\n",
    "    l = 0\n",
    "    for i, fruit in enumerate(fruits):\n",
    "        count[fruit] += 1\n",
    "        while len(count) > 2:\n",
    "            count[fruits[l]] -= 1\n",
    "            if count[fruits[l]] == 0:\n",
    "                del count[fruits[l]]\n",
    "            l += 1\n",
    "        res = max(res, i-l+1)\n",
    "    return res\n",
    "totalFruit(fruits)"
   ]
  },
  {
   "cell_type": "markdown",
   "metadata": {},
   "source": [
    "### 1523. Count Odd Numbers in an Interval Range\n",
    "Given two non-negative integers low and high. Return the count of odd numbers between low and high (inclusive).\n",
    "\n",
    "Input: low = 3, high = 7<br>\n",
    "Output: 3<br>\n",
    "Explanation: The odd numbers between 3 and 7 are [3,5,7].<br>"
   ]
  },
  {
   "cell_type": "code",
   "execution_count": 8,
   "metadata": {},
   "outputs": [],
   "source": [
    "low, high = 3, 7"
   ]
  },
  {
   "cell_type": "code",
   "execution_count": 9,
   "metadata": {},
   "outputs": [
    {
     "data": {
      "text/plain": [
       "3"
      ]
     },
     "execution_count": 9,
     "metadata": {},
     "output_type": "execute_result"
    }
   ],
   "source": [
    "def countOdds(low, high):\n",
    "    if low == high:\n",
    "        if low%2:\n",
    "            return 1\n",
    "        else:\n",
    "            return 0\n",
    "    if low%2:\n",
    "        low -= 1\n",
    "    if high%2:\n",
    "        high += 1\n",
    "    return (high - low) // 2\n",
    "\n",
    "countOdds(low, high)"
   ]
  },
  {
   "cell_type": "code",
   "execution_count": 10,
   "metadata": {},
   "outputs": [
    {
     "data": {
      "text/plain": [
       "3"
      ]
     },
     "execution_count": 10,
     "metadata": {},
     "output_type": "execute_result"
    }
   ],
   "source": [
    "def countOdds(low, high):\n",
    "    if low % 2 == 0:\n",
    "        return (high - low + 1) // 2\n",
    "    return (high - low) //2 + 1\n",
    "countOdds(low, high)"
   ]
  },
  {
   "cell_type": "code",
   "execution_count": 11,
   "metadata": {},
   "outputs": [
    {
     "data": {
      "text/plain": [
       "3"
      ]
     },
     "execution_count": 11,
     "metadata": {},
     "output_type": "execute_result"
    }
   ],
   "source": [
    "def countOdds(low, high):\n",
    "    odd = (high - low) //2\n",
    "    if low % 2 == 1 or high % 2 == 1:\n",
    "        odd += 1\n",
    "    return odd\n",
    "countOdds(low, high)"
   ]
  },
  {
   "cell_type": "code",
   "execution_count": 12,
   "metadata": {},
   "outputs": [
    {
     "data": {
      "text/plain": [
       "3"
      ]
     },
     "execution_count": 12,
     "metadata": {},
     "output_type": "execute_result"
    }
   ],
   "source": [
    "def countOdds(low, high):\n",
    "    return (high + 1) // 2 - low // 2\n",
    "countOdds(low, high)"
   ]
  },
  {
   "cell_type": "markdown",
   "metadata": {},
   "source": [
    "### 989. Add to Array-Form of Integer\n",
    "The array-form of an integer num is an array representing its digits in left to right order.\n",
    "\n",
    "- For example, for num = 1321, the array form is [1,3,2,1].\n",
    "\n",
    "Given num, the array-form of an integer, and an integer k, return the array-form of the integer num + k."
   ]
  },
  {
   "cell_type": "code",
   "execution_count": 47,
   "metadata": {},
   "outputs": [],
   "source": [
    "num = [2,1,5]\n",
    "k = 806"
   ]
  },
  {
   "cell_type": "code",
   "execution_count": 48,
   "metadata": {},
   "outputs": [
    {
     "data": {
      "text/plain": [
       "[1, 0, 2, 1]"
      ]
     },
     "execution_count": 48,
     "metadata": {},
     "output_type": "execute_result"
    }
   ],
   "source": [
    "# time O(n), space O(n)\n",
    "def addToArrayForm(num, k):\n",
    "#     n = 0\n",
    "#     for i in range(len(num)-1, -1, -1):\n",
    "#         n += num[i] * (10 ** (len(num)-i-1))\n",
    "#     n += k\n",
    "    n = int(\"\".join(map(str, num))) + k\n",
    "    res = [int(x) for i,x in enumerate(str(n))]\n",
    "#     res = []\n",
    "#     while n > 0:\n",
    "#         res.insert(0, n%10)\n",
    "#         n = n // 10\n",
    "    return res\n",
    "addToArrayForm(num, k)"
   ]
  },
  {
   "cell_type": "code",
   "execution_count": 30,
   "metadata": {},
   "outputs": [
    {
     "data": {
      "text/plain": [
       "[1, 0, 2, 1]"
      ]
     },
     "execution_count": 30,
     "metadata": {},
     "output_type": "execute_result"
    }
   ],
   "source": [
    "# time O(n), space O(1)\n",
    "def addToArrayForm(num, k):\n",
    "    for i in range(len(num)-1, -1, -1):\n",
    "        k, num[i] = divmod(num[i]+k, 10)\n",
    "    while k > 0:\n",
    "        k, r = divmod(k, 10)\n",
    "        num = [r] + num\n",
    "    return num\n",
    "addToArrayForm(num, k)"
   ]
  },
  {
   "cell_type": "code",
   "execution_count": 39,
   "metadata": {},
   "outputs": [
    {
     "data": {
      "text/plain": [
       "[1, 0, 2, 1]"
      ]
     },
     "execution_count": 39,
     "metadata": {},
     "output_type": "execute_result"
    }
   ],
   "source": [
    "def addToArrayForm(num, k):\n",
    "    return list(map(int, str(int(\"\".join(map(str, num))) + k)))\n",
    "addToArrayForm(num, k)"
   ]
  },
  {
   "cell_type": "markdown",
   "metadata": {},
   "source": [
    "### 35. Search Insert Position\n",
    "Given a sorted array of distinct integers and a target value, return the index if the target is found. If not, return the index where it would be if it were inserted in order.\n",
    "\n",
    "You must write an algorithm with O(log n) runtime complexity."
   ]
  },
  {
   "cell_type": "code",
   "execution_count": 41,
   "metadata": {},
   "outputs": [
    {
     "name": "stdout",
     "output_type": "stream",
     "text": [
      "0 3 1\n",
      "2 3 2\n",
      "3 3 3\n"
     ]
    },
    {
     "data": {
      "text/plain": [
       "4"
      ]
     },
     "execution_count": 41,
     "metadata": {},
     "output_type": "execute_result"
    }
   ],
   "source": [
    "nums = [1,3,5,6]\n",
    "target = 7\n",
    "\n",
    "def searchInsert(nums, target):\n",
    "    s, e = 0, len(nums)-1\n",
    "    while s <= e:\n",
    "        m = (s + e) // 2\n",
    "        print(s, e, m)\n",
    "        if target == nums[m]:\n",
    "            return m\n",
    "        if m != 0 and nums[m-1] < target < nums[m]:\n",
    "            return m\n",
    "        if m == 0:\n",
    "            if target < nums[m]:\n",
    "                return m\n",
    "            elif target > nums[m]:\n",
    "                return 1\n",
    "        if m == len(nums) - 1 and target > nums[m]:\n",
    "            return len(nums)\n",
    "        if target > nums[m]:\n",
    "            s = m + 1\n",
    "        elif target < nums[m]:\n",
    "            e = m\n",
    "            \n",
    "searchInsert(nums, target)"
   ]
  },
  {
   "cell_type": "code",
   "execution_count": 42,
   "metadata": {},
   "outputs": [
    {
     "name": "stdout",
     "output_type": "stream",
     "text": [
      "0 3 1\n",
      "2 3 2\n",
      "3 3 3\n"
     ]
    },
    {
     "data": {
      "text/plain": [
       "4"
      ]
     },
     "execution_count": 42,
     "metadata": {},
     "output_type": "execute_result"
    }
   ],
   "source": [
    "def searchInsert(nums, target):\n",
    "    s, e = 0, len(nums)-1\n",
    "    while s <= e:\n",
    "        m = (s + e) // 2\n",
    "        print(s, e, m)\n",
    "        if target == nums[m]:\n",
    "            return m\n",
    "        if target < nums[m]:\n",
    "            e = m - 1\n",
    "        else:\n",
    "            s = m + 1\n",
    "    return s # return left indicator\n",
    "searchInsert(nums, target)"
   ]
  },
  {
   "cell_type": "code",
   "execution_count": 43,
   "metadata": {},
   "outputs": [
    {
     "data": {
      "text/plain": [
       "4"
      ]
     },
     "execution_count": 43,
     "metadata": {},
     "output_type": "execute_result"
    }
   ],
   "source": [
    "def searchInsert(nums, target):\n",
    "    if target in nums:\n",
    "        return nums.index(target)\n",
    "    nums.append(target)\n",
    "    nums.sort()\n",
    "    return nums.index(target)\n",
    "searchInsert(nums, target)"
   ]
  },
  {
   "cell_type": "code",
   "execution_count": 18,
   "metadata": {},
   "outputs": [
    {
     "data": {
      "text/plain": [
       "1"
      ]
     },
     "execution_count": 18,
     "metadata": {},
     "output_type": "execute_result"
    }
   ],
   "source": [
    "def searchInsert(nums, target):\n",
    "    import bisect\n",
    "    return bisect.bisect_left(nums, target)\n",
    "\n",
    "searchInsert(nums, target)"
   ]
  },
  {
   "cell_type": "markdown",
   "metadata": {},
   "source": [
    "### 540. Single Element in a Sorted Array\n",
    "You are given a sorted array consisting of only integers where every element appears exactly twice, except for one element which appears exactly once.\n",
    "\n",
    "Return the single element that appears only once.\n",
    "\n",
    "Your solution must run in O(log n) time and O(1) space."
   ]
  },
  {
   "cell_type": "code",
   "execution_count": 75,
   "metadata": {},
   "outputs": [],
   "source": [
    "nums = [3,3,7,7,10,11,11]\n",
    "# nums = [1,1,2,2,3]\n",
    "# nums = [7,7,10,11,11,12,12]"
   ]
  },
  {
   "cell_type": "code",
   "execution_count": 76,
   "metadata": {},
   "outputs": [
    {
     "data": {
      "text/plain": [
       "10"
      ]
     },
     "execution_count": 76,
     "metadata": {},
     "output_type": "execute_result"
    }
   ],
   "source": [
    "def singleNonDuplicate(nums):\n",
    "    if len(nums) == 1:\n",
    "        return nums[0]\n",
    "    s, e = 0, len(nums)-1\n",
    "    if nums[s] != nums[s+1]:\n",
    "        return nums[s]\n",
    "    if nums[e] != nums[e-1]:\n",
    "        return nums[e]\n",
    "    # the index of the first one of the pair nums is even when at the left of the single number\n",
    "    # and it is odd when at the right of the single number\n",
    "    while s < e:\n",
    "        m = (s + e) // 2\n",
    "        if nums[m] != nums[m-1] and nums[m] != nums[m+1]:\n",
    "            return nums[m]\n",
    "        elif nums[m] == nums[m+1]: # first one of the pair nums\n",
    "            if m % 2:\n",
    "                e = m\n",
    "            else:\n",
    "                s = m + 1\n",
    "        else:\n",
    "            if (m - 1) % 2:\n",
    "                e = m\n",
    "            else:\n",
    "                s = m + 1\n",
    "    return -1\n",
    "\n",
    "singleNonDuplicate(nums)"
   ]
  },
  {
   "cell_type": "code",
   "execution_count": 80,
   "metadata": {},
   "outputs": [
    {
     "name": "stdout",
     "output_type": "stream",
     "text": [
      "0 6 2\n",
      "4 6 4\n"
     ]
    },
    {
     "data": {
      "text/plain": [
       "10"
      ]
     },
     "execution_count": 80,
     "metadata": {},
     "output_type": "execute_result"
    }
   ],
   "source": [
    "def singleNonDuplicate(nums):\n",
    "    left, right = 0, len(nums) - 1\n",
    "    while left < right:\n",
    "        mid = (left + right) // 2\n",
    "        if mid % 2 == 1:\n",
    "            mid -= 1 # make sure mid is an even number\n",
    "        print(left, right, mid)\n",
    "        # compare the mid number with its adjacent numbers of the right\n",
    "        # if the single number is on the left of the mid number,\n",
    "        # non of the even-indexed number (include the mid) after the single number equals to its right number,\n",
    "        # so search left\n",
    "        if nums[mid] != nums[mid + 1]:\n",
    "            right = mid \n",
    "        # if the single number is on the right of the mid number, \n",
    "        # any even-indexed number (include the mid) before the single number equals to its right number\n",
    "        # so search right\n",
    "        else:\n",
    "            left = mid + 2 # nums[mid] == nums[mid+1], so mid is surely not the single num, update left by 2\n",
    "    # when the left and right pointers converge to a single number, return that number\n",
    "    return nums[left]\n",
    "singleNonDuplicate(nums)"
   ]
  },
  {
   "cell_type": "markdown",
   "metadata": {},
   "source": [
    "### 1011. Capacity To Ship Packages Within D Days\n",
    "A conveyor belt has packages that must be shipped from one port to another within days days.\n",
    "\n",
    "The ith package on the conveyor belt has a weight of weights[i]. Each day, we load the ship with packages on the conveyor belt (in the order given by weights). We may not load more weight than the maximum weight capacity of the ship.\n",
    "\n",
    "Return the least weight capacity of the ship that will result in all the packages on the conveyor belt being shipped within days days."
   ]
  },
  {
   "cell_type": "code",
   "execution_count": 117,
   "metadata": {},
   "outputs": [],
   "source": [
    "weights = [10,50,100,100,50,100,100,100]\n",
    "days = 5"
   ]
  },
  {
   "cell_type": "code",
   "execution_count": 122,
   "metadata": {},
   "outputs": [
    {
     "name": "stdout",
     "output_type": "stream",
     "text": [
      "610 100 355 True\n",
      "354 100 227 True\n",
      "226 100 163 True\n",
      "162 100 131 False\n",
      "162 132 147 False\n",
      "162 148 155 False\n",
      "162 156 159 False\n",
      "162 160 161 True\n",
      "160 160 160 True\n",
      "159 160 160 True\n"
     ]
    },
    {
     "data": {
      "text/plain": [
       "160"
      ]
     },
     "execution_count": 122,
     "metadata": {},
     "output_type": "execute_result"
    }
   ],
   "source": [
    "# binary search, time O(n*logn), space O(1)\n",
    "def shipWithinDays(weights, days):\n",
    "    def possible(weights_max, days_allowed = days):\n",
    "        days_needed = 1\n",
    "        carry = 0\n",
    "        for i in weights:\n",
    "            if carry + i > weights_max:\n",
    "                days_needed += 1\n",
    "                carry = 0\n",
    "            carry += i\n",
    "        if days_needed > days_allowed:\n",
    "            return False\n",
    "        return True\n",
    "    \n",
    "    if days == 1:\n",
    "        return sum(weights)\n",
    "    \n",
    "    # calculate the boundary of binary search: lower bound -> max(weights); upper bound -> sum(weights)\n",
    "    weights_min, weights_max = max(weights), sum(weights)\n",
    "    res = weights_max\n",
    "    \n",
    "    while weights_min <= weights_max:\n",
    "        weights_mid = (weights_min + weights_max) // 2\n",
    "        print(weights_max, weights_min, weights_mid, possible(weights_mid))\n",
    "        if possible(weights_mid): # can complete within allowed days, keep searching down \n",
    "            res = weights_mid\n",
    "            weights_max = weights_mid - 1\n",
    "        else:\n",
    "            weights_min = weights_mid + 1\n",
    "    print(weights_max, weights_min, weights_mid, possible(weights_mid))        \n",
    "    return res\n",
    "\n",
    "shipWithinDays(weights, days)"
   ]
  },
  {
   "cell_type": "code",
   "execution_count": null,
   "metadata": {},
   "outputs": [],
   "source": []
  }
 ],
 "metadata": {
  "kernelspec": {
   "display_name": "Python 3",
   "language": "python",
   "name": "python3"
  },
  "language_info": {
   "codemirror_mode": {
    "name": "ipython",
    "version": 3
   },
   "file_extension": ".py",
   "mimetype": "text/x-python",
   "name": "python",
   "nbconvert_exporter": "python",
   "pygments_lexer": "ipython3",
   "version": "3.7.1"
  }
 },
 "nbformat": 4,
 "nbformat_minor": 2
}
