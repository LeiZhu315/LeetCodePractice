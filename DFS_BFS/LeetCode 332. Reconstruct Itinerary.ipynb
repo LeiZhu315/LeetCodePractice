{
 "cells": [
  {
   "cell_type": "markdown",
   "metadata": {},
   "source": [
    "### 332. Reconstruct Itinerary\n",
    "You are given a list of airline tickets where tickets[i] = [fromi, toi] represent the departure and the arrival airports of one flight. Reconstruct the itinerary in order and return it.\n",
    "\n",
    "All of the tickets belong to a man who departs from \"JFK\", thus, the itinerary must begin with \"JFK\". If there are multiple valid itineraries, you should return the itinerary that has the smallest lexical order when read as a single string.\n",
    "\n",
    "For example, the itinerary [\"JFK\", \"LGA\"] has a smaller lexical order than [\"JFK\", \"LGB\"].\n",
    "\n",
    "You may assume all tickets form at least one valid itinerary. You must use all the tickets once and only once.\n",
    "\n",
    "#### Example 1:\n",
    "<img src='https://assets.leetcode.com/uploads/2021/03/14/itinerary1-graph.jpg' width=256> <br>\n",
    "- Input: tickets = [[\"MUC\",\"LHR\"],[\"JFK\",\"MUC\"],[\"SFO\",\"SJC\"],[\"LHR\",\"SFO\"]]\n",
    "- Output: [\"JFK\",\"MUC\",\"LHR\",\"SFO\",\"SJC\"]\n",
    "\n",
    "#### Example 2:\n",
    "<img src='https://assets.leetcode.com/uploads/2021/03/14/itinerary2-graph.jpg' width=128> <br>\n",
    "- Input: tickets = [[\"JFK\",\"SFO\"],[\"JFK\",\"ATL\"],[\"SFO\",\"ATL\"],[\"ATL\",\"JFK\"],[\"ATL\",\"SFO\"]]\n",
    "- Output: [\"JFK\",\"ATL\",\"JFK\",\"SFO\",\"ATL\",\"SFO\"]\n",
    "- Explanation: Another possible reconstruction is [\"JFK\",\"SFO\",\"ATL\",\"JFK\",\"ATL\",\"SFO\"] but it is larger in lexical order.\n",
    "\n",
    "#### Constraints:\n",
    "- 1 <= tickets.length <= 300\n",
    "- tickets[i].length == 2\n",
    "- fromi.length == 3\n",
    "- toi.length == 3\n",
    "- fromi and toi consist of uppercase English letters.\n",
    "- fromi != toi\n",
    "\n",
    "#### Difficulty:\n",
    "Hard\n",
    "\n",
    "https://leetcode.com/problems/reconstruct-itinerary/description/?envType=daily-question&envId=2023-09-14"
   ]
  },
  {
   "cell_type": "code",
   "execution_count": 1,
   "metadata": {},
   "outputs": [
    {
     "data": {
      "text/plain": [
       "['JFK', 'ATL', 'JFK', 'SFO', 'ATL', 'SFO']"
      ]
     },
     "execution_count": 1,
     "metadata": {},
     "output_type": "execute_result"
    }
   ],
   "source": [
    "# DFS, time O(nlogn), space O(n)\n",
    "class Solution:\n",
    "    def findItinerary(self, tickets):\n",
    "        from collections import defaultdict\n",
    "        graph = defaultdict(list)\n",
    "        \n",
    "        # initialise the graph[src] = list(dst) with sorted dst from large to small\n",
    "        # time O(nlogn) for this step\n",
    "        for src, dst in sorted(tickets, reverse=True):\n",
    "            graph[src].append(dst)\n",
    "            \n",
    "        itinerary = []\n",
    "        \n",
    "        def dfs(airport):\n",
    "            while graph[airport]:\n",
    "                # this step DFS the graph till the outdegree of one node reduced to zero\n",
    "                dfs(graph[airport].pop())\n",
    "            # reach an node with no outgoing edges, start backtracking\n",
    "            # by adding the aiport to the itinerary list\n",
    "            itinerary.append(airport)\n",
    "            \n",
    "            \n",
    "        dfs('JFK')\n",
    "        # reverse the itinerary list and return it\n",
    "        return itinerary[::-1]\n",
    "        \n",
    "tickets = [[\"JFK\",\"SFO\"],[\"JFK\",\"ATL\"],[\"SFO\",\"ATL\"],[\"ATL\",\"JFK\"],[\"ATL\",\"SFO\"]]\n",
    "ans = Solution()\n",
    "ans.findItinerary(tickets)"
   ]
  },
  {
   "cell_type": "code",
   "execution_count": 2,
   "metadata": {},
   "outputs": [
    {
     "data": {
      "text/plain": [
       "['JFK', 'ATL', 'JFK', 'SFO', 'ATL', 'SFO']"
      ]
     },
     "execution_count": 2,
     "metadata": {},
     "output_type": "execute_result"
    }
   ],
   "source": [
    "# DFS, time O(nlogn), space O(n)\n",
    "class Solution:\n",
    "    def findItinerary(self, tickets):\n",
    "        from collections import defaultdict\n",
    "        graph = defaultdict(list)\n",
    "        \n",
    "        for src, dst in sorted(tickets, reverse=True):\n",
    "            graph[src].append(dst)\n",
    "            \n",
    "        stack = [\"JFK\"]\n",
    "        itinerary = []\n",
    "        \n",
    "        while stack:\n",
    "            while graph[stack[-1]]:\n",
    "                stack.append(graph[stack[-1]].pop())\n",
    "            itinerary.append(stack.pop())\n",
    "        \n",
    "        return itinerary[::-1]\n",
    "        \n",
    "tickets = [[\"JFK\",\"SFO\"],[\"JFK\",\"ATL\"],[\"SFO\",\"ATL\"],[\"ATL\",\"JFK\"],[\"ATL\",\"SFO\"]]\n",
    "ans = Solution()\n",
    "ans.findItinerary(tickets)"
   ]
  },
  {
   "cell_type": "code",
   "execution_count": null,
   "metadata": {},
   "outputs": [],
   "source": []
  }
 ],
 "metadata": {
  "kernelspec": {
   "display_name": "Python 3",
   "language": "python",
   "name": "python3"
  },
  "language_info": {
   "codemirror_mode": {
    "name": "ipython",
    "version": 3
   },
   "file_extension": ".py",
   "mimetype": "text/x-python",
   "name": "python",
   "nbconvert_exporter": "python",
   "pygments_lexer": "ipython3",
   "version": "3.8.3"
  }
 },
 "nbformat": 4,
 "nbformat_minor": 4
}
