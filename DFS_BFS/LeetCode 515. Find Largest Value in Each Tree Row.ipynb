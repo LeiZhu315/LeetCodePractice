{
 "cells": [
  {
   "cell_type": "markdown",
   "metadata": {},
   "source": [
    "### 515. Find Largest Value in Each Tree Row\n",
    "Given the root of a binary tree, return an array of the largest value in each row of the tree (0-indexed). \n",
    "\n",
    "#### Example 1:\n",
    "<img src='https://assets.leetcode.com/uploads/2020/08/21/largest_e1.jpg' width=256><br>\n",
    "- Input: root = [1,3,2,5,3,null,9]\n",
    "- Output: [1,3,9]\n",
    "\n",
    "#### Example 2:\n",
    "- Input: root = [1,2,3]\n",
    "- Output: [1,3]\n",
    " \n",
    "#### Constraints:\n",
    "- The number of nodes in the tree will be in the range [0, 104].\n",
    "- -231 <= Node.val <= 231 - 1\n",
    "\n",
    "#### Difficulty:\n",
    "Medium\n",
    "\n",
    "https://leetcode.com/problems/find-largest-value-in-each-tree-row/description/?envType=daily-question&envId=2023-10-24"
   ]
  },
  {
   "cell_type": "code",
   "execution_count": 1,
   "metadata": {},
   "outputs": [],
   "source": [
    "class TreeNode:\n",
    "    def __init__(self, val=0, left=None, right=None):\n",
    "        self.val = val\n",
    "        self.left = left\n",
    "        self.right = right"
   ]
  },
  {
   "cell_type": "code",
   "execution_count": 6,
   "metadata": {},
   "outputs": [
    {
     "data": {
      "text/plain": [
       "[1, 3, 9]"
      ]
     },
     "execution_count": 6,
     "metadata": {},
     "output_type": "execute_result"
    }
   ],
   "source": [
    "# BFS, time O(n), space O(m), where n = number of nodes, m = max num of nodes of a tree level\n",
    "class Solution:\n",
    "    def largestValues(self, root):\n",
    "        if not root:\n",
    "            return []\n",
    "        \n",
    "        from collections import deque\n",
    "        q = deque()\n",
    "        q.append(root)\n",
    "        res = []\n",
    "        \n",
    "        while q:\n",
    "            curr_max = float('-inf')\n",
    "            for _ in range(len(q)):\n",
    "                curr = q.popleft()\n",
    "                if curr.left:\n",
    "                    q.append(curr.left)\n",
    "                if curr.right:\n",
    "                    q.append(curr.right)\n",
    "                curr_max = max(curr_max, curr.val)\n",
    "            res.append(curr_max)\n",
    "        \n",
    "        return res\n",
    "\n",
    "# [1,3,2,5,3,null,9]\n",
    "root = TreeNode(val=1)\n",
    "root.left = TreeNode(val=3)\n",
    "root.right = TreeNode(val=2)\n",
    "l = root.left\n",
    "l.left = TreeNode(val=5)\n",
    "l.rigt = TreeNode(val=3)\n",
    "r = root.right\n",
    "l.right = TreeNode(val=9)\n",
    "\n",
    "ans = Solution()\n",
    "ans.largestValues(root)"
   ]
  },
  {
   "cell_type": "code",
   "execution_count": 7,
   "metadata": {},
   "outputs": [
    {
     "data": {
      "text/plain": [
       "[1, 3, 9]"
      ]
     },
     "execution_count": 7,
     "metadata": {},
     "output_type": "execute_result"
    }
   ],
   "source": [
    "# DFS, time O(n), space O(m), where n = number of nodes, m = max num of nodes of a tree level\n",
    "class Solution:\n",
    "    def largestValues(self, root):\n",
    "        \n",
    "        def dfs(node, level):\n",
    "            if not node:\n",
    "                return\n",
    "            \n",
    "            if level == (len(res)):\n",
    "                res.append(node.val)\n",
    "            else:\n",
    "                res[level] = max(res[level], node.val)\n",
    "                \n",
    "            dfs(node.left, level+1)\n",
    "            dfs(node.right, level+1)\n",
    "            \n",
    "        res = []\n",
    "        \n",
    "        dfs(root, 0)\n",
    "        \n",
    "        return res\n",
    "\n",
    "# [1,3,2,5,3,null,9]\n",
    "root = TreeNode(val=1)\n",
    "root.left = TreeNode(val=3)\n",
    "root.right = TreeNode(val=2)\n",
    "l = root.left\n",
    "l.left = TreeNode(val=5)\n",
    "l.rigt = TreeNode(val=3)\n",
    "r = root.right\n",
    "l.right = TreeNode(val=9)\n",
    "\n",
    "ans = Solution()\n",
    "ans.largestValues(root)"
   ]
  },
  {
   "cell_type": "code",
   "execution_count": null,
   "metadata": {},
   "outputs": [],
   "source": []
  }
 ],
 "metadata": {
  "kernelspec": {
   "display_name": "Python 3",
   "language": "python",
   "name": "python3"
  },
  "language_info": {
   "codemirror_mode": {
    "name": "ipython",
    "version": 3
   },
   "file_extension": ".py",
   "mimetype": "text/x-python",
   "name": "python",
   "nbconvert_exporter": "python",
   "pygments_lexer": "ipython3",
   "version": "3.8.3"
  }
 },
 "nbformat": 4,
 "nbformat_minor": 4
}
