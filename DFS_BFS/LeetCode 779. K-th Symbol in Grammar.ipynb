{
 "cells": [
  {
   "cell_type": "markdown",
   "metadata": {},
   "source": [
    "### 779. K-th Symbol in Grammar\n",
    "We build a table of n rows (1-indexed). We start by writing 0 in the 1st row. Now in every subsequent row, we look at the previous row and replace each occurrence of 0 with 01, and each occurrence of 1 with 10.\n",
    "\n",
    "For example, for n = 3, the 1st row is 0, the 2nd row is 01, and the 3rd row is 0110.\n",
    "Given two integer n and k, return the kth (1-indexed) symbol in the nth row of a table of n rows.\n",
    "\n",
    "#### Example 1:\n",
    "- Input: n = 1, k = 1\n",
    "- Output: 0\n",
    "- Explanation: row 1: 0\n",
    "\n",
    "#### Example 2:\n",
    "- Input: n = 2, k = 1\n",
    "- Output: 0\n",
    "- Explanation: \n",
    " - row 1: 0\n",
    " - row 2: 01\n",
    "\n",
    "#### Example 3:\n",
    "- Input: n = 2, k = 2\n",
    "- Output: 1\n",
    "- Explanation: \n",
    " - row 1: 0\n",
    " - row 2: 01\n",
    " \n",
    "#### Constraints:\n",
    "- 1 <= n <= 30\n",
    "- 1 <= k <= 2 ^ (n - 1)\n",
    "\n",
    "#### Difficulty:\n",
    "Medium\n",
    "\n",
    "https://leetcode.com/problems/k-th-symbol-in-grammar/description/?envType=daily-question&envId=2023-10-25"
   ]
  },
  {
   "cell_type": "code",
   "execution_count": 56,
   "metadata": {},
   "outputs": [
    {
     "data": {
      "text/plain": [
       "0"
      ]
     },
     "execution_count": 56,
     "metadata": {},
     "output_type": "execute_result"
    }
   ],
   "source": [
    "# Recursion, time O(n), space O(n)\n",
    "class Solution:\n",
    "    def kthGrammar(self, n, k):\n",
    "        \"\"\"\n",
    "        n=1: 0\n",
    "        n=2: 01\n",
    "        n=3: 01 | 10\n",
    "        n=4: 0110 | 1001\n",
    "        mid = 2 ** (n-2)\n",
    "        if k <= mid:\n",
    "            F(n, k) = F(n-1, k)\n",
    "        else:\n",
    "            F(n, k) = 1 - F(n-1, n-mid)\n",
    "        \"\"\"\n",
    "        if n == 1:\n",
    "            return 0\n",
    "        mid = 1 << (n - 2)\n",
    "        if k <= mid:\n",
    "            return self.kthGrammar(n-1, k)\n",
    "        else:\n",
    "            return 1 - self.kthGrammar(n-1, k-mid)\n",
    "        \n",
    "        \n",
    "n, k = 3, 4\n",
    "ans = Solution()\n",
    "ans.kthGrammar(n, k)"
   ]
  },
  {
   "cell_type": "code",
   "execution_count": 57,
   "metadata": {},
   "outputs": [
    {
     "data": {
      "text/plain": [
       "0"
      ]
     },
     "execution_count": 57,
     "metadata": {},
     "output_type": "execute_result"
    }
   ],
   "source": [
    "# DFS (recursive), time O(n), space O(n)\n",
    "class Solution:\n",
    "    def kthGrammar(self, n, k):\n",
    "        \"\"\"\n",
    "        n=1: 0\n",
    "        n=2: 01\n",
    "        n=3: 01 | 10\n",
    "        n=4: 0110 | 1001\n",
    "        \"\"\"\n",
    "        def dfs(n, k, rootVal):\n",
    "            if n == 1:\n",
    "                return rootVal\n",
    "            mid = 1 << (n - 2)\n",
    "            if k > mid:\n",
    "                nextRootVal = 1 - rootVal\n",
    "                return dfs(n-1, k-mid, nextRootVal)\n",
    "            else:\n",
    "                return dfs(n-1, k, rootVal)\n",
    "            \n",
    "        return dfs(n, k, 0)\n",
    "        \n",
    "        \n",
    "n, k = 3, 4\n",
    "ans = Solution()\n",
    "ans.kthGrammar(n, k)"
   ]
  },
  {
   "cell_type": "code",
   "execution_count": 61,
   "metadata": {},
   "outputs": [
    {
     "data": {
      "text/plain": [
       "0"
      ]
     },
     "execution_count": 61,
     "metadata": {},
     "output_type": "execute_result"
    }
   ],
   "source": [
    "# DFS (iterative), time O(n), space O(n)\n",
    "class Solution:\n",
    "    def kthGrammar(self, n, k):\n",
    "        \"\"\"\n",
    "        n=1: 0\n",
    "        n=2: 01\n",
    "        n=3: 01 | 10\n",
    "        n=4: 0110 | 1001\n",
    "        \"\"\"\n",
    "        if n == 1:\n",
    "            return 0\n",
    "        # assume the number at the target position is '0'\n",
    "        flag = 0\n",
    "        \n",
    "        for curRow in range(n, 1, -1):\n",
    "            mid = 1 << (curRow - 2)\n",
    "            if k > mid:\n",
    "                k -= mid\n",
    "                flag = 1 - flag\n",
    "        # iteration exit at row 1, if flag is '0', \n",
    "        # the assumption was correct, return '0';\n",
    "        # otherwise the assumption was wrong, return '1'\n",
    "        return flag\n",
    "        \n",
    "        \n",
    "n, k = 3, 4\n",
    "ans = Solution()\n",
    "ans.kthGrammar(n, k)"
   ]
  },
  {
   "cell_type": "code",
   "execution_count": 52,
   "metadata": {},
   "outputs": [
    {
     "data": {
      "text/plain": [
       "0"
      ]
     },
     "execution_count": 52,
     "metadata": {},
     "output_type": "execute_result"
    }
   ],
   "source": [
    "# Bit manipulation, time O(logk), space O(1)\n",
    "class Solution:\n",
    "    def kthGrammar(self, n, k):\n",
    "        \"\"\"\n",
    "        n=1: 0\n",
    "        n=2: 01\n",
    "        n=3: 01 | 10\n",
    "        n=4: 0110 | 1001\n",
    "        curRow = 1 << (n-1)\n",
    "        preRow = curRow // 2\n",
    "        if k <= preRow:\n",
    "            no flip of sign\n",
    "        else:\n",
    "            flip sign\n",
    "        meaning that, number of flips = number of (k > preRow)\n",
    "        in each iteration, preRow = preRow // 2,\n",
    "        k = k if k <= preRow else k - preRow;\n",
    "        look at the binary form of k (bin(k)), \n",
    "        when we encounter a '1', we have a k > preRow.\n",
    "        So we can count the num of '1' in bin(k) to determine num of flips.\n",
    "        res = num of flips % 2\n",
    "        \"\"\"\n",
    "        return bin(k-1).count('1') % 2\n",
    "        \n",
    "        \n",
    "n, k = 3, 4\n",
    "ans = Solution()\n",
    "ans.kthGrammar(n, k)"
   ]
  },
  {
   "cell_type": "code",
   "execution_count": null,
   "metadata": {},
   "outputs": [],
   "source": []
  }
 ],
 "metadata": {
  "kernelspec": {
   "display_name": "Python 3",
   "language": "python",
   "name": "python3"
  },
  "language_info": {
   "codemirror_mode": {
    "name": "ipython",
    "version": 3
   },
   "file_extension": ".py",
   "mimetype": "text/x-python",
   "name": "python",
   "nbconvert_exporter": "python",
   "pygments_lexer": "ipython3",
   "version": "3.8.3"
  }
 },
 "nbformat": 4,
 "nbformat_minor": 4
}
