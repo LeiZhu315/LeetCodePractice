{
 "cells": [
  {
   "cell_type": "markdown",
   "metadata": {},
   "source": [
    "### 847. Shortest Path Visiting All Nodes\n",
    "You have an undirected, connected graph of n nodes labeled from 0 to n - 1. You are given an array graph where graph[i] is a list of all the nodes connected with node i by an edge.\n",
    "\n",
    "Return the length of the shortest path that visits every node. You may start and stop at any node, you may revisit nodes multiple times, and you may reuse edges.\n",
    "\n",
    "#### Example 1:\n",
    "<img src='https://assets.leetcode.com/uploads/2021/05/12/shortest1-graph.jpg' width=128><br>\n",
    "- Input: graph = [[1,2,3],[0],[0],[0]]\n",
    "- Output: 4\n",
    "- Explanation: One possible path is [1,0,2,0,3]\n",
    "\n",
    "#### Example 2:\n",
    "<img src='https://assets.leetcode.com/uploads/2021/05/12/shortest2-graph.jpg' width=200><br>\n",
    "- Input: graph = [[1],[0,2,4],[1,3,4],[2],[1,2]]\n",
    "- Output: 4\n",
    "- Explanation: One possible path is [0,1,4,2,3]\n",
    " \n",
    "#### Constraints:\n",
    "- n == graph.length\n",
    "- 1 <= n <= 12\n",
    "- 0 <= graph[i].length < n\n",
    "- graph[i] does not contain i.\n",
    "- If graph[a] contains b, then graph[b] contains a.\n",
    "- The input graph is always connected.\n",
    "\n",
    "#### Difficulty:\n",
    "Hard\n",
    "\n",
    "https://leetcode.com/problems/shortest-path-visiting-all-nodes/description/?envType=daily-question&envId=2023-09-17"
   ]
  },
  {
   "cell_type": "code",
   "execution_count": 1,
   "metadata": {},
   "outputs": [
    {
     "data": {
      "text/plain": [
       "4"
      ]
     },
     "execution_count": 1,
     "metadata": {},
     "output_type": "execute_result"
    }
   ],
   "source": [
    "# Bitmask + BSF, time O(n * 2**n), space O(n * 2**n)\n",
    "class Solution:\n",
    "    def shortestPathLength(self, graph):\n",
    "        from collections import deque\n",
    "        n = len(graph)\n",
    "        q = deque([(1 << i, i, 0) for i in range(n)])\n",
    "        # q = [mask, curr_node, curr_dist],\n",
    "        # where the 'mask' records which nodes haven been visited\n",
    "        # so far during the current search (current path).\n",
    "        # Add all nodes from 0 to n-1 to the queue, because each \n",
    "        # node can possiblly be the best starting node\n",
    "        visited = set((1 << i, i) for i in range(n))\n",
    "        # Records visited path to prevent repeating.\n",
    "        \n",
    "        while q:\n",
    "            mask, node, dist = q.popleft()\n",
    "            if mask == (1 << n) - 1:\n",
    "                # If all nodes have been visited, early terminate\n",
    "                # and return current distance.\n",
    "                return dist\n",
    "            for nei in graph[node]:\n",
    "                new_mask = mask | (1 << nei)\n",
    "                if (new_mask, nei) not in visited:\n",
    "                    visited.add((new_mask, nei))\n",
    "                    q.append(((new_mask, nei, dist+1)))\n",
    "        \n",
    "graph = [[1],[0,2,4],[1,3,4],[2],[1,2]]\n",
    "ans = Solution()\n",
    "ans.shortestPathLength(graph)"
   ]
  },
  {
   "cell_type": "code",
   "execution_count": null,
   "metadata": {},
   "outputs": [],
   "source": []
  }
 ],
 "metadata": {
  "kernelspec": {
   "display_name": "Python 3",
   "language": "python",
   "name": "python3"
  },
  "language_info": {
   "codemirror_mode": {
    "name": "ipython",
    "version": 3
   },
   "file_extension": ".py",
   "mimetype": "text/x-python",
   "name": "python",
   "nbconvert_exporter": "python",
   "pygments_lexer": "ipython3",
   "version": "3.8.3"
  }
 },
 "nbformat": 4,
 "nbformat_minor": 4
}
