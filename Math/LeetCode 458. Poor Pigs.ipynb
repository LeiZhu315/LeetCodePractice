{
 "cells": [
  {
   "cell_type": "markdown",
   "metadata": {},
   "source": [
    "### 458. Poor Pigs\n",
    "There are buckets buckets of liquid, where exactly one of the buckets is poisonous. To figure out which one is poisonous, you feed some number of (poor) pigs the liquid to see whether they will die or not. Unfortunately, you only have minutesToTest minutes to determine which bucket is poisonous.\n",
    "\n",
    "You can feed the pigs according to these steps:\n",
    "\n",
    "1. Choose some live pigs to feed.\n",
    "2. For each pig, choose which buckets to feed it. The pig will consume all the chosen buckets simultaneously and will take no time. Each pig can feed from any number of buckets, and each bucket can be fed from by any number of pigs.\n",
    "3. Wait for minutesToDie minutes. You may not feed any other pigs during this time.\n",
    "4. After minutesToDie minutes have passed, any pigs that have been fed the poisonous bucket will die, and all others will survive.\n",
    "5. Repeat this process until you run out of time.\n",
    "\n",
    "Given buckets, minutesToDie, and minutesToTest, return the minimum number of pigs needed to figure out which bucket is poisonous within the allotted time. \n",
    "\n",
    "#### Example 1:\n",
    "- Input: buckets = 4, minutesToDie = 15, minutesToTest = 15\n",
    "- Output: 2\n",
    "- Explanation: We can determine the poisonous bucket as follows:\n",
    "At time 0, feed the first pig buckets 1 and 2, and feed the second pig buckets 2 and 3.\n",
    "At time 15, there are 4 possible outcomes:\n",
    " - If only the first pig dies, then bucket 1 must be poisonous.\n",
    " - If only the second pig dies, then bucket 3 must be poisonous.\n",
    " - If both pigs die, then bucket 2 must be poisonous.\n",
    " - If neither pig dies, then bucket 4 must be poisonous.\n",
    "\n",
    "#### Example 2:\n",
    "- Input: buckets = 4, minutesToDie = 15, minutesToTest = 30\n",
    "- Output: 2\n",
    "- Explanation: We can determine the poisonous bucket as follows:\n",
    "At time 0, feed the first pig bucket 1, and feed the second pig bucket 2.\n",
    "At time 15, there are 2 possible outcomes:\n",
    " - If either pig dies, then the poisonous bucket is the one it was fed.\n",
    " - If neither pig dies, then feed the first pig bucket 3, and feed the second pig bucket 4.\n",
    "\n",
    "  At time 30, one of the two pigs must die, and the poisonous bucket is the one it was fed. \n",
    "\n",
    "#### Constraints:\n",
    "- 1 <= buckets <= 1000\n",
    "- 1 <= minutesToDie <= minutesToTest <= 100\n",
    "\n",
    "#### Difficulty:\n",
    "Hard\n",
    "\n",
    "https://leetcode.com/problems/poor-pigs/description/?envType=daily-question&envId=2023-10-29"
   ]
  },
  {
   "cell_type": "code",
   "execution_count": 56,
   "metadata": {},
   "outputs": [
    {
     "data": {
      "text/plain": [
       "4"
      ]
     },
     "execution_count": 56,
     "metadata": {},
     "output_type": "execute_result"
    }
   ],
   "source": [
    "class Solution:\n",
    "    def poorPigs(self, buckets, minutesToDie, minutesToTest):\n",
    "        testRounds = minutesToTest / minutesToDie + 1\n",
    "        res = 0\n",
    "        while testRounds ** res <= buckets:\n",
    "            res += 1\n",
    "        return res\n",
    "    \n",
    "buckets = 125\n",
    "minutesToDie = 1\n",
    "minutesToTest = 4\n",
    "ans = Solution()\n",
    "ans.poorPigs(buckets, minutesToDie, minutesToTest)"
   ]
  },
  {
   "cell_type": "code",
   "execution_count": null,
   "metadata": {},
   "outputs": [],
   "source": []
  }
 ],
 "metadata": {
  "kernelspec": {
   "display_name": "Python 3",
   "language": "python",
   "name": "python3"
  },
  "language_info": {
   "codemirror_mode": {
    "name": "ipython",
    "version": 3
   },
   "file_extension": ".py",
   "mimetype": "text/x-python",
   "name": "python",
   "nbconvert_exporter": "python",
   "pygments_lexer": "ipython3",
   "version": "3.8.3"
  }
 },
 "nbformat": 4,
 "nbformat_minor": 4
}
