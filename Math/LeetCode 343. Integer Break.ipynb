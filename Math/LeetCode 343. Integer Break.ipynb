{
 "cells": [
  {
   "cell_type": "markdown",
   "metadata": {},
   "source": [
    "### 343. Integer Break\n",
    "Given an integer n, break it into the sum of k positive integers, where k >= 2, and maximize the product of those integers.\n",
    "\n",
    "Return the maximum product you can get.\n",
    "\n",
    "#### Example 1:\n",
    "- Input: n = 2\n",
    "- Output: 1\n",
    "- Explanation: 2 = 1 + 1, 1 × 1 = 1.\n",
    "\n",
    "#### Example 2:\n",
    "- Input: n = 10\n",
    "- Output: 36\n",
    "- Explanation: 10 = 3 + 3 + 4, 3 × 3 × 4 = 36.\n",
    " \n",
    "#### Constraints:\n",
    "- 2 <= n <= 58\n",
    "\n",
    "#### Difficulty:\n",
    "Medium\n",
    "\n",
    "https://leetcode.com/problems/integer-break/description/?envType=daily-question&envId=2023-10-06"
   ]
  },
  {
   "cell_type": "code",
   "execution_count": 25,
   "metadata": {},
   "outputs": [
    {
     "data": {
      "text/plain": [
       "1549681956"
      ]
     },
     "execution_count": 25,
     "metadata": {},
     "output_type": "execute_result"
    }
   ],
   "source": [
    "# Math, Time O(logn), Space O(1)\n",
    "class Solution:\n",
    "    def integerBreak(self, n):\n",
    "        if n == 2:\n",
    "            return 1\n",
    "        if n == 3:\n",
    "            return 2\n",
    "        d, m = divmod(n, 3)\n",
    "        if m == 1:\n",
    "            return 3 ** (d - 1) * 4\n",
    "        elif m == 2:\n",
    "            return 3 ** (d - 1) * 6\n",
    "        else:   \n",
    "            return 3 ** d\n",
    "        \n",
    "        \n",
    "n = 58\n",
    "ans = Solution()\n",
    "ans.integerBreak(n)"
   ]
  },
  {
   "cell_type": "code",
   "execution_count": 27,
   "metadata": {},
   "outputs": [
    {
     "data": {
      "text/plain": [
       "1549681956"
      ]
     },
     "execution_count": 27,
     "metadata": {},
     "output_type": "execute_result"
    }
   ],
   "source": [
    "# DP, Time O(n**2), Space O(n)\n",
    "class Solution:\n",
    "    def integerBreak(self, n):\n",
    "        if n == 2:\n",
    "            return 1\n",
    "        if n == 3:\n",
    "            return 2\n",
    "        dp = [0] * (n + 1)\n",
    "        dp[1], dp[2], dp[3] = 1, 2, 3\n",
    "        for num in range(4, n+1):\n",
    "            curr_max = 0\n",
    "            # Iterate through smaller nums to calculate the max product\n",
    "            for sub_num in range(1, num // 2 + 1):\n",
    "                curr_max = max(curr_max, dp[sub_num] * dp[num - sub_num])\n",
    "            # Update the maximum product for the curr num\n",
    "            dp[num] = curr_max\n",
    "        return dp[n]\n",
    "        \n",
    "n = 58\n",
    "ans = Solution()\n",
    "ans.integerBreak(n)"
   ]
  },
  {
   "cell_type": "code",
   "execution_count": 28,
   "metadata": {},
   "outputs": [
    {
     "data": {
      "text/plain": [
       "1549681956"
      ]
     },
     "execution_count": 28,
     "metadata": {},
     "output_type": "execute_result"
    }
   ],
   "source": [
    "# Memorise, Time O(n**2), Space O(n)\n",
    "class Solution:\n",
    "    def integerBreak(self, n):\n",
    "        memo = [-1] * (n + 1)\n",
    "        def dp(k):\n",
    "            if memo[k] != -1:\n",
    "                return memo[k]\n",
    "            if k == 1:\n",
    "                return 1\n",
    "            res = float('-inf')\n",
    "            for i in range(1, k):\n",
    "                res = max(res, i * dp(k-i), i * (k-i))\n",
    "            memo[k] = res\n",
    "            return res\n",
    "        return dp(n)\n",
    "        \n",
    "n = 58\n",
    "ans = Solution()\n",
    "ans.integerBreak(n)"
   ]
  },
  {
   "cell_type": "code",
   "execution_count": null,
   "metadata": {},
   "outputs": [],
   "source": []
  }
 ],
 "metadata": {
  "kernelspec": {
   "display_name": "Python 3",
   "language": "python",
   "name": "python3"
  },
  "language_info": {
   "codemirror_mode": {
    "name": "ipython",
    "version": 3
   },
   "file_extension": ".py",
   "mimetype": "text/x-python",
   "name": "python",
   "nbconvert_exporter": "python",
   "pygments_lexer": "ipython3",
   "version": "3.8.3"
  }
 },
 "nbformat": 4,
 "nbformat_minor": 4
}
