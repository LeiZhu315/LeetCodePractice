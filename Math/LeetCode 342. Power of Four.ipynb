{
 "cells": [
  {
   "cell_type": "markdown",
   "metadata": {},
   "source": [
    "### 342. Power of Four\n",
    "Given an integer n, return true if it is a power of four. Otherwise, return false.\n",
    "\n",
    "An integer n is a power of four, if there exists an integer x such that n == 4^x.\n",
    "\n",
    "\n",
    "#### Example 1:\n",
    "- Input: n = 16\n",
    "- Output: true\n",
    "\n",
    "#### Example 2:\n",
    "- Input: n = 5\n",
    "- Output: false\n",
    "\n",
    "#### Example 3:\n",
    "- Input: n = 1\n",
    "- Output: true\n",
    " \n",
    "#### Constraints:\n",
    "- -2^31 <= n <= 2^31 - 1\n",
    "\n",
    "#### Difficulty:\n",
    "Easy\n",
    "\n",
    "https://leetcode.com/problems/power-of-four/description/?envType=daily-question&envId=2023-10-23"
   ]
  },
  {
   "cell_type": "code",
   "execution_count": 105,
   "metadata": {},
   "outputs": [
    {
     "data": {
      "text/plain": [
       "False"
      ]
     },
     "execution_count": 105,
     "metadata": {},
     "output_type": "execute_result"
    }
   ],
   "source": [
    "# Recursion, time O(4√n), space O(1)\n",
    "class Solution:\n",
    "    def isPowerOfFour(self, n):\n",
    "        if n <= 0:\n",
    "            return False\n",
    "        if n == 1:\n",
    "            return True\n",
    "        if n % 4 != 0:\n",
    "            return False\n",
    "        if n // 4 == 1:\n",
    "            return True\n",
    "        return self.isPowerOfFour(n // 4)\n",
    "    \n",
    "n = 32\n",
    "ans = Solution()\n",
    "ans.isPowerOfFour(n)"
   ]
  },
  {
   "cell_type": "code",
   "execution_count": 123,
   "metadata": {},
   "outputs": [
    {
     "data": {
      "text/plain": [
       "False"
      ]
     },
     "execution_count": 123,
     "metadata": {},
     "output_type": "execute_result"
    }
   ],
   "source": [
    "# Bit manipulation, time O(4√n), space O(1)\n",
    "class Solution:\n",
    "    def isPowerOfFour(self, n):\n",
    "        if n == 1:\n",
    "            return True\n",
    "        if n <= 3:\n",
    "            return False\n",
    "        while n > 0:\n",
    "            if n == 1:\n",
    "                return True\n",
    "            if n % 4:\n",
    "                return False\n",
    "            n = n >> 2\n",
    "        return True\n",
    "    \n",
    "n = 4 ** 5 - 2\n",
    "ans = Solution()\n",
    "ans.isPowerOfFour(n)"
   ]
  },
  {
   "cell_type": "code",
   "execution_count": 130,
   "metadata": {},
   "outputs": [
    {
     "data": {
      "text/plain": [
       "False"
      ]
     },
     "execution_count": 130,
     "metadata": {},
     "output_type": "execute_result"
    }
   ],
   "source": [
    "# time O(4√n), space O(1)\n",
    "class Solution:\n",
    "    def isPowerOfFour(self, n):\n",
    "        for i in range(16):\n",
    "            tmp = 4 ** i\n",
    "            if tmp == n:\n",
    "                return True\n",
    "            if tmp > n:\n",
    "                return False\n",
    "        return False\n",
    "    \n",
    "n = 4 ** 5 - 2\n",
    "ans = Solution()\n",
    "ans.isPowerOfFour(n)"
   ]
  },
  {
   "cell_type": "code",
   "execution_count": 136,
   "metadata": {},
   "outputs": [
    {
     "data": {
      "text/plain": [
       "True"
      ]
     },
     "execution_count": 136,
     "metadata": {},
     "output_type": "execute_result"
    }
   ],
   "source": [
    "# Math, time O(1), space O(1)\n",
    "class Solution:\n",
    "    def isPowerOfFour(self, n):\n",
    "        if n == 1:\n",
    "            return True\n",
    "        if n <= 0:\n",
    "            return False\n",
    "        \n",
    "        import math\n",
    "        log = math.log(n) / math.log(4)\n",
    "        return log == int(log) \n",
    "    \n",
    "n = 16\n",
    "ans = Solution()\n",
    "ans.isPowerOfFour(n)"
   ]
  },
  {
   "cell_type": "code",
   "execution_count": 143,
   "metadata": {},
   "outputs": [
    {
     "data": {
      "text/plain": [
       "True"
      ]
     },
     "execution_count": 143,
     "metadata": {},
     "output_type": "execute_result"
    }
   ],
   "source": [
    "# Math, time O(1), space O(1)\n",
    "class Solution:\n",
    "    def isPowerOfFour(self, n):\n",
    "\n",
    "        if n <= 0:\n",
    "            return False\n",
    "        \n",
    "        import math\n",
    "        \n",
    "        return math.log(n, 4).is_integer()\n",
    "    \n",
    "n = 16\n",
    "ans = Solution()\n",
    "ans.isPowerOfFour(n)"
   ]
  },
  {
   "cell_type": "code",
   "execution_count": 144,
   "metadata": {},
   "outputs": [
    {
     "data": {
      "text/plain": [
       "True"
      ]
     },
     "execution_count": 144,
     "metadata": {},
     "output_type": "execute_result"
    }
   ],
   "source": [
    "# Math, time O(1), space O(1)\n",
    "class Solution:\n",
    "    def isPowerOfFour(self, n):\n",
    "\n",
    "        import math\n",
    "        \n",
    "        return n > 0 and math.log(n, 4).is_integer()\n",
    "    \n",
    "n = 16\n",
    "ans = Solution()\n",
    "ans.isPowerOfFour(n)"
   ]
  },
  {
   "cell_type": "code",
   "execution_count": 142,
   "metadata": {},
   "outputs": [
    {
     "data": {
      "text/plain": [
       "False"
      ]
     },
     "execution_count": 142,
     "metadata": {},
     "output_type": "execute_result"
    }
   ],
   "source": [
    "# Math, time O(1), space O(1)\n",
    "class Solution:\n",
    "    def isPowerOfFour(self, n):\n",
    "        if n == 1:\n",
    "            return True\n",
    "        if n <= 0:\n",
    "            return False\n",
    "        \n",
    "        import math\n",
    "        sqrt = math.sqrt(n)\n",
    "        \n",
    "        if sqrt != int(sqrt):\n",
    "            return False\n",
    "        \n",
    "        sqrt = int(sqrt)\n",
    "        \n",
    "        return not (sqrt & (sqrt - 1))\n",
    "    \n",
    "n = 32\n",
    "ans = Solution()\n",
    "ans.isPowerOfFour(n)"
   ]
  },
  {
   "cell_type": "code",
   "execution_count": null,
   "metadata": {},
   "outputs": [],
   "source": []
  }
 ],
 "metadata": {
  "kernelspec": {
   "display_name": "Python 3",
   "language": "python",
   "name": "python3"
  },
  "language_info": {
   "codemirror_mode": {
    "name": "ipython",
    "version": 3
   },
   "file_extension": ".py",
   "mimetype": "text/x-python",
   "name": "python",
   "nbconvert_exporter": "python",
   "pygments_lexer": "ipython3",
   "version": "3.8.3"
  }
 },
 "nbformat": 4,
 "nbformat_minor": 4
}
