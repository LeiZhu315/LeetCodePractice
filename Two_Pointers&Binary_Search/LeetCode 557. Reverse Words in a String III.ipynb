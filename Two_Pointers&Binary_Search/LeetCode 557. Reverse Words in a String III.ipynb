{
 "cells": [
  {
   "cell_type": "markdown",
   "metadata": {},
   "source": [
    "### 557. Reverse Words in a String III\n",
    "Given a string s, reverse the order of characters in each word within a sentence while still preserving whitespace and initial word order.\n",
    "\n",
    "#### Example 1:\n",
    "- Input: s = \"Let's take LeetCode contest\"\n",
    "- Output: \"s'teL ekat edoCteeL tsetnoc\"\n",
    "\n",
    "#### Example 2:\n",
    "- Input: s = \"God Ding\"\n",
    "- Output: \"doG gniD\"\n",
    "\n",
    "#### Constraints:\n",
    "- 1 <= s.length <= 5 * 104\n",
    "- s contains printable ASCII characters.\n",
    "- s does not contain any leading or trailing spaces.\n",
    "- There is at least one word in s.\n",
    "- All the words in s are separated by a single space.\n",
    "\n",
    "#### Difficulty:\n",
    "Easy\n",
    "\n",
    "https://leetcode.com/problems/reverse-words-in-a-string-iii/description/?envType=daily-question&envId=2023-10-01"
   ]
  },
  {
   "cell_type": "code",
   "execution_count": 14,
   "metadata": {},
   "outputs": [
    {
     "data": {
      "text/plain": [
       "\"s'teL ekat edoCteeL tsetnoc\""
      ]
     },
     "execution_count": 14,
     "metadata": {},
     "output_type": "execute_result"
    }
   ],
   "source": [
    "# One-line solution, Time O(n), space O(n)\n",
    "class Solution:\n",
    "    def reverseWords(self, s):\n",
    "        return ' '.join([''.join(list(reversed(w))) for w in s.split(' ')])\n",
    "        \n",
    "        \n",
    "s = \"Let's take LeetCode contest\"\n",
    "ans = Solution()\n",
    "ans.reverseWords(s)"
   ]
  },
  {
   "cell_type": "code",
   "execution_count": 29,
   "metadata": {},
   "outputs": [
    {
     "data": {
      "text/plain": [
       "\"s'teL ekat edoCteeL tsetnoc\""
      ]
     },
     "execution_count": 29,
     "metadata": {},
     "output_type": "execute_result"
    }
   ],
   "source": [
    "# One-line solution, Time O(n), space O(n)\n",
    "class Solution:\n",
    "    def reverseWords(self, s):\n",
    "        return ' '.join([w[::-1] for w in s.split(' ')])\n",
    "        \n",
    "        \n",
    "s = \"Let's take LeetCode contest\"\n",
    "ans = Solution()\n",
    "ans.reverseWords(s)"
   ]
  },
  {
   "cell_type": "code",
   "execution_count": 30,
   "metadata": {},
   "outputs": [
    {
     "data": {
      "text/plain": [
       "\"s'teL ekat edoCteeL tsetnoc\""
      ]
     },
     "execution_count": 30,
     "metadata": {},
     "output_type": "execute_result"
    }
   ],
   "source": [
    "# Pointer, time O(n), space O(n)\n",
    "class Solution:\n",
    "    def reverseWords(self, s):\n",
    "        res = ['']\n",
    "        for i in range(len(s)):\n",
    "            if s[i] != ' ':\n",
    "                res[-1] = s[i] + res[-1]\n",
    "            else:\n",
    "                res.append('')\n",
    "        return ' '.join(res)\n",
    "                \n",
    "        \n",
    "s = \"Let's take LeetCode contest\"\n",
    "ans = Solution()\n",
    "ans.reverseWords(s)"
   ]
  },
  {
   "cell_type": "code",
   "execution_count": 36,
   "metadata": {},
   "outputs": [
    {
     "data": {
      "text/plain": [
       "\"s'teL ekat edoCteeL tsetnoc\""
      ]
     },
     "execution_count": 36,
     "metadata": {},
     "output_type": "execute_result"
    }
   ],
   "source": [
    "# Two-Pointer, time O(n), space O(n)\n",
    "class Solution:\n",
    "    def reverseWords(self, s):\n",
    "        s = list(s)\n",
    "        start = 0\n",
    "        \n",
    "        for i in range(len(s)):\n",
    "            if s[i] == ' ' or i == len(s) - 1:\n",
    "                end = i\n",
    "                if i == len(s) - 1 and s[i] != ' ':\n",
    "                    end += 1\n",
    "                while start < end:\n",
    "                    s[start], s[end-1] = s[end-1], s[start]\n",
    "                    start += 1\n",
    "                    end -= 1\n",
    "                start = i + 1\n",
    "        return ''.join(s)\n",
    "        \n",
    "s = \"Let's take LeetCode contest\"\n",
    "ans = Solution()\n",
    "ans.reverseWords(s)"
   ]
  },
  {
   "cell_type": "code",
   "execution_count": null,
   "metadata": {},
   "outputs": [],
   "source": []
  }
 ],
 "metadata": {
  "kernelspec": {
   "display_name": "Python 3",
   "language": "python",
   "name": "python3"
  },
  "language_info": {
   "codemirror_mode": {
    "name": "ipython",
    "version": 3
   },
   "file_extension": ".py",
   "mimetype": "text/x-python",
   "name": "python",
   "nbconvert_exporter": "python",
   "pygments_lexer": "ipython3",
   "version": "3.8.3"
  }
 },
 "nbformat": 4,
 "nbformat_minor": 4
}
