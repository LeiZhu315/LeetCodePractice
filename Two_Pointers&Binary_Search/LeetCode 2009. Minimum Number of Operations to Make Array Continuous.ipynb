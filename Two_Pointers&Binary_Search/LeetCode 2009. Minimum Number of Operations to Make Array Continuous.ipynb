{
 "cells": [
  {
   "cell_type": "markdown",
   "metadata": {},
   "source": [
    "### 2009. Minimum Number of Operations to Make Array Continuous\n",
    "You are given an integer array nums. In one operation, you can replace any element in nums with any integer.\n",
    "\n",
    "nums is considered continuous if both of the following conditions are fulfilled:\n",
    "\n",
    "- All elements in nums are unique.\n",
    "- The difference between the maximum element and the minimum element in nums equals nums.length - 1.<br>\n",
    "\n",
    "For example, nums = [4, 2, 5, 3] is continuous, but nums = [1, 2, 3, 5, 6] is not continuous.\n",
    "\n",
    "Return the minimum number of operations to make nums continuous.\n",
    "\n",
    "#### Example 1:\n",
    "- Input: nums = [4,2,5,3]\n",
    "- Output: 0\n",
    "- Explanation: nums is already continuous.\n",
    "\n",
    "#### Example 2:\n",
    "- Input: nums = [1,2,3,5,6]\n",
    "- Output: 1\n",
    "- Explanation: One possible solution is to change the last element to 4.\n",
    "The resulting array is [1,2,3,5,4], which is continuous.\n",
    "\n",
    "#### Example 3:\n",
    "- Input: nums = [1,10,100,1000]\n",
    "- Output: 3\n",
    "- Explanation: One possible solution is to:\n",
    " - Change the second element to 2.\n",
    " - Change the third element to 3.\n",
    " - Change the fourth element to 4.\n",
    "- The resulting array is [1,2,3,4], which is continuous.\n",
    " \n",
    "#### Constraints:\n",
    "- 1 <= nums.length <= 105\n",
    "- 1 <= nums[i] <= 109\n",
    "\n",
    "#### Difficulty:\n",
    "Hard\n",
    "\n",
    "https://leetcode.com/problems/minimum-number-of-operations-to-make-array-continuous/description/?envType=daily-question&envId=2023-10-10"
   ]
  },
  {
   "cell_type": "code",
   "execution_count": 48,
   "metadata": {},
   "outputs": [
    {
     "data": {
      "text/plain": [
       "2"
      ]
     },
     "execution_count": 48,
     "metadata": {},
     "output_type": "execute_result"
    }
   ],
   "source": [
    "class Solution:\n",
    "    def minOperations(self, nums):\n",
    "        n = len(nums)\n",
    "        if n == 1:\n",
    "            return 0\n",
    "        \n",
    "        nums = sorted(set(nums))\n",
    "        res = float('inf')\n",
    "        \n",
    "        for i, lo in enumerate(nums):\n",
    "            target = lo + n - 1\n",
    "            lo, hi = 0, len(nums) - 1\n",
    "            while lo <= hi:\n",
    "                mid = lo + (hi - lo) // 2\n",
    "                if nums[mid] <= target:\n",
    "                    idx = mid\n",
    "                    lo = mid + 1\n",
    "                else:\n",
    "                    hi = mid - 1\n",
    "            isContinuous = idx - i + 1\n",
    "            res = min(res, n - isContinuous)\n",
    "        \n",
    "        return res\n",
    "        \n",
    "        \n",
    "nums = [8,5,9,9,8,4]\n",
    "ans = Solution()\n",
    "ans.minOperations(nums)"
   ]
  },
  {
   "cell_type": "code",
   "execution_count": null,
   "metadata": {},
   "outputs": [],
   "source": []
  }
 ],
 "metadata": {
  "kernelspec": {
   "display_name": "Python 3",
   "language": "python",
   "name": "python3"
  },
  "language_info": {
   "codemirror_mode": {
    "name": "ipython",
    "version": 3
   },
   "file_extension": ".py",
   "mimetype": "text/x-python",
   "name": "python",
   "nbconvert_exporter": "python",
   "pygments_lexer": "ipython3",
   "version": "3.8.3"
  }
 },
 "nbformat": 4,
 "nbformat_minor": 4
}
