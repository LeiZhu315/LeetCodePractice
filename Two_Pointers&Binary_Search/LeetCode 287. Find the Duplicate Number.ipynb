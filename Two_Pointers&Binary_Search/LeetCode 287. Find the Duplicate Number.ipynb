{
 "cells": [
  {
   "cell_type": "markdown",
   "metadata": {},
   "source": [
    "### 287. Find the Duplicate Number\n",
    "Given an array of integers nums containing n + 1 integers where each integer is in the range [1, n] inclusive.\n",
    "\n",
    "There is only one repeated number in nums, return this repeated number.\n",
    "\n",
    "You must solve the problem without modifying the array nums and uses only constant extra space.\n",
    "\n",
    "#### Example 1:\n",
    "- Input: nums = [1,3,4,2,2]\n",
    "- Output: 2\n",
    "\n",
    "#### Example 2:\n",
    "- Input: nums = [3,1,3,4,2]\n",
    "- Output: 3\n",
    " \n",
    "#### Constraints:\n",
    "- 1 <= n <= 105\n",
    "- nums.length == n + 1\n",
    "- 1 <= nums[i] <= n\n",
    "- All the integers in nums appear only once except for precisely one integer which appears two or more times.\n",
    "\n",
    "#### Difficulty:\n",
    "Medium\n",
    "\n",
    "https://leetcode.com/problems/find-the-duplicate-number/description/?envType=daily-question&envId=2023-09-19"
   ]
  },
  {
   "cell_type": "code",
   "execution_count": 8,
   "metadata": {},
   "outputs": [
    {
     "data": {
      "text/plain": [
       "3"
      ]
     },
     "execution_count": 8,
     "metadata": {},
     "output_type": "execute_result"
    }
   ],
   "source": [
    "# Bitmask, time O(n), space O(1)\n",
    "class Solution:\n",
    "    def findDuplicate(self, nums):\n",
    "        digi = 0\n",
    "        for num in nums:\n",
    "            b = 1 << num\n",
    "            tmp = digi\n",
    "            digi |= b\n",
    "            if digi == tmp:\n",
    "                return num\n",
    "            \n",
    "nums = [3,1,3,4,2]\n",
    "ans = Solution()\n",
    "ans.findDuplicate(nums)"
   ]
  },
  {
   "cell_type": "code",
   "execution_count": 10,
   "metadata": {
    "scrolled": true
   },
   "outputs": [
    {
     "name": "stdout",
     "output_type": "stream",
     "text": [
      "[3, 1, 3, -4, 2]\n",
      "[3, -1, 3, -4, 2]\n"
     ]
    },
    {
     "data": {
      "text/plain": [
       "3"
      ]
     },
     "execution_count": 10,
     "metadata": {},
     "output_type": "execute_result"
    }
   ],
   "source": [
    "# Marking, time O(n), space O(1)\n",
    "class Solution:\n",
    "    def findDuplicate(self, nums):\n",
    "        for num in nums:\n",
    "            idx = abs(num)\n",
    "            if nums[idx] < 0:\n",
    "                return idx\n",
    "            nums[idx] = -nums[idx]\n",
    "            print(nums)\n",
    "        return len(nums)\n",
    "            \n",
    "nums = [3,1,3,4,2]\n",
    "ans = Solution()\n",
    "ans.findDuplicate(nums)"
   ]
  },
  {
   "cell_type": "code",
   "execution_count": null,
   "metadata": {},
   "outputs": [],
   "source": [
    "# Two pinters (fast-slow pointers, or Floyd's cycle detection)\n",
    "# Time O(n), Space O(1)\n",
    "# https://www.google.com/search?sca_esv=566617571&sxsrf=AM9HkKnufbxu781dOuagnKwF9Tyfujg8Tg:1695138535444&q=floyd%27s+cycle+detection&tbm=vid&source=lnms&sa=X&ved=2ahUKEwi_6v-Rg7eBAxVrX0EAHetbAP0Q0pQJegQIDhAB&biw=1426&bih=913&dpr=2#fpstate=ive&vld=cid:73827870,vid:PvrxZaH_eZ4,st:0\n",
    "class Solution:\n",
    "    def findDuplicate(self, nums):\n",
    "        slow = fast = nums[0]\n",
    "        \n",
    "        while True:\n",
    "            slow = nums[slow]\n",
    "            fast = nums[nums[fast]]\n",
    "            if slow == fast:\n",
    "                break\n",
    "        \n",
    "        slow = nums[0]\n",
    "        \n",
    "        while slow != fast:\n",
    "            slow = nums[slow]\n",
    "            fast = nums[fast]\n",
    "            \n",
    "        return slow\n",
    "            \n",
    "nums = [3,1,3,4,2]\n",
    "ans = Solution()\n",
    "ans.findDuplicate(nums)"
   ]
  },
  {
   "cell_type": "code",
   "execution_count": 12,
   "metadata": {},
   "outputs": [
    {
     "data": {
      "text/plain": [
       "3"
      ]
     },
     "execution_count": 12,
     "metadata": {},
     "output_type": "execute_result"
    }
   ],
   "source": [
    "# Binary search, time O(nlogn), space O(1)\n",
    "class Solution:\n",
    "    def findDuplicate(self, nums):\n",
    "        low, high = 1, len(nums) - 1\n",
    "        \n",
    "        while low < high:\n",
    "            mid = (low + high) // 2\n",
    "            cnt = 0\n",
    "            for num in nums:\n",
    "                if num <= mid:\n",
    "                    cnt += 1\n",
    "            if cnt > mid:\n",
    "                high = mid\n",
    "            else:\n",
    "                low = mid + 1\n",
    "                \n",
    "        return low\n",
    "            \n",
    "nums = [3,1,3,4,2]\n",
    "ans = Solution()\n",
    "ans.findDuplicate(nums)"
   ]
  }
 ],
 "metadata": {
  "kernelspec": {
   "display_name": "Python 3",
   "language": "python",
   "name": "python3"
  },
  "language_info": {
   "codemirror_mode": {
    "name": "ipython",
    "version": 3
   },
   "file_extension": ".py",
   "mimetype": "text/x-python",
   "name": "python",
   "nbconvert_exporter": "python",
   "pygments_lexer": "ipython3",
   "version": "3.8.3"
  }
 },
 "nbformat": 4,
 "nbformat_minor": 4
}
