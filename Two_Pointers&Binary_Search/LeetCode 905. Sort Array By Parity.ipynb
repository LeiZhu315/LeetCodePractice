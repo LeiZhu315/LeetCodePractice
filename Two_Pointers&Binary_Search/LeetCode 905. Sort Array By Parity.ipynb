{
 "cells": [
  {
   "cell_type": "markdown",
   "metadata": {},
   "source": [
    "### 905. Sort Array By Parity\n",
    "Given an integer array nums, move all the even integers at the beginning of the array followed by all the odd integers.\n",
    "\n",
    "Return any array that satisfies this condition.\n",
    "\n",
    "#### Example 1:\n",
    "- Input: nums = [3,1,2,4]\n",
    "- Output: [2,4,3,1]\n",
    "- Explanation: The outputs [4,2,3,1], [2,4,1,3], and [4,2,1,3] would also be accepted.\n",
    "\n",
    "#### Example 2:\n",
    "- Input: nums = [0]\n",
    "- Output: [0]\n",
    " \n",
    "#### Constraints:\n",
    "- 1 <= nums.length <= 5000\n",
    "- 0 <= nums[i] <= 5000\n",
    "\n",
    "#### Difficulty:\n",
    "Easy\n",
    "\n",
    "https://leetcode.com/problems/sort-array-by-parity/description/?envType=daily-question&envId=2023-09-28"
   ]
  },
  {
   "cell_type": "code",
   "execution_count": 4,
   "metadata": {},
   "outputs": [
    {
     "data": {
      "text/plain": [
       "[4, 2, 3, 1]"
      ]
     },
     "execution_count": 4,
     "metadata": {},
     "output_type": "execute_result"
    }
   ],
   "source": [
    "class Solution:\n",
    "    def sortArrayByParity(self, nums):\n",
    "        res = []\n",
    "        for num in nums:\n",
    "            if num % 2:\n",
    "                res.append(num)\n",
    "            else:\n",
    "                res = [num] + res\n",
    "        return res\n",
    "        \n",
    "    \n",
    "nums = [3,1,2,4]\n",
    "ans = Solution()\n",
    "ans.sortArrayByParity(nums)"
   ]
  },
  {
   "cell_type": "code",
   "execution_count": 10,
   "metadata": {},
   "outputs": [
    {
     "data": {
      "text/plain": [
       "[4, 2, 1, 3]"
      ]
     },
     "execution_count": 10,
     "metadata": {},
     "output_type": "execute_result"
    }
   ],
   "source": [
    "# Two pointer, time O(n), space O(1)\n",
    "class Solution:\n",
    "    def sortArrayByParity(self, nums):\n",
    "        right = len(nums) - 1\n",
    "        left = 0\n",
    "        while left <= right:\n",
    "            if nums[left] % 2:\n",
    "                nums[left], nums[right] = nums[right], nums[left]\n",
    "                right -= 1\n",
    "            else:\n",
    "                left += 1\n",
    "        return nums\n",
    "        \n",
    "    \n",
    "nums = [3,1,2,4]\n",
    "ans = Solution()\n",
    "ans.sortArrayByParity(nums)"
   ]
  },
  {
   "cell_type": "code",
   "execution_count": 9,
   "metadata": {},
   "outputs": [
    {
     "data": {
      "text/plain": [
       "[2, 4, 3, 1]"
      ]
     },
     "execution_count": 9,
     "metadata": {},
     "output_type": "execute_result"
    }
   ],
   "source": [
    "# time O(n), space O(n)\n",
    "class Solution:\n",
    "    def sortArrayByParity(self, nums):\n",
    "        return [x for x in nums if x % 2 == 0] + [x for x in nums if x % 2 == 1]\n",
    "    \n",
    "nums = [3,1,2,4]\n",
    "ans = Solution()\n",
    "ans.sortArrayByParity(nums)"
   ]
  },
  {
   "cell_type": "code",
   "execution_count": null,
   "metadata": {},
   "outputs": [],
   "source": []
  }
 ],
 "metadata": {
  "kernelspec": {
   "display_name": "Python 3",
   "language": "python",
   "name": "python3"
  },
  "language_info": {
   "codemirror_mode": {
    "name": "ipython",
    "version": 3
   },
   "file_extension": ".py",
   "mimetype": "text/x-python",
   "name": "python",
   "nbconvert_exporter": "python",
   "pygments_lexer": "ipython3",
   "version": "3.8.3"
  }
 },
 "nbformat": 4,
 "nbformat_minor": 4
}
