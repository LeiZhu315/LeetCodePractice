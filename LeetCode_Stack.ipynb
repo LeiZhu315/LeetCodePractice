{
 "cells": [
  {
   "cell_type": "markdown",
   "metadata": {},
   "source": [
    "### 232. Implement Queue using Stacks\n",
    "Implement a first in first out (FIFO) queue using only two stacks. The implemented queue should support all the functions of a normal queue (push, peek, pop, and empty). <br>\n",
    "Implement the MyQueue class:<br>\n",
    "void push(int x) Pushes element x to the back of the queue.<br>\n",
    "int pop() Removes the element from the front of the queue and returns it.<br>\n",
    "int peek() Returns the element at the front of the queue.<br>\n",
    "boolean empty() Returns true if the queue is empty, false otherwise."
   ]
  },
  {
   "cell_type": "code",
   "execution_count": 23,
   "metadata": {},
   "outputs": [
    {
     "name": "stdout",
     "output_type": "stream",
     "text": [
      "[1]\n",
      "1\n",
      "None\n",
      "True\n"
     ]
    }
   ],
   "source": [
    "class MyQueue:\n",
    "\n",
    "    def __init__(self):\n",
    "        self.stack = []\n",
    "\n",
    "    def push(self, x: int):\n",
    "        self.stack.append(x)\n",
    "\n",
    "    def pop(self):\n",
    "        return self.stack.pop(0)\n",
    "\n",
    "    def peek(self):\n",
    "        if self.stack:\n",
    "            return self.stack[0]\n",
    "        else:\n",
    "            return None\n",
    "\n",
    "    def empty(self):\n",
    "        if not self.stack:\n",
    "            return True\n",
    "        else: return False\n",
    "#         return self.stack == []\n",
    "obj = MyQueue()\n",
    "obj.push(1)\n",
    "# obj.push(2)\n",
    "print(obj.stack)\n",
    "param_2 = obj.pop()\n",
    "param_3 = obj.peek()\n",
    "param_4 = obj.empty()\n",
    "print(param_2)\n",
    "print(param_3)\n",
    "print(param_4)"
   ]
  },
  {
   "cell_type": "markdown",
   "metadata": {},
   "source": [
    "### 150. Evaluate Reverse Polish Notation\n",
    "Evaluate the value of an arithmetic expression in Reverse Polish Notation.<br>\n",
    "Valid operators are +, -, *, and /. Each operand may be an integer or another expression.<br>\n",
    "Note that division between two integers should truncate toward zero.<br>\n",
    "It is guaranteed that the given RPN expression is always valid. That means the expression would always evaluate to a result, and there will not be any division by zero operation."
   ]
  },
  {
   "cell_type": "code",
   "execution_count": 105,
   "metadata": {},
   "outputs": [
    {
     "name": "stdout",
     "output_type": "stream",
     "text": [
      "['3', '11', '5', '+', '-'] s 3\n",
      "['3', 16, '-'] e\n",
      "['3', 16, '-'] s 2\n",
      "[-13] e\n"
     ]
    },
    {
     "data": {
      "text/plain": [
       "-13"
      ]
     },
     "execution_count": 105,
     "metadata": {},
     "output_type": "execute_result"
    }
   ],
   "source": [
    "tokens = [\"3\",\"11\",\"5\",\"+\",\"-\"]\n",
    "\n",
    "# time O(n^2), spce O(1)\n",
    "def isDigit(s):\n",
    "    try:\n",
    "        int(s)\n",
    "        return True\n",
    "    except ValueError:\n",
    "        return False\n",
    "while not len(tokens) == 1:\n",
    "    res = 0\n",
    "    for i in range(len(tokens)):\n",
    "        if not isDigit(tokens[i]):\n",
    "            print(tokens, 's')\n",
    "            operator = tokens.pop(i)\n",
    "            res = int(tokens.pop(i-2))\n",
    "            num = int(tokens.pop(i-2))\n",
    "            if operator == '+':\n",
    "                res += num\n",
    "            elif operator == '-':\n",
    "                res -= num\n",
    "            elif operator == '*':\n",
    "                res *= num\n",
    "            else:\n",
    "                res = int(res/num)\n",
    "            tokens.insert(i-2,res)\n",
    "            print(tokens, 'e')\n",
    "            break\n",
    "tokens[0]               "
   ]
  },
  {
   "cell_type": "code",
   "execution_count": 109,
   "metadata": {},
   "outputs": [
    {
     "name": "stdout",
     "output_type": "stream",
     "text": [
      "['3']\n",
      "['3', '11']\n",
      "['3', '11', '5']\n",
      "['3', 16]\n",
      "[-13]\n",
      "-13\n"
     ]
    }
   ],
   "source": [
    "# time O(n), space O(max number of integer string)\n",
    "tokens = [\"3\",\"11\",\"5\",\"+\",\"-\"]\n",
    "stack = []\n",
    "for i in tokens:\n",
    "    if i not in '+-*/':\n",
    "        stack.append(i)\n",
    "    else:\n",
    "        a = int(stack.pop())\n",
    "        b = int(stack.pop())\n",
    "        if i == '+':\n",
    "            stack.append(a+b)\n",
    "        elif i == '-':\n",
    "            stack.append(b-a)\n",
    "        elif i == '*':\n",
    "            stack.append(a*b)\n",
    "        else:\n",
    "            stack.append(b/a)\n",
    "    print(stack)\n",
    "print(stack[-1])"
   ]
  },
  {
   "cell_type": "markdown",
   "metadata": {},
   "source": [
    "### 227. Basic Calculator II\n",
    "Given a string s which represents an expression, evaluate this expression and return its value. <br>\n",
    "The integer division should truncate toward zero.<br>\n",
    "You may assume that the given expression is always valid. All intermediate results will be in the range of [-231, 231 - 1]."
   ]
  },
  {
   "cell_type": "code",
   "execution_count": 110,
   "metadata": {},
   "outputs": [
    {
     "name": "stdout",
     "output_type": "stream",
     "text": [
      "[]\n",
      "[]\n",
      "[42]\n",
      "[42]\n",
      "[42, 1]\n",
      "[42, 1]\n",
      "[42, 1, -2]\n",
      "[42, 1, -2]\n",
      "[42, 1, -2]\n",
      "[42, 1, -60]\n",
      "[42, 1, -60]\n",
      "[42, 1, -60]\n",
      "[42, 1, -2]\n",
      "41\n"
     ]
    }
   ],
   "source": [
    "s = \"42+1-2*30/22\"\n",
    "# calculating * and / operations first then save the product to the stack\n",
    "# num gets number greater than 9; presign capture the operator before the number\n",
    "import math\n",
    "stack, presign, num = [], \"+\", 0\n",
    "# add \"+\" to s so the last digit can be read\n",
    "for i in s+\"+\":\n",
    "    if i.isdigit():\n",
    "        num = 10 * num + int(i)\n",
    "    elif i in \"+-*/\":\n",
    "        if presign == \"+\":\n",
    "            stack.append(num)\n",
    "        elif presign == \"-\":\n",
    "            stack.append(-num)\n",
    "        elif presign == \"*\":\n",
    "            stack.append(stack.pop() * num)\n",
    "        else:\n",
    "            stack.append(math.trunc(stack.pop() / num))\n",
    "        presign, num = i, 0\n",
    "    print(stack)\n",
    "print(sum(stack))"
   ]
  },
  {
   "cell_type": "markdown",
   "metadata": {},
   "source": [
    "### 739. Daily Temperatures\n",
    "Given an array of integers temperatures represents the daily temperatures, return an array answer such that answer[i] is the number of days you have to wait after the ith day to get a warmer temperature. If there is no future day for which this is possible, keep answer[i] == 0 instead."
   ]
  },
  {
   "cell_type": "code",
   "execution_count": 111,
   "metadata": {},
   "outputs": [
    {
     "name": "stdout",
     "output_type": "stream",
     "text": [
      "[[0, 73]]\n",
      "[[1, 74]]\n",
      "[[2, 75]]\n",
      "[[2, 75], [3, 71]]\n",
      "[[2, 75], [3, 71], [4, 69]]\n",
      "[[2, 75], [5, 72]]\n",
      "[[6, 76]]\n",
      "[[6, 76], [7, 73]]\n"
     ]
    },
    {
     "data": {
      "text/plain": [
       "[1, 1, 4, 2, 1, 1, 0, 0]"
      ]
     },
     "execution_count": 111,
     "metadata": {},
     "output_type": "execute_result"
    }
   ],
   "source": [
    "temperatures = [73,74,75,71,69,72,76,73]\n",
    "ans = [0] * len(temperatures)\n",
    "stack = []\n",
    "for i, t in enumerate(temperatures):\n",
    "    # pop the values in stack that are smaller than the current value t\n",
    "    # that is, the stack stores all the monotonically decreasing t, \n",
    "    # and when t rises, pop out all the smaller values and their locations\n",
    "    while stack and stack[-1][1] < t:\n",
    "        index, value = stack.pop()\n",
    "        # i is the location of the current value, and index is the location of the smaller value\n",
    "        ans[index] = i - index\n",
    "    # if t monotonically decreasing, save its location and value to the stack\n",
    "    stack.append([i, t])\n",
    "    print(stack)\n",
    "ans"
   ]
  },
  {
   "cell_type": "code",
   "execution_count": null,
   "metadata": {},
   "outputs": [],
   "source": []
  }
 ],
 "metadata": {
  "kernelspec": {
   "display_name": "Python 3",
   "language": "python",
   "name": "python3"
  },
  "language_info": {
   "codemirror_mode": {
    "name": "ipython",
    "version": 3
   },
   "file_extension": ".py",
   "mimetype": "text/x-python",
   "name": "python",
   "nbconvert_exporter": "python",
   "pygments_lexer": "ipython3",
   "version": "3.7.1"
  }
 },
 "nbformat": 4,
 "nbformat_minor": 2
}
