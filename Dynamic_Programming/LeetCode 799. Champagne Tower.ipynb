{
 "cells": [
  {
   "cell_type": "markdown",
   "metadata": {},
   "source": [
    "### 799. Champagne Tower\n",
    "We stack glasses in a pyramid, where the first row has 1 glass, the second row has 2 glasses, and so on until the 100th row.  Each glass holds one cup of champagne.\n",
    "\n",
    "Then, some champagne is poured into the first glass at the top.  When the topmost glass is full, any excess liquid poured will fall equally to the glass immediately to the left and right of it.  When those glasses become full, any excess champagne will fall equally to the left and right of those glasses, and so on.  (A glass at the bottom row has its excess champagne fall on the floor.)\n",
    "\n",
    "For example, after one cup of champagne is poured, the top most glass is full.  After two cups of champagne are poured, the two glasses on the second row are half full.  After three cups of champagne are poured, those two cups become full - there are 3 full glasses total now.  After four cups of champagne are poured, the third row has the middle glass half full, and the two outside glasses are a quarter full, as pictured below.\n",
    "<img src='https://s3-lc-upload.s3.amazonaws.com/uploads/2018/03/09/tower.png' width=256> <br>\n",
    "Now after pouring some non-negative integer cups of champagne, return how full the jth glass in the ith row is (both i and j are 0-indexed.)\n",
    "\n",
    "#### Example 1:\n",
    "- Input: poured = 1, query_row = 1, query_glass = 1\n",
    "- Output: 0.00000\n",
    "- Explanation: We poured 1 cup of champange to the top glass of the tower (which is indexed as (0, 0)). There will be no excess liquid so all the glasses under the top glass will remain empty.\n",
    "\n",
    "#### Example 2:\n",
    "- Input: poured = 2, query_row = 1, query_glass = 1\n",
    "- Output: 0.50000\n",
    "- Explanation: We poured 2 cups of champange to the top glass of the tower (which is indexed as (0, 0)). There is one cup of excess liquid. The glass indexed as (1, 0) and the glass indexed as (1, 1) will share the excess liquid equally, and each will get half cup of champange.\n",
    "\n",
    "#### Example 3:\n",
    "- Input: poured = 100000009, query_row = 33, query_glass = 17\n",
    "- Output: 1.00000\n",
    " \n",
    "#### Constraints:\n",
    "- 0 <= poured <= 109\n",
    "- 0 <= query_glass <= query_row < 100\n",
    "\n",
    "#### Difficulty:\n",
    "Medium\n",
    "\n",
    "https://leetcode.com/problems/champagne-tower/description/?envType=daily-question&envId=2023-09-24"
   ]
  },
  {
   "cell_type": "code",
   "execution_count": 36,
   "metadata": {},
   "outputs": [
    {
     "data": {
      "text/plain": [
       "0.220947265625"
      ]
     },
     "execution_count": 36,
     "metadata": {},
     "output_type": "execute_result"
    }
   ],
   "source": [
    "# Top-down DP + simulation, time O(mn), space O(mn)\n",
    "class Solution:\n",
    "    def champagneTower(self, poured, query_row, query_glass):\n",
    "        dp = [[0] * (i + 1) for i in range(query_row + 1)]\n",
    "        # dp[i][j]: the total amount of wine poured in glass (i, j)\n",
    "        dp[0][0] = poured\n",
    "        \n",
    "        for i in range(query_row):\n",
    "            for j in range(len(dp[i])):\n",
    "                # wine flow out of glass (i, j) into \n",
    "                # the left-bot and right-bot glasses\n",
    "                residual = (dp[i][j] - 1) / 2.0\n",
    "                if residual > 0:\n",
    "                    dp[i+1][j] += residual\n",
    "                    dp[i+1][j+1] += residual\n",
    "        return min(1.0, dp[query_row][query_glass])\n",
    "        \n",
    "poured = 5000\n",
    "query_row = 12\n",
    "query_glass = 0\n",
    "ans = Solution()\n",
    "ans.champagneTower(poured, query_row, query_glass)"
   ]
  },
  {
   "cell_type": "code",
   "execution_count": 37,
   "metadata": {},
   "outputs": [
    {
     "data": {
      "text/plain": [
       "0.220947265625"
      ]
     },
     "execution_count": 37,
     "metadata": {},
     "output_type": "execute_result"
    }
   ],
   "source": [
    "# Top-down DP + simulation, time O(mn), space O(n)\n",
    "class Solution:\n",
    "    def champagneTower(self, poured, query_row, query_glass):\n",
    "        # Initialise the tower with 102 glasses (max 100 layers)\n",
    "        tower = [0.0] * 102\n",
    "        tower[0] = poured\n",
    "        \n",
    "        for i in range(query_row):\n",
    "            next_tower = [0.0] * 102\n",
    "            for j in range(i + 1):\n",
    "                overflow = max(0, (tower[j] - 1) / 2)\n",
    "                next_tower[j] += overflow\n",
    "                next_tower[j+1] += overflow\n",
    "            tower = next_tower\n",
    "        \n",
    "        return min(1.0, tower[query_glass])\n",
    "        \n",
    "poured = 5000\n",
    "query_row = 12\n",
    "query_glass = 0\n",
    "ans = Solution()\n",
    "ans.champagneTower(poured, query_row, query_glass)"
   ]
  },
  {
   "cell_type": "code",
   "execution_count": null,
   "metadata": {},
   "outputs": [],
   "source": []
  }
 ],
 "metadata": {
  "kernelspec": {
   "display_name": "Python 3",
   "language": "python",
   "name": "python3"
  },
  "language_info": {
   "codemirror_mode": {
    "name": "ipython",
    "version": 3
   },
   "file_extension": ".py",
   "mimetype": "text/x-python",
   "name": "python",
   "nbconvert_exporter": "python",
   "pygments_lexer": "ipython3",
   "version": "3.8.3"
  }
 },
 "nbformat": 4,
 "nbformat_minor": 4
}
