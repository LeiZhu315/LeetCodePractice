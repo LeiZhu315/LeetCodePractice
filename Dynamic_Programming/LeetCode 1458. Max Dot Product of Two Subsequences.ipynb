{
 "cells": [
  {
   "cell_type": "markdown",
   "metadata": {},
   "source": [
    "### 1458. Max Dot Product of Two Subsequences\n",
    "Given two arrays nums1 and nums2.\n",
    "\n",
    "Return the maximum dot product between non-empty subsequences of nums1 and nums2 with the same length.\n",
    "\n",
    "A subsequence of a array is a new array which is formed from the original array by deleting some (can be none) of the characters without disturbing the relative positions of the remaining characters. (ie, [2,3,5] is a subsequence of [1,2,3,4,5] while [1,5,3] is not).\n",
    "\n",
    "#### Example 1:\n",
    "- Input: nums1 = [2,1,-2,5], nums2 = [3,0,-6]\n",
    "- Output: 18\n",
    "- Explanation: Take subsequence [2,-2] from nums1 and subsequence [3,-6] from nums2.\n",
    "Their dot product is (2*3 + (-2)*(-6)) = 18.\n",
    "\n",
    "#### Example 2:\n",
    "- Input: nums1 = [3,-2], nums2 = [2,-6,7]\n",
    "- Output: 21\n",
    "- Explanation: Take subsequence [3] from nums1 and subsequence [7] from nums2.\n",
    "Their dot product is (3*7) = 21.\n",
    "\n",
    "#### Example 3:\n",
    "- Input: nums1 = [-1,-1], nums2 = [1,1]\n",
    "- Output: -1\n",
    "- Explanation: Take subsequence [-1] from nums1 and subsequence [1] from nums2.\n",
    "Their dot product is -1.\n",
    " \n",
    "\n",
    "#### Constraints:\n",
    "- 1 <= nums1.length, nums2.length <= 500\n",
    "- -1000 <= nums1[i], nums2[i] <= 1000\n",
    "\n",
    "#### Difficulty:\n",
    "Hard\n",
    "\n",
    "https://leetcode.com/problems/max-dot-product-of-two-subsequences/description/?envType=daily-question&envId=2023-10-08"
   ]
  },
  {
   "cell_type": "code",
   "execution_count": 3,
   "metadata": {},
   "outputs": [
    {
     "data": {
      "text/plain": [
       "21"
      ]
     },
     "execution_count": 3,
     "metadata": {},
     "output_type": "execute_result"
    }
   ],
   "source": [
    "# DP, time O(mn), space O(mn)\n",
    "class Solution:\n",
    "    def maxDotProduct(self, nums1, nums2):\n",
    "        m, n = len(nums1), len(nums2)\n",
    "        \n",
    "        # dp[i][j]: max product considering the first i nums from nums1\n",
    "        # and the first j nums from nums2\n",
    "        dp = [[float('-inf')] * (n + 1) for _ in range(m + 1)]\n",
    "        \n",
    "        for i in range(1, m + 1):\n",
    "            for j in range(1, n + 1):\n",
    "                product = nums1[i - 1] * nums2[j - 1]\n",
    "                dp[i][j] = max(dp[i][j], product + max(0, dp[i-1][j-1]),\n",
    "                               dp[i-1][j], dp[i][j-1])\n",
    "        \n",
    "        return dp[-1][-1]\n",
    "    \n",
    "        \n",
    "nums1, nums2 = [3,-2], [2,-6,7]\n",
    "ans = Solution()\n",
    "ans.maxDotProduct(nums1, nums2)"
   ]
  },
  {
   "cell_type": "code",
   "execution_count": 5,
   "metadata": {},
   "outputs": [
    {
     "data": {
      "text/plain": [
       "21"
      ]
     },
     "execution_count": 5,
     "metadata": {},
     "output_type": "execute_result"
    }
   ],
   "source": [
    "# DP, time O(mn), space O(n)\n",
    "class Solution:\n",
    "    def maxDotProduct(self, nums1, nums2):\n",
    "        m, n = len(nums1), len(nums2)\n",
    "        \n",
    "        curr = [float('-inf')] * (n + 1)\n",
    "        prev = [float('-inf')] * (n + 1)\n",
    "        \n",
    "        for i in range(1, m + 1):\n",
    "            for j in range(1, n + 1):\n",
    "                product = nums1[i - 1] * nums2[j - 1]\n",
    "                curr[j] = max(curr[j], prev[j], curr[j - 1], \n",
    "                              product + max(0, prev[j - 1]))\n",
    "            prev, curr = curr, prev\n",
    "            \n",
    "        return prev[-1]\n",
    "    \n",
    "        \n",
    "nums1, nums2 = [3,-2], [2,-6,7]\n",
    "ans = Solution()\n",
    "ans.maxDotProduct(nums1, nums2)"
   ]
  },
  {
   "cell_type": "code",
   "execution_count": null,
   "metadata": {},
   "outputs": [],
   "source": []
  }
 ],
 "metadata": {
  "kernelspec": {
   "display_name": "Python 3",
   "language": "python",
   "name": "python3"
  },
  "language_info": {
   "codemirror_mode": {
    "name": "ipython",
    "version": 3
   },
   "file_extension": ".py",
   "mimetype": "text/x-python",
   "name": "python",
   "nbconvert_exporter": "python",
   "pygments_lexer": "ipython3",
   "version": "3.8.3"
  }
 },
 "nbformat": 4,
 "nbformat_minor": 4
}
