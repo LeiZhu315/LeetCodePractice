{
 "cells": [
  {
   "cell_type": "markdown",
   "metadata": {},
   "source": [
    "### 746. Min Cost Climbing Stairs\n",
    "You are given an integer array cost where cost[i] is the cost of ith step on a staircase. Once you pay the cost, you can either climb one or two steps.\n",
    "\n",
    "You can either start from the step with index 0, or the step with index 1.\n",
    "\n",
    "Return the minimum cost to reach the top of the floor.\n",
    "\n",
    "#### Example 1:\n",
    "- Input: cost = [10,15,20]\n",
    "- Output: 15\n",
    "- Explanation: You will start at index 1.\n",
    " - Pay 15 and climb two steps to reach the top.\n",
    " - The total cost is 15.\n",
    "\n",
    "#### Example 2:\n",
    "- Input: cost = [1,100,1,1,1,100,1,1,100,1]\n",
    "- Output: 6\n",
    "- Explanation: You will start at index 0.\n",
    " - Pay 1 and climb two steps to reach index 2.\n",
    " - Pay 1 and climb two steps to reach index 4.\n",
    " - Pay 1 and climb two steps to reach index 6.\n",
    " - Pay 1 and climb one step to reach index 7.\n",
    " - Pay 1 and climb two steps to reach index 9.\n",
    " - Pay 1 and climb one step to reach the top.\n",
    " - The total cost is 6.\n",
    "\n",
    "#### Constraints:\n",
    "- 2 <= cost.length <= 1000\n",
    "- 0 <= cost[i] <= 999\n",
    "\n",
    "#### Difficulty:\n",
    "Easy\n",
    "\n",
    "https://leetcode.com/problems/min-cost-climbing-stairs/description/?envType=daily-question&envId=2023-10-13"
   ]
  },
  {
   "cell_type": "code",
   "execution_count": 6,
   "metadata": {},
   "outputs": [
    {
     "data": {
      "text/plain": [
       "6"
      ]
     },
     "execution_count": 6,
     "metadata": {},
     "output_type": "execute_result"
    }
   ],
   "source": [
    "# DP, time O(n), space O(n)\n",
    "class Solution:\n",
    "    def minCostClimbingStairs(self, cost):\n",
    "        n = len(cost)\n",
    "        if n == 2:\n",
    "            return min(cost)\n",
    "        \n",
    "        dp = [0] * n\n",
    "        dp[-1], dp[-2] = cost[-1], cost[-2]\n",
    "        \n",
    "        for i in range(n-3, -1, -1):\n",
    "            dp[i] = cost[i] + min(dp[i+1], dp[i+2])\n",
    "            \n",
    "        return min(dp[0], dp[1])\n",
    "            \n",
    "cost = [1,100,1,1,1,100,1,1,100,1]\n",
    "ans = Solution()\n",
    "ans.minCostClimbingStairs(cost)"
   ]
  },
  {
   "cell_type": "code",
   "execution_count": 9,
   "metadata": {},
   "outputs": [
    {
     "data": {
      "text/plain": [
       "6"
      ]
     },
     "execution_count": 9,
     "metadata": {},
     "output_type": "execute_result"
    }
   ],
   "source": [
    "# DP, time O(n), space O(1)\n",
    "class Solution:\n",
    "    def minCostClimbingStairs(self, cost):\n",
    "        \n",
    "        prev1, prev2 = 0, 0\n",
    "        \n",
    "        for i in range(2, len(cost) + 1):\n",
    "            curr = min(prev1 + cost[i-1], prev2 + cost[i-2])\n",
    "            prev1, prev2 = curr, prev1\n",
    "            \n",
    "        return curr\n",
    "            \n",
    "cost = [1,100,1,1,1,100,1,1,100,1]\n",
    "ans = Solution()\n",
    "ans.minCostClimbingStairs(cost)"
   ]
  },
  {
   "cell_type": "code",
   "execution_count": 10,
   "metadata": {},
   "outputs": [
    {
     "data": {
      "text/plain": [
       "6"
      ]
     },
     "execution_count": 10,
     "metadata": {},
     "output_type": "execute_result"
    }
   ],
   "source": [
    "# Memorise + recurrsion, time O(n), space O(n)\n",
    "class Solution:\n",
    "    def minCostClimbingStairs(self, cost):\n",
    "        n = len(cost)\n",
    "        memo = {}\n",
    "        \n",
    "        def helper(i):\n",
    "            if i <= 1:\n",
    "                return 0\n",
    "            if i in memo:\n",
    "                return memo[i]\n",
    "            one = cost[i-1] + helper(i-1)\n",
    "            two = cost[i-2] + helper(i-2)\n",
    "            memo[i] = min(one, two)\n",
    "            return memo[i]\n",
    "        \n",
    "        return helper(n)\n",
    "            \n",
    "cost = [1,100,1,1,1,100,1,1,100,1]\n",
    "ans = Solution()\n",
    "ans.minCostClimbingStairs(cost)"
   ]
  },
  {
   "cell_type": "code",
   "execution_count": null,
   "metadata": {},
   "outputs": [],
   "source": []
  }
 ],
 "metadata": {
  "kernelspec": {
   "display_name": "Python 3",
   "language": "python",
   "name": "python3"
  },
  "language_info": {
   "codemirror_mode": {
    "name": "ipython",
    "version": 3
   },
   "file_extension": ".py",
   "mimetype": "text/x-python",
   "name": "python",
   "nbconvert_exporter": "python",
   "pygments_lexer": "ipython3",
   "version": "3.8.3"
  }
 },
 "nbformat": 4,
 "nbformat_minor": 4
}
