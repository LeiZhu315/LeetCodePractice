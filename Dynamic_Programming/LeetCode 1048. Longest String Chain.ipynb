{
 "cells": [
  {
   "cell_type": "markdown",
   "metadata": {},
   "source": [
    "### 1048. Longest String Chain\n",
    "You are given an array of words where each word consists of lowercase English letters.\n",
    "\n",
    "wordA is a predecessor of wordB if and only if we can insert exactly one letter anywhere in wordA without changing the order of the other characters to make it equal to wordB.\n",
    "\n",
    "For example, \"abc\" is a predecessor of \"abac\", while \"cba\" is not a predecessor of \"bcad\".\n",
    "A word chain is a sequence of words [word1, word2, ..., wordk] with k >= 1, where word1 is a predecessor of word2, word2 is a predecessor of word3, and so on. A single word is trivially a word chain with k == 1.\n",
    "\n",
    "Return the length of the longest possible word chain with words chosen from the given list of words.\n",
    "\n",
    "#### Example 1:\n",
    "- Input: words = [\"a\",\"b\",\"ba\",\"bca\",\"bda\",\"bdca\"]\n",
    "- Output: 4\n",
    "- Explanation: One of the longest word chains is [\"a\",\"ba\",\"bda\",\"bdca\"].\n",
    "\n",
    "#### Example 2:\n",
    "- Input: words = [\"xbc\",\"pcxbcf\",\"xb\",\"cxbc\",\"pcxbc\"]\n",
    "- Output: 5\n",
    "- Explanation: All the words can be put in a word chain [\"xb\", \"xbc\", \"cxbc\", \"pcxbc\", \"pcxbcf\"].\n",
    "\n",
    "#### Example 3:\n",
    "- Input: words = [\"abcd\",\"dbqca\"]\n",
    "- Output: 1\n",
    "- Explanation: The trivial word chain [\"abcd\"] is one of the longest word chains.\n",
    "[\"abcd\",\"dbqca\"] is not a valid word chain because the ordering of the letters is changed.\n",
    " \n",
    "#### Constraints:\n",
    "- 1 <= words.length <= 1000\n",
    "- 1 <= words[i].length <= 16\n",
    "- words[i] only consists of lowercase English letters.\n",
    "\n",
    "#### Difficulty:\n",
    "Medium\n",
    "\n",
    "https://leetcode.com/problems/longest-string-chain/description/?envType=daily-question&envId=2023-09-23"
   ]
  },
  {
   "cell_type": "code",
   "execution_count": 1,
   "metadata": {},
   "outputs": [
    {
     "name": "stdout",
     "output_type": "stream",
     "text": [
      "{'xb': 1}\n",
      "{'xb': 1, 'xbc': 2}\n",
      "{'xb': 1, 'xbc': 2, 'cxbc': 3}\n",
      "{'xb': 1, 'xbc': 2, 'cxbc': 3, 'pcxbc': 4}\n",
      "{'xb': 1, 'xbc': 2, 'cxbc': 3, 'pcxbc': 4, 'pcxbcf': 5}\n"
     ]
    },
    {
     "data": {
      "text/plain": [
       "5"
      ]
     },
     "execution_count": 1,
     "metadata": {},
     "output_type": "execute_result"
    }
   ],
   "source": [
    "# DP, time O(nlogn + mn), space O(m), where m=len(words), n=len(word)\n",
    "class Solution:\n",
    "    def longestStrChain(self, words):\n",
    "        words.sort(key=len)\n",
    "        dp = {} # dp[w]: longest str chain including word w\n",
    "        res = 0\n",
    "        for w in words:\n",
    "            dp[w] = 1\n",
    "            for i in range(len(w)):\n",
    "                preW = w[:i] + w[i+1:]\n",
    "                if preW in dp:\n",
    "                    dp[w] = max(dp[w], dp[preW]+1)\n",
    "            print(dp)\n",
    "            res = max(res, dp[w])\n",
    "        return res\n",
    "        \n",
    "        \n",
    "words = [\"xbc\",\"pcxbcf\",\"xb\",\"cxbc\",\"pcxbc\"]\n",
    "ans = Solution()\n",
    "ans.longestStrChain(words)"
   ]
  },
  {
   "cell_type": "code",
   "execution_count": 2,
   "metadata": {},
   "outputs": [
    {
     "data": {
      "text/plain": [
       "5"
      ]
     },
     "execution_count": 2,
     "metadata": {},
     "output_type": "execute_result"
    }
   ],
   "source": [
    "# Memorise + DFS, time O(mn), space O(m), where m=len(words), n=len(word)\n",
    "class Solution:\n",
    "    def longestStrChain(self, words):\n",
    "        wordSet = set(words)\n",
    "        memo = {}\n",
    "        \n",
    "        def dfs(w):\n",
    "            if w not in wordSet:\n",
    "                return 0\n",
    "            if w in memo:\n",
    "                return memo[w]\n",
    "            res = 0\n",
    "            for i in range(len(w)):\n",
    "                nexW = w[:i] + w[i+1:]\n",
    "                res = max(res, dfs(nexW)+1)\n",
    "            memo[w] = res\n",
    "            return res\n",
    "            \n",
    "        return max(dfs(w) for w in wordSet)\n",
    "        \n",
    "        \n",
    "words = [\"xbc\",\"pcxbcf\",\"xb\",\"cxbc\",\"pcxbc\"]\n",
    "ans = Solution()\n",
    "ans.longestStrChain(words)"
   ]
  },
  {
   "cell_type": "code",
   "execution_count": null,
   "metadata": {},
   "outputs": [],
   "source": []
  }
 ],
 "metadata": {
  "kernelspec": {
   "display_name": "Python 3",
   "language": "python",
   "name": "python3"
  },
  "language_info": {
   "codemirror_mode": {
    "name": "ipython",
    "version": 3
   },
   "file_extension": ".py",
   "mimetype": "text/x-python",
   "name": "python",
   "nbconvert_exporter": "python",
   "pygments_lexer": "ipython3",
   "version": "3.8.3"
  }
 },
 "nbformat": 4,
 "nbformat_minor": 4
}
