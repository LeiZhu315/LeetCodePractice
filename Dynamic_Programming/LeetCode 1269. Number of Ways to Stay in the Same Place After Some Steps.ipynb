{
 "cells": [
  {
   "cell_type": "markdown",
   "metadata": {},
   "source": [
    "### 1269. Number of Ways to Stay in the Same Place After Some Steps\n",
    "\n",
    "You have a pointer at index 0 in an array of size arrLen. At each step, you can move 1 position to the left, 1 position to the right in the array, or stay in the same place (The pointer should not be placed outside the array at any time).\n",
    "\n",
    "Given two integers steps and arrLen, return the number of ways such that your pointer is still at index 0 after exactly steps steps. Since the answer may be too large, return it modulo 109 + 7.\n",
    "\n",
    "#### Example 1:\n",
    "- Input: steps = 3, arrLen = 2\n",
    "- Output: 4\n",
    "- Explanation: There are 4 differents ways to stay at index 0 after 3 steps.\n",
    " - Right, Left, Stay\n",
    " - Stay, Right, Left\n",
    " - Right, Stay, Left\n",
    " - Stay, Stay, Stay\n",
    "\n",
    "#### Example 2:\n",
    "- Input: steps = 2, arrLen = 4\n",
    "- Output: 2\n",
    "- Explanation: There are 2 differents ways to stay at index 0 after 2 steps\n",
    " - Right, Left\n",
    " - Stay, Stay\n",
    "\n",
    "#### Example 3:\n",
    "- Input: steps = 4, arrLen = 2\n",
    "- Output: 8\n",
    "\n",
    "#### Constraints:\n",
    "- 1 <= steps <= 500\n",
    "- 1 <= arrLen <= 106\n",
    "\n",
    "#### Difficulty:\n",
    "Hard\n",
    "\n",
    "https://leetcode.com/problems/number-of-ways-to-stay-in-the-same-place-after-some-steps/description/?envType=daily-question&envId=2023-10-15"
   ]
  },
  {
   "cell_type": "code",
   "execution_count": 26,
   "metadata": {},
   "outputs": [
    {
     "data": {
      "text/plain": [
       "4"
      ]
     },
     "execution_count": 26,
     "metadata": {},
     "output_type": "execute_result"
    }
   ],
   "source": [
    "# Memorise + recursion\n",
    "class Solution:\n",
    "    def numWays(self, steps, arrLen):\n",
    "        self.mod = 10 ** 9 + 7\n",
    "        self.steps = steps\n",
    "        memo = {}\n",
    "        self.n = min(steps // 2 + 1, arrLen)\n",
    "        \n",
    "        def helper(i, curr):\n",
    "            if curr == self.steps:\n",
    "                return 1 if i == 0 else 0\n",
    "            if (i, curr) in memo:\n",
    "                return memo[(i, curr)]\n",
    "            accu = 0\n",
    "            for x in [-1, 0, 1]:\n",
    "                ii = i + x\n",
    "                if 0 <= ii < self.n:\n",
    "                    accu = (accu + helper(ii, curr+1)) % self.mod\n",
    "            memo[(i, curr)] = accu\n",
    "            return accu\n",
    "        \n",
    "        return helper(0, 0)\n",
    "        \n",
    "steps, arrLen = 3, 2\n",
    "ans = Solution()\n",
    "ans.numWays(steps, arrLen)"
   ]
  },
  {
   "cell_type": "code",
   "execution_count": null,
   "metadata": {},
   "outputs": [],
   "source": []
  }
 ],
 "metadata": {
  "kernelspec": {
   "display_name": "Python 3",
   "language": "python",
   "name": "python3"
  },
  "language_info": {
   "codemirror_mode": {
    "name": "ipython",
    "version": 3
   },
   "file_extension": ".py",
   "mimetype": "text/x-python",
   "name": "python",
   "nbconvert_exporter": "python",
   "pygments_lexer": "ipython3",
   "version": "3.8.3"
  }
 },
 "nbformat": 4,
 "nbformat_minor": 4
}
