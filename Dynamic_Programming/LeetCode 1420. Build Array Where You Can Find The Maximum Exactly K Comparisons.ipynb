{
 "cells": [
  {
   "cell_type": "markdown",
   "metadata": {},
   "source": [
    "### 1420. Build Array Where You Can Find The Maximum Exactly K Comparisons\n",
    "You are given three integers n, m and k. Consider the following algorithm to find the maximum element of an array of positive integers:\n",
    "\n",
    "<img src='https://assets.leetcode.com/uploads/2020/04/02/e.png' with='180'> <br>\n",
    "You should build the array arr which has the following properties:\n",
    "- arr has exactly n integers.\n",
    "- 1 <= arr[i] <= m where (0 <= i < n).\n",
    "- After applying the mentioned algorithm to arr, the value search_cost is equal to k.\n",
    "\n",
    "Return the number of ways to build the array arr under the mentioned conditions. As the answer may grow large, the answer must be computed modulo 10**9 + 7. \n",
    "\n",
    "#### Example 1:\n",
    "- Input: n = 2, m = 3, k = 1\n",
    "- Output: 6\n",
    "- Explanation: The possible arrays are [1, 1], [2, 1], [2, 2], [3, 1], [3, 2] [3, 3]\n",
    "\n",
    "#### Example 2:\n",
    "- Input: n = 5, m = 2, k = 3\n",
    "- Output: 0\n",
    "- Explanation: There are no possible arrays that satisify the mentioned conditions.\n",
    "\n",
    "#### Example 3:\n",
    "- Input: n = 9, m = 1, k = 1\n",
    "- Output: 1\n",
    "- Explanation: The only possible array is [1, 1, 1, 1, 1, 1, 1, 1, 1]\n",
    " \n",
    "#### Constraints:\n",
    "- 1 <= n <= 50\n",
    "- 1 <= m <= 100\n",
    "- 0 <= k <= n\n",
    "\n",
    "#### Difficulty:\n",
    "Hard\n",
    "\n",
    "https://leetcode.com/problems/build-array-where-you-can-find-the-maximum-exactly-k-comparisons/description/?envType=daily-question&envId=2023-10-07"
   ]
  },
  {
   "cell_type": "code",
   "execution_count": 2,
   "metadata": {},
   "outputs": [
    {
     "data": {
      "text/plain": [
       "6"
      ]
     },
     "execution_count": 2,
     "metadata": {},
     "output_type": "execute_result"
    }
   ],
   "source": [
    "# DP + prefix sum, time O(n*m*k), space O(m*k)\n",
    "class Solution:\n",
    "    def numOfArrays(self, n, m, k):\n",
    "        mod = 10 ** 9 + 7\n",
    "        \n",
    "        prevDp = [[0] * (k + 1) for _ in range(m + 1)]\n",
    "        prevPrefix = [[0] * (k + 1) for _ in range(m + 1)]\n",
    "        \n",
    "        for i in range(1, m + 1):\n",
    "            prevDp[i][1] = 1\n",
    "            prevPrefix[i][1] = i\n",
    "            \n",
    "        for _ in range(2, n + 1):\n",
    "            # the i-th dp[j][k]: num of ways build arrays with n=i, m=j, k=k \n",
    "            dp = [[0] * (k + 1) for _ in range(m + 1)]\n",
    "            prefix = [[0] * (k + 1) for _ in range(m + 1)]\n",
    "            for maxNum in range(1, m + 1):\n",
    "                for cost in range(1, k + 1):\n",
    "                    dp[maxNum][cost] = (maxNum * prevDp[maxNum][cost]) % mod\n",
    "                    if maxNum > 1 and cost > 1:\n",
    "                        dp[maxNum][cost] += prevPrefix[maxNum - 1][cost - 1]\n",
    "                        dp[maxNum][cost] %= mod\n",
    "                    prefix[maxNum][cost] = (prefix[maxNum - 1][cost] + dp[maxNum][cost]) % mod\n",
    "            prevDp, prevPrefix = [row[:] for row in dp], [row[:] for row in prefix]\n",
    "        \n",
    "        return prefix[m][k]\n",
    "            \n",
    "        \n",
    "n, m, k = 2, 3, 1\n",
    "ans = Solution()\n",
    "ans.numOfArrays(n, m, k)"
   ]
  },
  {
   "cell_type": "code",
   "execution_count": 3,
   "metadata": {},
   "outputs": [
    {
     "data": {
      "text/plain": [
       "6"
      ]
     },
     "execution_count": 3,
     "metadata": {},
     "output_type": "execute_result"
    }
   ],
   "source": [
    "# DP, time O(n*m*k), space O(m*k)\n",
    "class Solution:\n",
    "    def numOfArrays(self, n, m, k):\n",
    "        mod = 10 ** 9 + 7\n",
    "        \n",
    "        if m < k:\n",
    "            return 0\n",
    "        \n",
    "        dp = [[1] * m] + [[0] * m for _ in range(k - 1)]\n",
    "        \n",
    "        for _ in range(n - 1):\n",
    "            for i in range(k - 1, -1, -1):\n",
    "                cur = 0\n",
    "                for j in range(m):\n",
    "                    dp[i][j] = (dp[i][j] * (j + 1) + cur) % mod\n",
    "                    if i != 0: \n",
    "                        cur = (cur + dp[i - 1][j]) % mod\n",
    "        \n",
    "        return sum(dp[-1]) % mod\n",
    "    \n",
    "        \n",
    "n, m, k = 2, 3, 1\n",
    "ans = Solution()\n",
    "ans.numOfArrays(n, m, k)"
   ]
  },
  {
   "cell_type": "code",
   "execution_count": null,
   "metadata": {},
   "outputs": [],
   "source": []
  }
 ],
 "metadata": {
  "kernelspec": {
   "display_name": "Python 3",
   "language": "python",
   "name": "python3"
  },
  "language_info": {
   "codemirror_mode": {
    "name": "ipython",
    "version": 3
   },
   "file_extension": ".py",
   "mimetype": "text/x-python",
   "name": "python",
   "nbconvert_exporter": "python",
   "pygments_lexer": "ipython3",
   "version": "3.8.3"
  }
 },
 "nbformat": 4,
 "nbformat_minor": 4
}
