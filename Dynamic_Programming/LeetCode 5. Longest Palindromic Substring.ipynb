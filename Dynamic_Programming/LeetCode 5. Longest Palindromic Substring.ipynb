{
 "cells": [
  {
   "cell_type": "markdown",
   "metadata": {},
   "source": [
    "### 5. Longest Palindromic Substring\n",
    "Given a string s, return the longest palindromic substring in s.\n",
    "\n",
    "#### Example 1:\n",
    "- Input: s = \"babad\"\n",
    "- Output: \"bab\"\n",
    "- Explanation: \"aba\" is also a valid answer.\n",
    "\n",
    "#### Example 2:\n",
    "- Input: s = \"cbbd\"\n",
    "- Output: \"bb\"\n",
    "\n",
    "#### Constraints:\n",
    "- 1 <= s.length <= 1000\n",
    "- s consist of only digits and English letters.\n",
    "\n",
    "#### Difficulty:\n",
    "Medium\n",
    "\n",
    "https://leetcode.com/problems/longest-palindromic-substring/description/?envType=daily-question&envId=2023-10-27"
   ]
  },
  {
   "cell_type": "code",
   "execution_count": 15,
   "metadata": {},
   "outputs": [
    {
     "data": {
      "text/plain": [
       "'bbb'"
      ]
     },
     "execution_count": 15,
     "metadata": {},
     "output_type": "execute_result"
    }
   ],
   "source": [
    "# Brute force, time (n ** 3), space O(n)\n",
    "class Solution:\n",
    "    def longestPalindrome(self, s):\n",
    "        n = len(s)\n",
    "        res = s[0]\n",
    "        for i in range(n):\n",
    "            for j in range(i, n):\n",
    "                if s[i:j+1] == s[i:j+1][::-1]:\n",
    "                    if len(res) < j - i + 1:\n",
    "                        res = s[i:j+1]\n",
    "        return res\n",
    "        \n",
    "        \n",
    "s = \"bbb\"\n",
    "ans = Solution()\n",
    "ans.longestPalindrome(s)"
   ]
  },
  {
   "cell_type": "code",
   "execution_count": 41,
   "metadata": {},
   "outputs": [
    {
     "data": {
      "text/plain": [
       "'agbbga'"
      ]
     },
     "execution_count": 41,
     "metadata": {},
     "output_type": "execute_result"
    }
   ],
   "source": [
    "# top-down DP, time (n ** 2), space O(n ** 2)\n",
    "class Solution:\n",
    "    def longestPalindrome(self, s):\n",
    "        n = len(s)\n",
    "        maxL = (0, 1)\n",
    "        dp = [[0] * n for _ in range(n)]\n",
    "        \n",
    "        for i in range(n):\n",
    "            dp[i][i] = 1\n",
    "            \n",
    "        for i in range(n-1, -1, -1):\n",
    "            for j in range(i+1, n):\n",
    "                if s[i] == s[j]:\n",
    "                    if j - i == 1 or dp[i+1][j-1] == 1:\n",
    "                        dp[i][j] = 1\n",
    "                        if maxL[1] - maxL[0] < j - i + 1:\n",
    "                            maxL = (i, j+1)\n",
    "        res = s[maxL[0]:maxL[1]]\n",
    "        \n",
    "        return res\n",
    "        \n",
    "        \n",
    "s = \"adasfagbbgaadsdakhfask\"\n",
    "ans = Solution()\n",
    "ans.longestPalindrome(s)"
   ]
  },
  {
   "cell_type": "code",
   "execution_count": 44,
   "metadata": {},
   "outputs": [
    {
     "data": {
      "text/plain": [
       "'agbbga'"
      ]
     },
     "execution_count": 44,
     "metadata": {},
     "output_type": "execute_result"
    }
   ],
   "source": [
    "# recursive DP, time (n ** 2), space O(n)\n",
    "class Solution:\n",
    "    def longestPalindrome(self, s):\n",
    "        \n",
    "        def dp(i, j):\n",
    "            while i >= 0 and j < len(s) and s[i] == s[j]:\n",
    "                i -= 1\n",
    "                j += 1\n",
    "            return s[i+1:j]\n",
    "        \n",
    "        res = s[0]\n",
    "        for i in range(len(s)):\n",
    "            curr = dp(i, i+1)\n",
    "            res = max(res, curr, key=len)\n",
    "            \n",
    "        return res\n",
    "        \n",
    "        \n",
    "s = \"adasfagbbgaadsdakhfask\"\n",
    "ans = Solution()\n",
    "ans.longestPalindrome(s)"
   ]
  },
  {
   "cell_type": "code",
   "execution_count": null,
   "metadata": {},
   "outputs": [],
   "source": []
  }
 ],
 "metadata": {
  "kernelspec": {
   "display_name": "Python 3",
   "language": "python",
   "name": "python3"
  },
  "language_info": {
   "codemirror_mode": {
    "name": "ipython",
    "version": 3
   },
   "file_extension": ".py",
   "mimetype": "text/x-python",
   "name": "python",
   "nbconvert_exporter": "python",
   "pygments_lexer": "ipython3",
   "version": "3.8.3"
  }
 },
 "nbformat": 4,
 "nbformat_minor": 4
}
