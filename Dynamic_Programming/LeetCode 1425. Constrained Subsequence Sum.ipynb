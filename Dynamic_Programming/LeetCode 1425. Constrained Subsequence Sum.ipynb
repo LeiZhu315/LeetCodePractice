{
 "cells": [
  {
   "cell_type": "markdown",
   "metadata": {},
   "source": [
    "### 1425. Constrained Subsequence Sum\n",
    "Given an integer array nums and an integer k, return the maximum sum of a non-empty subsequence of that array such that for every two consecutive integers in the subsequence, nums[i] and nums[j], where i < j, the condition j - i <= k is satisfied.\n",
    "\n",
    "A subsequence of an array is obtained by deleting some number of elements (can be zero) from the array, leaving the remaining elements in their original order.\n",
    "\n",
    "#### Example 1:\n",
    "- Input: nums = [10,2,-10,5,20], k = 2\n",
    "- Output: 37\n",
    "- Explanation: The subsequence is [10, 2, 5, 20].\n",
    "\n",
    "#### Example 2:\n",
    "- Input: nums = [-1,-2,-3], k = 1\n",
    "- Output: -1\n",
    "- Explanation: The subsequence must be non-empty, so we choose the largest number.\n",
    "\n",
    "#### Example 3:\n",
    "- Input: nums = [10,-2,-10,-5,20], k = 2\n",
    "- Output: 23\n",
    "- Explanation: The subsequence is [10, -2, -5, 20].\n",
    " \n",
    "#### Constraints:\n",
    "- 1 <= k <= nums.length <= 105\n",
    "- -104 <= nums[i] <= 104\n",
    "\n",
    "#### Difficulty:\n",
    "Hard\n",
    "\n",
    "https://leetcode.com/problems/constrained-subsequence-sum/description/?envType=daily-question&envId=2023-10-21"
   ]
  },
  {
   "cell_type": "code",
   "execution_count": 10,
   "metadata": {},
   "outputs": [
    {
     "data": {
      "text/plain": [
       "37"
      ]
     },
     "execution_count": 10,
     "metadata": {},
     "output_type": "execute_result"
    }
   ],
   "source": [
    "# DP, time O(n * k), space O(n)\n",
    "class Solution:\n",
    "    def constrainedSubsetSum(self, nums):\n",
    "        from collections import deque\n",
    "        \n",
    "        dp = [0] * len(nums)\n",
    "        window = deque()\n",
    "        tmp_max = float('-inf')\n",
    "        \n",
    "        for i in range(len(nums)):\n",
    "            dp[i] = nums[i] + max(0, tmp_max)\n",
    "            if len(window) == k:\n",
    "                window.popleft()\n",
    "            window.append(dp[i])\n",
    "            tmp_max = max(window)\n",
    "            \n",
    "        return max(dp)\n",
    "        \n",
    "        \n",
    "nums = [10,2,-10,5,20]\n",
    "k = 2\n",
    "ans = Solution()\n",
    "ans.constrainedSubsetSum(nums)"
   ]
  },
  {
   "cell_type": "code",
   "execution_count": 15,
   "metadata": {},
   "outputs": [
    {
     "data": {
      "text/plain": [
       "37"
      ]
     },
     "execution_count": 15,
     "metadata": {},
     "output_type": "execute_result"
    }
   ],
   "source": [
    "# DP + monotonic queue + sliding window, time O(n), space O(n)\n",
    "class Solution:\n",
    "    def constrainedSubsetSum(self, nums):\n",
    "        from collections import deque\n",
    "        dp = deque()\n",
    "        res = float('-inf')\n",
    "        \n",
    "        for i, num in enumerate(nums):\n",
    "            tmp = num + dp[0][1] if dp else num\n",
    "            res = max(res, tmp)\n",
    "            \n",
    "            # creating a monotonic queue\n",
    "            while dp and dp[-1][1] <= tmp:\n",
    "                dp.pop()\n",
    "            if tmp > 0:\n",
    "                dp.append((i, tmp))\n",
    "                \n",
    "            if dp[0][0] == i - k:\n",
    "                dp.popleft()\n",
    "                \n",
    "        return res\n",
    "        \n",
    "        \n",
    "nums = [10,2,-10,5,20]\n",
    "k = 2\n",
    "ans = Solution()\n",
    "ans.constrainedSubsetSum(nums)"
   ]
  },
  {
   "cell_type": "code",
   "execution_count": 17,
   "metadata": {},
   "outputs": [
    {
     "data": {
      "text/plain": [
       "37"
      ]
     },
     "execution_count": 17,
     "metadata": {},
     "output_type": "execute_result"
    }
   ],
   "source": [
    "# DP + monotonic queue + sliding window, time O(n), space O(n)\n",
    "class Solution:\n",
    "    def constrainedSubsetSum(self, nums):\n",
    "        from collections import deque\n",
    "        dp = deque()\n",
    "        \n",
    "        for i, num in enumerate(nums):\n",
    "            nums[i] += nums[dp[0]] if dp else 0\n",
    "            \n",
    "            while dp and nums[i] >= nums[dp[-1]]:\n",
    "                dp.pop()\n",
    "            if nums[i] > 0:\n",
    "                dp.append(i)\n",
    "            if dp[0] == i - k:\n",
    "                dp.popleft()\n",
    "                \n",
    "        return max(nums)\n",
    "        \n",
    "        \n",
    "nums = [10,2,-10,5,20]\n",
    "k = 2\n",
    "ans = Solution()\n",
    "ans.constrainedSubsetSum(nums)"
   ]
  },
  {
   "cell_type": "code",
   "execution_count": null,
   "metadata": {},
   "outputs": [],
   "source": []
  }
 ],
 "metadata": {
  "kernelspec": {
   "display_name": "Python 3",
   "language": "python",
   "name": "python3"
  },
  "language_info": {
   "codemirror_mode": {
    "name": "ipython",
    "version": 3
   },
   "file_extension": ".py",
   "mimetype": "text/x-python",
   "name": "python",
   "nbconvert_exporter": "python",
   "pygments_lexer": "ipython3",
   "version": "3.8.3"
  }
 },
 "nbformat": 4,
 "nbformat_minor": 4
}
