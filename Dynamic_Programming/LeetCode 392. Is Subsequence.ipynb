{
 "cells": [
  {
   "cell_type": "markdown",
   "metadata": {},
   "source": [
    "### 392. Is Subsequence\n",
    "Given two strings s and t, return true if s is a subsequence of t, or false otherwise.\n",
    "\n",
    "A subsequence of a string is a new string that is formed from the original string by deleting some (can be none) of the characters without disturbing the relative positions of the remaining characters. (i.e., \"ace\" is a subsequence of \"abcde\" while \"aec\" is not).\n",
    "\n",
    "#### Example 1:\n",
    "- Input: s = \"abc\", t = \"ahbgdc\"\n",
    "- Output: true\n",
    "\n",
    "#### Example 2:\n",
    "- Input: s = \"axc\", t = \"ahbgdc\"\n",
    "- Output: false\n",
    "\n",
    "#### Constraints:\n",
    "- 0 <= s.length <= 100\n",
    "- 0 <= t.length <= 104\n",
    "- s and t consist only of lowercase English letters.\n",
    "\n",
    "#### Difficulty:\n",
    "Easy\n",
    "\n",
    "https://leetcode.com/problems/is-subsequence/description/?envType=daily-question&envId=2023-09-22"
   ]
  },
  {
   "cell_type": "code",
   "execution_count": 1,
   "metadata": {},
   "outputs": [
    {
     "data": {
      "text/plain": [
       "True"
      ]
     },
     "execution_count": 1,
     "metadata": {},
     "output_type": "execute_result"
    }
   ],
   "source": [
    "# two-pointer, time O(n), space O(1)\n",
    "class Solution:\n",
    "    def isSubsequence(self, s, t):\n",
    "        i, j = 0, 0\n",
    "        while i < len(s) and j < len(t):\n",
    "            if s[i] == t[j]:\n",
    "                i += 1\n",
    "            j += 1\n",
    "        return i == len(s)\n",
    "        \n",
    "s, t = \"abc\", \"ahbgdc\"\n",
    "ans = Solution()\n",
    "ans.isSubsequence(s, t)"
   ]
  },
  {
   "cell_type": "code",
   "execution_count": 2,
   "metadata": {},
   "outputs": [
    {
     "data": {
      "text/plain": [
       "True"
      ]
     },
     "execution_count": 2,
     "metadata": {},
     "output_type": "execute_result"
    }
   ],
   "source": [
    "# DP, time O(mn), space O(mn)\n",
    "class Solution:\n",
    "    def isSubsequence(self, s, t):\n",
    "        m, n = len(s), len(t)\n",
    "        dp = [[0] * (n+1) for _ in range(m+1)]\n",
    "        for i in range(1, m+1):\n",
    "            for j in range(1, n+1):\n",
    "                if s[i-1] == t[j-1]:\n",
    "                    dp[i][j] = dp[i-1][j-1] + 1\n",
    "                else:\n",
    "                    dp[i][j] = max(dp[i-1][j], dp[i][j-1])\n",
    "        return dp[-1][-1] == m\n",
    "        \n",
    "s, t = \"abc\", \"ahbgdc\"\n",
    "ans = Solution()\n",
    "ans.isSubsequence(s, t)"
   ]
  },
  {
   "cell_type": "code",
   "execution_count": 3,
   "metadata": {},
   "outputs": [
    {
     "data": {
      "text/plain": [
       "True"
      ]
     },
     "execution_count": 3,
     "metadata": {},
     "output_type": "execute_result"
    }
   ],
   "source": [
    "# DP, time O(), space O()\n",
    "class Solution:\n",
    "    def isSubsequence(self, s, t):\n",
    "        m, n = len(s), len(t)\n",
    "        dp = [{} for _ in range(n + 1)]\n",
    "        for i in range(n-1, -1, -1):\n",
    "            dp[i] = dp[i+1].copy()\n",
    "            dp[i][t[i]] = i + 1\n",
    "        i = 0\n",
    "        for c in s:\n",
    "            if c in dp[i]:\n",
    "                i = dp[i][c]\n",
    "            else:\n",
    "                return False\n",
    "        return True\n",
    "        \n",
    "s, t = \"abc\", \"ahbgdc\"\n",
    "ans = Solution()\n",
    "ans.isSubsequence(s, t)"
   ]
  },
  {
   "cell_type": "code",
   "execution_count": null,
   "metadata": {},
   "outputs": [],
   "source": []
  }
 ],
 "metadata": {
  "kernelspec": {
   "display_name": "Python 3",
   "language": "python",
   "name": "python3"
  },
  "language_info": {
   "codemirror_mode": {
    "name": "ipython",
    "version": 3
   },
   "file_extension": ".py",
   "mimetype": "text/x-python",
   "name": "python",
   "nbconvert_exporter": "python",
   "pygments_lexer": "ipython3",
   "version": "3.8.3"
  }
 },
 "nbformat": 4,
 "nbformat_minor": 4
}
