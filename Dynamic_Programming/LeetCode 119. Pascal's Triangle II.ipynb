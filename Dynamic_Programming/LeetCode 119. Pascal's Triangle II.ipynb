{
 "cells": [
  {
   "cell_type": "markdown",
   "metadata": {},
   "source": [
    "### 119. Pascal's Triangle II\n",
    "Given an integer rowIndex, return the rowIndexth (0-indexed) row of the Pascal's triangle.\n",
    "\n",
    "In Pascal's triangle, each number is the sum of the two numbers directly above it as shown:\n",
    "\n",
    "<img src='https://upload.wikimedia.org/wikipedia/commons/0/0d/PascalTriangleAnimated2.gif' width='200'><br>\n",
    "\n",
    "#### Example 1:\n",
    "- Input: rowIndex = 3\n",
    "- Output: [1,3,3,1]\n",
    "\n",
    "#### Example 2:\n",
    "- Input: rowIndex = 0\n",
    "- Output: [1]\n",
    "\n",
    "#### Example 3:\n",
    "- Input: rowIndex = 1\n",
    "- Output: [1,1]\n",
    " \n",
    "#### Constraints:\n",
    "- 0 <= rowIndex <= 33\n",
    "\n",
    "#### Difficulty:\n",
    "Easy\n",
    "\n",
    "https://leetcode.com/problems/pascals-triangle-ii/description/?envType=daily-question&envId=2023-10-16"
   ]
  },
  {
   "cell_type": "code",
   "execution_count": 10,
   "metadata": {},
   "outputs": [
    {
     "data": {
      "text/plain": [
       "[1, 3, 3, 1]"
      ]
     },
     "execution_count": 10,
     "metadata": {},
     "output_type": "execute_result"
    }
   ],
   "source": [
    "# DP, time O(n ** 2), space O(n)\n",
    "class Solution:\n",
    "    def getRow(self, rowIndex):\n",
    "        if rowIndex == 0:\n",
    "            return [1]\n",
    "        if rowIndex == 1:\n",
    "            return [1, 1]\n",
    "        dp = [1, 1]\n",
    "        for i in range(1, rowIndex+1):\n",
    "            new = [1]\n",
    "            for j in range(1, i):\n",
    "                new.append(dp[j-1] + dp[j])\n",
    "            new.append(1)\n",
    "            dp = new\n",
    "        return dp\n",
    "\n",
    "rowIndex = 3\n",
    "ans = Solution()\n",
    "ans.getRow(rowIndex)"
   ]
  },
  {
   "cell_type": "code",
   "execution_count": null,
   "metadata": {},
   "outputs": [],
   "source": []
  }
 ],
 "metadata": {
  "kernelspec": {
   "display_name": "Python 3",
   "language": "python",
   "name": "python3"
  },
  "language_info": {
   "codemirror_mode": {
    "name": "ipython",
    "version": 3
   },
   "file_extension": ".py",
   "mimetype": "text/x-python",
   "name": "python",
   "nbconvert_exporter": "python",
   "pygments_lexer": "ipython3",
   "version": "3.8.3"
  }
 },
 "nbformat": 4,
 "nbformat_minor": 4
}
