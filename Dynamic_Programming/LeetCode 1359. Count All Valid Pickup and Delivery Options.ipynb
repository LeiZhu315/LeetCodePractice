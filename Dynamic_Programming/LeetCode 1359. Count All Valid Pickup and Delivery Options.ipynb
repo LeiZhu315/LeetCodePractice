{
 "cells": [
  {
   "cell_type": "markdown",
   "metadata": {},
   "source": [
    "### 1359. Count All Valid Pickup and Delivery Options\n",
    "Given n orders, each order consist in pickup and delivery services. \n",
    "\n",
    "Count all valid pickup/delivery possible sequences such that delivery(i) is always after of pickup(i). \n",
    "\n",
    "Since the answer may be too large, return it modulo 10^9 + 7.\n",
    "\n",
    "#### Example 1:\n",
    "- Input: n = 1\n",
    "- Output: 1\n",
    "Explanation: Unique order (P1, D1), Delivery 1 always is after of Pickup 1.\n",
    "\n",
    "#### Example 2:\n",
    "- Input: n = 2\n",
    "- Output: 6\n",
    "- Explanation: All possible orders: \n",
    "(P1,P2,D1,D2), (P1,P2,D2,D1), (P1,D1,P2,D2), (P2,P1,D1,D2), (P2,P1,D2,D1) and (P2,D2,P1,D1).\n",
    "This is an invalid order (P1,D2,P2,D1) because Pickup 2 is after of Delivery 2.\n",
    "\n",
    "#### Example 3:\n",
    "- Input: n = 3\n",
    "- Output: 90\n",
    "\n",
    "#### Constraints:\n",
    "- 1 <= n <= 500\n",
    "\n",
    "- Difficualty: Hard\n",
    "\n",
    "https://leetcode.com/problems/count-all-valid-pickup-and-delivery-options/"
   ]
  },
  {
   "cell_type": "code",
   "execution_count": 1,
   "metadata": {},
   "outputs": [
    {
     "data": {
      "text/plain": [
       "90"
      ]
     },
     "execution_count": 1,
     "metadata": {},
     "output_type": "execute_result"
    }
   ],
   "source": [
    "# DP method, time O(n), space O(1)\n",
    "class Solution:\n",
    "    def countOrders(self, n: int) -> int:\n",
    "        mod = 10 ** 9 + 7\n",
    "        res = 1\n",
    "        for i in range(n):\n",
    "            space = 2 * i + 1\n",
    "            res = (res * space * (space + 1) // 2) % mod\n",
    "        return res\n",
    "    \n",
    "n = 3\n",
    "ans = Solution()\n",
    "ans.countOrders(n)"
   ]
  },
  {
   "cell_type": "code",
   "execution_count": 2,
   "metadata": {},
   "outputs": [
    {
     "data": {
      "text/plain": [
       "90"
      ]
     },
     "execution_count": 2,
     "metadata": {},
     "output_type": "execute_result"
    }
   ],
   "source": [
    "# Recursion + memorise, time O(n), space O(n)\n",
    "class Solution:\n",
    "    def __init__(self):\n",
    "        self.memo = {}\n",
    "    \n",
    "    def countOrders(self, n):\n",
    "        mod = 10 ** 9 + 7\n",
    "        if n == 1:\n",
    "            return 1\n",
    "        if n in self.memo:\n",
    "            return self.memo[n]\n",
    "        cnt = (self.countOrders(n - 1) * (2 * n - 1) * n) % mod\n",
    "        self.memo[n] = cnt\n",
    "        return cnt\n",
    "    \n",
    "n = 3\n",
    "ans = Solution()\n",
    "ans.countOrders(n)"
   ]
  },
  {
   "cell_type": "code",
   "execution_count": 3,
   "metadata": {},
   "outputs": [
    {
     "data": {
      "text/plain": [
       "2520"
      ]
     },
     "execution_count": 3,
     "metadata": {},
     "output_type": "execute_result"
    }
   ],
   "source": [
    "# combinational theory\n",
    "import math\n",
    "class Solution:\n",
    "    def countOrders(self, n):\n",
    "        import functools, operator, math\n",
    "        mod = 10 ** 9 + 7\n",
    "        # first decide pickup permutation = n!\n",
    "        pickup_permutation = math.factorial(n) % mod\n",
    "        # for each pickup posibility, \n",
    "        # the delivery permulation = 1 * 3 * ... * (2n-1) = (2n-1)! // 2^n\n",
    "        delivery_permutation = functools.reduce(operator.mul, range(1, 2*n, 2), 1) % mod\n",
    "        return (pickup_permutation * delivery_permutation) % mod\n",
    "    \n",
    "n = 4\n",
    "ans = Solution()\n",
    "ans.countOrders(n)"
   ]
  }
 ],
 "metadata": {
  "kernelspec": {
   "display_name": "Python 3",
   "language": "python",
   "name": "python3"
  },
  "language_info": {
   "codemirror_mode": {
    "name": "ipython",
    "version": 3
   },
   "file_extension": ".py",
   "mimetype": "text/x-python",
   "name": "python",
   "nbconvert_exporter": "python",
   "pygments_lexer": "ipython3",
   "version": "3.8.3"
  }
 },
 "nbformat": 4,
 "nbformat_minor": 4
}
