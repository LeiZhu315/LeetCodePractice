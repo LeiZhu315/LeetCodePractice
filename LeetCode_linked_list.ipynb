{
 "cells": [
  {
   "cell_type": "markdown",
   "metadata": {},
   "source": [
    "### 876. Middle of the Linked List\n",
    "Given the head of a singly linked list, return the middle node of the linked list. <br>\n",
    "If there are two middle nodes, return the second middle node."
   ]
  },
  {
   "cell_type": "code",
   "execution_count": null,
   "metadata": {},
   "outputs": [],
   "source": [
    "head = [1,2,3,4,5,6]\n",
    "\n",
    "class ListNode:\n",
    "    def __init__(self, val=0, next=None):\n",
    "        self.val = val\n",
    "        self.next = next\n",
    "class Solution(self. head: Optional[ListNode]) -> Optional[ListNode]:\n",
    "    slow, fast = head, head\n",
    "    while fast is not None and fast.next is not None:\n",
    "        slow = slow.next\n",
    "        fast = fast.next.next\n",
    "    return slow"
   ]
  },
  {
   "cell_type": "markdown",
   "metadata": {},
   "source": [
    "### 328. Odd Even Linked List\n",
    "Given the head of a singly linked list, group all the nodes with odd indices together followed by the nodes with even indices, and return the reordered list.<br>\n",
    "The first node is considered odd, and the second node is even, and so on.<br>\n",
    "Note that the relative order inside both the even and odd groups should remain as it was in the input.<br>\n",
    "You must solve the problem in O(1) extra space complexity and O(n) time complexity."
   ]
  },
  {
   "cell_type": "code",
   "execution_count": null,
   "metadata": {},
   "outputs": [],
   "source": [
    "head = [2,1,3,5,6,4,7]\n",
    "class Solution:\n",
    "    def oddEvenList(self, head: Optional[ListNode]) -> Optional[ListNode]:\n",
    "        if not head or not head.next: return head\n",
    "        odd = head\n",
    "        even = head.next\n",
    "        evenHead = even\n",
    "        while odd and even and odd.next and even.next:\n",
    "            odd.next = even.next\n",
    "            odd = odd.next\n",
    "            even.next = odd.next\n",
    "            even = even.next\n",
    "        odd.next = evenHead\n",
    "        return head\n",
    "\n",
    "class Solution2:\n",
    "    def oddEvenList(self, head: Optional[ListNode]) -> Optional[ListNode]:\n",
    "        if not head or not head.next: return head\n",
    "        dummy1 = odd = ListNode(0)\n",
    "        dummy2 = even = ListNode(0)\n",
    "        i = 1\n",
    "        while head:\n",
    "            if i % 2:\n",
    "                odd.next = head\n",
    "                odd = head\n",
    "            else:\n",
    "                even.next = head\n",
    "                even = head\n",
    "            head = head.next\n",
    "            i += 1\n",
    "        odd.next = dummy2\n",
    "        even.next = None\n",
    "        return dummy1.next\n"
   ]
  }
 ],
 "metadata": {
  "kernelspec": {
   "display_name": "Python 3",
   "language": "python",
   "name": "python3"
  },
  "language_info": {
   "codemirror_mode": {
    "name": "ipython",
    "version": 3
   },
   "file_extension": ".py",
   "mimetype": "text/x-python",
   "name": "python",
   "nbconvert_exporter": "python",
   "pygments_lexer": "ipython3",
   "version": "3.7.1"
  }
 },
 "nbformat": 4,
 "nbformat_minor": 2
}
