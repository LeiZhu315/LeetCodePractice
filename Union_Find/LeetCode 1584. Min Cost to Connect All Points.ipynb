{
 "cells": [
  {
   "cell_type": "markdown",
   "metadata": {},
   "source": [
    "### 1584. Min Cost to Connect All Points\n",
    "You are given an array points representing integer coordinates of some points on a 2D-plane, where points[i] = [xi, yi].\n",
    "\n",
    "The cost of connecting two points [xi, yi] and [xj, yj] is the manhattan distance between them: |xi - xj| + |yi - yj|, where |val| denotes the absolute value of val.\n",
    "\n",
    "Return the minimum cost to make all points connected. All points are connected if there is exactly one simple path between any two points.\n",
    "\n",
    "#### Example 1:\n",
    "<img src='https://assets.leetcode.com/uploads/2020/08/26/d.png' width=200> <br>\n",
    "- Input: points = [[0,0],[2,2],[3,10],[5,2],[7,0]]\n",
    "- Output: 20\n",
    "- Explanation: <br>\n",
    "<img src='https://assets.leetcode.com/uploads/2020/08/26/c.png' width=200>\n",
    "\n",
    "#### Example 2:\n",
    "- Input: points = [[3,12],[-2,5],[-4,1]]\n",
    "- Output: 18\n",
    " \n",
    "#### Constraints:\n",
    "- 1 <= points.length <= 1000\n",
    "- -106 <= xi, yi <= 106\n",
    "- All pairs (xi, yi) are distinct.\n",
    "\n",
    "#### Difficulty:\n",
    "Medium\n",
    "\n",
    "https://leetcode.com/problems/min-cost-to-connect-all-points/description/?envType=daily-question&envId=2023-09-15"
   ]
  },
  {
   "cell_type": "code",
   "execution_count": 1,
   "metadata": {},
   "outputs": [
    {
     "data": {
      "text/plain": [
       "20"
      ]
     },
     "execution_count": 1,
     "metadata": {},
     "output_type": "execute_result"
    }
   ],
   "source": [
    "# Brute-force, time O(v ** 2 * e), space O(e), \n",
    "# where v:vertices, e:edges\n",
    "class Solution:\n",
    "    def minCostConnectPoints(self, points):\n",
    "        cost = 0\n",
    "        visited = []\n",
    "        for i in range(len(points)):\n",
    "            costi = float('inf')\n",
    "            for j in range(len(points)):\n",
    "                if i != j and (i, j) not in visited and (j, i) not in visited:\n",
    "                    dist = (abs(points[i][0] - points[j][0]) \n",
    "                            + abs(points[i][1] - points[j][1]))\n",
    "                    if costi > dist:\n",
    "                        curr_points = (i, j)\n",
    "                        costi = dist\n",
    "            visited.append(curr_points)\n",
    "            visited.append((curr_points[1], curr_points[1]))\n",
    "            cost += costi\n",
    "            if len(visited) == 2 * (len(points) - 1):\n",
    "                break\n",
    "        return cost\n",
    "\n",
    "points = [[0,0],[2,2],[3,10],[5,2],[7,0]]\n",
    "ans = Solution()\n",
    "ans.minCostConnectPoints(points)"
   ]
  },
  {
   "cell_type": "code",
   "execution_count": 2,
   "metadata": {},
   "outputs": [
    {
     "data": {
      "text/plain": [
       "20"
      ]
     },
     "execution_count": 2,
     "metadata": {},
     "output_type": "execute_result"
    }
   ],
   "source": [
    "# Kruskal's Algo + Union Find, time O(n**2 8 logn), space O(n**2)\n",
    "# Create UnionFind data structure\n",
    "class unionFind:\n",
    "    def __init__(self, n):\n",
    "        self.rank = [0 for _ in range(n)]\n",
    "        self.root = [i for i in range(n)]\n",
    "        \n",
    "    def find(self, x):\n",
    "        if self.root[x] != x:\n",
    "            self.root[x] = self.find(self.root[x])\n",
    "        return self.root[x]\n",
    "    \n",
    "    def union(self, x, y):\n",
    "        rootX, rootY = self.find(x), self.find(y)\n",
    "        if rootX == rootY:\n",
    "            return False\n",
    "        if self.rank[rootX] > self.rank[rootY]:\n",
    "            self.root[rootY] = rootX\n",
    "        elif self.rank[rootY] > self.rank[rootX]:\n",
    "            self.root[rootX] = rootY\n",
    "        else:\n",
    "            self.root[rootX] = rootY\n",
    "            self.rank[rootY] += 1\n",
    "            \n",
    "        return True\n",
    "    \n",
    "    \n",
    "class Solution:\n",
    "    def manDist(self, p1, p2):\n",
    "        return abs(p1[0] - p2[0]) + abs(p1[1] - p2[1])\n",
    "    \n",
    "    def minCostConnectPoints(self, points):\n",
    "        import heapq\n",
    "        n = len(points)\n",
    "        uf = unionFind(n)\n",
    "        \n",
    "        edges = []\n",
    "        \n",
    "        for i in range(n):\n",
    "            for j in range(i+1, n):\n",
    "                dist = self.manDist(points[i], points[j])\n",
    "                heapq.heappush(edges, (dist, i, j))\n",
    "        \n",
    "        min_dist = 0\n",
    "        connected_edges = 0\n",
    "        \n",
    "        while edges:\n",
    "            # pop out the edge with smallest weight \n",
    "            w, u, v = heapq.heappop(edges)\n",
    "            if uf.union(u, v):\n",
    "                # if u and v are not connected\n",
    "                min_dist += w\n",
    "                connected_edges += 1\n",
    "                if connected_edges == n - 1:\n",
    "                    # early termination condition\n",
    "                    break\n",
    "                    \n",
    "        return min_dist\n",
    "        \n",
    "\n",
    "points = [[0,0],[2,2],[3,10],[5,2],[7,0]]\n",
    "ans = Solution()\n",
    "ans.minCostConnectPoints(points)"
   ]
  },
  {
   "cell_type": "code",
   "execution_count": 3,
   "metadata": {},
   "outputs": [
    {
     "data": {
      "text/plain": [
       "20"
      ]
     },
     "execution_count": 3,
     "metadata": {},
     "output_type": "execute_result"
    }
   ],
   "source": [
    "# Prim's Algo to find min spanning tree, start from arbitrary node\n",
    "# and greedily chooses the edge with the smallest weight that \n",
    "# connects a visited node and an unvisited node\n",
    "# time O(n**2 * logn), space O(n)\n",
    "class Solution:\n",
    "    def manDist(self, p1, p2):\n",
    "        return abs(p1[0] - p2[0]) + abs(p1[1] - p2[1])\n",
    "    \n",
    "    def minCostConnectPoints(self, points):\n",
    "        import heapq\n",
    "        n = len(points)\n",
    "        visited = [False] * n\n",
    "        heap_dict = {0: 0}\n",
    "        min_heap = [(0, 0)]\n",
    "        \n",
    "        min_dist = 0\n",
    "        \n",
    "        while min_heap:\n",
    "            w, u = heapq.heappop(min_heap)\n",
    "            if visited[u] or heap_dict.get(u, float('inf')) < w:\n",
    "                continue\n",
    "                \n",
    "            visited[u] = True\n",
    "            min_dist += w\n",
    "            \n",
    "            for v in range(n):\n",
    "                if not visited[v]:\n",
    "                    new_dist = self.manDist(points[u], points[v])\n",
    "                    if new_dist < heap_dict.get(v, float('inf')):\n",
    "                        heap_dict[v] = new_dist\n",
    "                        heapq.heappush(min_heap, (new_dist, v))\n",
    "        \n",
    "        return min_dist\n",
    "\n",
    "points = [[0,0],[2,2],[3,10],[5,2],[7,0]]\n",
    "ans = Solution()\n",
    "ans.minCostConnectPoints(points)"
   ]
  },
  {
   "cell_type": "code",
   "execution_count": null,
   "metadata": {},
   "outputs": [],
   "source": []
  }
 ],
 "metadata": {
  "kernelspec": {
   "display_name": "Python 3",
   "language": "python",
   "name": "python3"
  },
  "language_info": {
   "codemirror_mode": {
    "name": "ipython",
    "version": 3
   },
   "file_extension": ".py",
   "mimetype": "text/x-python",
   "name": "python",
   "nbconvert_exporter": "python",
   "pygments_lexer": "ipython3",
   "version": "3.8.3"
  }
 },
 "nbformat": 4,
 "nbformat_minor": 4
}
