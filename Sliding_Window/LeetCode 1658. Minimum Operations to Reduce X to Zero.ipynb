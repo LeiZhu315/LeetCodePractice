{
 "cells": [
  {
   "cell_type": "markdown",
   "metadata": {},
   "source": [
    "### 1658. Minimum Operations to Reduce X to Zero\n",
    "You are given an integer array nums and an integer x. In one operation, you can either remove the leftmost or the rightmost element from the array nums and subtract its value from x. Note that this modifies the array for future operations.\n",
    "\n",
    "Return the minimum number of operations to reduce x to exactly 0 if it is possible, otherwise, return -1.\n",
    "\n",
    "#### Example 1:\n",
    "- Input: nums = [1,1,4,2,3], x = 5\n",
    "- Output: 2\n",
    "- Explanation: The optimal solution is to remove the last two elements to reduce x to zero.\n",
    "\n",
    "#### Example 2:\n",
    "- Input: nums = [5,6,7,8,9], x = 4\n",
    "- Output: -1\n",
    "\n",
    "#### Example 3:\n",
    "- Input: nums = [3,2,20,1,1,3], x = 10\n",
    "- Output: 5\n",
    "- Explanation: The optimal solution is to remove the last three elements and the first two elements (5 operations in total) to reduce x to zero.\n",
    " \n",
    "#### Constraints:\n",
    "- 1 <= nums.length <= 105\n",
    "- 1 <= nums[i] <= 104\n",
    "- 1 <= x <= 109\n",
    "\n",
    "#### Difficulty:\n",
    "Medium\n",
    "\n",
    "https://leetcode.com/problems/minimum-operations-to-reduce-x-to-zero/description/?envType=daily-question&envId=2023-09-20"
   ]
  },
  {
   "cell_type": "code",
   "execution_count": 1,
   "metadata": {},
   "outputs": [
    {
     "data": {
      "text/plain": [
       "5"
      ]
     },
     "execution_count": 1,
     "metadata": {},
     "output_type": "execute_result"
    }
   ],
   "source": [
    "# Prefix sum + sliding window, time O(n), space O(1)\n",
    "class Solution:\n",
    "    def minOperations(self, nums, x):\n",
    "        # looking for the longest subarray that \n",
    "        # the sum of the whole list - the sum of the sum of the subarray = x\n",
    "        n = len(nums) \n",
    "        s = sum(nums) \n",
    "        target = s - x \n",
    "        if target == 0:\n",
    "            return n\n",
    "        if target < 0:\n",
    "            return -1\n",
    "        \n",
    "        prefix = 0\n",
    "        left = 0 # left pointer\n",
    "        res = -1\n",
    "        \n",
    "        for right in range(n):\n",
    "            prefix += nums[right]\n",
    "            while prefix > target and left <= right:\n",
    "                prefix -= nums[left]\n",
    "                left += 1\n",
    "            if prefix == target:\n",
    "                res = max(res, right - left + 1)\n",
    "                \n",
    "        return res if res == -1 else n - res\n",
    "\n",
    "nums = [3,2,20,1,1,3]\n",
    "x = 10\n",
    "ans = Solution()\n",
    "ans.minOperations(nums, x)"
   ]
  },
  {
   "cell_type": "code",
   "execution_count": 2,
   "metadata": {},
   "outputs": [
    {
     "data": {
      "text/plain": [
       "5"
      ]
     },
     "execution_count": 2,
     "metadata": {},
     "output_type": "execute_result"
    }
   ],
   "source": [
    "# Hash table, time O(n), space O(n)\n",
    "class Solution:\n",
    "    def minOperations(self, nums, x):\n",
    "        mp = {0: 0}\n",
    "        prefix = 0\n",
    "        for i, num in enumerate(nums, 1):\n",
    "            prefix += num\n",
    "            mp[prefix] = i\n",
    "            \n",
    "        res = mp.get(x, float('inf'))\n",
    "        \n",
    "        for i, num in enumerate(reversed(nums), 1):\n",
    "            x -= num\n",
    "            if x in mp and mp[x] + i <= len(nums):\n",
    "                res = min(res, i + mp[x])\n",
    "                \n",
    "        return res if res < float('inf') else -1\n",
    "        \n",
    "nums = [3,2,20,1,1,3]\n",
    "x = 10\n",
    "ans = Solution()\n",
    "ans.minOperations(nums, x)"
   ]
  },
  {
   "cell_type": "code",
   "execution_count": null,
   "metadata": {},
   "outputs": [],
   "source": []
  }
 ],
 "metadata": {
  "kernelspec": {
   "display_name": "Python 3",
   "language": "python",
   "name": "python3"
  },
  "language_info": {
   "codemirror_mode": {
    "name": "ipython",
    "version": 3
   },
   "file_extension": ".py",
   "mimetype": "text/x-python",
   "name": "python",
   "nbconvert_exporter": "python",
   "pygments_lexer": "ipython3",
   "version": "3.8.3"
  }
 },
 "nbformat": 4,
 "nbformat_minor": 4
}
