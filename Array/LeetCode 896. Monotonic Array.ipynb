{
 "cells": [
  {
   "cell_type": "markdown",
   "metadata": {},
   "source": [
    "### 896. Monotonic Array\n",
    "An array is monotonic if it is either monotone increasing or monotone decreasing.\n",
    "\n",
    "An array nums is monotone increasing if for all i <= j, nums[i] <= nums[j]. An array nums is monotone decreasing if for all i <= j, nums[i] >= nums[j].\n",
    "\n",
    "Given an integer array nums, return true if the given array is monotonic, or false otherwise.\n",
    "\n",
    "#### Example 1:\n",
    "- Input: nums = [1,2,2,3]\n",
    "- Output: true\n",
    "\n",
    "#### Example 2:\n",
    "- Input: nums = [6,5,4,4]\n",
    "- Output: true\n",
    "\n",
    "#### Example 3:\n",
    "- Input: nums = [1,3,2]\n",
    "- Output: false\n",
    "\n",
    "#### Constraints:\n",
    "- 1 <= nums.length <= 105\n",
    "- -105 <= nums[i] <= 105\n",
    "\n",
    "#### Difficulty:\n",
    "Easy\n",
    "\n",
    "https://leetcode.com/problems/monotonic-array/description/?envType=daily-question&envId=2023-09-29"
   ]
  },
  {
   "cell_type": "code",
   "execution_count": 2,
   "metadata": {},
   "outputs": [
    {
     "data": {
      "text/plain": [
       "True"
      ]
     },
     "execution_count": 2,
     "metadata": {},
     "output_type": "execute_result"
    }
   ],
   "source": [
    "# Time O(n), Space O(1)\n",
    "class Solution:\n",
    "    def isMonotonic(self, nums):\n",
    "        n = len(nums)\n",
    "        if n == 1:\n",
    "            return True\n",
    "        for i in range(n-1):\n",
    "            if nums[i] != nums[i+1]:\n",
    "                break\n",
    "        if nums[i] < nums[i+1]: # monotonically increasing\n",
    "            for j in range(i, n-1):\n",
    "                if nums[i] > nums[i+1]:\n",
    "                    return False\n",
    "        else: # monotonically decreasing\n",
    "            for j in range(i, n-1):\n",
    "                if nums[i] < nums[i+1]:\n",
    "                    return False\n",
    "        return True\n",
    "        \n",
    "        \n",
    "nums = [1,1,1,1,3,4]\n",
    "ans = Solution()\n",
    "ans.isMonotonic(nums)"
   ]
  },
  {
   "cell_type": "code",
   "execution_count": 4,
   "metadata": {},
   "outputs": [
    {
     "data": {
      "text/plain": [
       "True"
      ]
     },
     "execution_count": 4,
     "metadata": {},
     "output_type": "execute_result"
    }
   ],
   "source": [
    "# Time O(n), Space O(1)\n",
    "class Solution:\n",
    "    def isMonotonic(self, nums):\n",
    "        n = len(nums)\n",
    "        if n <= 2:\n",
    "            return True\n",
    "        direction = 0\n",
    "        for i in range(1, n):\n",
    "            if nums[i-1] < nums[i]:\n",
    "                if direction == 0:\n",
    "                    direction = 1\n",
    "                elif direction == -1:\n",
    "                    return False\n",
    "            elif nums[i-1] > nums[i]:\n",
    "                if direction == 0:\n",
    "                    direction = -1\n",
    "                elif diretcion == 1:\n",
    "                    return False\n",
    "        return True\n",
    "        \n",
    "        \n",
    "nums = [1,1,1,1,3,4]\n",
    "ans = Solution()\n",
    "ans.isMonotonic(nums)"
   ]
  },
  {
   "cell_type": "code",
   "execution_count": 3,
   "metadata": {},
   "outputs": [
    {
     "data": {
      "text/plain": [
       "True"
      ]
     },
     "execution_count": 3,
     "metadata": {},
     "output_type": "execute_result"
    }
   ],
   "source": [
    "# Sorting, Time O(nlogn), Space O(1)\n",
    "class Solution:\n",
    "    def isMonotonic(self, nums):\n",
    "        return sorted(nums) == nums\n",
    "        \n",
    "nums = [1,1,1,1,3,4]\n",
    "ans = Solution()\n",
    "ans.isMonotonic(nums)"
   ]
  },
  {
   "cell_type": "code",
   "execution_count": 8,
   "metadata": {},
   "outputs": [
    {
     "data": {
      "text/plain": [
       "True"
      ]
     },
     "execution_count": 8,
     "metadata": {},
     "output_type": "execute_result"
    }
   ],
   "source": [
    "# Time O(n), Space O(1)\n",
    "class Solution:\n",
    "    def isMonotonic(self, nums):\n",
    "        return (all(nums[i] <= nums[i+1] for i in range(len(nums)-1)) \n",
    "                or all(nums[i]>=nums[i+1] for i in range(len(nums)-1)))\n",
    "        \n",
    "nums = [1,1,1,1,3,4]\n",
    "ans = Solution()\n",
    "ans.isMonotonic(nums)"
   ]
  },
  {
   "cell_type": "code",
   "execution_count": null,
   "metadata": {},
   "outputs": [],
   "source": []
  }
 ],
 "metadata": {
  "kernelspec": {
   "display_name": "Python 3",
   "language": "python",
   "name": "python3"
  },
  "language_info": {
   "codemirror_mode": {
    "name": "ipython",
    "version": 3
   },
   "file_extension": ".py",
   "mimetype": "text/x-python",
   "name": "python",
   "nbconvert_exporter": "python",
   "pygments_lexer": "ipython3",
   "version": "3.8.3"
  }
 },
 "nbformat": 4,
 "nbformat_minor": 4
}
