{
 "cells": [
  {
   "cell_type": "markdown",
   "metadata": {},
   "source": [
    "### 880. Decoded String at Index\n",
    "You are given an encoded string s. To decode the string to a tape, the encoded string is read one character at a time and the following steps are taken:\n",
    "\n",
    "If the character read is a letter, that letter is written onto the tape.\n",
    "If the character read is a digit d, the entire current tape is repeatedly written d - 1 more times in total.\n",
    "Given an integer k, return the kth letter (1-indexed) in the decoded string.\n",
    "\n",
    "#### Example 1:\n",
    "- Input: s = \"leet2code3\", k = 10\n",
    "- Output: \"o\"\n",
    "- Explanation: The decoded string is \"leetleetcodeleetleetcodeleetleetcode\". The 10th letter in the string is \"o\".\n",
    "\n",
    "#### Example 2:\n",
    "- Input: s = \"ha22\", k = 5\n",
    "Output: \"h\"\n",
    "- Explanation: The decoded string is \"hahahaha\".\n",
    "- The 5th letter is \"h\".\n",
    "\n",
    "#### Example 3:\n",
    "- Input: s = \"a2345678999999999999999\", k = 1\n",
    "- Output: \"a\"\n",
    "- Explanation: The decoded string is \"a\" repeated 8301530446056247680 times. The 1st letter is \"a\".\n",
    " \n",
    "#### Constraints:\n",
    "- 2 <= s.length <= 100\n",
    "- s consists of lowercase English letters and digits 2 through 9.\n",
    "- s starts with a letter.\n",
    "- 1 <= k <= 109\n",
    "- It is guaranteed that k is less than or equal to the length of the decoded string.\n",
    "- The decoded string is guaranteed to have less than 263 letters.\n",
    "\n",
    "#### Difficulty:\n",
    "Medium\n",
    " \n",
    "https://leetcode.com/problems/decoded-string-at-index/description/?envType=daily-question&envId=2023-09-27"
   ]
  },
  {
   "cell_type": "code",
   "execution_count": 22,
   "metadata": {},
   "outputs": [
    {
     "data": {
      "text/plain": [
       "'o'"
      ]
     },
     "execution_count": 22,
     "metadata": {},
     "output_type": "execute_result"
    }
   ],
   "source": [
    "# Modulo, time O(n), space O(1)\n",
    "class Solution:\n",
    "    def decodeAtIndex(self, s, k):\n",
    "        length = 0\n",
    "        i = 0\n",
    "        \n",
    "        # traversal the string searching for index i \n",
    "        # to form a decoded string with current length >= k\n",
    "        while length < k:\n",
    "            if s[i].isdigit():\n",
    "                length *= int(s[i])\n",
    "            else:\n",
    "                length += 1\n",
    "            i += 1\n",
    "        \n",
    "        # inverse travelsal the string from index i,\n",
    "        # simulating the decoding process\n",
    "        for j in range(i-1, -1, -1):\n",
    "            if s[j].isdigit():\n",
    "                length //= s[j]\n",
    "                k %= length\n",
    "            else:\n",
    "                if k == 0 or k == length:\n",
    "                    return s[j]\n",
    "                length -= 1\n",
    "        \n",
    "s = \"leet2code3\"\n",
    "k = 10\n",
    "ans = Solution()\n",
    "ans.decodeAtIndex(s, k)"
   ]
  },
  {
   "cell_type": "code",
   "execution_count": 31,
   "metadata": {},
   "outputs": [
    {
     "data": {
      "text/plain": [
       "'o'"
      ]
     },
     "execution_count": 31,
     "metadata": {},
     "output_type": "execute_result"
    }
   ],
   "source": [
    "# Stack, time O(n), space O(n)\n",
    "class Solution:\n",
    "    def decodeAtIndex(self, s, k):\n",
    "        length = [0]\n",
    "        \n",
    "        for i in range(len(s)):\n",
    "            if s[i].isdigit():\n",
    "                l = length[-1] * int(s[i])\n",
    "            else:\n",
    "                l = length[-1] + 1\n",
    "            length.append(l)\n",
    "        \n",
    "        n = len(length)\n",
    "        \n",
    "        while length:\n",
    "            k %= length[-1]\n",
    "            n -= 1\n",
    "            if k == 0 and s[n-1].isalpha():\n",
    "                return s[n-1]\n",
    "            length.pop()\n",
    "                \n",
    "        \n",
    "s = \"leet2code3\"\n",
    "k = 10\n",
    "ans = Solution()\n",
    "ans.decodeAtIndex(s, k)"
   ]
  },
  {
   "cell_type": "code",
   "execution_count": null,
   "metadata": {},
   "outputs": [],
   "source": []
  }
 ],
 "metadata": {
  "kernelspec": {
   "display_name": "Python 3",
   "language": "python",
   "name": "python3"
  },
  "language_info": {
   "codemirror_mode": {
    "name": "ipython",
    "version": 3
   },
   "file_extension": ".py",
   "mimetype": "text/x-python",
   "name": "python",
   "nbconvert_exporter": "python",
   "pygments_lexer": "ipython3",
   "version": "3.8.3"
  }
 },
 "nbformat": 4,
 "nbformat_minor": 4
}
