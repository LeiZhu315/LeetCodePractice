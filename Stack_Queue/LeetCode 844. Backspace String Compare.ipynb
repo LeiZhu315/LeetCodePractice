{
 "cells": [
  {
   "cell_type": "markdown",
   "metadata": {},
   "source": [
    "### 844. Backspace String Compare\n",
    "Given two strings s and t, return true if they are equal when both are typed into empty text editors. '#' means a backspace character.\n",
    "\n",
    "Note that after backspacing an empty text, the text will continue empty.\n",
    "\n",
    "#### Example 1:\n",
    "- Input: s = \"ab#c\", t = \"ad#c\"\n",
    "- Output: true\n",
    "- Explanation: Both s and t become \"ac\".\n",
    "\n",
    "#### Example 2:\n",
    "- Input: s = \"ab##\", t = \"c#d#\"\n",
    "- Output: true\n",
    "- Explanation: Both s and t become \"\".\n",
    "\n",
    "#### Example 3:\n",
    "- Input: s = \"a#c\", t = \"b\"\n",
    "- Output: false\n",
    "- Explanation: s becomes \"c\" while t becomes \"b\".\n",
    "\n",
    "#### Constraints:\n",
    "- 1 <= s.length, t.length <= 200\n",
    "- s and t only contain lowercase letters and '#' characters.\n",
    "\n",
    "#### Difficulty:\n",
    "Easy\n",
    "\n",
    "https://leetcode.com/problems/backspace-string-compare/description/?envType=daily-question&envId=2023-10-19"
   ]
  },
  {
   "cell_type": "code",
   "execution_count": 2,
   "metadata": {},
   "outputs": [
    {
     "data": {
      "text/plain": [
       "False"
      ]
     },
     "execution_count": 2,
     "metadata": {},
     "output_type": "execute_result"
    }
   ],
   "source": [
    "# Stack, time O(n), space O(n)\n",
    "class Solution:\n",
    "    def backspaceCompare(self, s, t):\n",
    "        res1, res2 = [], []\n",
    "        \n",
    "        for c in s:\n",
    "            if c != '#':\n",
    "                res1.append(c)\n",
    "            elif len(res1) != 0:\n",
    "                res1.pop()\n",
    "                \n",
    "        for c in t:\n",
    "            if c != '#':\n",
    "                res2.append(c)\n",
    "            elif len(res2) != 0:\n",
    "                res2.pop()\n",
    "                \n",
    "        res1, res2 = ''.join(res1), ''.join(res2)\n",
    "        return res1 == res2\n",
    "        \n",
    "        \n",
    "s, t = \"a#c\", \"b\"\n",
    "ans = Solution()\n",
    "ans.backspaceCompare(s, t)"
   ]
  },
  {
   "cell_type": "code",
   "execution_count": 37,
   "metadata": {},
   "outputs": [
    {
     "name": "stdout",
     "output_type": "stream",
     "text": [
      "['c', 'b', 'a', '#', '#', '#', 'c'] ['b'] 1 1\n"
     ]
    },
    {
     "data": {
      "text/plain": [
       "False"
      ]
     },
     "execution_count": 37,
     "metadata": {},
     "output_type": "execute_result"
    }
   ],
   "source": [
    "# Two-pointer, time O(n), space O(1)\n",
    "class Solution:\n",
    "    def backspaceCompare(self, s, t):\n",
    "        \n",
    "        def processString(string):\n",
    "            k = 0\n",
    "            for i in range(len(string)):\n",
    "                if string[i] != '#':\n",
    "                    string[k] = string[i]\n",
    "                    k += 1\n",
    "                else:\n",
    "                    k = max(0, k - 1)\n",
    "            return k\n",
    "        \n",
    "        s, t = list(s), list(t)\n",
    "        \n",
    "        k, p = processString(s), processString(t)\n",
    "        print(s, t, k, p)\n",
    "        \n",
    "        if k != p:\n",
    "            return False\n",
    "        \n",
    "        for i in range(k):\n",
    "            if s[i] != t[i]:\n",
    "                return False\n",
    "        return True\n",
    "        \n",
    "        \n",
    "s, t = \"bba###c\", \"b\"\n",
    "ans = Solution()\n",
    "ans.backspaceCompare(s, t)"
   ]
  },
  {
   "cell_type": "code",
   "execution_count": 40,
   "metadata": {},
   "outputs": [
    {
     "name": "stdout",
     "output_type": "stream",
     "text": [
      "comparing:  b b\n"
     ]
    },
    {
     "data": {
      "text/plain": [
       "True"
      ]
     },
     "execution_count": 40,
     "metadata": {},
     "output_type": "execute_result"
    }
   ],
   "source": [
    "# Two-pointer, time O(n), space O(1)\n",
    "class Solution:\n",
    "    def backspaceCompare(self, s, t):\n",
    "        i, j = len(s)-1, len(t)-1\n",
    "        skipS, skipT = 0, 0\n",
    "        \n",
    "        while i >= 0 or j >=0:\n",
    "            while i >= 0:\n",
    "                if s[i] == '#':\n",
    "                    skipS += 1\n",
    "                    i -= 1\n",
    "                elif skipS > 0:\n",
    "                    skipS -= 1\n",
    "                    i -= 1\n",
    "                else:\n",
    "                    break\n",
    "            while j >= 0:\n",
    "                if t[j] == '#':\n",
    "                    skipT += 1\n",
    "                    j -= 1\n",
    "                elif skipT > 0:\n",
    "                    skipT -= 1\n",
    "                    j -= 1\n",
    "                else:\n",
    "                    break\n",
    "            print('comparing: ', s[i], t[j])\n",
    "            if i >= 0 and j >= 0 and s[i] != t[j]:\n",
    "                return False\n",
    "            if (i >= 0) != (j >= 0):\n",
    "                return False\n",
    "            i -= 1\n",
    "            j -= 1\n",
    "            \n",
    "        return True\n",
    "        \n",
    "        \n",
    "s, t = \"bba##\", \"b\"\n",
    "ans = Solution()\n",
    "ans.backspaceCompare(s, t)"
   ]
  },
  {
   "cell_type": "code",
   "execution_count": null,
   "metadata": {},
   "outputs": [],
   "source": []
  }
 ],
 "metadata": {
  "kernelspec": {
   "display_name": "Python 3",
   "language": "python",
   "name": "python3"
  },
  "language_info": {
   "codemirror_mode": {
    "name": "ipython",
    "version": 3
   },
   "file_extension": ".py",
   "mimetype": "text/x-python",
   "name": "python",
   "nbconvert_exporter": "python",
   "pygments_lexer": "ipython3",
   "version": "3.8.3"
  }
 },
 "nbformat": 4,
 "nbformat_minor": 4
}
