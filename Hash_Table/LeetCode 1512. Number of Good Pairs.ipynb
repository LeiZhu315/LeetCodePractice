{
 "cells": [
  {
   "cell_type": "markdown",
   "metadata": {},
   "source": [
    "### 1512. Number of Good Pairs\n",
    "Given an array of integers nums, return the number of good pairs.\n",
    "\n",
    "A pair (i, j) is called good if nums[i] == nums[j] and i < j.\n",
    "\n",
    "#### Example 1:\n",
    "- Input: nums = [1,2,3,1,1,3]\n",
    "- Output: 4\n",
    "- Explanation: There are 4 good pairs (0,3), (0,4), (3,4), (2,5) 0-indexed.\n",
    "\n",
    "#### Example 2:\n",
    "- Input: nums = [1,1,1,1]\n",
    "- Output: 6\n",
    "- Explanation: Each pair in the array are good.\n",
    "\n",
    "#### Example 3:\n",
    "- Input: nums = [1,2,3]\n",
    "- Output: 0\n",
    " \n",
    "#### Constraints:\n",
    "- 1 <= nums.length <= 100\n",
    "- 1 <= nums[i] <= 100\n",
    "\n",
    "#### Difficulty:\n",
    "Easy\n",
    "\n",
    "https://leetcode.com/problems/number-of-good-pairs/description/?envType=daily-question&envId=2023-10-02"
   ]
  },
  {
   "cell_type": "code",
   "execution_count": 2,
   "metadata": {},
   "outputs": [
    {
     "data": {
      "text/plain": [
       "4"
      ]
     },
     "execution_count": 2,
     "metadata": {},
     "output_type": "execute_result"
    }
   ],
   "source": [
    "# Hash table, time O(n), space O(n)\n",
    "class Solution:\n",
    "    def numIdenticalPairs(self, nums):\n",
    "        hsh = {}\n",
    "        for i in nums:\n",
    "            if i in hsh:\n",
    "                hsh[i] += 1\n",
    "            else:\n",
    "                hsh[i] = 1\n",
    "        res = 0\n",
    "        for i in hsh:\n",
    "            if hsh[i] > 1:\n",
    "                increment = ((hsh[i] - 1) * hsh[i]) // 2\n",
    "                res += increment\n",
    "        return res\n",
    "    \n",
    "nums = [1,2,3,1,1,3]\n",
    "ans = Solution()\n",
    "ans.numIdenticalPairs(nums)"
   ]
  },
  {
   "cell_type": "code",
   "execution_count": 5,
   "metadata": {},
   "outputs": [
    {
     "data": {
      "text/plain": [
       "4"
      ]
     },
     "execution_count": 5,
     "metadata": {},
     "output_type": "execute_result"
    }
   ],
   "source": [
    "class Solution:\n",
    "    def numIdenticalPairs(self, nums):\n",
    "        hsh = {}\n",
    "        res = 0\n",
    "        for i in nums:\n",
    "            if i in hsh:\n",
    "                res += hsh[i]\n",
    "                hsh[i] += 1\n",
    "            else:\n",
    "                hsh[i] = 1\n",
    "        return res\n",
    "    \n",
    "nums = [1,2,3,1,1,3]\n",
    "ans = Solution()\n",
    "ans.numIdenticalPairs(nums)"
   ]
  },
  {
   "cell_type": "code",
   "execution_count": null,
   "metadata": {},
   "outputs": [],
   "source": []
  }
 ],
 "metadata": {
  "kernelspec": {
   "display_name": "Python 3",
   "language": "python",
   "name": "python3"
  },
  "language_info": {
   "codemirror_mode": {
    "name": "ipython",
    "version": 3
   },
   "file_extension": ".py",
   "mimetype": "text/x-python",
   "name": "python",
   "nbconvert_exporter": "python",
   "pygments_lexer": "ipython3",
   "version": "3.8.3"
  }
 },
 "nbformat": 4,
 "nbformat_minor": 4
}
