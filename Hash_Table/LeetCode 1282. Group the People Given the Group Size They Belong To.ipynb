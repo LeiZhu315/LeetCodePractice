{
 "cells": [
  {
   "cell_type": "markdown",
   "metadata": {},
   "source": [
    "### 1282. Group the People Given the Group Size They Belong To\n",
    "\n",
    "There are n people that are split into some unknown number of groups. Each person is labeled with a unique ID from 0 to n - 1.\n",
    "\n",
    "You are given an integer array groupSizes, where groupSizes[i] is the size of the group that person i is in. For example, if groupSizes[1] = 3, then person 1 must be in a group of size 3.\n",
    "\n",
    "Return a list of groups such that each person i is in a group of size groupSizes[i].\n",
    "\n",
    "Each person should appear in exactly one group, and every person must be in a group. If there are multiple answers, return any of them. It is guaranteed that there will be at least one valid solution for the given input.\n",
    " \n",
    "#### Example 1:\n",
    "- Input: groupSizes = [3,3,3,3,3,1,3]\n",
    "- Output: [[5],[0,1,2],[3,4,6]]\n",
    "- Explanation: \n",
    " - The first group is [5]. The size is 1, and groupSizes[5] = 1.\n",
    " - The second group is [0,1,2]. The size is 3, and groupSizes[0] = groupSizes[1] = groupSizes[2] = 3.\n",
    " - The third group is [3,4,6]. The size is 3, and groupSizes[3] = groupSizes[4] = groupSizes[6] = 3. \n",
    " - Other possible solutions are [[2,1,6],[5],[0,4,3]] and [[5],[0,6,2],[4,3,1]].\n",
    "\n",
    "#### Example 2:\n",
    "- Input: groupSizes = [2,1,3,3,3,2]\n",
    "- Output: [[1],[0,5],[2,3,4]]\n",
    " \n",
    "#### Constraints:\n",
    "- groupSizes.length == n\n",
    "- 1 <= n <= 500\n",
    "- 1 <= groupSizes[i] <= n\n",
    "\n",
    "#### Difficulty:\n",
    "Medium\n",
    "\n",
    "https://leetcode.com/problems/group-the-people-given-the-group-size-they-belong-to/"
   ]
  },
  {
   "cell_type": "code",
   "execution_count": 1,
   "metadata": {},
   "outputs": [
    {
     "data": {
      "text/plain": [
       "[[0, 1, 2], [3, 4, 6], [5]]"
      ]
     },
     "execution_count": 1,
     "metadata": {},
     "output_type": "execute_result"
    }
   ],
   "source": [
    "# Hash table, time O(n), space O(n)\n",
    "class Solution:\n",
    "    def groupThePeople(self, groupSizes):\n",
    "        from collections import defaultdict\n",
    "        m = defaultdict(list)\n",
    "        for i, s in enumerate(groupSizes):\n",
    "            m[s].append(i)\n",
    "        res = []\n",
    "        for s in m:\n",
    "            if len(m[s]) == s:\n",
    "                res.append(m[s])\n",
    "            else:\n",
    "                partitions = len(m[s]) // s\n",
    "                for i in range(partitions):\n",
    "                    res.append(m[s][i*s : (i+1)*s])\n",
    "        return res\n",
    "        \n",
    "groupSizes = [3,3,3,3,3,1,3]\n",
    "ans = Solution()\n",
    "ans.groupThePeople(groupSizes)"
   ]
  },
  {
   "cell_type": "code",
   "execution_count": null,
   "metadata": {},
   "outputs": [],
   "source": [
    "# Hash table + Greedy (one-pass), time O(n), space O(n)\n",
    "class Solution:\n",
    "    def groupThePeople(self, groupSizes):\n",
    "        from collections import defaultdict\n",
    "        m = defaultdict(list)\n",
    "        res = []\n",
    "        for i, s in enumerate(groupSizes):\n",
    "            m[s].append(i)\n",
    "            if len(m[s]) == s:\n",
    "                res.append(m[s])\n",
    "                m[s] = []\n",
    "        return res\n",
    "        \n",
    "groupSizes = [3,3,3,3,3,1,3]\n",
    "ans = Solution()\n",
    "ans.groupThePeople(groupSizes)"
   ]
  }
 ],
 "metadata": {
  "kernelspec": {
   "display_name": "Python 3",
   "language": "python",
   "name": "python3"
  },
  "language_info": {
   "codemirror_mode": {
    "name": "ipython",
    "version": 3
   },
   "file_extension": ".py",
   "mimetype": "text/x-python",
   "name": "python",
   "nbconvert_exporter": "python",
   "pygments_lexer": "ipython3",
   "version": "3.8.3"
  }
 },
 "nbformat": 4,
 "nbformat_minor": 4
}
