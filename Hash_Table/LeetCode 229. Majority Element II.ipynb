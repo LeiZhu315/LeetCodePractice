{
 "cells": [
  {
   "cell_type": "markdown",
   "metadata": {},
   "source": [
    "### 229. Majority Element II\n",
    "Given an integer array of size n, find all elements that appear more than ⌊ n/3 ⌋ times.\n",
    "\n",
    "#### Example 1:\n",
    "- Input: nums = [3,2,3]\n",
    "- Output: [3]\n",
    "\n",
    "#### Example 2:\n",
    "- Input: nums = [1]\n",
    "- Output: [1]\n",
    "\n",
    "#### Example 3:\n",
    "- Input: nums = [1,2]\n",
    "- Output: [1,2]\n",
    " \n",
    "#### Constraints:\n",
    "- 1 <= nums.length <= 5 * 104\n",
    "- -109 <= nums[i] <= 109\n",
    "\n",
    "#### Difficulty:\n",
    "Medium\n",
    "\n",
    "https://leetcode.com/problems/majority-element-ii/description/?envType=daily-question&envId=2023-10-05"
   ]
  },
  {
   "cell_type": "code",
   "execution_count": 3,
   "metadata": {},
   "outputs": [
    {
     "data": {
      "text/plain": [
       "[1, 2]"
      ]
     },
     "execution_count": 3,
     "metadata": {},
     "output_type": "execute_result"
    }
   ],
   "source": [
    "# Hash table, time O(n), space O(n)\n",
    "class Solution:\n",
    "    def majorityElement(self, nums):\n",
    "        from collections import Counter\n",
    "        cnt = Counter(nums)\n",
    "        res = []\n",
    "        n = len(nums)\n",
    "        for num in cnt:\n",
    "            if cnt[num] > n // 3:\n",
    "                res.append(num)\n",
    "        return res\n",
    "        \n",
    "nums = [1, 2]\n",
    "ans = Solution()\n",
    "ans.majorityElement(nums)"
   ]
  },
  {
   "cell_type": "code",
   "execution_count": 11,
   "metadata": {},
   "outputs": [
    {
     "data": {
      "text/plain": [
       "[3]"
      ]
     },
     "execution_count": 11,
     "metadata": {},
     "output_type": "execute_result"
    }
   ],
   "source": [
    "# Hash table, time O(n), space O(n)\n",
    "class Solution:\n",
    "    def majorityElement(self, nums):\n",
    "        hsh = {}\n",
    "        n = len(nums)\n",
    "        res = set()\n",
    "        for num in nums:\n",
    "            if num in hsh:\n",
    "                hsh[num] += 1\n",
    "            else:\n",
    "                hsh[num] = 1\n",
    "            if hsh[num] > n // 3:\n",
    "                res.add(num)\n",
    "        return list(res)\n",
    "        \n",
    "nums = [3,2,3]\n",
    "ans = Solution()\n",
    "ans.majorityElement(nums)"
   ]
  },
  {
   "cell_type": "code",
   "execution_count": 9,
   "metadata": {},
   "outputs": [
    {
     "data": {
      "text/plain": [
       "[3]"
      ]
     },
     "execution_count": 9,
     "metadata": {},
     "output_type": "execute_result"
    }
   ],
   "source": [
    "# Sorting, time O(nlogn), space O(1)\n",
    "class Solution:\n",
    "    def majorityElement(self, nums):\n",
    "        nums = sorted(nums)\n",
    "        n = len(nums)\n",
    "        cnt = 1\n",
    "        res = []\n",
    "        for i in range(n-1):\n",
    "            if nums[i+1] == nums[i]:\n",
    "                cnt += 1\n",
    "            else:\n",
    "                if cnt > n // 3:\n",
    "                    res.append(nums[i])\n",
    "                cnt = 1\n",
    "        if nums[-1] == nums[-2]:\n",
    "            cnt += 1\n",
    "        if cnt > n // 3:\n",
    "            res.append(nums[-1])\n",
    "        return res\n",
    "        \n",
    "nums = [3,2,3]\n",
    "ans = Solution()\n",
    "ans.majorityElement(nums)"
   ]
  },
  {
   "cell_type": "code",
   "execution_count": 13,
   "metadata": {},
   "outputs": [
    {
     "data": {
      "text/plain": [
       "[2, 4]"
      ]
     },
     "execution_count": 13,
     "metadata": {},
     "output_type": "execute_result"
    }
   ],
   "source": [
    "# Boyer-Moore Majority Voting, time O(n), space O(1)\n",
    "class Solution:\n",
    "    def majorityElement(self, nums):\n",
    "        if not nums:\n",
    "            return []\n",
    "        # maximum 2 numbers can be majority, i.e., max(res) = 2.\n",
    "        candidate1, candidate2, cnt1, cnt2 = 0, 1, 0, 0\n",
    "        # track two most frequent numbers\n",
    "        for num in nums:\n",
    "            # if curr num equals to either one of the two candidates,\n",
    "            # up date the cnts accordingly\n",
    "            if num == candidate1:\n",
    "                cnt1 += 1\n",
    "            elif num == candidate2:\n",
    "                cnt2 += 1\n",
    "            # if the cntX drops to 0, reset candidateX\n",
    "            elif cnt1 == 0:\n",
    "                candidate1, cnt1 = num, 1\n",
    "            elif cnt2 == 0:\n",
    "                candidate2, cnt2 = num, 1\n",
    "            # if curr num is different from both candidates\n",
    "            # reduce both of the the cnt\n",
    "            else:\n",
    "                cnt1 -= 1\n",
    "                cnt2 -= 1\n",
    "        \n",
    "        return [num for num in (candidate1, candidate2) if nums.count(num) > len(nums) // 3]\n",
    "        \n",
    "nums = [1, 1, 2, 2, 2, 4, 4, 4]\n",
    "ans = Solution()\n",
    "ans.majorityElement(nums)"
   ]
  },
  {
   "cell_type": "code",
   "execution_count": null,
   "metadata": {},
   "outputs": [],
   "source": []
  }
 ],
 "metadata": {
  "kernelspec": {
   "display_name": "Python 3",
   "language": "python",
   "name": "python3"
  },
  "language_info": {
   "codemirror_mode": {
    "name": "ipython",
    "version": 3
   },
   "file_extension": ".py",
   "mimetype": "text/x-python",
   "name": "python",
   "nbconvert_exporter": "python",
   "pygments_lexer": "ipython3",
   "version": "3.8.3"
  }
 },
 "nbformat": 4,
 "nbformat_minor": 4
}
