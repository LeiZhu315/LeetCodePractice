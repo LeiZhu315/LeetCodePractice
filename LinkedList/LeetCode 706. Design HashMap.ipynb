{
 "cells": [
  {
   "cell_type": "markdown",
   "metadata": {},
   "source": [
    "### 706. Design HashMap\n",
    "Design a HashMap without using any built-in hash table libraries.\n",
    "\n",
    "Implement the MyHashMap class:\n",
    "\n",
    "MyHashMap() initializes the object with an empty map.\n",
    "void put(int key, int value) inserts a (key, value) pair into the HashMap. If the key already exists in the map, update the corresponding value.\n",
    "int get(int key) returns the value to which the specified key is mapped, or -1 if this map contains no mapping for the key.\n",
    "void remove(key) removes the key and its corresponding value if the map contains the mapping for the key.\n",
    " \n",
    "#### Example 1:\n",
    "- Input\n",
    "[\"MyHashMap\", \"put\", \"put\", \"get\", \"get\", \"put\", \"get\", \"remove\", \"get\"]\n",
    "[[], [1, 1], [2, 2], [1], [3], [2, 1], [2], [2], [2]]\n",
    "- Output\n",
    "[null, null, null, 1, -1, null, 1, null, -1]\n",
    "- Explanation\n",
    " - MyHashMap myHashMap = new MyHashMap();\n",
    " - myHashMap.put(1, 1); // The map is now [[1,1]]\n",
    " - myHashMap.put(2, 2); // The map is now [[1,1], [2,2]]\n",
    " - myHashMap.get(1);    // return 1, The map is now [[1,1], [2,2]]\n",
    " - myHashMap.get(3);    // return -1 (i.e., not found), The map is now [[1,1], [2,2]]\n",
    " - myHashMap.put(2, 1); // The map is now [[1,1], [2,1]] (i.e., update the existing value)\n",
    " - myHashMap.get(2);    // return 1, The map is now [[1,1], [2,1]]\n",
    " - myHashMap.remove(2); // remove the mapping for 2, The map is now [[1,1]]\n",
    " - myHashMap.get(2);    // return -1 (i.e., not found), The map is now [[1,1]]\n",
    " \n",
    "#### Constraints:\n",
    "- 0 <= key, value <= 106\n",
    "- At most 104 calls will be made to put, get, and remove.\n",
    "\n",
    "#### Difficulty:\n",
    "Easy\n",
    "\n",
    "https://leetcode.com/problems/design-hashmap/description/?envType=daily-question&envId=2023-10-04"
   ]
  },
  {
   "cell_type": "code",
   "execution_count": 2,
   "metadata": {},
   "outputs": [
    {
     "name": "stdout",
     "output_type": "stream",
     "text": [
      "1\n"
     ]
    }
   ],
   "source": [
    "class MyHashMap:\n",
    "\n",
    "    def __init__(self):\n",
    "        self.hsh = {}\n",
    "\n",
    "    def put(self, key, value):\n",
    "        self.hsh[key] = value\n",
    "\n",
    "    def get(self, key):\n",
    "        if key in self.hsh:\n",
    "            return self.hsh[key]\n",
    "        else:\n",
    "            return -1\n",
    "\n",
    "    def remove(self, key):\n",
    "        if key in self.hsh:\n",
    "            self.hsh.pop(key)\n",
    "            \n",
    "key, value = 1, 1\n",
    "obj = MyHashMap()\n",
    "obj.put(key,value)\n",
    "param_2 = obj.get(key)\n",
    "obj.remove(key)\n",
    "print(param_2)"
   ]
  },
  {
   "cell_type": "code",
   "execution_count": 3,
   "metadata": {},
   "outputs": [
    {
     "name": "stdout",
     "output_type": "stream",
     "text": [
      "1\n"
     ]
    }
   ],
   "source": [
    "class ListNode:\n",
    "    def __init__(self, key, val):\n",
    "        self.key = key\n",
    "        self.val = val\n",
    "        self.next = None\n",
    "        \n",
    "        \n",
    "class MyHashMap:\n",
    "\n",
    "    def __init__(self):\n",
    "        self.size = 1000\n",
    "        self.table = [None] * self.size\n",
    "        \n",
    "    def _index(self, key):\n",
    "        return key % self.size\n",
    "        \n",
    "    def put(self, key, val):\n",
    "        idx = self._index(key)\n",
    "        if not self.table[idx]:\n",
    "            self.table[idx] = ListNode(key, val)\n",
    "            return \n",
    "        cur = self.table[idx]\n",
    "        while cur:\n",
    "            if cur.key == key:\n",
    "                cur.val = val\n",
    "                return \n",
    "            if not cur.next:\n",
    "                cur.next = ListNode(key, val)\n",
    "                return\n",
    "            cur = cur.next\n",
    "\n",
    "    def get(self, key):\n",
    "        idx = self._index(key)\n",
    "        cur = self.table[idx]\n",
    "        while cur:\n",
    "            if cur.key == key:\n",
    "                return cur.val\n",
    "            cur = cur.next\n",
    "        return -1\n",
    "\n",
    "    def remove(self, key):\n",
    "        idx = self._index(key)\n",
    "        cur = self.table[idx]\n",
    "        if not cur:\n",
    "            return \n",
    "        if cur.key == key:\n",
    "            self.table[idx] = cur.next\n",
    "            return \n",
    "        while cur:\n",
    "            if cur.key == key:\n",
    "                cur.next = cur.next.next\n",
    "                return \n",
    "            cur = cur.next\n",
    "            \n",
    "key, value = 1, 1\n",
    "obj = MyHashMap()\n",
    "obj.put(key,value)\n",
    "param_2 = obj.get(key)\n",
    "obj.remove(key)\n",
    "print(param_2)"
   ]
  },
  {
   "cell_type": "code",
   "execution_count": null,
   "metadata": {},
   "outputs": [],
   "source": []
  }
 ],
 "metadata": {
  "kernelspec": {
   "display_name": "Python 3",
   "language": "python",
   "name": "python3"
  },
  "language_info": {
   "codemirror_mode": {
    "name": "ipython",
    "version": 3
   },
   "file_extension": ".py",
   "mimetype": "text/x-python",
   "name": "python",
   "nbconvert_exporter": "python",
   "pygments_lexer": "ipython3",
   "version": "3.8.3"
  }
 },
 "nbformat": 4,
 "nbformat_minor": 4
}
