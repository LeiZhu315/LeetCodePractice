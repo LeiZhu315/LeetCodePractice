{
 "cells": [
  {
   "cell_type": "markdown",
   "metadata": {},
   "source": [
    "### 134. Gas Station\n",
    "Input: gas = [1,2,3,4,5], cost = [3,4,5,1,2] <br>\n",
    "Output: 3 <br>\n",
    "Explanation: <br>\n",
    "Start at station 3 (index 3) and fill up with 4 unit of gas. Your tank = 0 + 4 = 4 <br>\n",
    "Travel to station 4. Your tank = 4 - 1 + 5 = 8 <br>\n",
    "Travel to station 0. Your tank = 8 - 2 + 1 = 7 <br>\n",
    "Travel to station 1. Your tank = 7 - 3 + 2 = 6 <br>\n",
    "Travel to station 2. Your tank = 6 - 4 + 3 = 5 <br>\n",
    "Travel to station 3. The cost is 5. Your gas is just enough to travel back to station 3. <br>\n",
    "Therefore, return 3 as the starting index. <br>"
   ]
  },
  {
   "cell_type": "code",
   "execution_count": 1,
   "metadata": {},
   "outputs": [
    {
     "name": "stdout",
     "output_type": "stream",
     "text": [
      "3\n"
     ]
    }
   ],
   "source": [
    "# related to a question in Chap 2 in the green book\n",
    "gas = [1,2,3,4,5]\n",
    "cost = [3,4,5,1,2]\n",
    "diff = [x - y for x, y in zip(gas, cost)]\n",
    "cur = 0\n",
    "min_val = max(diff)\n",
    "index = 0\n",
    "for i, v in enumerate(diff):\n",
    "    cur += v\n",
    "    if cur < min_val:\n",
    "        min_val = cur\n",
    "        index = i + 1\n",
    "if sum(diff)<0:\n",
    "    print('-1')\n",
    "else:\n",
    "    print(index % len(diff))"
   ]
  },
  {
   "cell_type": "markdown",
   "metadata": {},
   "source": [
    "### 334. Increasing Triplet Subsequence\n",
    "Given an integer array nums, return true if there exists a triple of indices (i, j, k) such that i < j < k and nums[i] < nums[j] < nums[k]. If no such indices exists, return false."
   ]
  },
  {
   "cell_type": "code",
   "execution_count": 1,
   "metadata": {},
   "outputs": [
    {
     "data": {
      "text/plain": [
       "True"
      ]
     },
     "execution_count": 1,
     "metadata": {},
     "output_type": "execute_result"
    }
   ],
   "source": [
    "nums = [2,1,5,0,4,6]\n",
    "def increasingTriplet(nums):\n",
    "    import math\n",
    "    if len(nums) < 3:\n",
    "        return False\n",
    "    first = second = math.inf\n",
    "    for num in nums:\n",
    "        if num <= first:\n",
    "            first = num\n",
    "        elif num <= second:\n",
    "            second = num\n",
    "        else:\n",
    "            return True\n",
    "    return False\n",
    "\n",
    "increasingTriplet(nums)"
   ]
  },
  {
   "cell_type": "code",
   "execution_count": 10,
   "metadata": {},
   "outputs": [
    {
     "data": {
      "text/plain": [
       "True"
      ]
     },
     "execution_count": 10,
     "metadata": {},
     "output_type": "execute_result"
    }
   ],
   "source": [
    "nums = [2,1,5,0,4,6]\n",
    "def increasingTriplet2(nums):\n",
    "    maxRight = [0] * len(nums)\n",
    "    maxRight[-1] = nums[-1]\n",
    "    for i in range(len(nums)-2, -1, -1):\n",
    "        maxRight[i] = max(maxRight[i+1], nums[i+1])    \n",
    "    minLeft = nums[0]\n",
    "    for i in range(1, len(nums)):\n",
    "        if minLeft < nums[i] < maxRight[i]:\n",
    "            return True\n",
    "        minLeft = min(minLeft, nums[i])\n",
    "    return False\n",
    "\n",
    "increasingTriplet2(nums)"
   ]
  },
  {
   "cell_type": "markdown",
   "metadata": {},
   "source": [
    "### 2279. Maximum Bags With Full Capacity of Rocks\n",
    "You have n bags numbered from 0 to n - 1. You are given two 0-indexed integer arrays capacity and rocks. The ith bag can hold a maximum of capacity[i] rocks and currently contains rocks[i] rocks. You are also given an integer additionalRocks, the number of additional rocks you can place in any of the bags.\n",
    "\n",
    "Return the maximum number of bags that could have full capacity after placing the additional rocks in some bags."
   ]
  },
  {
   "cell_type": "code",
   "execution_count": 9,
   "metadata": {},
   "outputs": [
    {
     "data": {
      "text/plain": [
       "3"
      ]
     },
     "execution_count": 9,
     "metadata": {},
     "output_type": "execute_result"
    }
   ],
   "source": [
    "capacity = [2,3,4,5]\n",
    "rocks = [1,2,4,4]\n",
    "additionalRocks = 2\n",
    "\n",
    "space = [i - j for i, j in zip(capacity, rocks)]\n",
    "space = sorted(space)\n",
    "cnt = 0\n",
    "for i in range(len(space)):\n",
    "    if additionalRocks >= space[i]:\n",
    "        additionalRocks -= space[i]\n",
    "        cnt += 1\n",
    "    else:\n",
    "        break\n",
    "cnt"
   ]
  },
  {
   "cell_type": "markdown",
   "metadata": {},
   "source": [
    "### 2389. Longest Subsequence With Limited Sum\n",
    "You are given an integer array nums of length n, and an integer array queries of length m.\n",
    "\n",
    "Return an array answer of length m where answer[i] is the maximum size of a subsequence that you can take from nums such that the sum of its elements is less than or equal to queries[i].\n",
    "\n",
    "A subsequence is an array that can be derived from another array by deleting some or no elements without changing the order of the remaining elements."
   ]
  },
  {
   "cell_type": "code",
   "execution_count": 27,
   "metadata": {},
   "outputs": [
    {
     "data": {
      "text/plain": [
       "[2, 3, 4]"
      ]
     },
     "execution_count": 27,
     "metadata": {},
     "output_type": "execute_result"
    }
   ],
   "source": [
    "nums = [4,5,2,1]\n",
    "queries = [3,10,21]\n",
    "\n",
    "ans = [0] * len(queries)\n",
    "s = [0] * len(nums)\n",
    "nums = sorted(nums)\n",
    "tmp = 0\n",
    "for i, num in enumerate(nums):\n",
    "    tmp += num\n",
    "    s[i] = tmp\n",
    "for i, num in enumerate(queries):\n",
    "    # binary search\n",
    "    l, h = 0, len(s)\n",
    "    while l < h:\n",
    "        m = (l + h) // 2\n",
    "        if num < s[m]:\n",
    "            h = m\n",
    "        else:\n",
    "            l = m + 1\n",
    "            ans[i] = max(l, ans[i])\n",
    "ans\n"
   ]
  },
  {
   "cell_type": "code",
   "execution_count": 30,
   "metadata": {},
   "outputs": [
    {
     "data": {
      "text/plain": [
       "[2, 3, 4]"
      ]
     },
     "execution_count": 30,
     "metadata": {},
     "output_type": "execute_result"
    }
   ],
   "source": [
    "ans = [0] * len(queries)\n",
    "import bisect\n",
    "for i, num in enumerate(queries):\n",
    "    ans[i] = bisect.bisect_right(s, num)\n",
    "ans"
   ]
  },
  {
   "cell_type": "markdown",
   "metadata": {},
   "source": [
    "### 2244. Minimum Rounds to Complete All Tasks\n",
    "You are given a 0-indexed integer array tasks, where tasks[i] represents the difficulty level of a task. In each round, you can complete either 2 or 3 tasks of the same difficulty level.\n",
    "\n",
    "Return the minimum rounds required to complete all the tasks, or -1 if it is not possible to complete all the tasks."
   ]
  },
  {
   "cell_type": "code",
   "execution_count": 45,
   "metadata": {},
   "outputs": [
    {
     "data": {
      "text/plain": [
       "4"
      ]
     },
     "execution_count": 45,
     "metadata": {},
     "output_type": "execute_result"
    }
   ],
   "source": [
    "tasks = [2,2,3,3,2,4,4,4,4,4]\n",
    "\n",
    "def minimumRounds(tasks):\n",
    "    if len(tasks) < 2:\n",
    "        return -1\n",
    "    hsh = {}\n",
    "    for task in tasks:\n",
    "        if task not in hsh:\n",
    "            hsh[task] = 1\n",
    "        else:\n",
    "            hsh[task] += 1\n",
    "    rounds = 0\n",
    "    for i in hsh:\n",
    "        if hsh[i] == 1:\n",
    "            return -1\n",
    "        n, r = hsh[i]//3, hsh[i]%3\n",
    "        if r == 0:\n",
    "            rounds += n\n",
    "        elif r == 1:\n",
    "            rounds += n-1 + 2\n",
    "        else:\n",
    "            rounds += n + 1\n",
    "    return rounds\n",
    "\n",
    "minimumRounds(tasks)"
   ]
  },
  {
   "cell_type": "code",
   "execution_count": 49,
   "metadata": {},
   "outputs": [
    {
     "name": "stdout",
     "output_type": "stream",
     "text": [
      "Counter({4: 5, 2: 3, 3: 2})\n"
     ]
    },
    {
     "data": {
      "text/plain": [
       "4"
      ]
     },
     "execution_count": 49,
     "metadata": {},
     "output_type": "execute_result"
    }
   ],
   "source": [
    "from collections import Counter\n",
    "def minimumRounds2(tasks):\n",
    "    tasks = Counter(tasks)\n",
    "    print(tasks)\n",
    "    if 1 in tasks.values():\n",
    "        return -1\n",
    "    ans = 0\n",
    "    for n in tasks.values():\n",
    "        ans += n//3 + bool(n % 3)\n",
    "        # ans += math.ceil(n / 3)\n",
    "    return ans\n",
    "\n",
    "minimumRounds2(tasks)"
   ]
  },
  {
   "cell_type": "markdown",
   "metadata": {},
   "source": [
    "### 452. Minimum Number of Arrows to Burst Balloons\n",
    "There are some spherical balloons taped onto a flat wall that represents the XY-plane. The balloons are represented as a 2D integer array points where points[i] = [xstart, xend] denotes a balloon whose horizontal diameter stretches between xstart and xend. You do not know the exact y-coordinates of the balloons.\n",
    "\n",
    "Arrows can be shot up directly vertically (in the positive y-direction) from different points along the x-axis. A balloon with xstart and xend is burst by an arrow shot at x if xstart <= x <= xend. There is no limit to the number of arrows that can be shot. A shot arrow keeps traveling up infinitely, bursting any balloons in its path.\n",
    "\n",
    "Given the array points, return the minimum number of arrows that must be shot to burst all balloons."
   ]
  },
  {
   "cell_type": "code",
   "execution_count": 88,
   "metadata": {},
   "outputs": [
    {
     "data": {
      "text/plain": [
       "2"
      ]
     },
     "execution_count": 88,
     "metadata": {},
     "output_type": "execute_result"
    }
   ],
   "source": [
    "points = [[1,2],[2,3],[1,4],[3,5]]\n",
    "\n",
    "points = sorted(points)\n",
    "arrow = 1\n",
    "xmin, xmax = points[0][0], points[0][1]\n",
    "for xstar, xend in points:\n",
    "    if xstar <= xmax:\n",
    "        xmin = max(xstar, xmin)\n",
    "        xmax = min(xend, xmax)\n",
    "    else:\n",
    "        arrow += 1\n",
    "        xmin, xmax = xstar, xend\n",
    "arrow\n"
   ]
  },
  {
   "cell_type": "code",
   "execution_count": 91,
   "metadata": {},
   "outputs": [
    {
     "data": {
      "text/plain": [
       "2"
      ]
     },
     "execution_count": 91,
     "metadata": {},
     "output_type": "execute_result"
    }
   ],
   "source": [
    "pts = sorted(points, key=lambda el:el[1]) # sorting points[:][1]\n",
    "res, combo = 1, (float(\"-inf\"), float(\"inf\"))\n",
    "for xstar, xend in pts:\n",
    "    if xstar <= combo[1]:\n",
    "        combo = (max(combo[0], xstar), min(combo[1], xend))\n",
    "    else:\n",
    "        combo = (xstar, xend)\n",
    "        res += 1\n",
    "res"
   ]
  },
  {
   "cell_type": "code",
   "execution_count": 95,
   "metadata": {},
   "outputs": [
    {
     "data": {
      "text/plain": [
       "2"
      ]
     },
     "execution_count": 95,
     "metadata": {},
     "output_type": "execute_result"
    }
   ],
   "source": [
    "points = [[1,2],[2,3],[1,4],[3,5]]\n",
    "# sort by start and end point\n",
    "xstar, xend = 0, 1\n",
    "points.sort(key=lambda i: (i[xstar], i[xend]))\n",
    "prev, cur = points[0], None\n",
    "darts = 0\n",
    "for i in range(1, len(points)):\n",
    "    cur = points[i]\n",
    "    if cur[xstar] <= prev[xend]:\n",
    "        # overlap\n",
    "        prev = [cur[xstar], min(prev[xend], cur[xend])]\n",
    "    else:\n",
    "        # no overlap, throw dart\n",
    "        darts += 1 \n",
    "        prev = cur\n",
    "darts + 1"
   ]
  },
  {
   "cell_type": "markdown",
   "metadata": {},
   "source": [
    "### 1833. Maximum Ice Cream Bars\n",
    "It is a sweltering summer day, and a boy wants to buy some ice cream bars.\n",
    "\n",
    "At the store, there are n ice cream bars. You are given an array costs of length n, where costs[i] is the price of the ith ice cream bar in coins. The boy initially has coins coins to spend, and he wants to buy as many ice cream bars as possible. \n",
    "\n",
    "Return the maximum number of ice cream bars the boy can buy with coins coins.\n",
    "\n",
    "Note: The boy can buy the ice cream bars in any order."
   ]
  },
  {
   "cell_type": "code",
   "execution_count": 132,
   "metadata": {},
   "outputs": [],
   "source": [
    "costs = [1,6,3,1,2,5]\n",
    "coins = 20"
   ]
  },
  {
   "cell_type": "code",
   "execution_count": 100,
   "metadata": {},
   "outputs": [
    {
     "data": {
      "text/plain": [
       "6"
      ]
     },
     "execution_count": 100,
     "metadata": {},
     "output_type": "execute_result"
    }
   ],
   "source": [
    "costs = sorted(costs)\n",
    "bar = 0\n",
    "for i in costs:\n",
    "    if coins >= i:\n",
    "        coins -= i\n",
    "        bar += 1\n",
    "    else:\n",
    "        break\n",
    "bar"
   ]
  },
  {
   "cell_type": "code",
   "execution_count": 129,
   "metadata": {},
   "outputs": [
    {
     "name": "stdout",
     "output_type": "stream",
     "text": [
      "[1, 1, 3, 6, 2, 5]\n"
     ]
    },
    {
     "data": {
      "text/plain": [
       "6"
      ]
     },
     "execution_count": 129,
     "metadata": {},
     "output_type": "execute_result"
    }
   ],
   "source": [
    "import heapq\n",
    "bar = 0\n",
    "heapq.heapify(costs)\n",
    "print(costs)\n",
    "while costs:\n",
    "    costi = heapq.heappop(costs)\n",
    "    if costi =< coins:\n",
    "        coins -= costi\n",
    "        bar += 1\n",
    "    else: \n",
    "        break\n",
    "bar"
   ]
  },
  {
   "cell_type": "code",
   "execution_count": 130,
   "metadata": {},
   "outputs": [
    {
     "data": {
      "text/plain": [
       "6"
      ]
     },
     "execution_count": 130,
     "metadata": {},
     "output_type": "execute_result"
    }
   ],
   "source": [
    "bar = 0\n",
    "costs.sort()\n",
    "for i in costs:\n",
    "    if coins < i:\n",
    "        break\n",
    "    coins -= i\n",
    "    bar += 1\n",
    "bar"
   ]
  },
  {
   "cell_type": "code",
   "execution_count": 136,
   "metadata": {},
   "outputs": [
    {
     "data": {
      "text/plain": [
       "6"
      ]
     },
     "execution_count": 136,
     "metadata": {},
     "output_type": "execute_result"
    }
   ],
   "source": [
    "import itertools\n",
    "len([i for i in itertools.accumulate(sorted(costs)) if i < coins])"
   ]
  },
  {
   "cell_type": "markdown",
   "metadata": {},
   "source": [
    "### 502. IPO\n",
    "Suppose LeetCode will start its IPO soon. In order to sell a good price of its shares to Venture Capital, LeetCode would like to work on some projects to increase its capital before the IPO. Since it has limited resources, it can only finish at most k distinct projects before the IPO. Help LeetCode design the best way to maximize its total capital after finishing at most k distinct projects.\n",
    "\n",
    "You are given n projects where the ith project has a pure profit profits[i] and a minimum capital of capital[i] is needed to start it.\n",
    "\n",
    "Initially, you have w capital. When you finish a project, you will obtain its pure profit and the profit will be added to your total capital.\n",
    "\n",
    "Pick a list of at most k distinct projects from given projects to maximize your final capital, and return the final maximized capital.\n",
    "\n",
    "The answer is guaranteed to fit in a 32-bit signed integer."
   ]
  },
  {
   "cell_type": "markdown",
   "metadata": {},
   "source": [
    "#### Example 1:\n",
    "Input: k = 2, w = 0, profits = [1,2,3], capital = [0,1,1] <br>\n",
    "Output: 4 <br>\n",
    "Explanation: Since your initial capital is 0, you can only start the project indexed 0.<br>\n",
    "After finishing it you will obtain profit 1 and your capital becomes 1.<br>\n",
    "With capital 1, you can either start the project indexed 1 or the project indexed 2.<br>\n",
    "Since you can choose at most 2 projects, you need to finish the project indexed 2 to get the maximum capital.<br>\n",
    "Therefore, output the final maximized capital, which is 0 + 1 + 3 = 4."
   ]
  },
  {
   "cell_type": "code",
   "execution_count": 56,
   "metadata": {},
   "outputs": [],
   "source": [
    "k, w = 3, 0\n",
    "profits, capital = [1,11,1,10,1,2,3,2,8], [0,0,0,0,0,1,1,1,2]"
   ]
  },
  {
   "cell_type": "code",
   "execution_count": 57,
   "metadata": {},
   "outputs": [
    {
     "name": "stdout",
     "output_type": "stream",
     "text": [
      "[(0, -11), (0, -10), (0, -1), (0, -1), (0, -1), (1, -3), (1, -2), (1, -2), (2, -8)]\n",
      "[-11, -10, -1, -1, -1] 5\n",
      "[-10, -8, -2, -3, -1, -1, -2, -1] 9\n",
      "[-8, -3, -2, -1, -1, -1, -2] 9\n"
     ]
    },
    {
     "data": {
      "text/plain": [
       "29"
      ]
     },
     "execution_count": 57,
     "metadata": {},
     "output_type": "execute_result"
    }
   ],
   "source": [
    "# Greedy + sorting + priority queue, time O(max(N, K) * logN), space O(N)\n",
    "def findMaximizedCapital(k, w, profits, capital):\n",
    "    import heapq\n",
    "    projects = []\n",
    "    for i, j in zip(profits, capital):\n",
    "        projects.append((j, -i))\n",
    "    projects.sort()\n",
    "    print(projects)\n",
    "    i, n = 0, len(profits)\n",
    "    projects_feasible = []\n",
    "    while k > 0:\n",
    "        while i < n and projects[i][0] <= w: # push all projects with achievable capital to the priority queue\n",
    "            heapq.heappush(projects_feasible, projects[i][1])\n",
    "            i += 1\n",
    "        if not projects_feasible:\n",
    "            break\n",
    "        print(projects_feasible, i)\n",
    "        w -= heapq.heappop(projects_feasible)\n",
    "        k -= 1\n",
    "        \n",
    "    return w\n",
    "    \n",
    "findMaximizedCapital(k, w, profits, capital)"
   ]
  },
  {
   "cell_type": "markdown",
   "metadata": {},
   "source": [
    "### 1675. Minimize Deviation in Array\n",
    "You are given an array nums of n positive integers.\n",
    "\n",
    "You can perform two types of operations on any element of the array any number of times:\n",
    "\n",
    "If the element is even, divide it by 2.\n",
    "For example, if the array is [1,2,3,4], then you can do this operation on the last element, and the array will be [1,2,3,2].\n",
    "If the element is odd, multiply it by 2.\n",
    "For example, if the array is [1,2,3,4], then you can do this operation on the first element, and the array will be [2,2,3,4].\n",
    "The deviation of the array is the maximum difference between any two elements in the array.\n",
    "\n",
    "Return the minimum deviation the array can have after performing some number of operations."
   ]
  },
  {
   "cell_type": "code",
   "execution_count": 159,
   "metadata": {},
   "outputs": [
    {
     "name": "stdout",
     "output_type": "stream",
     "text": [
      "[-20, -6, -10, -2, -4]\n",
      "[-10, -10, -4, -2, -6] 2 10 18\n",
      "[-10, -6, -4, -2, -5] 2 5 8\n",
      "[-6, -5, -4, -2, -5] 2 5 8\n",
      "[-5, -5, -4, -2, -3] 2 3 4\n"
     ]
    },
    {
     "data": {
      "text/plain": [
       "3"
      ]
     },
     "execution_count": 159,
     "metadata": {},
     "output_type": "execute_result"
    }
   ],
   "source": [
    "nums = [4,1,5,20,3]\n",
    "# nums = [2,4,4,4,4]\n",
    "# greedy, time O(N * logN) (logN loops, each loops got heapq operations whoes complexity is N), space O(N)\n",
    "def minimumDeviation(nums):\n",
    "    import heapq\n",
    "    # turn all odd number into even number so they cannot increase anymore\n",
    "    # the problem becomes reducing the max number \n",
    "    # because the doubled small odd number will not be reduced if we use priority queue\n",
    "    q = [-num*2 if num%2 else -num for num in nums] \n",
    "    heapq.heapify(q)\n",
    "    print(q)\n",
    "    min_val = -max(q)\n",
    "    min_diff = float('inf')\n",
    "    while True: \n",
    "        max_val = -heapq.heappop(q)\n",
    "        min_diff = min(min_diff, max_val - min_val)\n",
    "        if min_diff == 0:\n",
    "            break\n",
    "        if max_val % 2 == 1: # the max number is odd, cannot reduce further\n",
    "            break\n",
    "        max_val //= 2 # each time cut the max value in half, reduce the problem size by 2, so the total expected loops are logN\n",
    "        min_val = min(min_val, max_val)\n",
    "        heapq.heappush(q, -max_val) # push back the updated number\n",
    "        print(q, min_val, max_val, min_diff)\n",
    "    return min_diff\n",
    "\n",
    "minimumDeviation(nums)"
   ]
  },
  {
   "cell_type": "code",
   "execution_count": 167,
   "metadata": {},
   "outputs": [
    {
     "name": "stdout",
     "output_type": "stream",
     "text": [
      "[-20, -6, -10, -2, -4]\n",
      "[-10, -6, -10, -2, -4]\n",
      "[-10, -6, -5, -2, -4]\n",
      "[-6, -5, -5, -2, -4]\n",
      "[-5, -5, -3, -2, -4]\n"
     ]
    },
    {
     "data": {
      "text/plain": [
       "3"
      ]
     },
     "execution_count": 167,
     "metadata": {},
     "output_type": "execute_result"
    }
   ],
   "source": [
    "def minimumDeviation(nums):\n",
    "    import heapq\n",
    "    q = [-num<<1 if num%2 else -num for num in nums]\n",
    "    heapq.heapify(q)\n",
    "    print(q)\n",
    "    min_val = -max(q)\n",
    "    min_diff = float('inf')\n",
    "    while True:\n",
    "        max_val = -q[0]\n",
    "        min_diff = min(min_diff, max_val-min_val)\n",
    "        if min_diff == 0:\n",
    "            break\n",
    "        if max_val % 2:\n",
    "            break\n",
    "        max_val >>= 1\n",
    "        min_val = min(min_val, max_val)\n",
    "        heapq.heapreplace(q, -max_val)\n",
    "        print(q)\n",
    "    return min_diff\n",
    "\n",
    "minimumDeviation(nums)"
   ]
  },
  {
   "cell_type": "markdown",
   "metadata": {},
   "source": [
    "### 605. Can Place Flowers\n",
    "You have a long flowerbed in which some of the plots are planted, and some are not. However, flowers cannot be planted in adjacent plots.\n",
    "\n",
    "Given an integer array flowerbed containing 0's and 1's, where 0 means empty and 1 means not empty, and an integer n, return if n new flowers can be planted in the flowerbed without violating the no-adjacent-flowers rule.\n",
    "\n",
    "#### Example 1:\n",
    "Input: flowerbed = [1,0,0,0,1], n = 1<br>\n",
    "Output: true"
   ]
  },
  {
   "cell_type": "code",
   "execution_count": 13,
   "metadata": {},
   "outputs": [
    {
     "name": "stdout",
     "output_type": "stream",
     "text": [
      "0\n"
     ]
    },
    {
     "data": {
      "text/plain": [
       "True"
      ]
     },
     "execution_count": 13,
     "metadata": {},
     "output_type": "execute_result"
    }
   ],
   "source": [
    "flowerbed = [0,0,0,0,0,1,0,0]\n",
    "n = 1\n",
    "\n",
    "def canPlaceFlowers(flowerbed, n): # time, O(n), sapce O(1)\n",
    "    if n == 0:\n",
    "        return True\n",
    "    \n",
    "    if len(flowerbed) == 1:\n",
    "        if n > 1:\n",
    "            return False\n",
    "        elif n == 1:\n",
    "            return not flowerbed[0]\n",
    "        else:\n",
    "            return True\n",
    "        \n",
    "    if not flowerbed[0] and not flowerbed[1]:\n",
    "        flowerbed[0] = 1\n",
    "        n -= 1\n",
    "        \n",
    "    for i in range(1, len(flowerbed)-1):\n",
    "        if n <= 0:\n",
    "            return True\n",
    "        if not flowerbed[i-1] and not flowerbed[i] and not flowerbed[i+1]:\n",
    "            flowerbed[i] = 1\n",
    "            n -= 1\n",
    "            \n",
    "    if not flowerbed[-1] and not flowerbed[-2]:\n",
    "        n -= 1\n",
    "        \n",
    "    return n <= 0\n",
    "\n",
    "canPlaceFlowers(flowerbed, n)"
   ]
  },
  {
   "cell_type": "code",
   "execution_count": 17,
   "metadata": {},
   "outputs": [
    {
     "data": {
      "text/plain": [
       "True"
      ]
     },
     "execution_count": 17,
     "metadata": {},
     "output_type": "execute_result"
    }
   ],
   "source": [
    "flowerbed = [0,0,0,0,0,1,0,0]\n",
    "n = 1\n",
    "\n",
    "def canPlaceFlowers(flowerbed, n):\n",
    "    cnt = 0\n",
    "    flowerbed = [0] + flowerbed + [0]\n",
    "    for i in range(1, len(flowerbed)-1):\n",
    "        if not flowerbed[i-1] and not flowerbed[i] and flowerbed[i+1]:\n",
    "            cnt += 1\n",
    "            flowerbed[i] = 1\n",
    "    return cnt >= n\n",
    "canPlaceFlowers(flowerbed, n)"
   ]
  },
  {
   "cell_type": "code",
   "execution_count": 18,
   "metadata": {},
   "outputs": [
    {
     "data": {
      "text/plain": [
       "True"
      ]
     },
     "execution_count": 18,
     "metadata": {},
     "output_type": "execute_result"
    }
   ],
   "source": [
    "flowerbed = [0,0,0,0,0,1,0,0]\n",
    "n = 1\n",
    "\n",
    "def canPlaceFlowers(flowerbed, n):\n",
    "    cnt, prev = 0, 0\n",
    "    for cur in flowerbed:\n",
    "        if cur == 1: \n",
    "            # cur=1, prev=1, violate rule, remove the flower and cnt -= 1\n",
    "            if prev == 1: \n",
    "                cnt -= 1\n",
    "            # cur=1, prev=0, cannot plant here, move on\n",
    "            prev = cur\n",
    "        else:\n",
    "            # cur=0, prev=1, cannot plant here, move on\n",
    "            if prev == 1:\n",
    "                prev = cur\n",
    "            # cur=0, prev=0, can plant, cnt+=1, set prev=1\n",
    "            else:\n",
    "                cnt += 1\n",
    "                prev = 1\n",
    "    return cnt >= n\n",
    "\n",
    "canPlaceFlowers(flowerbed, n)"
   ]
  },
  {
   "cell_type": "markdown",
   "metadata": {},
   "source": [
    "### 881. Boats to Save People\n",
    "You are given an array people where people[i] is the weight of the ith person, and an infinite number of boats where each boat can carry a maximum weight of limit. Each boat carries at most two people at the same time, provided the sum of the weight of those people is at most limit.\n",
    "\n",
    "Return the minimum number of boats to carry every given person.\n",
    "\n",
    "#### Example 1:\n",
    "**Input**: people = [3,2,2,1], limit = 3<br>\n",
    "**Output**: 3<br>\n",
    "**Explanation**: 3 boats (1, 2), (2) and (3)"
   ]
  },
  {
   "cell_type": "code",
   "execution_count": 21,
   "metadata": {},
   "outputs": [
    {
     "data": {
      "text/plain": [
       "11"
      ]
     },
     "execution_count": 21,
     "metadata": {},
     "output_type": "execute_result"
    }
   ],
   "source": [
    "def numRescueBoats(people, limit): # Greedy, time O(nlogn) (sorting), space O(1)\n",
    "    people.sort()\n",
    "    left, right = 0, len(people)-1\n",
    "    res = 0\n",
    "    while left <= right:\n",
    "        if people[left] <= limit - people[right]:\n",
    "            left += 1\n",
    "        right -= 1\n",
    "        res += 1\n",
    "    return res\n",
    "    \n",
    "people, limit = [2,49,10,7,11,41,47,2,22,6,13,12,33,18,10,26,2,6,50,10], 50\n",
    "numRescueBoats(people, limit)"
   ]
  },
  {
   "cell_type": "code",
   "execution_count": 27,
   "metadata": {},
   "outputs": [
    {
     "data": {
      "text/plain": [
       "11"
      ]
     },
     "execution_count": 27,
     "metadata": {},
     "output_type": "execute_result"
    }
   ],
   "source": [
    "def numRescueBoats(people, limit): # count sorting + greedy, time O(limit), space O(limit)\n",
    "    count = [0] * (limit+1)\n",
    "    for p in people:\n",
    "        count[p] += 1\n",
    "    idx = 0\n",
    "    for val in range(1, limit+1):\n",
    "        while count[val] > 0:\n",
    "            people[idx] = val\n",
    "            idx += 1\n",
    "            count[val] -= 1\n",
    "    res, left, right = 0, 0, len(people)-1\n",
    "    while left <= right:\n",
    "        if people[left] + people[right] <= limit:\n",
    "            left += 1\n",
    "        right -= 1\n",
    "        res += 1\n",
    "    return res\n",
    "    \n",
    "people, limit = [2,49,10,7,11,41,47,2,22,6,13,12,33,18,10,26,2,6,50,10], 50\n",
    "numRescueBoats(people, limit)"
   ]
  },
  {
   "cell_type": "markdown",
   "metadata": {},
   "source": [
    "### 2439. Minimize Maximum of Array\n",
    "You are given a 0-indexed array nums comprising of n non-negative integers.\n",
    "\n",
    "In one operation, you must:\n",
    "\n",
    "Choose an integer i such that 1 <= i < n and nums[i] > 0.\n",
    "Decrease nums[i] by 1.\n",
    "Increase nums[i - 1] by 1.\n",
    "Return the minimum possible value of the maximum integer of nums after performing any number of operations.\n",
    "\n",
    "#### Example 1:\n",
    "**Input**: nums = [3,7,1,6]<br>\n",
    "**Output**: 5<br>\n",
    "**Explanation**:<br>\n",
    "One set of optimal operations is as follows:<br>\n",
    "1. Choose i = 1, and nums becomes [4,6,1,6].<br>\n",
    "2. Choose i = 3, and nums becomes [4,6,2,5].<br>\n",
    "3. Choose i = 1, and nums becomes [5,5,2,5]. <br>\n",
    "The maximum integer of nums is 5. It can be shown that the maximum number cannot be less than 5.<br>\n",
    "Therefore, we return 5."
   ]
  },
  {
   "cell_type": "code",
   "execution_count": 47,
   "metadata": {},
   "outputs": [
    {
     "data": {
      "text/plain": [
       "9"
      ]
     },
     "execution_count": 47,
     "metadata": {},
     "output_type": "execute_result"
    }
   ],
   "source": [
    "nums = [4,7,2,2,9,19,16,0,3,15]\n",
    "# prefixed sum + greedy, time O(n), space O(1)\n",
    "def minimizeArrayValue(nums):\n",
    "    from math import ceil\n",
    "    res, prefix = nums[0], nums[0]\n",
    "    for i in range(1, len(nums)):\n",
    "        # if the current number is greather than the average of the previous numbers, update results\n",
    "        if nums[i] > ceil(prefix / (i + 1)):\n",
    "            prefix += nums[i]\n",
    "            res = max(res, ceil(prefix / (i + 1)))\n",
    "        else:\n",
    "            prefix += nums[i]\n",
    "    return res\n",
    "minimizeArrayValue(nums)"
   ]
  },
  {
   "cell_type": "code",
   "execution_count": 50,
   "metadata": {},
   "outputs": [
    {
     "data": {
      "text/plain": [
       "9"
      ]
     },
     "execution_count": 50,
     "metadata": {},
     "output_type": "execute_result"
    }
   ],
   "source": [
    "def minimizeArrayValue(nums):\n",
    "    from math import ceil\n",
    "    res, prefix = nums[0], nums[0]\n",
    "    for i in range(1, len(nums)):\n",
    "        prefix += nums[i]\n",
    "        res = max(res, ceil(prefix / (i + 1)))\n",
    "    return res\n",
    "minimizeArrayValue(nums)"
   ]
  },
  {
   "cell_type": "code",
   "execution_count": 49,
   "metadata": {},
   "outputs": [
    {
     "data": {
      "text/plain": [
       "9"
      ]
     },
     "execution_count": 49,
     "metadata": {},
     "output_type": "execute_result"
    }
   ],
   "source": [
    "def minimizeArrayValue(nums):\n",
    "    from itertools import accumulate\n",
    "    return max((num + i) // (i + 1) for i, num in enumerate(accumulate(nums))) # ceil(num/(i+1)) = (num+i)//(i+1)\n",
    "minimizeArrayValue(nums)"
   ]
  },
  {
   "cell_type": "code",
   "execution_count": null,
   "metadata": {},
   "outputs": [],
   "source": []
  }
 ],
 "metadata": {
  "kernelspec": {
   "display_name": "Python 3",
   "language": "python",
   "name": "python3"
  },
  "language_info": {
   "codemirror_mode": {
    "name": "ipython",
    "version": 3
   },
   "file_extension": ".py",
   "mimetype": "text/x-python",
   "name": "python",
   "nbconvert_exporter": "python",
   "pygments_lexer": "ipython3",
   "version": "3.7.1"
  }
 },
 "nbformat": 4,
 "nbformat_minor": 2
}
