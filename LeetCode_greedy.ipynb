{
 "cells": [
  {
   "cell_type": "markdown",
   "metadata": {},
   "source": [
    "### 134. Gas Station\n",
    "Input: gas = [1,2,3,4,5], cost = [3,4,5,1,2] <br>\n",
    "Output: 3 <br>\n",
    "Explanation: <br>\n",
    "Start at station 3 (index 3) and fill up with 4 unit of gas. Your tank = 0 + 4 = 4 <br>\n",
    "Travel to station 4. Your tank = 4 - 1 + 5 = 8 <br>\n",
    "Travel to station 0. Your tank = 8 - 2 + 1 = 7 <br>\n",
    "Travel to station 1. Your tank = 7 - 3 + 2 = 6 <br>\n",
    "Travel to station 2. Your tank = 6 - 4 + 3 = 5 <br>\n",
    "Travel to station 3. The cost is 5. Your gas is just enough to travel back to station 3. <br>\n",
    "Therefore, return 3 as the starting index. <br>"
   ]
  },
  {
   "cell_type": "code",
   "execution_count": 1,
   "metadata": {},
   "outputs": [
    {
     "name": "stdout",
     "output_type": "stream",
     "text": [
      "3\n"
     ]
    }
   ],
   "source": [
    "# related to a question in Chap 2 in the green book\n",
    "gas = [1,2,3,4,5]\n",
    "cost = [3,4,5,1,2]\n",
    "diff = [x - y for x, y in zip(gas, cost)]\n",
    "cur = 0\n",
    "min_val = max(diff)\n",
    "index = 0\n",
    "for i, v in enumerate(diff):\n",
    "    cur += v\n",
    "    if cur < min_val:\n",
    "        min_val = cur\n",
    "        index = i + 1\n",
    "if sum(diff)<0:\n",
    "    print('-1')\n",
    "else:\n",
    "    print(index % len(diff))"
   ]
  },
  {
   "cell_type": "code",
   "execution_count": null,
   "metadata": {},
   "outputs": [],
   "source": []
  }
 ],
 "metadata": {
  "kernelspec": {
   "display_name": "Python 3",
   "language": "python",
   "name": "python3"
  },
  "language_info": {
   "codemirror_mode": {
    "name": "ipython",
    "version": 3
   },
   "file_extension": ".py",
   "mimetype": "text/x-python",
   "name": "python",
   "nbconvert_exporter": "python",
   "pygments_lexer": "ipython3",
   "version": "3.7.1"
  }
 },
 "nbformat": 4,
 "nbformat_minor": 2
}
